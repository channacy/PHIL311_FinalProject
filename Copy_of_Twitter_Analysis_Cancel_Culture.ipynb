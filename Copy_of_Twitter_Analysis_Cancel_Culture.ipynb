{
  "nbformat": 4,
  "nbformat_minor": 0,
  "metadata": {
    "colab": {
      "provenance": [],
      "authorship_tag": "ABX9TyMPAz5x60WWM1xXiIEgvzlw",
      "include_colab_link": true
    },
    "kernelspec": {
      "name": "python3",
      "display_name": "Python 3"
    },
    "language_info": {
      "name": "python"
    }
  },
  "cells": [
    {
      "cell_type": "markdown",
      "metadata": {
        "id": "view-in-github",
        "colab_type": "text"
      },
      "source": [
        "<a href=\"https://colab.research.google.com/github/channacy/PHIL311_FinalProject/blob/main/Copy_of_Twitter_Analysis_Cancel_Culture.ipynb\" target=\"_parent\"><img src=\"https://colab.research.google.com/assets/colab-badge.svg\" alt=\"Open In Colab\"/></a>"
      ]
    },
    {
      "cell_type": "code",
      "execution_count": 4,
      "metadata": {
        "id": "YzRybrLMCCU6"
      },
      "outputs": [],
      "source": [
        "import pandas as pd\n",
        "import numpy as np\n",
        "import string\n",
        "import seaborn as sns\n",
        "import matplotlib.pyplot as plt\n",
        "import collections\n",
        "import nltk\n",
        "from nltk.tokenize import word_tokenize\n",
        "from nltk.sentiment import SentimentIntensityAnalyzer\n",
        "from nltk.corpus import stopwords\n",
        "\n",
        "\n",
        "import gensim\n",
        "import gensim.corpora as corpora\n",
        "from gensim.utils import simple_preprocess\n",
        "from gensim.corpora import Dictionary\n",
        "from gensim.models.coherencemodel import CoherenceModel\n",
        "from gensim.models.ldamodel import LdaModel\n",
        "from gensim import models\n",
        "\n",
        "import re\n",
        "import spacy\n",
        "\n",
        "\n"
      ]
    },
    {
      "cell_type": "code",
      "source": [
        "tweets = pd.read_csv(\"cancel_culture_tweets.csv\")\n",
        "#csv file on tweets with mention of trump\n",
        "tweets.head()"
      ],
      "metadata": {
        "colab": {
          "base_uri": "https://localhost:8080/",
          "height": 458
        },
        "id": "WNUlyyxDpdrE",
        "outputId": "3c88e2fc-003e-4dce-db31-8c304e5f0097"
      },
      "execution_count": 5,
      "outputs": [
        {
          "output_type": "execute_result",
          "data": {
            "text/plain": [
              "              User               Date Created  Number of Likes  \\\n",
              "0     byeonghoneyy  2012-12-05 00:49:14+00:00                0   \n",
              "1           ecokha  2012-04-03 09:39:02+00:00                0   \n",
              "2  ShackleyGoldman  2013-12-29 22:14:16+00:00                0   \n",
              "3     NG_DailyNews  2013-10-28 03:23:49+00:00                0   \n",
              "4       ClassicCph  2013-10-24 20:42:37+00:00                0   \n",
              "\n",
              "      Source of Tweet                                              Tweet  \\\n",
              "0  Twitter Web Client  Nooo, they must not cancel extracurricular. An...   \n",
              "1  Twitter for iPhone  @yosra_abdulla @salmanyousif @3askar @majanahi...   \n",
              "2         twitterfeed  Middleman the wrecker sellers hereby reward in...   \n",
              "3         twitterfeed  #NigerianDailyNews Fleetwood Mac bassist John ...   \n",
              "4  Twitter Web Client  @Nauris_L They \"cancel\" culture houses here, t...   \n",
              "\n",
              "   Retweet Count  \n",
              "0              0  \n",
              "1              0  \n",
              "2              0  \n",
              "3              0  \n",
              "4              0  "
            ],
            "text/html": [
              "\n",
              "  <div id=\"df-0293f362-6892-4121-ab66-1b0f3a646d5e\">\n",
              "    <div class=\"colab-df-container\">\n",
              "      <div>\n",
              "<style scoped>\n",
              "    .dataframe tbody tr th:only-of-type {\n",
              "        vertical-align: middle;\n",
              "    }\n",
              "\n",
              "    .dataframe tbody tr th {\n",
              "        vertical-align: top;\n",
              "    }\n",
              "\n",
              "    .dataframe thead th {\n",
              "        text-align: right;\n",
              "    }\n",
              "</style>\n",
              "<table border=\"1\" class=\"dataframe\">\n",
              "  <thead>\n",
              "    <tr style=\"text-align: right;\">\n",
              "      <th></th>\n",
              "      <th>User</th>\n",
              "      <th>Date Created</th>\n",
              "      <th>Number of Likes</th>\n",
              "      <th>Source of Tweet</th>\n",
              "      <th>Tweet</th>\n",
              "      <th>Retweet Count</th>\n",
              "    </tr>\n",
              "  </thead>\n",
              "  <tbody>\n",
              "    <tr>\n",
              "      <th>0</th>\n",
              "      <td>byeonghoneyy</td>\n",
              "      <td>2012-12-05 00:49:14+00:00</td>\n",
              "      <td>0</td>\n",
              "      <td>Twitter Web Client</td>\n",
              "      <td>Nooo, they must not cancel extracurricular. An...</td>\n",
              "      <td>0</td>\n",
              "    </tr>\n",
              "    <tr>\n",
              "      <th>1</th>\n",
              "      <td>ecokha</td>\n",
              "      <td>2012-04-03 09:39:02+00:00</td>\n",
              "      <td>0</td>\n",
              "      <td>Twitter for iPhone</td>\n",
              "      <td>@yosra_abdulla @salmanyousif @3askar @majanahi...</td>\n",
              "      <td>0</td>\n",
              "    </tr>\n",
              "    <tr>\n",
              "      <th>2</th>\n",
              "      <td>ShackleyGoldman</td>\n",
              "      <td>2013-12-29 22:14:16+00:00</td>\n",
              "      <td>0</td>\n",
              "      <td>twitterfeed</td>\n",
              "      <td>Middleman the wrecker sellers hereby reward in...</td>\n",
              "      <td>0</td>\n",
              "    </tr>\n",
              "    <tr>\n",
              "      <th>3</th>\n",
              "      <td>NG_DailyNews</td>\n",
              "      <td>2013-10-28 03:23:49+00:00</td>\n",
              "      <td>0</td>\n",
              "      <td>twitterfeed</td>\n",
              "      <td>#NigerianDailyNews Fleetwood Mac bassist John ...</td>\n",
              "      <td>0</td>\n",
              "    </tr>\n",
              "    <tr>\n",
              "      <th>4</th>\n",
              "      <td>ClassicCph</td>\n",
              "      <td>2013-10-24 20:42:37+00:00</td>\n",
              "      <td>0</td>\n",
              "      <td>Twitter Web Client</td>\n",
              "      <td>@Nauris_L They \"cancel\" culture houses here, t...</td>\n",
              "      <td>0</td>\n",
              "    </tr>\n",
              "  </tbody>\n",
              "</table>\n",
              "</div>\n",
              "      <button class=\"colab-df-convert\" onclick=\"convertToInteractive('df-0293f362-6892-4121-ab66-1b0f3a646d5e')\"\n",
              "              title=\"Convert this dataframe to an interactive table.\"\n",
              "              style=\"display:none;\">\n",
              "        \n",
              "  <svg xmlns=\"http://www.w3.org/2000/svg\" height=\"24px\"viewBox=\"0 0 24 24\"\n",
              "       width=\"24px\">\n",
              "    <path d=\"M0 0h24v24H0V0z\" fill=\"none\"/>\n",
              "    <path d=\"M18.56 5.44l.94 2.06.94-2.06 2.06-.94-2.06-.94-.94-2.06-.94 2.06-2.06.94zm-11 1L8.5 8.5l.94-2.06 2.06-.94-2.06-.94L8.5 2.5l-.94 2.06-2.06.94zm10 10l.94 2.06.94-2.06 2.06-.94-2.06-.94-.94-2.06-.94 2.06-2.06.94z\"/><path d=\"M17.41 7.96l-1.37-1.37c-.4-.4-.92-.59-1.43-.59-.52 0-1.04.2-1.43.59L10.3 9.45l-7.72 7.72c-.78.78-.78 2.05 0 2.83L4 21.41c.39.39.9.59 1.41.59.51 0 1.02-.2 1.41-.59l7.78-7.78 2.81-2.81c.8-.78.8-2.07 0-2.86zM5.41 20L4 18.59l7.72-7.72 1.47 1.35L5.41 20z\"/>\n",
              "  </svg>\n",
              "      </button>\n",
              "      \n",
              "  <style>\n",
              "    .colab-df-container {\n",
              "      display:flex;\n",
              "      flex-wrap:wrap;\n",
              "      gap: 12px;\n",
              "    }\n",
              "\n",
              "    .colab-df-convert {\n",
              "      background-color: #E8F0FE;\n",
              "      border: none;\n",
              "      border-radius: 50%;\n",
              "      cursor: pointer;\n",
              "      display: none;\n",
              "      fill: #1967D2;\n",
              "      height: 32px;\n",
              "      padding: 0 0 0 0;\n",
              "      width: 32px;\n",
              "    }\n",
              "\n",
              "    .colab-df-convert:hover {\n",
              "      background-color: #E2EBFA;\n",
              "      box-shadow: 0px 1px 2px rgba(60, 64, 67, 0.3), 0px 1px 3px 1px rgba(60, 64, 67, 0.15);\n",
              "      fill: #174EA6;\n",
              "    }\n",
              "\n",
              "    [theme=dark] .colab-df-convert {\n",
              "      background-color: #3B4455;\n",
              "      fill: #D2E3FC;\n",
              "    }\n",
              "\n",
              "    [theme=dark] .colab-df-convert:hover {\n",
              "      background-color: #434B5C;\n",
              "      box-shadow: 0px 1px 3px 1px rgba(0, 0, 0, 0.15);\n",
              "      filter: drop-shadow(0px 1px 2px rgba(0, 0, 0, 0.3));\n",
              "      fill: #FFFFFF;\n",
              "    }\n",
              "  </style>\n",
              "\n",
              "      <script>\n",
              "        const buttonEl =\n",
              "          document.querySelector('#df-0293f362-6892-4121-ab66-1b0f3a646d5e button.colab-df-convert');\n",
              "        buttonEl.style.display =\n",
              "          google.colab.kernel.accessAllowed ? 'block' : 'none';\n",
              "\n",
              "        async function convertToInteractive(key) {\n",
              "          const element = document.querySelector('#df-0293f362-6892-4121-ab66-1b0f3a646d5e');\n",
              "          const dataTable =\n",
              "            await google.colab.kernel.invokeFunction('convertToInteractive',\n",
              "                                                     [key], {});\n",
              "          if (!dataTable) return;\n",
              "\n",
              "          const docLinkHtml = 'Like what you see? Visit the ' +\n",
              "            '<a target=\"_blank\" href=https://colab.research.google.com/notebooks/data_table.ipynb>data table notebook</a>'\n",
              "            + ' to learn more about interactive tables.';\n",
              "          element.innerHTML = '';\n",
              "          dataTable['output_type'] = 'display_data';\n",
              "          await google.colab.output.renderOutput(dataTable, element);\n",
              "          const docLink = document.createElement('div');\n",
              "          docLink.innerHTML = docLinkHtml;\n",
              "          element.appendChild(docLink);\n",
              "        }\n",
              "      </script>\n",
              "    </div>\n",
              "  </div>\n",
              "  "
            ]
          },
          "metadata": {},
          "execution_count": 5
        }
      ]
    },
    {
      "cell_type": "code",
      "source": [
        "tweets.info()"
      ],
      "metadata": {
        "colab": {
          "base_uri": "https://localhost:8080/"
        },
        "id": "Z12MYW5opstz",
        "outputId": "1bd3417f-756b-45be-d994-855b9f983fc3"
      },
      "execution_count": 6,
      "outputs": [
        {
          "output_type": "stream",
          "name": "stdout",
          "text": [
            "<class 'pandas.core.frame.DataFrame'>\n",
            "RangeIndex: 5313 entries, 0 to 5312\n",
            "Data columns (total 6 columns):\n",
            " #   Column           Non-Null Count  Dtype \n",
            "---  ------           --------------  ----- \n",
            " 0   User             5313 non-null   object\n",
            " 1   Date Created     5313 non-null   object\n",
            " 2   Number of Likes  5313 non-null   int64 \n",
            " 3   Source of Tweet  5313 non-null   object\n",
            " 4   Tweet            5313 non-null   object\n",
            " 5   Retweet Count    5313 non-null   int64 \n",
            "dtypes: int64(2), object(4)\n",
            "memory usage: 249.2+ KB\n"
          ]
        }
      ]
    },
    {
      "cell_type": "code",
      "source": [
        "tweets['clean_tweets'] = tweets['Tweet'].str.lower()\n",
        "tweets['clean_tweets'] = tweets['clean_tweets'].str.replace(\"[^\\w\\s]\", \"\")\n",
        "tweets.head()"
      ],
      "metadata": {
        "colab": {
          "base_uri": "https://localhost:8080/",
          "height": 584
        },
        "id": "LZf9xmkPqAs8",
        "outputId": "c9434797-12b3-41cf-efba-54ae3fee1b49"
      },
      "execution_count": 7,
      "outputs": [
        {
          "output_type": "stream",
          "name": "stderr",
          "text": [
            "<ipython-input-7-6163b0f575f9>:2: FutureWarning: The default value of regex will change from True to False in a future version.\n",
            "  tweets['clean_tweets'] = tweets['clean_tweets'].str.replace(\"[^\\w\\s]\", \"\")\n"
          ]
        },
        {
          "output_type": "execute_result",
          "data": {
            "text/plain": [
              "              User               Date Created  Number of Likes  \\\n",
              "0     byeonghoneyy  2012-12-05 00:49:14+00:00                0   \n",
              "1           ecokha  2012-04-03 09:39:02+00:00                0   \n",
              "2  ShackleyGoldman  2013-12-29 22:14:16+00:00                0   \n",
              "3     NG_DailyNews  2013-10-28 03:23:49+00:00                0   \n",
              "4       ClassicCph  2013-10-24 20:42:37+00:00                0   \n",
              "\n",
              "      Source of Tweet                                              Tweet  \\\n",
              "0  Twitter Web Client  Nooo, they must not cancel extracurricular. An...   \n",
              "1  Twitter for iPhone  @yosra_abdulla @salmanyousif @3askar @majanahi...   \n",
              "2         twitterfeed  Middleman the wrecker sellers hereby reward in...   \n",
              "3         twitterfeed  #NigerianDailyNews Fleetwood Mac bassist John ...   \n",
              "4  Twitter Web Client  @Nauris_L They \"cancel\" culture houses here, t...   \n",
              "\n",
              "   Retweet Count                                       clean_tweets  \n",
              "0              0  nooo they must not cancel extracurricular and ...  \n",
              "1              0  yosra_abdulla salmanyousif 3askar majanahi kha...  \n",
              "2              0  middleman the wrecker sellers hereby reward in...  \n",
              "3              0  nigeriandailynews fleetwood mac bassist john m...  \n",
              "4              0  nauris_l they cancel culture houses here too l...  "
            ],
            "text/html": [
              "\n",
              "  <div id=\"df-63d9925d-5e9f-47fc-9ff4-a4e5443c1688\">\n",
              "    <div class=\"colab-df-container\">\n",
              "      <div>\n",
              "<style scoped>\n",
              "    .dataframe tbody tr th:only-of-type {\n",
              "        vertical-align: middle;\n",
              "    }\n",
              "\n",
              "    .dataframe tbody tr th {\n",
              "        vertical-align: top;\n",
              "    }\n",
              "\n",
              "    .dataframe thead th {\n",
              "        text-align: right;\n",
              "    }\n",
              "</style>\n",
              "<table border=\"1\" class=\"dataframe\">\n",
              "  <thead>\n",
              "    <tr style=\"text-align: right;\">\n",
              "      <th></th>\n",
              "      <th>User</th>\n",
              "      <th>Date Created</th>\n",
              "      <th>Number of Likes</th>\n",
              "      <th>Source of Tweet</th>\n",
              "      <th>Tweet</th>\n",
              "      <th>Retweet Count</th>\n",
              "      <th>clean_tweets</th>\n",
              "    </tr>\n",
              "  </thead>\n",
              "  <tbody>\n",
              "    <tr>\n",
              "      <th>0</th>\n",
              "      <td>byeonghoneyy</td>\n",
              "      <td>2012-12-05 00:49:14+00:00</td>\n",
              "      <td>0</td>\n",
              "      <td>Twitter Web Client</td>\n",
              "      <td>Nooo, they must not cancel extracurricular. An...</td>\n",
              "      <td>0</td>\n",
              "      <td>nooo they must not cancel extracurricular and ...</td>\n",
              "    </tr>\n",
              "    <tr>\n",
              "      <th>1</th>\n",
              "      <td>ecokha</td>\n",
              "      <td>2012-04-03 09:39:02+00:00</td>\n",
              "      <td>0</td>\n",
              "      <td>Twitter for iPhone</td>\n",
              "      <td>@yosra_abdulla @salmanyousif @3askar @majanahi...</td>\n",
              "      <td>0</td>\n",
              "      <td>yosra_abdulla salmanyousif 3askar majanahi kha...</td>\n",
              "    </tr>\n",
              "    <tr>\n",
              "      <th>2</th>\n",
              "      <td>ShackleyGoldman</td>\n",
              "      <td>2013-12-29 22:14:16+00:00</td>\n",
              "      <td>0</td>\n",
              "      <td>twitterfeed</td>\n",
              "      <td>Middleman the wrecker sellers hereby reward in...</td>\n",
              "      <td>0</td>\n",
              "      <td>middleman the wrecker sellers hereby reward in...</td>\n",
              "    </tr>\n",
              "    <tr>\n",
              "      <th>3</th>\n",
              "      <td>NG_DailyNews</td>\n",
              "      <td>2013-10-28 03:23:49+00:00</td>\n",
              "      <td>0</td>\n",
              "      <td>twitterfeed</td>\n",
              "      <td>#NigerianDailyNews Fleetwood Mac bassist John ...</td>\n",
              "      <td>0</td>\n",
              "      <td>nigeriandailynews fleetwood mac bassist john m...</td>\n",
              "    </tr>\n",
              "    <tr>\n",
              "      <th>4</th>\n",
              "      <td>ClassicCph</td>\n",
              "      <td>2013-10-24 20:42:37+00:00</td>\n",
              "      <td>0</td>\n",
              "      <td>Twitter Web Client</td>\n",
              "      <td>@Nauris_L They \"cancel\" culture houses here, t...</td>\n",
              "      <td>0</td>\n",
              "      <td>nauris_l they cancel culture houses here too l...</td>\n",
              "    </tr>\n",
              "  </tbody>\n",
              "</table>\n",
              "</div>\n",
              "      <button class=\"colab-df-convert\" onclick=\"convertToInteractive('df-63d9925d-5e9f-47fc-9ff4-a4e5443c1688')\"\n",
              "              title=\"Convert this dataframe to an interactive table.\"\n",
              "              style=\"display:none;\">\n",
              "        \n",
              "  <svg xmlns=\"http://www.w3.org/2000/svg\" height=\"24px\"viewBox=\"0 0 24 24\"\n",
              "       width=\"24px\">\n",
              "    <path d=\"M0 0h24v24H0V0z\" fill=\"none\"/>\n",
              "    <path d=\"M18.56 5.44l.94 2.06.94-2.06 2.06-.94-2.06-.94-.94-2.06-.94 2.06-2.06.94zm-11 1L8.5 8.5l.94-2.06 2.06-.94-2.06-.94L8.5 2.5l-.94 2.06-2.06.94zm10 10l.94 2.06.94-2.06 2.06-.94-2.06-.94-.94-2.06-.94 2.06-2.06.94z\"/><path d=\"M17.41 7.96l-1.37-1.37c-.4-.4-.92-.59-1.43-.59-.52 0-1.04.2-1.43.59L10.3 9.45l-7.72 7.72c-.78.78-.78 2.05 0 2.83L4 21.41c.39.39.9.59 1.41.59.51 0 1.02-.2 1.41-.59l7.78-7.78 2.81-2.81c.8-.78.8-2.07 0-2.86zM5.41 20L4 18.59l7.72-7.72 1.47 1.35L5.41 20z\"/>\n",
              "  </svg>\n",
              "      </button>\n",
              "      \n",
              "  <style>\n",
              "    .colab-df-container {\n",
              "      display:flex;\n",
              "      flex-wrap:wrap;\n",
              "      gap: 12px;\n",
              "    }\n",
              "\n",
              "    .colab-df-convert {\n",
              "      background-color: #E8F0FE;\n",
              "      border: none;\n",
              "      border-radius: 50%;\n",
              "      cursor: pointer;\n",
              "      display: none;\n",
              "      fill: #1967D2;\n",
              "      height: 32px;\n",
              "      padding: 0 0 0 0;\n",
              "      width: 32px;\n",
              "    }\n",
              "\n",
              "    .colab-df-convert:hover {\n",
              "      background-color: #E2EBFA;\n",
              "      box-shadow: 0px 1px 2px rgba(60, 64, 67, 0.3), 0px 1px 3px 1px rgba(60, 64, 67, 0.15);\n",
              "      fill: #174EA6;\n",
              "    }\n",
              "\n",
              "    [theme=dark] .colab-df-convert {\n",
              "      background-color: #3B4455;\n",
              "      fill: #D2E3FC;\n",
              "    }\n",
              "\n",
              "    [theme=dark] .colab-df-convert:hover {\n",
              "      background-color: #434B5C;\n",
              "      box-shadow: 0px 1px 3px 1px rgba(0, 0, 0, 0.15);\n",
              "      filter: drop-shadow(0px 1px 2px rgba(0, 0, 0, 0.3));\n",
              "      fill: #FFFFFF;\n",
              "    }\n",
              "  </style>\n",
              "\n",
              "      <script>\n",
              "        const buttonEl =\n",
              "          document.querySelector('#df-63d9925d-5e9f-47fc-9ff4-a4e5443c1688 button.colab-df-convert');\n",
              "        buttonEl.style.display =\n",
              "          google.colab.kernel.accessAllowed ? 'block' : 'none';\n",
              "\n",
              "        async function convertToInteractive(key) {\n",
              "          const element = document.querySelector('#df-63d9925d-5e9f-47fc-9ff4-a4e5443c1688');\n",
              "          const dataTable =\n",
              "            await google.colab.kernel.invokeFunction('convertToInteractive',\n",
              "                                                     [key], {});\n",
              "          if (!dataTable) return;\n",
              "\n",
              "          const docLinkHtml = 'Like what you see? Visit the ' +\n",
              "            '<a target=\"_blank\" href=https://colab.research.google.com/notebooks/data_table.ipynb>data table notebook</a>'\n",
              "            + ' to learn more about interactive tables.';\n",
              "          element.innerHTML = '';\n",
              "          dataTable['output_type'] = 'display_data';\n",
              "          await google.colab.output.renderOutput(dataTable, element);\n",
              "          const docLink = document.createElement('div');\n",
              "          docLink.innerHTML = docLinkHtml;\n",
              "          element.appendChild(docLink);\n",
              "        }\n",
              "      </script>\n",
              "    </div>\n",
              "  </div>\n",
              "  "
            ]
          },
          "metadata": {},
          "execution_count": 7
        }
      ]
    },
    {
      "cell_type": "code",
      "source": [
        "stop = ['of', 'thus', 'somehow', 'many', 'until', 'he', 'name', 'whereas', 'namely', 'much', 'still', 'my', 'only', 'towards', 'am', 'below', 'something', 'everywhere', 'been', 'same', 'whereafter', 'none', 'except', 'have', 'yourselves', 'then', 'never', 'full', 'mostly', 'further', 'several', 'bill', 'together', 'can', 'i', 'which', 'might', 'therefore', 'nevertheless', 'thereby', 'formerly', 'were', 'whereupon', 'amoungst', 'thereupon', 'hereupon', 'next', 'during', 'what', 'yourself', 'across', 'was', 'whole', 'up', 'if', 'per', 'myself', 'they', 'wherein', 'she', 'since', 'behind', 'first', 'take', 'fire', 'least', 'mill', 'inc', 'made', 'latter', 'noone', 'four', 'give', 'therein', 'describe', 'others', 'whither', 'besides', 'itself', 'whereby', 'couldnt', 'rather', 'either', 'sixty', 'here', 'will', 'done', 'beyond', 'own', 'against', 'this', 'before', 'amongst', 'on', 'become', 'more', 'front', 'whenever', 'thick', 'nothing', 'again', 'became', 'me', 'thence', 'yet', 'eg', 'sometime', 'ltd', 'always', 'at', 'whence', 'ie', 'six', 'those', 'sincere', 'any', 'latterly', 'nobody', 'why', 'part', 'thru', 'nor', 'in', 'side', 'ours', 'as', 'bottom', 'five', 'third', 'co', 'such', 'himself', 'whoever', 'him', 'thin', 'would', 'these', 'herein', 'upon', 'each', 'you', 'beforehand', 'no', 'his', 'two', 'three', 'the', 'few', 'it', 'yours', 'already', 'interest', 'whom', 'with', 'for', 'other', 'via', 'go', 'onto', 'do', 'get', 'also', 'mine', 'wherever', 'so', 'system', 'us', 'whose', 'after', 'and', 'former', 'all', 'but', 'back', 'too', 'hundred', 'is', 'between', 'even', 'hence', 'whatever', 'hasnt', 'along', 'most', 'herself', 'un', 'has', 'anyone', 'fifty', 'meanwhile', 'being', 'otherwise', 'anywhere', 'serious', 'under', 'seeming', 'by', 'often', 'neither', 'hereby', 'around', 'afterwards', 'an', 'everything', 'who', 'due', 'anyhow', 'than', 'indeed', 'etc', 'to', 'them', 'amount', 'both', 'moreover', 'our', 'de', 'eleven', 'well', 'out', 'or', 'beside', 'because', 'through', 'now', 'your', 'where', 'found', 'had', 'ten', 'almost', 'twenty', 'its', 'once', 'move', 'although', 'nowhere', 'into', 'perhaps', 'con', 'throughout', 'twelve', 'not', 'while', 'detail', 'top', 'we', 'enough', 'from', 'ourselves', 'whether', 'thereafter', 'somewhere', 'please', 'find', 'how', 'fifteen', 'becoming', 'put', 'their', 'nine', 'within', 'one', 'cant', 'are', 'last', 'a', 'seem', 'toward', 'her', 'off', 'show', 'above', 're', 'else', 'cry', 'keep', 'could', 'some', 'see', 'eight', 'anyway', 'hereafter', 'themselves', 'empty', 'elsewhere', 'when', 'ever', 'must', 'seemed', 'very', 'sometimes', 'another', 'becomes', 'may', 'everyone', 'hers', 'fill', 'among', 'should', 'over', 'be', 'anything', 'seems', 'without', 'about', 'that', 'down', 'there', 'though', 'someone', 'alone', 'every', 'call', 'however', 'less', 'forty', 'cannot','the', 'a', 'this', 'that', 'to', 'is', 'am', 'was', 'were', 'be', 'being', 'been']\n",
        "tweets = tweets[tweets['clean_tweets'].notnull()]\n",
        "\n",
        "tweets['clean_tweets'] = tweets['clean_tweets'].apply(lambda x: ' '.join([word for word in x.split() if word not in (stop)]))\n"
      ],
      "metadata": {
        "id": "m14BnRw-qgQA"
      },
      "execution_count": 8,
      "outputs": []
    },
    {
      "cell_type": "code",
      "source": [
        "tweets.head()"
      ],
      "metadata": {
        "colab": {
          "base_uri": "https://localhost:8080/",
          "height": 531
        },
        "id": "V7SznJgjsDxt",
        "outputId": "fa8d3258-b04f-40ef-f013-07b3c4e56225"
      },
      "execution_count": 9,
      "outputs": [
        {
          "output_type": "execute_result",
          "data": {
            "text/plain": [
              "              User               Date Created  Number of Likes  \\\n",
              "0     byeonghoneyy  2012-12-05 00:49:14+00:00                0   \n",
              "1           ecokha  2012-04-03 09:39:02+00:00                0   \n",
              "2  ShackleyGoldman  2013-12-29 22:14:16+00:00                0   \n",
              "3     NG_DailyNews  2013-10-28 03:23:49+00:00                0   \n",
              "4       ClassicCph  2013-10-24 20:42:37+00:00                0   \n",
              "\n",
              "      Source of Tweet                                              Tweet  \\\n",
              "0  Twitter Web Client  Nooo, they must not cancel extracurricular. An...   \n",
              "1  Twitter for iPhone  @yosra_abdulla @salmanyousif @3askar @majanahi...   \n",
              "2         twitterfeed  Middleman the wrecker sellers hereby reward in...   \n",
              "3         twitterfeed  #NigerianDailyNews Fleetwood Mac bassist John ...   \n",
              "4  Twitter Web Client  @Nauris_L They \"cancel\" culture houses here, t...   \n",
              "\n",
              "   Retweet Count                                       clean_tweets  \n",
              "0              0    nooo cancel extracurricular cancel culture fest  \n",
              "1              0  yosra_abdulla salmanyousif 3askar majanahi kha...  \n",
              "2              0  middleman wrecker sellers reward uniformity ca...  \n",
              "3              0  nigeriandailynews fleetwood mac bassist john m...  \n",
              "4              0  nauris_l cancel culture houses turned riot inf...  "
            ],
            "text/html": [
              "\n",
              "  <div id=\"df-d50d4bc5-5f9b-4463-bf11-c66ef7780ebe\">\n",
              "    <div class=\"colab-df-container\">\n",
              "      <div>\n",
              "<style scoped>\n",
              "    .dataframe tbody tr th:only-of-type {\n",
              "        vertical-align: middle;\n",
              "    }\n",
              "\n",
              "    .dataframe tbody tr th {\n",
              "        vertical-align: top;\n",
              "    }\n",
              "\n",
              "    .dataframe thead th {\n",
              "        text-align: right;\n",
              "    }\n",
              "</style>\n",
              "<table border=\"1\" class=\"dataframe\">\n",
              "  <thead>\n",
              "    <tr style=\"text-align: right;\">\n",
              "      <th></th>\n",
              "      <th>User</th>\n",
              "      <th>Date Created</th>\n",
              "      <th>Number of Likes</th>\n",
              "      <th>Source of Tweet</th>\n",
              "      <th>Tweet</th>\n",
              "      <th>Retweet Count</th>\n",
              "      <th>clean_tweets</th>\n",
              "    </tr>\n",
              "  </thead>\n",
              "  <tbody>\n",
              "    <tr>\n",
              "      <th>0</th>\n",
              "      <td>byeonghoneyy</td>\n",
              "      <td>2012-12-05 00:49:14+00:00</td>\n",
              "      <td>0</td>\n",
              "      <td>Twitter Web Client</td>\n",
              "      <td>Nooo, they must not cancel extracurricular. An...</td>\n",
              "      <td>0</td>\n",
              "      <td>nooo cancel extracurricular cancel culture fest</td>\n",
              "    </tr>\n",
              "    <tr>\n",
              "      <th>1</th>\n",
              "      <td>ecokha</td>\n",
              "      <td>2012-04-03 09:39:02+00:00</td>\n",
              "      <td>0</td>\n",
              "      <td>Twitter for iPhone</td>\n",
              "      <td>@yosra_abdulla @salmanyousif @3askar @majanahi...</td>\n",
              "      <td>0</td>\n",
              "      <td>yosra_abdulla salmanyousif 3askar majanahi kha...</td>\n",
              "    </tr>\n",
              "    <tr>\n",
              "      <th>2</th>\n",
              "      <td>ShackleyGoldman</td>\n",
              "      <td>2013-12-29 22:14:16+00:00</td>\n",
              "      <td>0</td>\n",
              "      <td>twitterfeed</td>\n",
              "      <td>Middleman the wrecker sellers hereby reward in...</td>\n",
              "      <td>0</td>\n",
              "      <td>middleman wrecker sellers reward uniformity ca...</td>\n",
              "    </tr>\n",
              "    <tr>\n",
              "      <th>3</th>\n",
              "      <td>NG_DailyNews</td>\n",
              "      <td>2013-10-28 03:23:49+00:00</td>\n",
              "      <td>0</td>\n",
              "      <td>twitterfeed</td>\n",
              "      <td>#NigerianDailyNews Fleetwood Mac bassist John ...</td>\n",
              "      <td>0</td>\n",
              "      <td>nigeriandailynews fleetwood mac bassist john m...</td>\n",
              "    </tr>\n",
              "    <tr>\n",
              "      <th>4</th>\n",
              "      <td>ClassicCph</td>\n",
              "      <td>2013-10-24 20:42:37+00:00</td>\n",
              "      <td>0</td>\n",
              "      <td>Twitter Web Client</td>\n",
              "      <td>@Nauris_L They \"cancel\" culture houses here, t...</td>\n",
              "      <td>0</td>\n",
              "      <td>nauris_l cancel culture houses turned riot inf...</td>\n",
              "    </tr>\n",
              "  </tbody>\n",
              "</table>\n",
              "</div>\n",
              "      <button class=\"colab-df-convert\" onclick=\"convertToInteractive('df-d50d4bc5-5f9b-4463-bf11-c66ef7780ebe')\"\n",
              "              title=\"Convert this dataframe to an interactive table.\"\n",
              "              style=\"display:none;\">\n",
              "        \n",
              "  <svg xmlns=\"http://www.w3.org/2000/svg\" height=\"24px\"viewBox=\"0 0 24 24\"\n",
              "       width=\"24px\">\n",
              "    <path d=\"M0 0h24v24H0V0z\" fill=\"none\"/>\n",
              "    <path d=\"M18.56 5.44l.94 2.06.94-2.06 2.06-.94-2.06-.94-.94-2.06-.94 2.06-2.06.94zm-11 1L8.5 8.5l.94-2.06 2.06-.94-2.06-.94L8.5 2.5l-.94 2.06-2.06.94zm10 10l.94 2.06.94-2.06 2.06-.94-2.06-.94-.94-2.06-.94 2.06-2.06.94z\"/><path d=\"M17.41 7.96l-1.37-1.37c-.4-.4-.92-.59-1.43-.59-.52 0-1.04.2-1.43.59L10.3 9.45l-7.72 7.72c-.78.78-.78 2.05 0 2.83L4 21.41c.39.39.9.59 1.41.59.51 0 1.02-.2 1.41-.59l7.78-7.78 2.81-2.81c.8-.78.8-2.07 0-2.86zM5.41 20L4 18.59l7.72-7.72 1.47 1.35L5.41 20z\"/>\n",
              "  </svg>\n",
              "      </button>\n",
              "      \n",
              "  <style>\n",
              "    .colab-df-container {\n",
              "      display:flex;\n",
              "      flex-wrap:wrap;\n",
              "      gap: 12px;\n",
              "    }\n",
              "\n",
              "    .colab-df-convert {\n",
              "      background-color: #E8F0FE;\n",
              "      border: none;\n",
              "      border-radius: 50%;\n",
              "      cursor: pointer;\n",
              "      display: none;\n",
              "      fill: #1967D2;\n",
              "      height: 32px;\n",
              "      padding: 0 0 0 0;\n",
              "      width: 32px;\n",
              "    }\n",
              "\n",
              "    .colab-df-convert:hover {\n",
              "      background-color: #E2EBFA;\n",
              "      box-shadow: 0px 1px 2px rgba(60, 64, 67, 0.3), 0px 1px 3px 1px rgba(60, 64, 67, 0.15);\n",
              "      fill: #174EA6;\n",
              "    }\n",
              "\n",
              "    [theme=dark] .colab-df-convert {\n",
              "      background-color: #3B4455;\n",
              "      fill: #D2E3FC;\n",
              "    }\n",
              "\n",
              "    [theme=dark] .colab-df-convert:hover {\n",
              "      background-color: #434B5C;\n",
              "      box-shadow: 0px 1px 3px 1px rgba(0, 0, 0, 0.15);\n",
              "      filter: drop-shadow(0px 1px 2px rgba(0, 0, 0, 0.3));\n",
              "      fill: #FFFFFF;\n",
              "    }\n",
              "  </style>\n",
              "\n",
              "      <script>\n",
              "        const buttonEl =\n",
              "          document.querySelector('#df-d50d4bc5-5f9b-4463-bf11-c66ef7780ebe button.colab-df-convert');\n",
              "        buttonEl.style.display =\n",
              "          google.colab.kernel.accessAllowed ? 'block' : 'none';\n",
              "\n",
              "        async function convertToInteractive(key) {\n",
              "          const element = document.querySelector('#df-d50d4bc5-5f9b-4463-bf11-c66ef7780ebe');\n",
              "          const dataTable =\n",
              "            await google.colab.kernel.invokeFunction('convertToInteractive',\n",
              "                                                     [key], {});\n",
              "          if (!dataTable) return;\n",
              "\n",
              "          const docLinkHtml = 'Like what you see? Visit the ' +\n",
              "            '<a target=\"_blank\" href=https://colab.research.google.com/notebooks/data_table.ipynb>data table notebook</a>'\n",
              "            + ' to learn more about interactive tables.';\n",
              "          element.innerHTML = '';\n",
              "          dataTable['output_type'] = 'display_data';\n",
              "          await google.colab.output.renderOutput(dataTable, element);\n",
              "          const docLink = document.createElement('div');\n",
              "          docLink.innerHTML = docLinkHtml;\n",
              "          element.appendChild(docLink);\n",
              "        }\n",
              "      </script>\n",
              "    </div>\n",
              "  </div>\n",
              "  "
            ]
          },
          "metadata": {},
          "execution_count": 9
        }
      ]
    },
    {
      "cell_type": "markdown",
      "source": [
        "Visualize how mentions of \"cancel Trump\" have changed over time\n"
      ],
      "metadata": {
        "id": "Kbw3lJY5ttdp"
      }
    },
    {
      "cell_type": "code",
      "source": [
        "tweets[\"contains_cancel_trump\"] = tweets[\"clean_tweets\"].str.contains(\"cancel trump\")\n",
        "cancel_trump_counts = sum(tweets[\"contains_cancel_trump\"])\n",
        "print(cancel_trump_counts)"
      ],
      "metadata": {
        "colab": {
          "base_uri": "https://localhost:8080/"
        },
        "id": "-fno9XFGsgg_",
        "outputId": "fde7c297-b9d5-4b66-d966-53089d13ff7d"
      },
      "execution_count": 10,
      "outputs": [
        {
          "output_type": "stream",
          "name": "stdout",
          "text": [
            "1\n"
          ]
        }
      ]
    },
    {
      "cell_type": "code",
      "source": [
        "tweets[\"Year Created\"] = tweets[\"Date Created\"].str[0:4]\n"
      ],
      "metadata": {
        "id": "zwxUGZj2s9Yp"
      },
      "execution_count": 11,
      "outputs": []
    },
    {
      "cell_type": "code",
      "source": [
        "yearly_mentions = tweets.groupby(\"Year Created\").sum().reset_index()\n",
        "yearly_mentions"
      ],
      "metadata": {
        "colab": {
          "base_uri": "https://localhost:8080/",
          "height": 394
        },
        "id": "vfertz61tqYS",
        "outputId": "f7207e74-8cbd-426e-d995-eaa66e0ccf42"
      },
      "execution_count": 12,
      "outputs": [
        {
          "output_type": "execute_result",
          "data": {
            "text/plain": [
              "   Year Created  Number of Likes  Retweet Count  contains_cancel_trump\n",
              "0          2012                0              0                      0\n",
              "1          2013                1              2                      0\n",
              "2          2014               17             17                      0\n",
              "3          2015                6             10                      0\n",
              "4          2016                8              1                      0\n",
              "5          2017              774            302                      0\n",
              "6          2018            10162           1565                      0\n",
              "7          2019             6722            664                      0\n",
              "8          2020            15008           1889                      1\n",
              "9          2021            10123           1171                      0\n",
              "10         2022             9079            903                      0"
            ],
            "text/html": [
              "\n",
              "  <div id=\"df-5c496fe5-7623-481d-9db2-7e79b70d1377\">\n",
              "    <div class=\"colab-df-container\">\n",
              "      <div>\n",
              "<style scoped>\n",
              "    .dataframe tbody tr th:only-of-type {\n",
              "        vertical-align: middle;\n",
              "    }\n",
              "\n",
              "    .dataframe tbody tr th {\n",
              "        vertical-align: top;\n",
              "    }\n",
              "\n",
              "    .dataframe thead th {\n",
              "        text-align: right;\n",
              "    }\n",
              "</style>\n",
              "<table border=\"1\" class=\"dataframe\">\n",
              "  <thead>\n",
              "    <tr style=\"text-align: right;\">\n",
              "      <th></th>\n",
              "      <th>Year Created</th>\n",
              "      <th>Number of Likes</th>\n",
              "      <th>Retweet Count</th>\n",
              "      <th>contains_cancel_trump</th>\n",
              "    </tr>\n",
              "  </thead>\n",
              "  <tbody>\n",
              "    <tr>\n",
              "      <th>0</th>\n",
              "      <td>2012</td>\n",
              "      <td>0</td>\n",
              "      <td>0</td>\n",
              "      <td>0</td>\n",
              "    </tr>\n",
              "    <tr>\n",
              "      <th>1</th>\n",
              "      <td>2013</td>\n",
              "      <td>1</td>\n",
              "      <td>2</td>\n",
              "      <td>0</td>\n",
              "    </tr>\n",
              "    <tr>\n",
              "      <th>2</th>\n",
              "      <td>2014</td>\n",
              "      <td>17</td>\n",
              "      <td>17</td>\n",
              "      <td>0</td>\n",
              "    </tr>\n",
              "    <tr>\n",
              "      <th>3</th>\n",
              "      <td>2015</td>\n",
              "      <td>6</td>\n",
              "      <td>10</td>\n",
              "      <td>0</td>\n",
              "    </tr>\n",
              "    <tr>\n",
              "      <th>4</th>\n",
              "      <td>2016</td>\n",
              "      <td>8</td>\n",
              "      <td>1</td>\n",
              "      <td>0</td>\n",
              "    </tr>\n",
              "    <tr>\n",
              "      <th>5</th>\n",
              "      <td>2017</td>\n",
              "      <td>774</td>\n",
              "      <td>302</td>\n",
              "      <td>0</td>\n",
              "    </tr>\n",
              "    <tr>\n",
              "      <th>6</th>\n",
              "      <td>2018</td>\n",
              "      <td>10162</td>\n",
              "      <td>1565</td>\n",
              "      <td>0</td>\n",
              "    </tr>\n",
              "    <tr>\n",
              "      <th>7</th>\n",
              "      <td>2019</td>\n",
              "      <td>6722</td>\n",
              "      <td>664</td>\n",
              "      <td>0</td>\n",
              "    </tr>\n",
              "    <tr>\n",
              "      <th>8</th>\n",
              "      <td>2020</td>\n",
              "      <td>15008</td>\n",
              "      <td>1889</td>\n",
              "      <td>1</td>\n",
              "    </tr>\n",
              "    <tr>\n",
              "      <th>9</th>\n",
              "      <td>2021</td>\n",
              "      <td>10123</td>\n",
              "      <td>1171</td>\n",
              "      <td>0</td>\n",
              "    </tr>\n",
              "    <tr>\n",
              "      <th>10</th>\n",
              "      <td>2022</td>\n",
              "      <td>9079</td>\n",
              "      <td>903</td>\n",
              "      <td>0</td>\n",
              "    </tr>\n",
              "  </tbody>\n",
              "</table>\n",
              "</div>\n",
              "      <button class=\"colab-df-convert\" onclick=\"convertToInteractive('df-5c496fe5-7623-481d-9db2-7e79b70d1377')\"\n",
              "              title=\"Convert this dataframe to an interactive table.\"\n",
              "              style=\"display:none;\">\n",
              "        \n",
              "  <svg xmlns=\"http://www.w3.org/2000/svg\" height=\"24px\"viewBox=\"0 0 24 24\"\n",
              "       width=\"24px\">\n",
              "    <path d=\"M0 0h24v24H0V0z\" fill=\"none\"/>\n",
              "    <path d=\"M18.56 5.44l.94 2.06.94-2.06 2.06-.94-2.06-.94-.94-2.06-.94 2.06-2.06.94zm-11 1L8.5 8.5l.94-2.06 2.06-.94-2.06-.94L8.5 2.5l-.94 2.06-2.06.94zm10 10l.94 2.06.94-2.06 2.06-.94-2.06-.94-.94-2.06-.94 2.06-2.06.94z\"/><path d=\"M17.41 7.96l-1.37-1.37c-.4-.4-.92-.59-1.43-.59-.52 0-1.04.2-1.43.59L10.3 9.45l-7.72 7.72c-.78.78-.78 2.05 0 2.83L4 21.41c.39.39.9.59 1.41.59.51 0 1.02-.2 1.41-.59l7.78-7.78 2.81-2.81c.8-.78.8-2.07 0-2.86zM5.41 20L4 18.59l7.72-7.72 1.47 1.35L5.41 20z\"/>\n",
              "  </svg>\n",
              "      </button>\n",
              "      \n",
              "  <style>\n",
              "    .colab-df-container {\n",
              "      display:flex;\n",
              "      flex-wrap:wrap;\n",
              "      gap: 12px;\n",
              "    }\n",
              "\n",
              "    .colab-df-convert {\n",
              "      background-color: #E8F0FE;\n",
              "      border: none;\n",
              "      border-radius: 50%;\n",
              "      cursor: pointer;\n",
              "      display: none;\n",
              "      fill: #1967D2;\n",
              "      height: 32px;\n",
              "      padding: 0 0 0 0;\n",
              "      width: 32px;\n",
              "    }\n",
              "\n",
              "    .colab-df-convert:hover {\n",
              "      background-color: #E2EBFA;\n",
              "      box-shadow: 0px 1px 2px rgba(60, 64, 67, 0.3), 0px 1px 3px 1px rgba(60, 64, 67, 0.15);\n",
              "      fill: #174EA6;\n",
              "    }\n",
              "\n",
              "    [theme=dark] .colab-df-convert {\n",
              "      background-color: #3B4455;\n",
              "      fill: #D2E3FC;\n",
              "    }\n",
              "\n",
              "    [theme=dark] .colab-df-convert:hover {\n",
              "      background-color: #434B5C;\n",
              "      box-shadow: 0px 1px 3px 1px rgba(0, 0, 0, 0.15);\n",
              "      filter: drop-shadow(0px 1px 2px rgba(0, 0, 0, 0.3));\n",
              "      fill: #FFFFFF;\n",
              "    }\n",
              "  </style>\n",
              "\n",
              "      <script>\n",
              "        const buttonEl =\n",
              "          document.querySelector('#df-5c496fe5-7623-481d-9db2-7e79b70d1377 button.colab-df-convert');\n",
              "        buttonEl.style.display =\n",
              "          google.colab.kernel.accessAllowed ? 'block' : 'none';\n",
              "\n",
              "        async function convertToInteractive(key) {\n",
              "          const element = document.querySelector('#df-5c496fe5-7623-481d-9db2-7e79b70d1377');\n",
              "          const dataTable =\n",
              "            await google.colab.kernel.invokeFunction('convertToInteractive',\n",
              "                                                     [key], {});\n",
              "          if (!dataTable) return;\n",
              "\n",
              "          const docLinkHtml = 'Like what you see? Visit the ' +\n",
              "            '<a target=\"_blank\" href=https://colab.research.google.com/notebooks/data_table.ipynb>data table notebook</a>'\n",
              "            + ' to learn more about interactive tables.';\n",
              "          element.innerHTML = '';\n",
              "          dataTable['output_type'] = 'display_data';\n",
              "          await google.colab.output.renderOutput(dataTable, element);\n",
              "          const docLink = document.createElement('div');\n",
              "          docLink.innerHTML = docLinkHtml;\n",
              "          element.appendChild(docLink);\n",
              "        }\n",
              "      </script>\n",
              "    </div>\n",
              "  </div>\n",
              "  "
            ]
          },
          "metadata": {},
          "execution_count": 12
        }
      ]
    },
    {
      "cell_type": "code",
      "source": [
        "plt.plot(yearly_mentions[\"Year Created\"], yearly_mentions[\"contains_cancel_trump\"])\n",
        "plt.xlabel(\"Year\")\n",
        "plt.ylabel(\"Number of Tweets Containing `cancel Trump`\")\n",
        "plt.show()"
      ],
      "metadata": {
        "colab": {
          "base_uri": "https://localhost:8080/",
          "height": 279
        },
        "id": "_nWuw-fcuJHc",
        "outputId": "bd85c6d5-7e61-4d36-8b7c-62a4516c69cc"
      },
      "execution_count": 13,
      "outputs": [
        {
          "output_type": "display_data",
          "data": {
            "text/plain": [
              "<Figure size 432x288 with 1 Axes>"
            ],
            "image/png": "[encoded data removed]"
          },
          "metadata": {
            "needs_background": "light"
          }
        }
      ]
    },
    {
      "cell_type": "markdown",
      "source": [
        "Sentiment Analysis"
      ],
      "metadata": {
        "id": "ibLL-qaNxDGr"
      }
    },
    {
      "cell_type": "code",
      "source": [
        "nltk.download('vader_lexicon')"
      ],
      "metadata": {
        "colab": {
          "base_uri": "https://localhost:8080/"
        },
        "id": "3PDoxE4-vO9P",
        "outputId": "4f4655be-ce13-4d9d-a813-ddfc3143c12c"
      },
      "execution_count": 14,
      "outputs": [
        {
          "output_type": "stream",
          "name": "stderr",
          "text": [
            "[nltk_data] Downloading package vader_lexicon to /root/nltk_data...\n"
          ]
        },
        {
          "output_type": "execute_result",
          "data": {
            "text/plain": [
              "True"
            ]
          },
          "metadata": {},
          "execution_count": 14
        }
      ]
    },
    {
      "cell_type": "code",
      "source": [
        "sia = SentimentIntensityAnalyzer()"
      ],
      "metadata": {
        "id": "HQt0FySCvUiO"
      },
      "execution_count": 15,
      "outputs": []
    },
    {
      "cell_type": "code",
      "source": [
        "tweets[\"polarity\"] = tweets[\"clean_tweets\"].apply(lambda x: sia.polarity_scores(x))"
      ],
      "metadata": {
        "id": "a7wNR36ZvXmC"
      },
      "execution_count": 16,
      "outputs": []
    },
    {
      "cell_type": "code",
      "source": [
        "tweets[['neg', 'neu', 'pos', 'compound']] = tweets['polarity'].apply(pd.Series)\n",
        "tweets.drop('polarity', axis=1)"
      ],
      "metadata": {
        "colab": {
          "base_uri": "https://localhost:8080/",
          "height": 956
        },
        "id": "ohpNb1kAvf9e",
        "outputId": "70191436-bf83-4aa2-8011-2e944c602496"
      },
      "execution_count": 17,
      "outputs": [
        {
          "output_type": "execute_result",
          "data": {
            "text/plain": [
              "                 User               Date Created  Number of Likes  \\\n",
              "0        byeonghoneyy  2012-12-05 00:49:14+00:00                0   \n",
              "1              ecokha  2012-04-03 09:39:02+00:00                0   \n",
              "2     ShackleyGoldman  2013-12-29 22:14:16+00:00                0   \n",
              "3        NG_DailyNews  2013-10-28 03:23:49+00:00                0   \n",
              "4          ClassicCph  2013-10-24 20:42:37+00:00                0   \n",
              "...               ...                        ...              ...   \n",
              "5308     doodleepanda  2022-12-31 07:10:03+00:00                0   \n",
              "5309        Dekatron3  2022-12-31 07:08:15+00:00                4   \n",
              "5310         CAntheus  2022-12-31 07:06:32+00:00                2   \n",
              "5311  RevoltConscious  2022-12-31 07:06:20+00:00                1   \n",
              "5312            MOB51  2022-12-31 07:05:08+00:00               38   \n",
              "\n",
              "          Source of Tweet                                              Tweet  \\\n",
              "0      Twitter Web Client  Nooo, they must not cancel extracurricular. An...   \n",
              "1      Twitter for iPhone  @yosra_abdulla @salmanyousif @3askar @majanahi...   \n",
              "2             twitterfeed  Middleman the wrecker sellers hereby reward in...   \n",
              "3             twitterfeed  #NigerianDailyNews Fleetwood Mac bassist John ...   \n",
              "4      Twitter Web Client  @Nauris_L They \"cancel\" culture houses here, t...   \n",
              "...                   ...                                                ...   \n",
              "5308   Twitter for iPhone  I hope people stop bashing him for something h...   \n",
              "5309  Twitter for Android  I miss the times when we would just summon ale...   \n",
              "5310  Twitter for Android  @MarkusTurm Ist das hier right wing cancel cul...   \n",
              "5311  Twitter for Android  @Stretford_Bally Some do. Most don't. If he re...   \n",
              "5312   Twitter for iPhone  @mattjacole @elonmusk You are in the top left ...   \n",
              "\n",
              "      Retweet Count                                       clean_tweets  \\\n",
              "0                 0    nooo cancel extracurricular cancel culture fest   \n",
              "1                 0  yosra_abdulla salmanyousif 3askar majanahi kha...   \n",
              "2                 0  middleman wrecker sellers reward uniformity ca...   \n",
              "3                 0  nigeriandailynews fleetwood mac bassist john m...   \n",
              "4                 0  nauris_l cancel culture houses turned riot inf...   \n",
              "...             ...                                                ...   \n",
              "5308              0  hope people stop bashing didnt actually say st...   \n",
              "5309              0  miss times just summon aleister im fan cancel ...   \n",
              "5310              0  markusturm ist das hier right wing cancel cult...   \n",
              "5311              0  stretford_bally dont releases today cancel cul...   \n",
              "5312              4  mattjacole elonmusk left corner pal tiny area ...   \n",
              "\n",
              "      contains_cancel_trump Year Created    neg    neu    pos  compound  \n",
              "0                     False         2012  0.500  0.500  0.000   -0.4588  \n",
              "1                     False         2012  0.167  0.833  0.000   -0.2500  \n",
              "2                     False         2013  0.136  0.612  0.252    0.4019  \n",
              "3                     False         2013  0.348  0.652  0.000   -0.7506  \n",
              "4                     False         2013  0.384  0.616  0.000   -0.6808  \n",
              "...                     ...          ...    ...    ...    ...       ...  \n",
              "5308                  False         2022  0.218  0.683  0.099   -0.3612  \n",
              "5309                  False         2022  0.107  0.536  0.357    0.8131  \n",
              "5310                  False         2022  0.167  0.833  0.000   -0.2500  \n",
              "5311                  False         2022  0.000  0.813  0.187    0.4836  \n",
              "5312                  False         2022  0.178  0.688  0.134   -0.0258  \n",
              "\n",
              "[5313 rows x 13 columns]"
            ],
            "text/html": [
              "\n",
              "  <div id=\"df-2bf330f6-0027-4314-b6b4-3ec91a90f1c3\">\n",
              "    <div class=\"colab-df-container\">\n",
              "      <div>\n",
              "<style scoped>\n",
              "    .dataframe tbody tr th:only-of-type {\n",
              "        vertical-align: middle;\n",
              "    }\n",
              "\n",
              "    .dataframe tbody tr th {\n",
              "        vertical-align: top;\n",
              "    }\n",
              "\n",
              "    .dataframe thead th {\n",
              "        text-align: right;\n",
              "    }\n",
              "</style>\n",
              "<table border=\"1\" class=\"dataframe\">\n",
              "  <thead>\n",
              "    <tr style=\"text-align: right;\">\n",
              "      <th></th>\n",
              "      <th>User</th>\n",
              "      <th>Date Created</th>\n",
              "      <th>Number of Likes</th>\n",
              "      <th>Source of Tweet</th>\n",
              "      <th>Tweet</th>\n",
              "      <th>Retweet Count</th>\n",
              "      <th>clean_tweets</th>\n",
              "      <th>contains_cancel_trump</th>\n",
              "      <th>Year Created</th>\n",
              "      <th>neg</th>\n",
              "      <th>neu</th>\n",
              "      <th>pos</th>\n",
              "      <th>compound</th>\n",
              "    </tr>\n",
              "  </thead>\n",
              "  <tbody>\n",
              "    <tr>\n",
              "      <th>0</th>\n",
              "      <td>byeonghoneyy</td>\n",
              "      <td>2012-12-05 00:49:14+00:00</td>\n",
              "      <td>0</td>\n",
              "      <td>Twitter Web Client</td>\n",
              "      <td>Nooo, they must not cancel extracurricular. An...</td>\n",
              "      <td>0</td>\n",
              "      <td>nooo cancel extracurricular cancel culture fest</td>\n",
              "      <td>False</td>\n",
              "      <td>2012</td>\n",
              "      <td>0.500</td>\n",
              "      <td>0.500</td>\n",
              "      <td>0.000</td>\n",
              "      <td>-0.4588</td>\n",
              "    </tr>\n",
              "    <tr>\n",
              "      <th>1</th>\n",
              "      <td>ecokha</td>\n",
              "      <td>2012-04-03 09:39:02+00:00</td>\n",
              "      <td>0</td>\n",
              "      <td>Twitter for iPhone</td>\n",
              "      <td>@yosra_abdulla @salmanyousif @3askar @majanahi...</td>\n",
              "      <td>0</td>\n",
              "      <td>yosra_abdulla salmanyousif 3askar majanahi kha...</td>\n",
              "      <td>False</td>\n",
              "      <td>2012</td>\n",
              "      <td>0.167</td>\n",
              "      <td>0.833</td>\n",
              "      <td>0.000</td>\n",
              "      <td>-0.2500</td>\n",
              "    </tr>\n",
              "    <tr>\n",
              "      <th>2</th>\n",
              "      <td>ShackleyGoldman</td>\n",
              "      <td>2013-12-29 22:14:16+00:00</td>\n",
              "      <td>0</td>\n",
              "      <td>twitterfeed</td>\n",
              "      <td>Middleman the wrecker sellers hereby reward in...</td>\n",
              "      <td>0</td>\n",
              "      <td>middleman wrecker sellers reward uniformity ca...</td>\n",
              "      <td>False</td>\n",
              "      <td>2013</td>\n",
              "      <td>0.136</td>\n",
              "      <td>0.612</td>\n",
              "      <td>0.252</td>\n",
              "      <td>0.4019</td>\n",
              "    </tr>\n",
              "    <tr>\n",
              "      <th>3</th>\n",
              "      <td>NG_DailyNews</td>\n",
              "      <td>2013-10-28 03:23:49+00:00</td>\n",
              "      <td>0</td>\n",
              "      <td>twitterfeed</td>\n",
              "      <td>#NigerianDailyNews Fleetwood Mac bassist John ...</td>\n",
              "      <td>0</td>\n",
              "      <td>nigeriandailynews fleetwood mac bassist john m...</td>\n",
              "      <td>False</td>\n",
              "      <td>2013</td>\n",
              "      <td>0.348</td>\n",
              "      <td>0.652</td>\n",
              "      <td>0.000</td>\n",
              "      <td>-0.7506</td>\n",
              "    </tr>\n",
              "    <tr>\n",
              "      <th>4</th>\n",
              "      <td>ClassicCph</td>\n",
              "      <td>2013-10-24 20:42:37+00:00</td>\n",
              "      <td>0</td>\n",
              "      <td>Twitter Web Client</td>\n",
              "      <td>@Nauris_L They \"cancel\" culture houses here, t...</td>\n",
              "      <td>0</td>\n",
              "      <td>nauris_l cancel culture houses turned riot inf...</td>\n",
              "      <td>False</td>\n",
              "      <td>2013</td>\n",
              "      <td>0.384</td>\n",
              "      <td>0.616</td>\n",
              "      <td>0.000</td>\n",
              "      <td>-0.6808</td>\n",
              "    </tr>\n",
              "    <tr>\n",
              "      <th>...</th>\n",
              "      <td>...</td>\n",
              "      <td>...</td>\n",
              "      <td>...</td>\n",
              "      <td>...</td>\n",
              "      <td>...</td>\n",
              "      <td>...</td>\n",
              "      <td>...</td>\n",
              "      <td>...</td>\n",
              "      <td>...</td>\n",
              "      <td>...</td>\n",
              "      <td>...</td>\n",
              "      <td>...</td>\n",
              "      <td>...</td>\n",
              "    </tr>\n",
              "    <tr>\n",
              "      <th>5308</th>\n",
              "      <td>doodleepanda</td>\n",
              "      <td>2022-12-31 07:10:03+00:00</td>\n",
              "      <td>0</td>\n",
              "      <td>Twitter for iPhone</td>\n",
              "      <td>I hope people stop bashing him for something h...</td>\n",
              "      <td>0</td>\n",
              "      <td>hope people stop bashing didnt actually say st...</td>\n",
              "      <td>False</td>\n",
              "      <td>2022</td>\n",
              "      <td>0.218</td>\n",
              "      <td>0.683</td>\n",
              "      <td>0.099</td>\n",
              "      <td>-0.3612</td>\n",
              "    </tr>\n",
              "    <tr>\n",
              "      <th>5309</th>\n",
              "      <td>Dekatron3</td>\n",
              "      <td>2022-12-31 07:08:15+00:00</td>\n",
              "      <td>4</td>\n",
              "      <td>Twitter for Android</td>\n",
              "      <td>I miss the times when we would just summon ale...</td>\n",
              "      <td>0</td>\n",
              "      <td>miss times just summon aleister im fan cancel ...</td>\n",
              "      <td>False</td>\n",
              "      <td>2022</td>\n",
              "      <td>0.107</td>\n",
              "      <td>0.536</td>\n",
              "      <td>0.357</td>\n",
              "      <td>0.8131</td>\n",
              "    </tr>\n",
              "    <tr>\n",
              "      <th>5310</th>\n",
              "      <td>CAntheus</td>\n",
              "      <td>2022-12-31 07:06:32+00:00</td>\n",
              "      <td>2</td>\n",
              "      <td>Twitter for Android</td>\n",
              "      <td>@MarkusTurm Ist das hier right wing cancel cul...</td>\n",
              "      <td>0</td>\n",
              "      <td>markusturm ist das hier right wing cancel cult...</td>\n",
              "      <td>False</td>\n",
              "      <td>2022</td>\n",
              "      <td>0.167</td>\n",
              "      <td>0.833</td>\n",
              "      <td>0.000</td>\n",
              "      <td>-0.2500</td>\n",
              "    </tr>\n",
              "    <tr>\n",
              "      <th>5311</th>\n",
              "      <td>RevoltConscious</td>\n",
              "      <td>2022-12-31 07:06:20+00:00</td>\n",
              "      <td>1</td>\n",
              "      <td>Twitter for Android</td>\n",
              "      <td>@Stretford_Bally Some do. Most don't. If he re...</td>\n",
              "      <td>0</td>\n",
              "      <td>stretford_bally dont releases today cancel cul...</td>\n",
              "      <td>False</td>\n",
              "      <td>2022</td>\n",
              "      <td>0.000</td>\n",
              "      <td>0.813</td>\n",
              "      <td>0.187</td>\n",
              "      <td>0.4836</td>\n",
              "    </tr>\n",
              "    <tr>\n",
              "      <th>5312</th>\n",
              "      <td>MOB51</td>\n",
              "      <td>2022-12-31 07:05:08+00:00</td>\n",
              "      <td>38</td>\n",
              "      <td>Twitter for iPhone</td>\n",
              "      <td>@mattjacole @elonmusk You are in the top left ...</td>\n",
              "      <td>4</td>\n",
              "      <td>mattjacole elonmusk left corner pal tiny area ...</td>\n",
              "      <td>False</td>\n",
              "      <td>2022</td>\n",
              "      <td>0.178</td>\n",
              "      <td>0.688</td>\n",
              "      <td>0.134</td>\n",
              "      <td>-0.0258</td>\n",
              "    </tr>\n",
              "  </tbody>\n",
              "</table>\n",
              "<p>5313 rows × 13 columns</p>\n",
              "</div>\n",
              "      <button class=\"colab-df-convert\" onclick=\"convertToInteractive('df-2bf330f6-0027-4314-b6b4-3ec91a90f1c3')\"\n",
              "              title=\"Convert this dataframe to an interactive table.\"\n",
              "              style=\"display:none;\">\n",
              "        \n",
              "  <svg xmlns=\"http://www.w3.org/2000/svg\" height=\"24px\"viewBox=\"0 0 24 24\"\n",
              "       width=\"24px\">\n",
              "    <path d=\"M0 0h24v24H0V0z\" fill=\"none\"/>\n",
              "    <path d=\"M18.56 5.44l.94 2.06.94-2.06 2.06-.94-2.06-.94-.94-2.06-.94 2.06-2.06.94zm-11 1L8.5 8.5l.94-2.06 2.06-.94-2.06-.94L8.5 2.5l-.94 2.06-2.06.94zm10 10l.94 2.06.94-2.06 2.06-.94-2.06-.94-.94-2.06-.94 2.06-2.06.94z\"/><path d=\"M17.41 7.96l-1.37-1.37c-.4-.4-.92-.59-1.43-.59-.52 0-1.04.2-1.43.59L10.3 9.45l-7.72 7.72c-.78.78-.78 2.05 0 2.83L4 21.41c.39.39.9.59 1.41.59.51 0 1.02-.2 1.41-.59l7.78-7.78 2.81-2.81c.8-.78.8-2.07 0-2.86zM5.41 20L4 18.59l7.72-7.72 1.47 1.35L5.41 20z\"/>\n",
              "  </svg>\n",
              "      </button>\n",
              "      \n",
              "  <style>\n",
              "    .colab-df-container {\n",
              "      display:flex;\n",
              "      flex-wrap:wrap;\n",
              "      gap: 12px;\n",
              "    }\n",
              "\n",
              "    .colab-df-convert {\n",
              "      background-color: #E8F0FE;\n",
              "      border: none;\n",
              "      border-radius: 50%;\n",
              "      cursor: pointer;\n",
              "      display: none;\n",
              "      fill: #1967D2;\n",
              "      height: 32px;\n",
              "      padding: 0 0 0 0;\n",
              "      width: 32px;\n",
              "    }\n",
              "\n",
              "    .colab-df-convert:hover {\n",
              "      background-color: #E2EBFA;\n",
              "      box-shadow: 0px 1px 2px rgba(60, 64, 67, 0.3), 0px 1px 3px 1px rgba(60, 64, 67, 0.15);\n",
              "      fill: #174EA6;\n",
              "    }\n",
              "\n",
              "    [theme=dark] .colab-df-convert {\n",
              "      background-color: #3B4455;\n",
              "      fill: #D2E3FC;\n",
              "    }\n",
              "\n",
              "    [theme=dark] .colab-df-convert:hover {\n",
              "      background-color: #434B5C;\n",
              "      box-shadow: 0px 1px 3px 1px rgba(0, 0, 0, 0.15);\n",
              "      filter: drop-shadow(0px 1px 2px rgba(0, 0, 0, 0.3));\n",
              "      fill: #FFFFFF;\n",
              "    }\n",
              "  </style>\n",
              "\n",
              "      <script>\n",
              "        const buttonEl =\n",
              "          document.querySelector('#df-2bf330f6-0027-4314-b6b4-3ec91a90f1c3 button.colab-df-convert');\n",
              "        buttonEl.style.display =\n",
              "          google.colab.kernel.accessAllowed ? 'block' : 'none';\n",
              "\n",
              "        async function convertToInteractive(key) {\n",
              "          const element = document.querySelector('#df-2bf330f6-0027-4314-b6b4-3ec91a90f1c3');\n",
              "          const dataTable =\n",
              "            await google.colab.kernel.invokeFunction('convertToInteractive',\n",
              "                                                     [key], {});\n",
              "          if (!dataTable) return;\n",
              "\n",
              "          const docLinkHtml = 'Like what you see? Visit the ' +\n",
              "            '<a target=\"_blank\" href=https://colab.research.google.com/notebooks/data_table.ipynb>data table notebook</a>'\n",
              "            + ' to learn more about interactive tables.';\n",
              "          element.innerHTML = '';\n",
              "          dataTable['output_type'] = 'display_data';\n",
              "          await google.colab.output.renderOutput(dataTable, element);\n",
              "          const docLink = document.createElement('div');\n",
              "          docLink.innerHTML = docLinkHtml;\n",
              "          element.appendChild(docLink);\n",
              "        }\n",
              "      </script>\n",
              "    </div>\n",
              "  </div>\n",
              "  "
            ]
          },
          "metadata": {},
          "execution_count": 17
        }
      ]
    },
    {
      "cell_type": "code",
      "source": [
        "positive = sum(tweets[\"pos\"])\n",
        "negative = sum(tweets[\"neg\"])\n",
        "compound = sum(tweets[\"compound\"])\n",
        "neutral = sum(tweets[\"neu\"])\n",
        "\n",
        "print(\"Positive: \", positive)\n",
        "print(\"Negative \", negative)\n",
        "print(\"Compound\", compound)\n",
        "print(\"Neutral\", neutral)"
      ],
      "metadata": {
        "colab": {
          "base_uri": "https://localhost:8080/"
        },
        "id": "8ZC0v1zAvz9p",
        "outputId": "de34a579-33f8-4e36-af93-ee157f1d15a7"
      },
      "execution_count": 18,
      "outputs": [
        {
          "output_type": "stream",
          "name": "stdout",
          "text": [
            "Positive:  642.0020000000012\n",
            "Negative  1601.612000000001\n",
            "Compound -1253.4508999999991\n",
            "Neutral 3069.4079999999853\n"
          ]
        }
      ]
    },
    {
      "cell_type": "code",
      "source": [
        "df = tweets.groupby(\"Year Created\").sum().reset_index()\n",
        "\n",
        "plt.plot(df[\"Year Created\"], df[\"pos\"], label=\"positive\")\n",
        "plt.plot(df[\"Year Created\"], df[\"neg\"], label = \"negative\")\n",
        "plt.plot(df[\"Year Created\"], df[\"compound\"], label = \"compound\")\n",
        "plt.plot(df[\"Year Created\"], df[\"neu\"], label = \"neutral\")\n",
        "plt.xlabel(\"Year\")\n",
        "plt.ylabel(\"Sentiment Value\")\n",
        "plt.legend()\n",
        "plt.show()\n"
      ],
      "metadata": {
        "colab": {
          "base_uri": "https://localhost:8080/",
          "height": 279
        },
        "id": "WSXskbuew29a",
        "outputId": "448a4898-6b37-4439-af01-25b23c325284"
      },
      "execution_count": 19,
      "outputs": [
        {
          "output_type": "display_data",
          "data": {
            "text/plain": [
              "<Figure size 432x288 with 1 Axes>"
            ],
            "image/png": "[encoded data removed]"
          },
          "metadata": {
            "needs_background": "light"
          }
        }
      ]
    },
    {
      "cell_type": "markdown",
      "source": [
        "Topic Modelling\n",
        "\n",
        "Referred to https://www.kaggle.com/code/vedraiyani/topic-modelling"
      ],
      "metadata": {
        "id": "UE5o9zgw0B-O"
      }
    },
    {
      "cell_type": "code",
      "source": [
        "data = tweets[\"clean_tweets\"].values.tolist()\n",
        "\n",
        "# Remove Emails\n",
        "data = [re.sub('\\S*@\\S*\\s?', '', sent) for sent in data]\n",
        "\n",
        "# Remove new line characters\n",
        "data = [re.sub('\\s+', ' ', sent) for sent in data]\n",
        "\n",
        "# Remove distracting single quotes\n",
        "data = [re.sub(\"\\'\", \"\", sent) for sent in data]\n",
        "data[:1]"
      ],
      "metadata": {
        "colab": {
          "base_uri": "https://localhost:8080/"
        },
        "id": "j6aafGou0tAK",
        "outputId": "2257e314-6c3f-42d1-e262-c8777d4b6c8d"
      },
      "execution_count": 20,
      "outputs": [
        {
          "output_type": "execute_result",
          "data": {
            "text/plain": [
              "['nooo cancel extracurricular cancel culture fest']"
            ]
          },
          "metadata": {},
          "execution_count": 20
        }
      ]
    },
    {
      "cell_type": "code",
      "source": [
        "def sent_to_words(sentences):\n",
        "    for sentence in sentences:\n",
        "        yield(gensim.utils.simple_preprocess(str(sentence), deacc=True))  # deacc=True removes punctuations\n",
        "\n",
        "data_words = list(sent_to_words(data))\n",
        "\n",
        "print(data_words[:1])"
      ],
      "metadata": {
        "colab": {
          "base_uri": "https://localhost:8080/"
        },
        "id": "tYZEKrsg0D3m",
        "outputId": "18c79616-db8b-4715-e50a-07603ead5d1a"
      },
      "execution_count": 21,
      "outputs": [
        {
          "output_type": "stream",
          "name": "stdout",
          "text": [
            "[['nooo', 'cancel', 'extracurricular', 'cancel', 'culture', 'fest']]\n"
          ]
        }
      ]
    },
    {
      "cell_type": "code",
      "source": [
        "# Build the bigram and trigram models\n",
        "bigram = gensim.models.Phrases(data_words, min_count=5, threshold=100) # higher threshold fewer phrases.\n",
        "trigram = gensim.models.Phrases(bigram[data_words], threshold=100)  \n",
        "\n",
        "# Faster way to get a sentence clubbed as a trigram/bigram\n",
        "bigram_mod = gensim.models.phrases.Phraser(bigram)\n",
        "trigram_mod = gensim.models.phrases.Phraser(trigram)\n",
        "\n",
        "# See trigram example\n",
        "print(trigram_mod[bigram_mod[data_words[0]]])"
      ],
      "metadata": {
        "colab": {
          "base_uri": "https://localhost:8080/"
        },
        "id": "mMakNK6X1RNG",
        "outputId": "012214ee-ffd3-4dfc-fcc4-7a6703f1c26d"
      },
      "execution_count": 22,
      "outputs": [
        {
          "output_type": "stream",
          "name": "stdout",
          "text": [
            "['nooo', 'cancel', 'extracurricular', 'cancel', 'culture', 'fest']\n"
          ]
        }
      ]
    },
    {
      "cell_type": "code",
      "source": [
        "nltk.download('stopwords')\n",
        "stop_words = stopwords.words('english')\n",
        "stop_words.extend(['from', 'subject', 're', 'edu', 'use'])\n"
      ],
      "metadata": {
        "colab": {
          "base_uri": "https://localhost:8080/"
        },
        "id": "6VtARXgR1YTB",
        "outputId": "1292598f-29c6-44ed-892b-d01d0505607b"
      },
      "execution_count": 23,
      "outputs": [
        {
          "output_type": "stream",
          "name": "stderr",
          "text": [
            "[nltk_data] Downloading package stopwords to /root/nltk_data...\n",
            "[nltk_data]   Unzipping corpora/stopwords.zip.\n"
          ]
        }
      ]
    },
    {
      "cell_type": "code",
      "source": [
        "# Define functions for stopwords, bigrams, trigrams and lemmatization\n",
        "def remove_stopwords(texts):\n",
        "    return [[word for word in simple_preprocess(str(doc)) if word not in stop_words] for doc in texts]\n",
        "\n",
        "def make_bigrams(texts):\n",
        "    return [bigram_mod[doc] for doc in texts]\n",
        "\n",
        "def make_trigrams(texts):\n",
        "    return [trigram_mod[bigram_mod[doc]] for doc in texts]\n",
        "\n",
        "def lemmatization(texts, allowed_postags=['NOUN', 'ADJ', 'VERB', 'ADV']):\n",
        "    \"\"\"https://spacy.io/api/annotation\"\"\"\n",
        "    texts_out = []\n",
        "    for sent in texts:\n",
        "        doc = nlp(\" \".join(sent)) \n",
        "        texts_out.append([token.lemma_ for token in doc if token.pos_ in allowed_postags])\n",
        "    return texts_out"
      ],
      "metadata": {
        "id": "3zuxDUPq1tke"
      },
      "execution_count": 24,
      "outputs": []
    },
    {
      "cell_type": "code",
      "source": [
        "# Remove Stop Words\n",
        "data_words_nostops = remove_stopwords(data_words)\n",
        "\n",
        "# Form Bigrams\n",
        "data_words_bigrams = make_bigrams(data_words_nostops)"
      ],
      "metadata": {
        "id": "FnfCFFTu2qIj"
      },
      "execution_count": 25,
      "outputs": []
    },
    {
      "cell_type": "code",
      "source": [
        "nlp = spacy.load('en_core_web_sm', disable=['parser', 'ner'])\n",
        "\n",
        "# Do lemmatization keeping only noun, adj, vb, adv\n",
        "data_lemmatized = lemmatization(data_words_bigrams, allowed_postags=['NOUN', 'ADJ', 'VERB', 'ADV'])\n",
        "\n",
        "print(data_lemmatized[:1])"
      ],
      "metadata": {
        "colab": {
          "base_uri": "https://localhost:8080/"
        },
        "id": "qM49Or4L2uFr",
        "outputId": "561a5810-38bb-4df0-fe73-6f955593615e"
      },
      "execution_count": 26,
      "outputs": [
        {
          "output_type": "stream",
          "name": "stdout",
          "text": [
            "[['cancel', 'extracurricular', 'cancel', 'culture', 'f']]\n"
          ]
        }
      ]
    },
    {
      "cell_type": "code",
      "source": [
        "tweets_lemmatized=data_lemmatized\n"
      ],
      "metadata": {
        "id": "ndXDMc_23Z7r"
      },
      "execution_count": 27,
      "outputs": []
    },
    {
      "cell_type": "code",
      "source": [
        "id2word = Dictionary(tweets_lemmatized)\n",
        "corpus = [id2word.doc2bow(tweet) for tweet in tweets_lemmatized]\n"
      ],
      "metadata": {
        "id": "pO4Wah3P3cbD"
      },
      "execution_count": 28,
      "outputs": []
    },
    {
      "cell_type": "code",
      "source": [
        "# Build LDA model\n",
        "lda_model = LdaModel(corpus=corpus,\n",
        "                   id2word=id2word,\n",
        "                   num_topics=10, \n",
        "                   random_state=0,\n",
        "                   chunksize=100,\n",
        "                   alpha='auto',\n",
        "                   per_word_topics=True)"
      ],
      "metadata": {
        "id": "UKAMxoCP3noP"
      },
      "execution_count": 29,
      "outputs": []
    },
    {
      "cell_type": "code",
      "source": [
        "lda_model.print_topics()"
      ],
      "metadata": {
        "colab": {
          "base_uri": "https://localhost:8080/"
        },
        "id": "mGIlIgpB3rYC",
        "outputId": "f36411b5-ad12-43a9-ebce-41baa7a4d342"
      },
      "execution_count": 30,
      "outputs": [
        {
          "output_type": "execute_result",
          "data": {
            "text/plain": [
              "[(0,\n",
              "  '0.043*\"good\" + 0.039*\"bad\" + 0.026*\"like\" + 0.026*\"die\" + 0.024*\"run\" + 0.021*\"finallevel\" + 0.018*\"tell\" + 0.017*\"pick\" + 0.017*\"promote\" + 0.016*\"hi\"'),\n",
              " (1,\n",
              "  '0.077*\"wake\" + 0.051*\"new\" + 0.030*\"real\" + 0.028*\"person\" + 0.026*\"believe\" + 0.026*\"end\" + 0.018*\"practice\" + 0.017*\"fuck\" + 0.015*\"truth\" + 0.015*\"medium\"'),\n",
              " (2,\n",
              "  '0.042*\"right\" + 0.040*\"thing\" + 0.030*\"re\" + 0.029*\"leave\" + 0.023*\"work\" + 0.021*\"today\" + 0.020*\"try\" + 0.018*\"come\" + 0.018*\"cancel\" + 0.017*\"culture\"'),\n",
              " (3,\n",
              "  '0.000*\"cancel\" + 0.000*\"culture\" + 0.000*\"desperately\" + 0.000*\"mourn\" + 0.000*\"underserve\" + 0.000*\"destroyer\" + 0.000*\"feralcritter\" + 0.000*\"smell\" + 0.000*\"whinge\" + 0.000*\"alfranken\"'),\n",
              " (4,\n",
              "  '0.078*\"ve\" + 0.043*\"lose\" + 0.019*\"censorship\" + 0.018*\"child\" + 0.017*\"woke\" + 0.015*\"generation\" + 0.014*\"figure\" + 0.014*\"fail\" + 0.013*\"weak\" + 0.013*\"fake\"'),\n",
              " (5,\n",
              "  '0.056*\"support\" + 0.036*\"truly\" + 0.034*\"proof\" + 0.033*\"dog\" + 0.020*\"fine\" + 0.017*\"decide\" + 0.016*\"probably\" + 0.016*\"game\" + 0.014*\"movie\" + 0.013*\"film\"'),\n",
              " (6,\n",
              "  '0.131*\"far\" + 0.036*\"love\" + 0.031*\"liberal\" + 0.030*\"influencer\" + 0.025*\"tweet\" + 0.024*\"state\" + 0.018*\"cancelculture\" + 0.016*\"offend\" + 0.015*\"wait\" + 0.015*\"important\"'),\n",
              " (7,\n",
              "  '0.090*\"opinion\" + 0.068*\"actually\" + 0.041*\"voice\" + 0.030*\"society\" + 0.023*\"social\" + 0.017*\"attention\" + 0.016*\"speech\" + 0.015*\"white\" + 0.014*\"basically\" + 0.014*\"crap\"'),\n",
              " (8,\n",
              "  '0.188*\"cancel\" + 0.164*\"culture\" + 0.024*\"people\" + 0.018*\"say\" + 0.015*\"think\" + 0.013*\"s\" + 0.011*\"go\" + 0.011*\"m\" + 0.010*\"get\" + 0.008*\"make\"'),\n",
              " (9,\n",
              "  '0.085*\"play\" + 0.040*\"httpstco\" + 0.038*\"brand\" + 0.032*\"move\" + 0.028*\"see\" + 0.026*\"little\" + 0.017*\"funny\" + 0.014*\"place\" + 0.014*\"comment\" + 0.012*\"online\"')]"
            ]
          },
          "metadata": {},
          "execution_count": 30
        }
      ]
    },
    {
      "cell_type": "code",
      "source": [
        "# Compute Perplexity\n",
        "print('\\nPerplexity: ', lda_model.log_perplexity(corpus))  # a measure of how good the model is. lower the better.\n",
        "\n",
        "# Compute Coherence Score\n",
        "#a measure of how well sentences fit together in document\n",
        "coherence_model_lda = CoherenceModel(model=lda_model, texts=tweets_lemmatized, dictionary=id2word, coherence='c_v')\n",
        "coherence_lda = coherence_model_lda.get_coherence()\n",
        "print('\\nCoherence Score: ', coherence_lda)"
      ],
      "metadata": {
        "colab": {
          "base_uri": "https://localhost:8080/"
        },
        "id": "NjkrlFH_3w9X",
        "outputId": "c51a739a-d1f1-49a9-d047-554a58d063f6"
      },
      "execution_count": 31,
      "outputs": [
        {
          "output_type": "stream",
          "name": "stdout",
          "text": [
            "\n",
            "Perplexity:  -8.940662592491687\n",
            "\n",
            "Coherence Score:  0.49133333200283263\n"
          ]
        }
      ]
    },
    {
      "cell_type": "code",
      "source": [
        "!pip install pyLDAvis\n"
      ],
      "metadata": {
        "colab": {
          "base_uri": "https://localhost:8080/"
        },
        "id": "dXuxVCRl4ll8",
        "outputId": "2d0e8141-5641-4a7b-fc7d-098ac652dd27"
      },
      "execution_count": 32,
      "outputs": [
        {
          "output_type": "stream",
          "name": "stdout",
          "text": [
            "Looking in indexes: https://pypi.org/simple, https://us-python.pkg.dev/colab-wheels/public/simple/\n",
            "Collecting pyLDAvis\n",
            "  Downloading pyLDAvis-3.4.0-py3-none-any.whl (2.6 MB)\n",
            "\u001b[2K     \u001b[90m━━━━━━━━━━━━━━━━━━━━━━━━━━━━━━━━━━━━━━━━\u001b[0m \u001b[32m2.6/2.6 MB\u001b[0m \u001b[31m35.3 MB/s\u001b[0m eta \u001b[36m0:00:00\u001b[0m\n",
            "\u001b[?25hRequirement already satisfied: jinja2 in /usr/local/lib/python3.9/dist-packages (from pyLDAvis) (3.1.2)\n",
            "Collecting joblib>=1.2.0\n",
            "  Downloading joblib-1.2.0-py3-none-any.whl (297 kB)\n",
            "\u001b[2K     \u001b[90m━━━━━━━━━━━━━━━━━━━━━━━━━━━━━━━━━━━━━━\u001b[0m \u001b[32m298.0/298.0 KB\u001b[0m \u001b[31m29.4 MB/s\u001b[0m eta \u001b[36m0:00:00\u001b[0m\n",
            "\u001b[?25hCollecting funcy\n",
            "  Downloading funcy-1.18-py2.py3-none-any.whl (33 kB)\n",
            "Requirement already satisfied: gensim in /usr/local/lib/python3.9/dist-packages (from pyLDAvis) (4.3.1)\n",
            "Requirement already satisfied: scipy in /usr/local/lib/python3.9/dist-packages (from pyLDAvis) (1.10.1)\n",
            "Requirement already satisfied: setuptools in /usr/local/lib/python3.9/dist-packages (from pyLDAvis) (67.6.0)\n",
            "Requirement already satisfied: numexpr in /usr/local/lib/python3.9/dist-packages (from pyLDAvis) (2.8.4)\n",
            "Requirement already satisfied: pandas>=1.3.4 in /usr/local/lib/python3.9/dist-packages (from pyLDAvis) (1.4.4)\n",
            "Requirement already satisfied: scikit-learn>=1.0.0 in /usr/local/lib/python3.9/dist-packages (from pyLDAvis) (1.2.2)\n",
            "Requirement already satisfied: numpy>=1.22.0 in /usr/local/lib/python3.9/dist-packages (from pyLDAvis) (1.22.4)\n",
            "Requirement already satisfied: pytz>=2020.1 in /usr/local/lib/python3.9/dist-packages (from pandas>=1.3.4->pyLDAvis) (2022.7.1)\n",
            "Requirement already satisfied: python-dateutil>=2.8.1 in /usr/local/lib/python3.9/dist-packages (from pandas>=1.3.4->pyLDAvis) (2.8.2)\n",
            "Requirement already satisfied: threadpoolctl>=2.0.0 in /usr/local/lib/python3.9/dist-packages (from scikit-learn>=1.0.0->pyLDAvis) (3.1.0)\n",
            "Requirement already satisfied: smart-open>=1.8.1 in /usr/local/lib/python3.9/dist-packages (from gensim->pyLDAvis) (6.3.0)\n",
            "Requirement already satisfied: MarkupSafe>=2.0 in /usr/local/lib/python3.9/dist-packages (from jinja2->pyLDAvis) (2.1.2)\n",
            "Requirement already satisfied: six>=1.5 in /usr/local/lib/python3.9/dist-packages (from python-dateutil>=2.8.1->pandas>=1.3.4->pyLDAvis) (1.16.0)\n",
            "Installing collected packages: funcy, joblib, pyLDAvis\n",
            "  Attempting uninstall: joblib\n",
            "    Found existing installation: joblib 1.1.1\n",
            "    Uninstalling joblib-1.1.1:\n",
            "      Successfully uninstalled joblib-1.1.1\n",
            "\u001b[31mERROR: pip's dependency resolver does not currently take into account all the packages that are installed. This behaviour is the source of the following dependency conflicts.\n",
            "pandas-profiling 3.2.0 requires joblib~=1.1.0, but you have joblib 1.2.0 which is incompatible.\u001b[0m\u001b[31m\n",
            "\u001b[0mSuccessfully installed funcy-1.18 joblib-1.2.0 pyLDAvis-3.4.0\n"
          ]
        }
      ]
    },
    {
      "cell_type": "code",
      "source": [
        "import pyLDAvis\n",
        "import pyLDAvis.gensim"
      ],
      "metadata": {
        "id": "unh_sY5p3re2"
      },
      "execution_count": 33,
      "outputs": []
    },
    {
      "cell_type": "code",
      "source": [
        "pyLDAvis.enable_notebook()\n",
        "vis = pyLDAvis.gensim.prepare(lda_model, corpus, id2word)\n",
        "vis"
      ],
      "metadata": {
        "colab": {
          "base_uri": "https://localhost:8080/",
          "height": 917
        },
        "id": "t6YunBsz4qHd",
        "outputId": "77fecf7a-e6a0-480e-8ed9-4cb8131e1181"
      },
      "execution_count": 34,
      "outputs": [
        {
          "output_type": "stream",
          "name": "stderr",
          "text": [
            "/usr/local/lib/python3.9/dist-packages/pyLDAvis/_prepare.py:243: FutureWarning: In a future version of pandas all arguments of DataFrame.drop except for the argument 'labels' will be keyword-only.\n",
            "  default_term_info = default_term_info.sort_values(\n"
          ]
        },
        {
          "output_type": "execute_result",
          "data": {
            "text/plain": [
              "PreparedData(topic_coordinates=              x         y  topics  cluster       Freq\n",
              "topic                                                \n",
              "8     -0.392847 -0.158833       1        1  60.707771\n",
              "2     -0.230041  0.287053       2        1  16.931863\n",
              "0     -0.037779 -0.113062       3        1   7.239564\n",
              "1      0.070977 -0.031617       4        1   5.926258\n",
              "6      0.099052  0.001815       5        1   2.036794\n",
              "9      0.100324  0.002376       6        1   1.792764\n",
              "5      0.099913  0.000599       7        1   1.789598\n",
              "4      0.099814  0.004483       8        1   1.748324\n",
              "7      0.099128  0.003515       9        1   1.642478\n",
              "3      0.091458  0.003672      10        1   0.184587, topic_info=         Term         Freq        Total Category  logprob  loglift\n",
              "0      cancel  6446.000000  6446.000000  Default  30.0000  30.0000\n",
              "1     culture  5666.000000  5666.000000  Default  29.0000  29.0000\n",
              "510      wake   249.000000   249.000000  Default  28.0000  28.0000\n",
              "203     right   396.000000   396.000000  Default  27.0000  27.0000\n",
              "143     thing   375.000000   375.000000  Default  26.0000  26.0000\n",
              "..        ...          ...          ...      ...      ...      ...\n",
              "25   nauris_l     0.010251     0.691822  Topic10  -9.1947   2.0828\n",
              "26      poeta     0.010251     0.691822  Topic10  -9.1947   2.0828\n",
              "27       riot     0.010251     0.814767  Topic10  -9.1947   1.9193\n",
              "28       turn     0.010251    74.989129  Topic10  -9.1947  -2.6029\n",
              "29    awesome     0.010251     2.007488  Topic10  -9.1947   1.0175\n",
              "\n",
              "[397 rows x 6 columns], token_table=      Topic      Freq      Term\n",
              "term                           \n",
              "4         2  0.755899    accord\n",
              "1481      8  0.941216    accuse\n",
              "226       9  0.987923  actually\n",
              "1625      7  0.821380     album\n",
              "1631      9  0.939684   amazing\n",
              "...     ...       ...       ...\n",
              "1630      8  0.987381      woke\n",
              "544       2  0.998906      work\n",
              "318       1  0.995738     wrong\n",
              "721       1  0.994571      year\n",
              "389       4  0.963718     young\n",
              "\n",
              "[352 rows x 3 columns], R=30, lambda_step=0.01, plot_opts={'xlab': 'PC1', 'ylab': 'PC2'}, topic_order=[9, 3, 1, 2, 7, 10, 6, 5, 8, 4])"
            ],
            "text/html": [
              "\n",
              "<link rel=\"stylesheet\" type=\"text/css\" href=\"https://cdn.jsdelivr.net/gh/bmabey/pyLDAvis@3.4.0/pyLDAvis/js/ldavis.v1.0.0.css\">\n",
              "\n",
              "\n",
              "<div id=\"ldavis_el1571405841813174081160911563\" style=\"background-color:white;\"></div>\n",
              "<script type=\"text/javascript\">\n",
              "\n",
              "var ldavis_el1571405841813174081160911563_data = {\"mdsDat\": {\"x\": [-0.3928470897037042, -0.2300408643750217, -0.03777900692276494, 0.07097719703008701, 0.09905205957726826, 0.10032446525628337, 0.09991289518221955, 0.09981449693147754, 0.09912828104330212, 0.09145756598085342], \"y\": [-0.15883263087449367, 0.28705287426518683, -0.11306231133490502, -0.031617459335542095, 0.0018153269156912118, 0.002375602747779137, 0.0005991419974676045, 0.0044830396192682654, 0.0035149148129937136, 0.003671501186554573], \"topics\": [1, 2, 3, 4, 5, 6, 7, 8, 9, 10], \"cluster\": [1, 1, 1, 1, 1, 1, 1, 1, 1, 1], \"Freq\": [60.707770583193444, 16.931862968467126, 7.2395643576357775, 5.926257760575664, 2.036793507172968, 1.7927636736246613, 1.7895979213139426, 1.7483244873141783, 1.6424778628850987, 0.1845868778171451]}, \"tinfo\": {\"Term\": [\"cancel\", \"culture\", \"wake\", \"right\", \"thing\", \"far\", \"re\", \"new\", \"leave\", \"good\", \"bad\", \"work\", \"play\", \"opinion\", \"today\", \"try\", \"ve\", \"come\", \"real\", \"like\", \"say\", \"die\", \"follower\", \"actually\", \"person\", \"run\", \"believe\", \"end\", \"support\", \"people\", \"say\", \"want\", \"stop\", \"look\", \"hate\", \"go\", \"know\", \"time\", \"year\", \"guy\", \"big\", \"let\", \"violence\", \"man\", \"wrong\", \"different\", \"use\", \"sure\", \"view\", \"post\", \"talk\", \"claim\", \"fire\", \"trump\", \"sound\", \"shit\", \"lie\", \"cry\", \"hard\", \"mean\", \"cancel\", \"culture\", \"think\", \"s\", \"m\", \"make\", \"people\", \"need\", \"get\", \"way\", \"call\", \"re\", \"leave\", \"work\", \"today\", \"come\", \"follower\", \"block\", \"guess\", \"hope\", \"change\", \"watch\", \"definitely\", \"point\", \"well\", \"fact\", \"take\", \"quick\", \"money\", \"understand\", \"public\", \"feel\", \"friend\", \"baby\", \"job\", \"victim\", \"bring\", \"try\", \"news\", \"mind\", \"fear\", \"thing\", \"right\", \"history\", \"speak\", \"elonmusk\", \"cancel\", \"culture\", \"people\", \"good\", \"bad\", \"like\", \"die\", \"run\", \"finallevel\", \"tell\", \"promote\", \"pick\", \"hi\", \"goal\", \"life\", \"part\", \"problem\", \"control\", \"attack\", \"disagree\", \"book\", \"comedy\", \"lol\", \"stay\", \"era\", \"hold\", \"video\", \"shut\", \"scare\", \"witch\", \"que\", \"ist\", \"answer\", \"covid\", \"prove\", \"lane\", \"cancel\", \"culture\", \"wake\", \"new\", \"real\", \"person\", \"believe\", \"end\", \"fuck\", \"practice\", \"truth\", \"country\", \"ask\", \"apologize\", \"exist\", \"hear\", \"internet\", \"base\", \"ruin\", \"head\", \"drama\", \"high\", \"exactly\", \"behavior\", \"pay\", \"deal\", \"huge\", \"young\", \"continue\", \"attempt\", \"career\", \"player\", \"gay\", \"care\", \"medium\", \"cobratate\", \"far\", \"love\", \"liberal\", \"influencer\", \"tweet\", \"state\", \"cancelculture\", \"offend\", \"wait\", \"important\", \"company\", \"joke\", \"kid\", \"listen\", \"damn\", \"weird\", \"sensitive\", \"self\", \"criminal\", \"product\", \"powerful\", \"episode\", \"future\", \"scandal\", \"phrase\", \"pedo\", \"deeply\", \"hot\", \"favorite\", \"pseudo\", \"play\", \"httpstco\", \"brand\", \"move\", \"see\", \"little\", \"funny\", \"place\", \"comment\", \"online\", \"late\", \"criticism\", \"harmful\", \"pass\", \"everyone\", \"possible\", \"argument\", \"lack\", \"fascist\", \"ride\", \"hilarious\", \"garbage\", \"channel\", \"wild\", \"avoid\", \"moron\", \"hour\", \"bubbaprog\", \"personally\", \"rd\", \"process\", \"support\", \"truly\", \"proof\", \"dog\", \"fine\", \"decide\", \"probably\", \"game\", \"movie\", \"film\", \"sense\", \"sex\", \"politic\", \"respect\", \"crazy\", \"music\", \"song\", \"entire\", \"perfectly\", \"short\", \"hell\", \"boy\", \"industry\", \"original\", \"album\", \"corruption\", \"piss\", \"regard\", \"cultural\", \"economy\", \"reject\", \"illegal_alien\", \"tate\", \"happy_new\", \"ve\", \"lose\", \"child\", \"woke\", \"generation\", \"figure\", \"fail\", \"censorship\", \"weak\", \"fake\", \"case\", \"bunch\", \"thought\", \"privilege\", \"include\", \"glad\", \"conspiracy\", \"rid\", \"course\", \"accuse\", \"kinda\", \"keep\", \"sign\", \"crowd\", \"discuss\", \"pedophile\", \"apart\", \"deep\", \"response\", \"staff\", \"punishment\", \"strange\", \"opinion\", \"actually\", \"voice\", \"society\", \"social\", \"attention\", \"speech\", \"white\", \"basically\", \"crap\", \"strong\", \"mad\", \"kill\", \"offensive\", \"soft\", \"court\", \"put\", \"virtue\", \"signal\", \"unpopular\", \"erase\", \"amazing\", \"ass\", \"diversity\", \"gross\", \"preach\", \"problematic\", \"disagreement\", \"score\", \"tribe\", \"complaint\", \"marxist\", \"edkh\", \"httpstcowajf\", \"makeup\", \"chop\", \"articulating\", \"ftuatsey\", \"whaddayouknow\", \"sail\", \"brexitshamble\", \"httpstconhaxj\", \"vpmo\", \"hippe\", \"nicju\", \"fell\", \"morgbgreat\", \"stab\", \"thisdudeii\", \"kelseey\", \"pumprulesog\", \"regain\", \"stassi\", \"dope\", \"dragworthy\", \"nonstop\", \"moronic\", \"netneutrality\", \"alladat\", \"dragger\", \"nkr\", \"sansalikesgirl\", \"cancel\", \"culture\", \"extracurricular\", \"f\", \"accord\", \"khalidalkhayat\", \"need\", \"priority\", \"spring\", \"buy\", \"middleman\", \"pattern\", \"reward\", \"rudder\", \"seller\", \"uniformity\", \"wrecker\", \"cancer\", \"diagnose\", \"news\", \"boil\", \"heal\", \"house\", \"infest\", \"likely\", \"nauris_l\", \"poeta\", \"riot\", \"turn\", \"awesome\"], \"Freq\": [6446.0, 5666.0, 249.0, 396.0, 375.0, 146.0, 275.0, 165.0, 268.0, 169.0, 155.0, 217.0, 84.0, 81.0, 192.0, 186.0, 75.0, 163.0, 97.0, 103.0, 607.0, 101.0, 151.0, 61.0, 90.0, 94.0, 85.0, 84.0, 55.0, 906.0, 606.8282664688884, 266.3984965670074, 264.1632074852512, 252.07353398488402, 249.4796583281978, 381.5972891949198, 262.9093522860024, 213.55789540933526, 176.38966509273322, 162.6249080618754, 159.7043462953536, 167.0458890391049, 150.8226942273469, 146.20094433462492, 171.05715614560384, 131.35061324015203, 130.35205449556872, 127.96690741499688, 126.61680214482975, 123.33708967209115, 125.07806064574918, 121.78010277618695, 120.06315761308575, 117.29926205995035, 115.26400002240533, 190.68818305480983, 108.27478431464834, 106.29976067957692, 107.06785247393961, 100.9847861692933, 6225.817423877828, 5459.251225982457, 510.28902030736475, 433.9774201217015, 372.0751240094506, 275.011189384252, 804.915564570006, 209.38612136000418, 347.8969207269415, 182.48861980731994, 134.56422961842537, 275.0726190198817, 267.69709781848877, 216.6439968077288, 191.78738078489735, 162.91931371086, 150.76188145559172, 105.20583660111103, 98.04651423917538, 96.34514136462805, 87.52558744735751, 85.23199338686285, 83.38815188281312, 82.55040185574026, 73.20245097425955, 71.63204147135859, 71.36838613743254, 70.41476449883095, 66.70247170538113, 61.0668868992474, 60.53931758940527, 60.23182674887075, 59.10548830003396, 64.85304353434697, 53.91328052529118, 53.8826745564722, 51.80277912953133, 184.65639696366816, 44.44642329959882, 44.54675483822722, 43.01533992602155, 366.3112363903606, 384.3285822711062, 58.7170382059235, 78.23947786569046, 83.25791701943864, 162.28317511500737, 153.49031305110682, 101.01836243289753, 168.49524241734682, 155.3773915764697, 103.1970549694003, 100.93439430868841, 93.8566283871254, 83.56314249030189, 70.48460925358104, 68.2488361425331, 68.5255265014276, 62.646081236522036, 61.03588784898263, 55.34008078830099, 56.768077297626704, 49.225209111709354, 47.31084801468659, 44.70202213238256, 41.766184813522564, 46.31585754063323, 36.70015980793938, 39.75422640845169, 30.517886787526717, 30.503619134527767, 29.798628245864894, 28.57265698459691, 27.56757722847195, 26.015143782759324, 24.29817615340592, 23.61960834617864, 22.605100990894705, 22.055334646898615, 30.678432442412845, 28.99346519949114, 34.426197087004056, 56.43621843471921, 51.778092376286466, 249.35112798532154, 165.0309624805953, 96.69166624543571, 90.26940381623501, 84.60204029824132, 84.08998727013828, 55.17284170796886, 56.93570885159357, 49.48392387521819, 45.08253159482712, 40.266776246565705, 39.693768835417615, 38.08924126315544, 35.81753779302798, 34.8047203678601, 33.77046932968385, 29.183039444169324, 28.881378616514322, 26.936411762314368, 25.336748470520934, 25.052074905210095, 25.435609237715095, 23.636264516890378, 22.071628872541844, 21.752113238724586, 21.189229686740656, 39.393312007704935, 19.997407042077366, 19.622189060051188, 19.40366005297538, 22.389622155554836, 36.01004501187661, 48.72335801691423, 29.7809596962293, 145.97978771009105, 40.52602461570065, 35.01422322219558, 32.90083412806558, 27.609217057673575, 26.696893891185844, 20.261278279041967, 17.782772410895493, 17.242271897775222, 16.904902695988195, 15.882264391751477, 15.158244101248957, 13.62943635784119, 12.423182863153817, 12.037973341450057, 10.759451707137767, 7.984590255786659, 7.771784370446971, 7.178842449605969, 6.39119875460537, 5.592643227004803, 5.324333900417661, 5.175315799699332, 6.031172060368456, 4.356529590301723, 3.9544705874124353, 3.634582200565177, 3.1324742986672955, 2.9266766069116286, 2.0328994852319586, 83.50981822333904, 39.17219518394613, 36.9672996602188, 31.13854167826221, 27.844452872646723, 25.19432731701484, 16.936143650820203, 13.987717442615567, 13.232347184771712, 11.718656360593583, 11.100421589818634, 7.652582185751717, 7.6168850048507375, 7.404760380350151, 7.308200763454199, 6.980344081084823, 6.97967679287118, 7.306393334366629, 7.337116433904899, 5.9465462186232285, 5.792771886254488, 5.464501229596621, 5.159948059076746, 4.8751081889915175, 4.749240835587739, 5.837289412387102, 4.338442784222866, 7.768107484687003, 4.01230042095776, 4.108741368267155, 10.996907022307434, 55.021044434802356, 35.61641246674968, 33.39614338960644, 31.93672306267011, 19.96116449683386, 16.190824007481464, 15.994256894730276, 15.251605428181707, 13.85894006400162, 12.666165983368193, 12.16766338023617, 11.448577259340489, 10.72056198558712, 9.790482142281828, 9.013523738705084, 10.68452370960297, 7.851481835771256, 7.342558850201832, 6.907447856096314, 6.219000967335226, 6.167594324423704, 6.047320940845161, 5.982553828579683, 5.630209948880099, 5.447429761604655, 4.984211390779902, 4.832857739248506, 4.441325002280411, 4.317086852492683, 4.345945083580196, 6.614998280732165, 5.444513366694866, 7.8435550370459755, 5.434946352116556, 74.566509319426, 41.147091909550156, 17.31655960022297, 16.580461900550514, 14.341021947208993, 13.316279045187944, 13.120790427118278, 17.72739219931091, 12.780437956947454, 12.402771220575323, 11.706111840905974, 10.391456960107176, 9.715275203909261, 9.251967971375809, 8.977543959087475, 8.011800968955864, 7.7200471346391675, 7.0537098247812455, 6.9256461165810075, 6.800546825463752, 6.565826417349915, 6.466949754402304, 6.182701325619131, 5.385575358404512, 4.543048408837887, 4.353748567813539, 4.235195475200705, 3.7055596329893254, 3.150604953732477, 2.8694451270722516, 4.8407689114725105, 5.689831376959473, 80.53104649536152, 61.102841105421426, 36.614691428068056, 27.060421221376952, 21.075861452829475, 15.341010153312668, 14.041974143057198, 13.170247547921724, 12.94384481238452, 12.51294172959949, 9.829456332632985, 9.814787277281662, 9.539230661515342, 9.235852183470094, 8.32137457513913, 7.878185949417332, 5.508649698974584, 5.283227548807926, 5.038972723445787, 4.884245969654861, 5.0700880144575295, 3.6103334347290024, 3.5162699990089736, 3.9931384914685584, 2.7861742205067093, 2.3230562947986986, 2.3452641490212103, 1.7640494555731614, 1.856244133928166, 1.9305773138566005, 2.3543271413574955, 2.5533725904565725, 0.010250804586033188, 0.010250804586033188, 0.010250804586033188, 0.010250804586033188, 0.010250804586033188, 0.010250804586033188, 0.010250804586033188, 0.010250804586033188, 0.010250804586033188, 0.010250804586033188, 0.010250804586033188, 0.010250804586033188, 0.010250804586033188, 0.010250804586033188, 0.010250804586033188, 0.010250804586033188, 0.010250804586033188, 0.010250804586033188, 0.010250804586033188, 0.010250804586033188, 0.010250804586033188, 0.010250804586033188, 0.010250804586033188, 0.010250804586033188, 0.010250804586033188, 0.010250804586033188, 0.010250804586033188, 0.010250804586033188, 0.010250804586033188, 0.010250804586033188, 0.010250805320316888, 0.010250805320316888, 0.010250804586033188, 0.010250804586033188, 0.010250804586033188, 0.010250804586033188, 0.010250804586033188, 0.010250804586033188, 0.010250804586033188, 0.010250804586033188, 0.010250804586033188, 0.010250804586033188, 0.010250804586033188, 0.010250804586033188, 0.010250804586033188, 0.010250804586033188, 0.010250804586033188, 0.010250804586033188, 0.010250804586033188, 0.010250804586033188, 0.010250804586033188, 0.010250804586033188, 0.010250804586033188, 0.010250804586033188, 0.010250804586033188, 0.010250804586033188, 0.010250804586033188, 0.010250804586033188, 0.010250804586033188, 0.010250804586033188], \"Total\": [6446.0, 5666.0, 249.0, 396.0, 375.0, 146.0, 275.0, 165.0, 268.0, 169.0, 155.0, 217.0, 84.0, 81.0, 192.0, 186.0, 75.0, 163.0, 97.0, 103.0, 607.0, 101.0, 151.0, 61.0, 90.0, 94.0, 85.0, 84.0, 55.0, 906.0, 607.3993191349966, 266.9732885584452, 264.7379119638947, 252.64481801732924, 250.05070019317853, 382.53602445967516, 263.6829466909821, 214.22623520816083, 176.96069834886458, 163.1959882916248, 160.27543677610402, 167.6496460003773, 151.3953201090557, 146.77199086628207, 171.73189370648674, 131.92171811890444, 130.9231437529093, 128.53800687262603, 127.18798994440803, 123.90819029927515, 125.66420144348383, 122.35616194601862, 120.63430626322817, 117.87042066241123, 115.83508504692149, 191.68220374045154, 108.84595919398271, 106.87217018449107, 107.64596405457237, 101.55584424224774, 6446.358607048327, 5666.070503090294, 519.1200900331489, 455.3761986524819, 395.61024196980304, 287.91290374133223, 906.3954966591472, 217.8924922377664, 407.6354896665935, 201.98145657909723, 140.5824970433276, 275.6540466991768, 268.2778855153358, 217.23776222070538, 192.36826207920862, 163.50250354442286, 151.34822882036428, 105.7866865455242, 98.62733935762492, 96.92595343425005, 88.10826663822617, 85.81531065645807, 83.96932267811948, 83.13112445160107, 73.78317252201877, 72.21275730238952, 71.9496380306155, 71.00248213639553, 67.28321429234374, 61.64762451420509, 61.12008385669874, 60.81252168031741, 59.68628419851113, 65.49660586512252, 54.49431884998478, 54.463425857145026, 52.383536455976994, 186.90296653893543, 45.02727023685345, 45.129555677780566, 43.599015367447265, 375.6524401930718, 396.74780039367096, 59.631078700198, 84.77954535473904, 139.31187471473638, 6446.358607048327, 5666.070503090294, 906.3954966591472, 169.09123992300078, 155.97311727207278, 103.79258040070957, 101.53003309281333, 94.45240390672824, 84.16039585105355, 71.08009156011805, 68.84476598798517, 69.12407085406122, 63.252100858336604, 61.63270123177495, 55.93556466446455, 57.3942150655581, 49.82071972303094, 47.90642423099865, 45.29755781166258, 42.40537036960068, 47.06317254162596, 37.29568463958209, 40.40181252408849, 31.113422408965665, 31.09943494793379, 30.39417401567182, 29.16816804490245, 28.163331739782198, 26.61983980352278, 24.893783876539494, 24.215046297394256, 23.211266248803167, 22.650887685515166, 32.06358074854297, 34.273079503176305, 59.58021441611419, 6446.358607048327, 5666.070503090294, 249.95252129275787, 165.63357292691416, 97.29299268684079, 90.87073688397366, 85.20339337770626, 84.69135384201499, 55.77418706373217, 57.55747787370834, 50.117391811109705, 45.68447003328759, 40.86809846064177, 40.29517758257729, 38.7173727064221, 36.41991331280845, 35.40607185832952, 34.3776908380132, 29.784478364158772, 29.48274601570795, 27.538093437637595, 25.938172388419027, 25.653424611289495, 26.047296160615854, 24.237624440018607, 22.67340572881398, 22.354248348456924, 21.790602232566084, 40.556304181046904, 20.599244463702554, 20.223539236717325, 20.005431300327018, 23.12950277314029, 39.38945593532922, 55.329590157121594, 32.47728386054967, 146.61659543723758, 41.16249314161833, 35.65068490585657, 33.54027672598799, 28.245709849634814, 27.333397662287325, 20.897793470501547, 18.41926987252705, 17.87876100961124, 17.5414608691593, 16.521273971022758, 15.79472840849056, 14.265885915041956, 13.059635096684122, 12.675177815180405, 11.396983257619528, 8.621165952650781, 8.408315904171277, 7.884866605795232, 7.027868083119943, 6.2294287666278345, 5.960786423324459, 5.812463619671133, 6.80727738625454, 4.992963188405741, 4.594359951825479, 4.271435917540015, 3.769085505087489, 3.5637733612695124, 2.765812286241176, 84.15226556200024, 39.81428578187631, 37.60978809716425, 31.781161329088054, 28.486015102903345, 25.835877073297134, 17.577954019754355, 14.629308234431775, 13.875339403944437, 12.360238438156284, 11.74300472117033, 8.294756674894058, 8.25846523756032, 8.04637620582205, 7.9646133351456125, 7.622263068181845, 7.622313196972452, 7.9912670788408615, 8.091042421010117, 6.588506301829097, 6.434317275443377, 6.106414932730921, 5.801787075030789, 5.516870528840761, 5.393442707055055, 6.632079787296069, 4.980120683347481, 8.978824349313363, 4.653874619085225, 4.766628330985025, 13.09463516098448, 55.660367323931276, 36.256182081204216, 34.03579547639491, 32.57702873434638, 20.604949985926535, 16.83070521053921, 16.633620849816836, 15.891013939158714, 14.498328165806246, 13.3061011511235, 12.807023132702923, 12.088066653795842, 11.377218130737893, 10.440698555557036, 9.66021667494555, 11.518902052818925, 8.493977154744453, 7.981994050546102, 7.551346913895036, 6.858567995217645, 6.807202338851195, 6.686674830792513, 6.621902941019416, 6.28519318770404, 6.087316853957003, 5.623854496058821, 5.473872652883323, 5.080701918429293, 4.957062944802294, 5.053969728031149, 8.234942236655675, 7.2669583087409535, 19.69559908874632, 9.538765589632334, 75.20405717980559, 41.78610536057796, 17.95320626822336, 17.217260246954837, 14.97779352995775, 13.953846431499516, 13.757565813916049, 18.59727531340977, 13.41815216057647, 13.039383528344803, 12.34293428156748, 11.029318933626843, 10.351878657822082, 9.888790921633872, 9.61425301989939, 8.64853066006908, 8.415073574228002, 7.6903512687886435, 7.565427925471969, 7.437186968428054, 7.203942952656788, 7.104868662329868, 6.835044973261029, 6.0223436053358, 5.179641500282088, 4.991706454101069, 4.871848422733834, 4.342232204193271, 3.787293867434228, 3.5097464113927996, 6.6026571597175, 8.519021546431865, 81.17387914429486, 61.74569414654212, 37.25766622647951, 27.70319782838994, 21.718668775867616, 15.984013780841382, 14.697057873198224, 13.813116139356588, 13.5878380726277, 13.158325626533479, 10.472256297768334, 10.457523668116314, 10.181969421969148, 9.87866181571051, 8.964196708652867, 8.551412113498733, 6.151392792654268, 5.9280540499732375, 5.682818172396079, 5.527490485812709, 5.9717551426899655, 4.256748481348572, 4.159016050873044, 4.88090066402541, 3.428975217433776, 2.9746406471351254, 3.013953575563398, 2.4079004802290895, 2.671107738992568, 2.8787589151664714, 4.701278378747282, 27.68782940685543, 0.6917991730930583, 0.6917991730930583, 0.691799720349873, 0.691799787704558, 0.6917997961238935, 0.6917997961238935, 0.6917997961238935, 0.6917997961238935, 0.691799829801236, 0.691799829801236, 0.691799829801236, 0.6917998550592428, 0.6917998550592428, 0.691799871897914, 0.6917998750331825, 0.6917998750331825, 0.6917998750331825, 0.6917998907405349, 0.6917998907405349, 0.6917998907405349, 0.6917998907405349, 0.6917998933101439, 0.6917998971559209, 0.6917998971559209, 0.6917999084518368, 0.6917999118940765, 0.6917999308264556, 0.6917999308264556, 0.6917999484196101, 0.6918000256120269, 6446.358607048327, 5666.070503090294, 0.6918174747770316, 0.699932031420203, 2.645855529558388, 0.691820280367439, 217.8924922377664, 0.74095378775197, 0.7160911330716323, 30.391281042004042, 0.6918202719481035, 0.6945884323239843, 0.7735786104216685, 0.6918202719481035, 0.6918202719481035, 0.691820280367439, 0.691820280367439, 21.647716918229147, 0.7136754826873608, 45.02727023685345, 0.7011828138064389, 0.6922848373015061, 0.6918221075293352, 0.6918221075293352, 6.952326698130261, 0.6918220999826302, 0.691822122622745, 0.8147670439076475, 74.98912896348583, 2.0074876043301035], \"Category\": [\"Default\", \"Default\", \"Default\", \"Default\", \"Default\", \"Default\", \"Default\", \"Default\", \"Default\", \"Default\", \"Default\", \"Default\", \"Default\", \"Default\", \"Default\", \"Default\", \"Default\", \"Default\", \"Default\", \"Default\", \"Default\", \"Default\", \"Default\", \"Default\", \"Default\", \"Default\", \"Default\", \"Default\", \"Default\", \"Default\", \"Topic1\", \"Topic1\", \"Topic1\", \"Topic1\", \"Topic1\", \"Topic1\", \"Topic1\", \"Topic1\", \"Topic1\", \"Topic1\", \"Topic1\", \"Topic1\", \"Topic1\", \"Topic1\", \"Topic1\", \"Topic1\", \"Topic1\", \"Topic1\", \"Topic1\", \"Topic1\", \"Topic1\", \"Topic1\", \"Topic1\", \"Topic1\", \"Topic1\", \"Topic1\", \"Topic1\", \"Topic1\", \"Topic1\", \"Topic1\", \"Topic1\", \"Topic1\", \"Topic1\", \"Topic1\", \"Topic1\", \"Topic1\", \"Topic1\", \"Topic1\", \"Topic1\", \"Topic1\", \"Topic1\", \"Topic2\", \"Topic2\", \"Topic2\", \"Topic2\", \"Topic2\", \"Topic2\", \"Topic2\", \"Topic2\", \"Topic2\", \"Topic2\", \"Topic2\", \"Topic2\", \"Topic2\", \"Topic2\", \"Topic2\", \"Topic2\", \"Topic2\", \"Topic2\", \"Topic2\", \"Topic2\", \"Topic2\", \"Topic2\", \"Topic2\", \"Topic2\", \"Topic2\", \"Topic2\", \"Topic2\", \"Topic2\", \"Topic2\", \"Topic2\", \"Topic2\", \"Topic2\", \"Topic2\", \"Topic2\", \"Topic2\", \"Topic2\", \"Topic2\", \"Topic2\", \"Topic3\", \"Topic3\", \"Topic3\", \"Topic3\", \"Topic3\", \"Topic3\", \"Topic3\", \"Topic3\", \"Topic3\", \"Topic3\", \"Topic3\", \"Topic3\", \"Topic3\", \"Topic3\", \"Topic3\", \"Topic3\", \"Topic3\", \"Topic3\", \"Topic3\", \"Topic3\", \"Topic3\", \"Topic3\", \"Topic3\", \"Topic3\", \"Topic3\", \"Topic3\", \"Topic3\", \"Topic3\", \"Topic3\", \"Topic3\", \"Topic3\", \"Topic3\", \"Topic3\", \"Topic3\", \"Topic3\", \"Topic4\", \"Topic4\", \"Topic4\", \"Topic4\", \"Topic4\", \"Topic4\", \"Topic4\", \"Topic4\", \"Topic4\", \"Topic4\", \"Topic4\", \"Topic4\", \"Topic4\", \"Topic4\", \"Topic4\", \"Topic4\", \"Topic4\", \"Topic4\", \"Topic4\", \"Topic4\", \"Topic4\", \"Topic4\", \"Topic4\", \"Topic4\", \"Topic4\", \"Topic4\", \"Topic4\", \"Topic4\", \"Topic4\", \"Topic4\", \"Topic4\", \"Topic4\", \"Topic4\", \"Topic4\", \"Topic5\", \"Topic5\", \"Topic5\", \"Topic5\", \"Topic5\", \"Topic5\", \"Topic5\", \"Topic5\", \"Topic5\", \"Topic5\", \"Topic5\", \"Topic5\", \"Topic5\", \"Topic5\", \"Topic5\", \"Topic5\", \"Topic5\", \"Topic5\", \"Topic5\", \"Topic5\", \"Topic5\", \"Topic5\", \"Topic5\", \"Topic5\", \"Topic5\", \"Topic5\", \"Topic5\", \"Topic5\", \"Topic5\", \"Topic5\", \"Topic6\", \"Topic6\", \"Topic6\", \"Topic6\", \"Topic6\", \"Topic6\", \"Topic6\", \"Topic6\", \"Topic6\", \"Topic6\", \"Topic6\", \"Topic6\", \"Topic6\", \"Topic6\", \"Topic6\", \"Topic6\", \"Topic6\", \"Topic6\", \"Topic6\", \"Topic6\", \"Topic6\", \"Topic6\", \"Topic6\", \"Topic6\", \"Topic6\", \"Topic6\", \"Topic6\", \"Topic6\", \"Topic6\", \"Topic6\", \"Topic6\", \"Topic7\", \"Topic7\", \"Topic7\", \"Topic7\", \"Topic7\", \"Topic7\", \"Topic7\", \"Topic7\", \"Topic7\", \"Topic7\", \"Topic7\", \"Topic7\", \"Topic7\", \"Topic7\", \"Topic7\", \"Topic7\", \"Topic7\", \"Topic7\", \"Topic7\", \"Topic7\", \"Topic7\", \"Topic7\", \"Topic7\", \"Topic7\", \"Topic7\", \"Topic7\", \"Topic7\", \"Topic7\", \"Topic7\", \"Topic7\", \"Topic7\", \"Topic7\", \"Topic7\", \"Topic7\", \"Topic8\", \"Topic8\", \"Topic8\", \"Topic8\", \"Topic8\", \"Topic8\", \"Topic8\", \"Topic8\", \"Topic8\", \"Topic8\", \"Topic8\", \"Topic8\", \"Topic8\", \"Topic8\", \"Topic8\", \"Topic8\", \"Topic8\", \"Topic8\", \"Topic8\", \"Topic8\", \"Topic8\", \"Topic8\", \"Topic8\", \"Topic8\", \"Topic8\", \"Topic8\", \"Topic8\", \"Topic8\", \"Topic8\", \"Topic8\", \"Topic8\", \"Topic8\", \"Topic9\", \"Topic9\", \"Topic9\", \"Topic9\", \"Topic9\", \"Topic9\", \"Topic9\", \"Topic9\", \"Topic9\", \"Topic9\", \"Topic9\", \"Topic9\", \"Topic9\", \"Topic9\", \"Topic9\", \"Topic9\", \"Topic9\", \"Topic9\", \"Topic9\", \"Topic9\", \"Topic9\", \"Topic9\", \"Topic9\", \"Topic9\", \"Topic9\", \"Topic9\", \"Topic9\", \"Topic9\", \"Topic9\", \"Topic9\", \"Topic9\", \"Topic9\", \"Topic10\", \"Topic10\", \"Topic10\", \"Topic10\", \"Topic10\", \"Topic10\", \"Topic10\", \"Topic10\", \"Topic10\", \"Topic10\", \"Topic10\", \"Topic10\", \"Topic10\", \"Topic10\", \"Topic10\", \"Topic10\", \"Topic10\", \"Topic10\", \"Topic10\", \"Topic10\", \"Topic10\", \"Topic10\", \"Topic10\", \"Topic10\", \"Topic10\", \"Topic10\", \"Topic10\", \"Topic10\", \"Topic10\", \"Topic10\", \"Topic10\", \"Topic10\", \"Topic10\", \"Topic10\", \"Topic10\", \"Topic10\", \"Topic10\", \"Topic10\", \"Topic10\", \"Topic10\", \"Topic10\", \"Topic10\", \"Topic10\", \"Topic10\", \"Topic10\", \"Topic10\", \"Topic10\", \"Topic10\", \"Topic10\", \"Topic10\", \"Topic10\", \"Topic10\", \"Topic10\", \"Topic10\", \"Topic10\", \"Topic10\", \"Topic10\", \"Topic10\", \"Topic10\", \"Topic10\"], \"logprob\": [30.0, 29.0, 28.0, 27.0, 26.0, 25.0, 24.0, 23.0, 22.0, 21.0, 20.0, 19.0, 18.0, 17.0, 16.0, 15.0, 14.0, 13.0, 12.0, 11.0, 10.0, 9.0, 8.0, 7.0, 6.0, 5.0, 4.0, 3.0, 2.0, 1.0, -4.0018, -4.825, -4.8335, -4.8803, -4.8906, -4.4657, -4.8382, -5.0461, -5.2373, -5.3186, -5.3367, -5.2918, -5.3939, -5.425, -5.268, -5.5322, -5.5398, -5.5583, -5.5689, -5.5951, -5.5811, -5.6078, -5.622, -5.6453, -5.6628, -5.1594, -5.7254, -5.7438, -5.7366, -5.7951, -1.6736, -1.805, -4.175, -4.337, -4.4909, -4.7932, -3.7193, -5.0658, -4.5581, -5.2033, -5.508, -3.5161, -3.5433, -3.7549, -3.8768, -4.0399, -4.1175, -4.4772, -4.5477, -4.5652, -4.6612, -4.6878, -4.7096, -4.7197, -4.8399, -4.8616, -4.8653, -4.8787, -4.9329, -5.0212, -5.0299, -5.035, -5.0538, -4.961, -5.1458, -5.1463, -5.1857, -3.9147, -5.3389, -5.3366, -5.3716, -3.2297, -3.1817, -5.0604, -4.7734, -4.7112, -4.0438, -4.0995, -4.5178, -3.1566, -3.2377, -3.6469, -3.669, -3.7417, -3.8579, -4.0281, -4.0604, -4.0563, -4.146, -4.1721, -4.27, -4.2445, -4.3871, -4.4268, -4.4835, -4.5514, -4.448, -4.6807, -4.6008, -4.8652, -4.8657, -4.8891, -4.9311, -4.9669, -5.0248, -5.0931, -5.1214, -5.1653, -5.19, -4.86, -4.9164, -4.7447, -4.2504, -4.3365, -2.5645, -2.9772, -3.5118, -3.5805, -3.6454, -3.6515, -4.0729, -4.0414, -4.1817, -4.2749, -4.3878, -4.4022, -4.4434, -4.5049, -4.5336, -4.5638, -4.7098, -4.7202, -4.7899, -4.8511, -4.8624, -4.8472, -4.9206, -4.9891, -5.0036, -5.0299, -4.4098, -5.0877, -5.1067, -5.1179, -4.9748, -4.4996, -4.1972, -4.6895, -2.0319, -3.3134, -3.4596, -3.5218, -3.6972, -3.7308, -4.0066, -4.1371, -4.168, -4.1877, -4.2501, -4.2968, -4.4031, -4.4958, -4.5273, -4.6395, -4.9378, -4.9648, -5.0442, -5.1604, -5.2939, -5.343, -5.3714, -5.2184, -5.5437, -5.6405, -5.7248, -5.8735, -5.9415, -6.3059, -2.4627, -3.2197, -3.2777, -3.4493, -3.5611, -3.6611, -4.0583, -4.2495, -4.305, -4.4265, -4.4807, -4.8527, -4.8573, -4.8856, -4.8987, -4.9446, -4.9447, -4.899, -4.8948, -5.1049, -5.1311, -5.1894, -5.2468, -5.3036, -5.3297, -5.1234, -5.4202, -4.8377, -5.4983, -5.4746, -4.4901, -2.8782, -3.3131, -3.3775, -3.4222, -3.8922, -4.1015, -4.1137, -4.1613, -4.257, -4.347, -4.3872, -4.4481, -4.5138, -4.6045, -4.6872, -4.5171, -4.8252, -4.8923, -4.9533, -5.0583, -5.0666, -5.0863, -5.0971, -5.1578, -5.1908, -5.2797, -5.3105, -5.395, -5.4234, -5.4167, -4.9966, -5.1913, -4.8263, -5.1931, -2.5509, -3.1455, -4.0109, -4.0544, -4.1995, -4.2736, -4.2884, -3.9875, -4.3147, -4.3447, -4.4025, -4.5216, -4.5889, -4.6378, -4.6679, -4.7817, -4.8188, -4.9091, -4.9274, -4.9456, -4.9807, -4.9959, -5.0409, -5.1789, -5.349, -5.3916, -5.4192, -5.5528, -5.715, -5.8085, -5.2855, -5.1239, -2.4115, -2.6876, -3.1997, -3.5021, -3.752, -4.0696, -4.1581, -4.2222, -4.2395, -4.2734, -4.5148, -4.5163, -4.5447, -4.5771, -4.6813, -4.7361, -5.0938, -5.1356, -5.183, -5.2141, -5.1768, -5.5164, -5.5428, -5.4156, -5.7755, -5.9573, -5.9478, -6.2325, -6.1816, -6.1423, -5.9439, -5.8627, -9.1947, -9.1947, -9.1947, -9.1947, -9.1947, -9.1947, -9.1947, -9.1947, -9.1947, -9.1947, -9.1947, -9.1947, -9.1947, -9.1947, -9.1947, -9.1947, -9.1947, -9.1947, -9.1947, -9.1947, -9.1947, -9.1947, -9.1947, -9.1947, -9.1947, -9.1947, -9.1947, -9.1947, -9.1947, -9.1947, -9.1947, -9.1947, -9.1947, -9.1947, -9.1947, -9.1947, -9.1947, -9.1947, -9.1947, -9.1947, -9.1947, -9.1947, -9.1947, -9.1947, -9.1947, -9.1947, -9.1947, -9.1947, -9.1947, -9.1947, -9.1947, -9.1947, -9.1947, -9.1947, -9.1947, -9.1947, -9.1947, -9.1947, -9.1947, -9.1947], \"loglift\": [30.0, 29.0, 28.0, 27.0, 26.0, 25.0, 24.0, 23.0, 22.0, 21.0, 20.0, 19.0, 18.0, 17.0, 16.0, 15.0, 14.0, 13.0, 12.0, 11.0, 10.0, 9.0, 8.0, 7.0, 6.0, 5.0, 4.0, 3.0, 2.0, 1.0, 0.4982, 0.4969, 0.4969, 0.4968, 0.4968, 0.4966, 0.4962, 0.496, 0.4959, 0.4956, 0.4955, 0.4955, 0.4953, 0.4952, 0.4952, 0.4948, 0.4947, 0.4946, 0.4946, 0.4945, 0.4944, 0.4944, 0.4944, 0.4942, 0.4942, 0.4939, 0.4938, 0.4937, 0.4937, 0.4935, 0.4643, 0.4619, 0.4819, 0.451, 0.4378, 0.4533, 0.3804, 0.4593, 0.3406, 0.3976, 0.4553, 1.7739, 1.7738, 1.7732, 1.7729, 1.7724, 1.7721, 1.7705, 1.7701, 1.77, 1.7693, 1.7692, 1.769, 1.769, 1.7681, 1.7679, 1.7679, 1.7677, 1.7673, 1.7665, 1.7664, 1.7664, 1.7662, 1.7661, 1.7653, 1.7653, 1.7648, 1.7639, 1.763, 1.763, 1.7625, 1.7508, 1.7442, 1.7605, 1.6957, 1.2612, -1.906, -1.8326, -0.4182, 2.6221, 2.6218, 2.6199, 2.6197, 2.6193, 2.6185, 2.6172, 2.6169, 2.6169, 2.616, 2.6159, 2.6149, 2.6146, 2.6136, 2.6131, 2.6124, 2.6104, 2.6096, 2.6095, 2.6095, 2.6063, 2.6063, 2.6058, 2.605, 2.6042, 2.6026, 2.6014, 2.6007, 2.5991, 2.599, 2.5814, 2.4583, 2.0771, -2.1126, -2.0697, 2.8234, 2.8221, 2.8196, 2.8191, 2.8187, 2.8187, 2.8149, 2.8149, 2.8131, 2.8125, 2.811, 2.8107, 2.8094, 2.8091, 2.8086, 2.808, 2.8054, 2.8052, 2.8037, 2.8023, 2.8021, 2.802, 2.8007, 2.7989, 2.7985, 2.7978, 2.7967, 2.7961, 2.7956, 2.7952, 2.7933, 2.7361, 2.6986, 2.7391, 3.8894, 3.8782, 3.8758, 3.8745, 3.871, 3.8702, 3.8629, 3.8586, 3.8575, 3.8568, 3.8543, 3.8527, 3.8482, 3.8438, 3.8422, 3.8362, 3.8171, 3.8151, 3.8, 3.7988, 3.786, 3.7809, 3.7777, 3.7727, 3.7574, 3.7438, 3.7323, 3.7088, 3.6968, 3.5859, 4.0137, 4.0052, 4.0042, 4.001, 3.9986, 3.9963, 3.9842, 3.9766, 3.974, 3.9681, 3.9651, 3.9408, 3.9405, 3.9383, 3.9354, 3.9334, 3.9333, 3.9318, 3.9236, 3.9189, 3.9164, 3.9103, 3.9042, 3.8977, 3.8942, 3.8938, 3.8835, 3.8766, 3.8731, 3.8729, 3.8468, 4.0116, 4.0054, 4.0042, 4.0033, 3.9914, 3.9844, 3.984, 3.9821, 3.9781, 3.9739, 3.972, 3.9688, 3.9637, 3.9589, 3.9539, 3.948, 3.9445, 3.9397, 3.9341, 3.9253, 3.9245, 3.9227, 3.9216, 3.9131, 3.9121, 3.9024, 3.8986, 3.8887, 3.8849, 3.8722, 3.8041, 3.7344, 3.1025, 3.4607, 4.038, 4.0311, 4.0104, 4.0088, 4.0031, 3.9997, 3.9991, 3.9986, 3.9978, 3.9965, 3.9935, 3.9869, 3.983, 3.9799, 3.978, 3.97, 3.9603, 3.9601, 3.9582, 3.957, 3.9538, 3.9524, 3.9462, 3.9348, 3.9154, 3.9098, 3.9065, 3.888, 3.8625, 3.8451, 3.7361, 3.6429, 4.101, 4.0985, 4.0916, 4.0855, 4.0789, 4.0679, 4.0634, 4.0613, 4.0604, 4.0587, 4.0456, 4.0455, 4.0438, 4.0417, 4.0346, 4.027, 3.9986, 3.9938, 3.9887, 3.9852, 3.9453, 3.9443, 3.9411, 3.9082, 3.9014, 3.8617, 3.8581, 3.7978, 3.745, 3.7094, 3.4174, 1.7254, 2.0829, 2.0829, 2.0829, 2.0829, 2.0829, 2.0829, 2.0829, 2.0829, 2.0829, 2.0829, 2.0829, 2.0829, 2.0829, 2.0829, 2.0829, 2.0829, 2.0829, 2.0829, 2.0829, 2.0829, 2.0829, 2.0829, 2.0829, 2.0829, 2.0829, 2.0829, 2.0829, 2.0829, 2.0829, 2.0829, -7.0569, -6.9278, 2.0828, 2.0712, 0.7414, 2.0828, -3.6696, 2.0142, 2.0484, -1.6997, 2.0828, 2.0788, 1.9711, 2.0828, 2.0828, 2.0828, 2.0828, -1.3605, 2.0517, -2.0929, 2.0694, 2.0822, 2.0828, 2.0828, -0.2247, 2.0828, 2.0828, 1.9193, -2.6029, 1.0175]}, \"token.table\": {\"Topic\": [2, 8, 9, 7, 9, 3, 8, 4, 6, 4, 9, 3, 4, 9, 6, 2, 2, 3, 4, 9, 4, 4, 1, 2, 3, 7, 6, 2, 1, 6, 8, 2, 1, 2, 1, 2, 3, 4, 5, 2, 1, 4, 4, 8, 8, 2, 6, 8, 1, 1, 2, 4, 2, 3, 6, 5, 1, 9, 8, 1, 4, 3, 7, 4, 8, 9, 1, 3, 9, 7, 5, 6, 8, 1, 7, 1, 2, 3, 4, 5, 4, 7, 8, 5, 2, 3, 1, 3, 9, 8, 9, 7, 4, 7, 1, 2, 4, 7, 5, 3, 9, 6, 4, 4, 2, 8, 8, 5, 6, 5, 2, 2, 8, 7, 3, 7, 1, 2, 2, 4, 6, 5, 7, 6, 4, 8, 1, 2, 4, 8, 1, 3, 3, 9, 2, 1, 3, 7, 1, 6, 1, 4, 4, 7, 3, 4, 6, 2, 3, 2, 5, 6, 6, 4, 1, 7, 5, 8, 7, 5, 4, 3, 2, 5, 8, 5, 9, 8, 1, 6, 1, 3, 6, 2, 1, 5, 1, 3, 3, 1, 5, 6, 3, 1, 8, 5, 1, 2, 4, 9, 1, 2, 1, 1, 2, 9, 1, 1, 4, 2, 2, 6, 6, 7, 7, 1, 2, 3, 4, 2, 5, 9, 6, 9, 7, 3, 6, 4, 5, 8, 1, 2, 7, 4, 6, 5, 3, 7, 6, 6, 4, 2, 7, 6, 1, 5, 4, 9, 8, 7, 3, 9, 1, 6, 5, 3, 7, 2, 3, 5, 2, 1, 8, 9, 3, 2, 6, 2, 4, 7, 1, 7, 7, 8, 8, 6, 1, 2, 4, 3, 1, 2, 1, 5, 3, 9, 6, 5, 7, 5, 7, 1, 7, 3, 8, 9, 9, 9, 9, 7, 1, 1, 2, 9, 8, 5, 3, 1, 1, 2, 8, 9, 7, 1, 2, 1, 1, 4, 7, 3, 2, 3, 1, 2, 8, 1, 2, 9, 7, 1, 4, 1, 2, 1, 5, 2, 9, 1, 8, 2, 3, 1, 1, 9, 9, 5, 4, 1, 2, 1, 2, 8, 5, 2, 9, 6, 3, 8, 2, 1, 1, 4], \"Freq\": [0.7558991704788259, 0.9412160847530153, 0.9879231393079434, 0.8213799478418471, 0.9396843664892243, 0.9712643630328274, 0.8210436066390184, 0.992674617651892, 0.9183563859302407, 0.9787585306549608, 0.9617659444137842, 0.9934310407439677, 0.9709093959849611, 0.9384376293505933, 0.9270516572762699, 0.4981350808059903, 0.9924178381679017, 0.9937609936308748, 0.9890134901790563, 0.9567379247908552, 0.9597925191867173, 0.9976128488591456, 0.9982814785494, 0.9925634635962848, 0.9774096712097847, 0.8973069802003326, 0.9837864521972612, 0.9926783015824195, 0.11137315544840487, 0.890985243587239, 0.9066742978581755, 0.9871252205044188, 0.9602902412410055, 0.04267956627737802, 0.9658165763835429, 0.02513046665180436, 0.008687074891981755, 0.0003102526747136341, 0.9570388389679114, 0.9700792041638481, 0.07616251427604101, 0.9139501713124922, 0.9889465817975385, 0.972216146197942, 0.967883719343602, 0.9987712090776827, 0.8618034297602116, 0.946906070482212, 0.9970891376424855, 0.030790752216034462, 0.030790752216034462, 0.9237225664810339, 0.9969266308861972, 0.9920718806360701, 0.9369140185719999, 0.9684483186988462, 0.4254162036099055, 0.4254162036099055, 0.950674991660298, 0.024657079095173767, 0.9616260847117768, 0.9810792759938001, 0.8890699436665696, 0.985017446130187, 0.9252616070046434, 0.9355180049587006, 0.031188032548281182, 0.9668290089967166, 0.987967646414357, 0.9316561214762533, 0.8877765915348687, 0.964464699032558, 0.8302415683439246, 0.9918391272210019, 0.8069294347359826, 0.9634543017109729, 0.02700284084297103, 0.009177436103493423, 0.00017648915583641197, 0.9467322806018722, 0.970299753955437, 0.9506434697686327, 0.9211851904504832, 0.9364532389622413, 0.9884562284510119, 0.9947795437796342, 0.9930131434607783, 0.9904405888672233, 0.8305991117247995, 0.9653177733879257, 0.8195208784890722, 0.9822872509628845, 0.9804600329773681, 0.7914570555922703, 0.3947976445842927, 0.5957855363726599, 0.991836783678005, 0.8769738433369395, 0.8388154926059895, 0.9968026767013528, 0.8372747844694381, 0.8788876126742973, 0.9745287570298923, 0.9814715551114059, 0.9970537435442521, 0.9449346036818697, 0.9202889058301408, 0.995794504466573, 0.8651542824473404, 0.841804373028738, 0.9862608051489504, 0.9866389082730573, 0.931642759852488, 0.9769954288151752, 0.9980941647263943, 0.9706405506278966, 0.9947419081447355, 0.9976991549681259, 0.988501810629916, 0.9861192586662443, 0.9671205181726586, 0.8602204378670844, 0.9439296987234356, 0.8188110462653889, 0.9511661454974315, 0.9347171178450269, 0.8537038820752099, 0.1422839803458683, 0.002453172074928764, 0.9250126194194588, 0.9985987608345325, 0.9897343257859877, 0.9935464431895011, 0.8748969618524048, 0.9936392955370096, 0.9987990618294209, 0.419341471641529, 0.5241768395519113, 0.9939991799948497, 0.9687029938220489, 0.9957980513857118, 0.9836261515311108, 0.9884702275592521, 0.8814193704447132, 0.9960143480625059, 0.9638304359162211, 0.9324998664425592, 0.9894169497860198, 0.9870312641011868, 0.9904467957090752, 0.7959490427984767, 0.803193387135214, 0.9795478993058573, 0.9841529742832361, 0.13760915606150717, 0.6880457803075358, 0.969132509931868, 0.9361101669960192, 0.9060839540297345, 0.9838917033868906, 0.9885310107273595, 0.9908981161760592, 0.9909289837836937, 0.9496839459383583, 0.8444913319527073, 0.9813621168271361, 0.9821282686651444, 0.9716900933284633, 0.9974099701950675, 0.8759562070618911, 0.4196023838618219, 0.5706592420520777, 0.9367278870431825, 0.9989641877682089, 0.9961249783946706, 0.9817483196304686, 0.9922279228347369, 0.9832742429601519, 0.9923638048341252, 0.8630204333771632, 0.9188618143738819, 0.9676466538788009, 0.9900545916387062, 0.99744772909894, 0.9811873982082189, 0.9960523979667782, 0.9403194369987893, 0.05561028928487464, 0.002527740422039756, 0.9562493298952555, 0.9551499652376348, 0.041679271210369524, 0.9947402030746766, 0.6862220841080324, 0.180584758975798, 0.10835085538547881, 0.9945267133920737, 0.10844107073559674, 0.8856020776740401, 0.9971292498710694, 0.9957907139942336, 0.9046935791534301, 0.9754206172329805, 0.9656285773016551, 0.9549521256071504, 0.9591886248744045, 0.03212593480440589, 0.0045894192577722705, 0.9961748520199241, 0.9771855981619633, 0.9772374325677043, 0.911054570740226, 0.9708550575331767, 0.9978579421591302, 0.954624594791776, 0.9931314494830565, 0.8699568378290675, 0.9901960507471901, 0.87063269790402, 0.8013291720537159, 0.8881332740146245, 0.11143038593226966, 0.9269869441595225, 0.9904178516227348, 0.8594988751085537, 0.8011274766231963, 0.9982050991423355, 0.9134300918320207, 0.9569830490719564, 0.9981905946205565, 0.9497420832756261, 0.9984226792014896, 0.9668444318810447, 0.91836242561879, 0.9926704578843287, 0.9631701757540072, 0.9903144144896072, 0.6723501213251418, 0.9101213759419821, 0.9619072205902893, 0.9835265382035109, 0.6635802277167259, 0.1527343049586451, 0.840038677272548, 0.8537439702960913, 0.9877294086796287, 0.9695674667832203, 0.14588709484178736, 0.8461451500823667, 0.7231148729612672, 0.9980352799092964, 0.15145417607034828, 0.7572708803517414, 0.9753888594408969, 0.9911193109130088, 0.9858810268848099, 0.8391675881247908, 0.9976272915017622, 0.9969885530422129, 0.7872927922598156, 0.1214337600995868, 0.8500363206971077, 0.9577903189894822, 0.7921223187342484, 0.9102315037818312, 0.910676824932881, 0.030245914377075467, 0.9678692600664149, 0.9736615040032806, 0.9952102446521638, 0.9530581556178455, 0.0461157172073151, 0.9993425755966185, 0.881409653162567, 0.9767151189452029, 0.7487530251229468, 0.9829384664317682, 0.9514390385869405, 0.9369858924794023, 0.9279487303617223, 0.9099883641480276, 0.9964409646428352, 0.8748181842308324, 0.9942005533545776, 0.8778288984889261, 0.879845148712865, 0.9669100908861341, 0.9746167271826898, 0.8924391398370188, 0.9418438329012301, 0.99279074171195, 0.07077178787518244, 0.9200332423773717, 0.9525716045202904, 0.8547626091337712, 0.9878025532571341, 0.9963545505385167, 0.9972126698498879, 0.11738437267116002, 0.11738437267116002, 0.7043062360269601, 0.9549040546430311, 0.9881357713633458, 0.9958144140731919, 0.9868013508252617, 0.9947144736857891, 0.20309105511218095, 0.35540934644631667, 0.4061821102243619, 0.9848045840064158, 0.9743048649221849, 0.02395831635054553, 0.9824316372873056, 0.015410692349604793, 0.9660082319882879, 0.9989439425664135, 0.9980856401402796, 0.6947438319559125, 0.9929341131222688, 0.9926154445066063, 0.9777045099369674, 0.01070073973161556, 0.9898184251744393, 0.9868097019240287, 0.9913009851427759, 0.9894947369130848, 0.9045696257340274, 0.9929489643584212, 0.99728662006469, 0.9914910630418188, 0.9942345352425436, 0.9985219520766843, 0.997388822132871, 0.8434471004903494, 0.99308420916884, 0.9508488866125099, 0.996189191099848, 0.9963543597799593, 0.9904992401679699, 0.9010728166955645, 0.09406804130338312, 0.9688368297234673, 0.9651676896731315, 0.9893854859414584, 0.9411344890498791, 0.9063109191816815, 0.964096102024015, 0.9873812532401453, 0.9989055207608711, 0.9957381608582407, 0.9945711202666558, 0.9637182018134163], \"Term\": [\"accord\", \"accuse\", \"actually\", \"album\", \"amazing\", \"answer\", \"apart\", \"apologize\", \"argument\", \"ask\", \"ass\", \"attack\", \"attempt\", \"attention\", \"avoid\", \"awesome\", \"baby\", \"bad\", \"base\", \"basically\", \"behavior\", \"believe\", \"big\", \"block\", \"book\", \"boy\", \"brand\", \"bring\", \"bubbaprog\", \"bubbaprog\", \"bunch\", \"buy\", \"call\", \"call\", \"cancel\", \"cancel\", \"cancel\", \"cancel\", \"cancelculture\", \"cancer\", \"care\", \"care\", \"career\", \"case\", \"censorship\", \"change\", \"channel\", \"child\", \"claim\", \"cobratate\", \"cobratate\", \"cobratate\", \"come\", \"comedy\", \"comment\", \"company\", \"complaint\", \"complaint\", \"conspiracy\", \"continue\", \"continue\", \"control\", \"corruption\", \"country\", \"course\", \"court\", \"covid\", \"covid\", \"crap\", \"crazy\", \"criminal\", \"criticism\", \"crowd\", \"cry\", \"cultural\", \"culture\", \"culture\", \"culture\", \"culture\", \"damn\", \"deal\", \"decide\", \"deep\", \"deeply\", \"definitely\", \"die\", \"different\", \"disagree\", \"disagreement\", \"discuss\", \"diversity\", \"dog\", \"drama\", \"economy\", \"elonmusk\", \"elonmusk\", \"end\", \"entire\", \"episode\", \"era\", \"erase\", \"everyone\", \"exactly\", \"exist\", \"fact\", \"fail\", \"fake\", \"far\", \"fascist\", \"favorite\", \"fear\", \"feel\", \"figure\", \"film\", \"finallevel\", \"fine\", \"fire\", \"follower\", \"friend\", \"fuck\", \"funny\", \"future\", \"game\", \"garbage\", \"gay\", \"generation\", \"get\", \"get\", \"get\", \"glad\", \"go\", \"goal\", \"good\", \"gross\", \"guess\", \"guy\", \"happy_new\", \"happy_new\", \"hard\", \"harmful\", \"hate\", \"head\", \"hear\", \"hell\", \"hi\", \"high\", \"hilarious\", \"history\", \"hold\", \"hope\", \"hot\", \"hour\", \"httpstco\", \"huge\", \"illegal_alien\", \"illegal_alien\", \"important\", \"include\", \"industry\", \"influencer\", \"internet\", \"ist\", \"job\", \"joke\", \"keep\", \"kid\", \"kill\", \"kinda\", \"know\", \"lack\", \"lane\", \"lane\", \"late\", \"leave\", \"let\", \"liberal\", \"lie\", \"life\", \"like\", \"likely\", \"listen\", \"little\", \"lol\", \"look\", \"lose\", \"love\", \"m\", \"m\", \"m\", \"mad\", \"make\", \"make\", \"man\", \"marxist\", \"marxist\", \"marxist\", \"mean\", \"medium\", \"medium\", \"mind\", \"money\", \"moron\", \"move\", \"movie\", \"music\", \"need\", \"need\", \"need\", \"new\", \"news\", \"offend\", \"offensive\", \"online\", \"opinion\", \"original\", \"part\", \"pass\", \"pay\", \"pedo\", \"pedophile\", \"people\", \"people\", \"perfectly\", \"person\", \"personally\", \"phrase\", \"pick\", \"piss\", \"place\", \"play\", \"player\", \"point\", \"politic\", \"possible\", \"post\", \"powerful\", \"practice\", \"preach\", \"privilege\", \"probably\", \"problem\", \"problematic\", \"process\", \"process\", \"product\", \"promote\", \"proof\", \"prove\", \"prove\", \"pseudo\", \"public\", \"punishment\", \"punishment\", \"put\", \"que\", \"quick\", \"rd\", \"re\", \"real\", \"regard\", \"reject\", \"reject\", \"respect\", \"response\", \"rid\", \"ride\", \"right\", \"right\", \"ruin\", \"run\", \"s\", \"s\", \"say\", \"scandal\", \"scare\", \"score\", \"see\", \"self\", \"sense\", \"sensitive\", \"sex\", \"shit\", \"short\", \"shut\", \"sign\", \"signal\", \"social\", \"society\", \"soft\", \"song\", \"sound\", \"speak\", \"speak\", \"speech\", \"staff\", \"state\", \"stay\", \"stop\", \"strange\", \"strange\", \"strange\", \"strong\", \"support\", \"sure\", \"take\", \"talk\", \"tate\", \"tate\", \"tate\", \"tell\", \"thing\", \"thing\", \"think\", \"think\", \"thought\", \"time\", \"today\", \"tribe\", \"truly\", \"trump\", \"truth\", \"try\", \"try\", \"turn\", \"tweet\", \"understand\", \"unpopular\", \"use\", \"ve\", \"victim\", \"video\", \"view\", \"violence\", \"virtue\", \"voice\", \"wait\", \"wake\", \"want\", \"watch\", \"way\", \"way\", \"weak\", \"weird\", \"well\", \"white\", \"wild\", \"witch\", \"woke\", \"work\", \"wrong\", \"year\", \"young\"]}, \"R\": 30, \"lambda.step\": 0.01, \"plot.opts\": {\"xlab\": \"PC1\", \"ylab\": \"PC2\"}, \"topic.order\": [9, 3, 1, 2, 7, 10, 6, 5, 8, 4]};\n",
              "\n",
              "function LDAvis_load_lib(url, callback){\n",
              "  var s = document.createElement('script');\n",
              "  s.src = url;\n",
              "  s.async = true;\n",
              "  s.onreadystatechange = s.onload = callback;\n",
              "  s.onerror = function(){console.warn(\"failed to load library \" + url);};\n",
              "  document.getElementsByTagName(\"head\")[0].appendChild(s);\n",
              "}\n",
              "\n",
              "if(typeof(LDAvis) !== \"undefined\"){\n",
              "   // already loaded: just create the visualization\n",
              "   !function(LDAvis){\n",
              "       new LDAvis(\"#\" + \"ldavis_el1571405841813174081160911563\", ldavis_el1571405841813174081160911563_data);\n",
              "   }(LDAvis);\n",
              "}else if(typeof define === \"function\" && define.amd){\n",
              "   // require.js is available: use it to load d3/LDAvis\n",
              "   require.config({paths: {d3: \"https://d3js.org/d3.v5\"}});\n",
              "   require([\"d3\"], function(d3){\n",
              "      window.d3 = d3;\n",
              "      LDAvis_load_lib(\"https://cdn.jsdelivr.net/gh/bmabey/pyLDAvis@3.4.0/pyLDAvis/js/ldavis.v3.0.0.js\", function(){\n",
              "        new LDAvis(\"#\" + \"ldavis_el1571405841813174081160911563\", ldavis_el1571405841813174081160911563_data);\n",
              "      });\n",
              "    });\n",
              "}else{\n",
              "    // require.js not available: dynamically load d3 & LDAvis\n",
              "    LDAvis_load_lib(\"https://d3js.org/d3.v5.js\", function(){\n",
              "         LDAvis_load_lib(\"https://cdn.jsdelivr.net/gh/bmabey/pyLDAvis@3.4.0/pyLDAvis/js/ldavis.v3.0.0.js\", function(){\n",
              "                 new LDAvis(\"#\" + \"ldavis_el1571405841813174081160911563\", ldavis_el1571405841813174081160911563_data);\n",
              "            })\n",
              "         });\n",
              "}\n",
              "</script>"
            ]
          },
          "metadata": {},
          "execution_count": 34
        }
      ]
    },
    {
      "cell_type": "code",
      "source": [
        "list(lda_model.get_document_topics(corpus[1]))\n"
      ],
      "metadata": {
        "colab": {
          "base_uri": "https://localhost:8080/"
        },
        "id": "L5EfFRjo5Ac7",
        "outputId": "6fbb6478-0454-4b2d-f22f-594a7dc261e6"
      },
      "execution_count": 35,
      "outputs": [
        {
          "output_type": "execute_result",
          "data": {
            "text/plain": [
              "[(0, 0.049867895),\n",
              " (1, 0.034099467),\n",
              " (2, 0.2030994),\n",
              " (6, 0.010422087),\n",
              " (8, 0.6644405)]"
            ]
          },
          "metadata": {},
          "execution_count": 35
        }
      ]
    },
    {
      "cell_type": "code",
      "source": [
        "lda_model.show_topic(0)\n"
      ],
      "metadata": {
        "colab": {
          "base_uri": "https://localhost:8080/"
        },
        "id": "F32-oOf75FYy",
        "outputId": "5508f40c-61aa-40c6-9ca8-8d6e97f032ec"
      },
      "execution_count": 36,
      "outputs": [
        {
          "output_type": "execute_result",
          "data": {
            "text/plain": [
              "[('good', 0.04256987),\n",
              " ('bad', 0.03925568),\n",
              " ('like', 0.026072457),\n",
              " ('die', 0.025500802),\n",
              " ('run', 0.023712624),\n",
              " ('finallevel', 0.021112002),\n",
              " ('tell', 0.017807746),\n",
              " ('pick', 0.01731279),\n",
              " ('promote', 0.017242884),\n",
              " ('hi', 0.015827363)]"
            ]
          },
          "metadata": {},
          "execution_count": 36
        }
      ]
    },
    {
      "cell_type": "markdown",
      "source": [
        "Find dominant topic in each tweet"
      ],
      "metadata": {
        "id": "nErWcYQQ5ObJ"
      }
    },
    {
      "cell_type": "code",
      "source": [
        "def find_dom_topics(ldamodel=lda_model, corpus=corpus, texts=data):\n",
        "    # Init output\n",
        "    sent_topics_df = pd.DataFrame()\n",
        "\n",
        "    # Get main topic in each document\n",
        "    for i, row in enumerate(ldamodel[corpus]):\n",
        "        row = sorted(row[0], key=lambda x: (x[1]), reverse=True)\n",
        "        dominant_topic = row[0]\n",
        "        # Get the Dominant topic, Perc Contribution and Keywords for each document\n",
        "        sent_topics_df = sent_topics_df.append(pd.Series([int(dominant_topic[0]), round(dominant_topic[1],4)]), ignore_index=True)\n",
        "\n",
        "    sent_topics_df.columns = ['Dominant_Topic', 'Perc_Contribution']\n",
        "\n",
        "    # Add original text to the end of the output\n",
        "    contents = pd.Series(texts)\n",
        "    sent_topics_df = pd.concat([sent_topics_df, contents], axis=1)\n",
        "    return(sent_topics_df)\n",
        "\n",
        "\n",
        "df_dominant_topic = find_dom_topics(ldamodel=lda_model, corpus=corpus, texts=tweets_lemmatized)\n",
        "\n",
        "# Format\n",
        "df_dominant_topic = df_dominant_topic.reset_index()\n",
        "df_dominant_topic.columns = ['Document_No', 'Dominant_Topic', 'Topic_Perc_Contrib', 'Text']\n",
        "\n",
        "# Show\n",
        "df_dominant_topic.head(10)\n"
      ],
      "metadata": {
        "colab": {
          "base_uri": "https://localhost:8080/",
          "height": 637
        },
        "id": "KTE-WosA5QZ8",
        "outputId": "debb3e74-b645-4dc5-d157-20337693e915"
      },
      "execution_count": 37,
      "outputs": [
        {
          "output_type": "stream",
          "name": "stderr",
          "text": [
            "<ipython-input-37-6af0236a12c9>:10: FutureWarning: The frame.append method is deprecated and will be removed from pandas in a future version. Use pandas.concat instead.\n",
            "  sent_topics_df = sent_topics_df.append(pd.Series([int(dominant_topic[0]), round(dominant_topic[1],4)]), ignore_index=True)\n",
            "<ipython-input-37-6af0236a12c9>:10: FutureWarning: The frame.append method is deprecated and will be removed from pandas in a future version. Use pandas.concat instead.\n",
            "  sent_topics_df = sent_topics_df.append(pd.Series([int(dominant_topic[0]), round(dominant_topic[1],4)]), ignore_index=True)\n"
          ]
        },
        {
          "output_type": "execute_result",
          "data": {
            "text/plain": [
              "   Document_No  Dominant_Topic  Topic_Perc_Contrib  \\\n",
              "0            0             8.0              0.7373   \n",
              "1            1             8.0              0.6644   \n",
              "2            2             8.0              0.6312   \n",
              "3            3             8.0              0.5311   \n",
              "4            4             8.0              0.7645   \n",
              "5            5             8.0              0.5114   \n",
              "6            6             8.0              0.4313   \n",
              "7            7             8.0              0.4777   \n",
              "8            8             8.0              0.5932   \n",
              "9            9             8.0              0.5931   \n",
              "\n",
              "                                                Text  \n",
              "0      [cancel, extracurricular, cancel, culture, f]  \n",
              "1  [khalidalkhayat, need, accord, priority, cance...  \n",
              "2  [middleman, wrecker, seller, reward, uniformit...  \n",
              "3                   [diagnose, cancer, cancel, news]  \n",
              "4  [nauris_l, cancel, culture, house, turn, riot,...  \n",
              "5  [awesome, bar, bkk, boy, cool, crew, cancel, c...  \n",
              "6  [come, cancel, culture, trim, good, include, e...  \n",
              "7  [newyork, city, opera, warn, season, jeopardy,...  \n",
              "8           [hazziqh, terlalu, class, cancel, sikit]  \n",
              "9      [honestly, s, mess, cancel, culture, day, re]  "
            ],
            "text/html": [
              "\n",
              "  <div id=\"df-d9a9e34b-3988-4eda-a993-3c34d8a5fbac\">\n",
              "    <div class=\"colab-df-container\">\n",
              "      <div>\n",
              "<style scoped>\n",
              "    .dataframe tbody tr th:only-of-type {\n",
              "        vertical-align: middle;\n",
              "    }\n",
              "\n",
              "    .dataframe tbody tr th {\n",
              "        vertical-align: top;\n",
              "    }\n",
              "\n",
              "    .dataframe thead th {\n",
              "        text-align: right;\n",
              "    }\n",
              "</style>\n",
              "<table border=\"1\" class=\"dataframe\">\n",
              "  <thead>\n",
              "    <tr style=\"text-align: right;\">\n",
              "      <th></th>\n",
              "      <th>Document_No</th>\n",
              "      <th>Dominant_Topic</th>\n",
              "      <th>Topic_Perc_Contrib</th>\n",
              "      <th>Text</th>\n",
              "    </tr>\n",
              "  </thead>\n",
              "  <tbody>\n",
              "    <tr>\n",
              "      <th>0</th>\n",
              "      <td>0</td>\n",
              "      <td>8.0</td>\n",
              "      <td>0.7373</td>\n",
              "      <td>[cancel, extracurricular, cancel, culture, f]</td>\n",
              "    </tr>\n",
              "    <tr>\n",
              "      <th>1</th>\n",
              "      <td>1</td>\n",
              "      <td>8.0</td>\n",
              "      <td>0.6644</td>\n",
              "      <td>[khalidalkhayat, need, accord, priority, cance...</td>\n",
              "    </tr>\n",
              "    <tr>\n",
              "      <th>2</th>\n",
              "      <td>2</td>\n",
              "      <td>8.0</td>\n",
              "      <td>0.6312</td>\n",
              "      <td>[middleman, wrecker, seller, reward, uniformit...</td>\n",
              "    </tr>\n",
              "    <tr>\n",
              "      <th>3</th>\n",
              "      <td>3</td>\n",
              "      <td>8.0</td>\n",
              "      <td>0.5311</td>\n",
              "      <td>[diagnose, cancer, cancel, news]</td>\n",
              "    </tr>\n",
              "    <tr>\n",
              "      <th>4</th>\n",
              "      <td>4</td>\n",
              "      <td>8.0</td>\n",
              "      <td>0.7645</td>\n",
              "      <td>[nauris_l, cancel, culture, house, turn, riot,...</td>\n",
              "    </tr>\n",
              "    <tr>\n",
              "      <th>5</th>\n",
              "      <td>5</td>\n",
              "      <td>8.0</td>\n",
              "      <td>0.5114</td>\n",
              "      <td>[awesome, bar, bkk, boy, cool, crew, cancel, c...</td>\n",
              "    </tr>\n",
              "    <tr>\n",
              "      <th>6</th>\n",
              "      <td>6</td>\n",
              "      <td>8.0</td>\n",
              "      <td>0.4313</td>\n",
              "      <td>[come, cancel, culture, trim, good, include, e...</td>\n",
              "    </tr>\n",
              "    <tr>\n",
              "      <th>7</th>\n",
              "      <td>7</td>\n",
              "      <td>8.0</td>\n",
              "      <td>0.4777</td>\n",
              "      <td>[newyork, city, opera, warn, season, jeopardy,...</td>\n",
              "    </tr>\n",
              "    <tr>\n",
              "      <th>8</th>\n",
              "      <td>8</td>\n",
              "      <td>8.0</td>\n",
              "      <td>0.5932</td>\n",
              "      <td>[hazziqh, terlalu, class, cancel, sikit]</td>\n",
              "    </tr>\n",
              "    <tr>\n",
              "      <th>9</th>\n",
              "      <td>9</td>\n",
              "      <td>8.0</td>\n",
              "      <td>0.5931</td>\n",
              "      <td>[honestly, s, mess, cancel, culture, day, re]</td>\n",
              "    </tr>\n",
              "  </tbody>\n",
              "</table>\n",
              "</div>\n",
              "      <button class=\"colab-df-convert\" onclick=\"convertToInteractive('df-d9a9e34b-3988-4eda-a993-3c34d8a5fbac')\"\n",
              "              title=\"Convert this dataframe to an interactive table.\"\n",
              "              style=\"display:none;\">\n",
              "        \n",
              "  <svg xmlns=\"http://www.w3.org/2000/svg\" height=\"24px\"viewBox=\"0 0 24 24\"\n",
              "       width=\"24px\">\n",
              "    <path d=\"M0 0h24v24H0V0z\" fill=\"none\"/>\n",
              "    <path d=\"M18.56 5.44l.94 2.06.94-2.06 2.06-.94-2.06-.94-.94-2.06-.94 2.06-2.06.94zm-11 1L8.5 8.5l.94-2.06 2.06-.94-2.06-.94L8.5 2.5l-.94 2.06-2.06.94zm10 10l.94 2.06.94-2.06 2.06-.94-2.06-.94-.94-2.06-.94 2.06-2.06.94z\"/><path d=\"M17.41 7.96l-1.37-1.37c-.4-.4-.92-.59-1.43-.59-.52 0-1.04.2-1.43.59L10.3 9.45l-7.72 7.72c-.78.78-.78 2.05 0 2.83L4 21.41c.39.39.9.59 1.41.59.51 0 1.02-.2 1.41-.59l7.78-7.78 2.81-2.81c.8-.78.8-2.07 0-2.86zM5.41 20L4 18.59l7.72-7.72 1.47 1.35L5.41 20z\"/>\n",
              "  </svg>\n",
              "      </button>\n",
              "      \n",
              "  <style>\n",
              "    .colab-df-container {\n",
              "      display:flex;\n",
              "      flex-wrap:wrap;\n",
              "      gap: 12px;\n",
              "    }\n",
              "\n",
              "    .colab-df-convert {\n",
              "      background-color: #E8F0FE;\n",
              "      border: none;\n",
              "      border-radius: 50%;\n",
              "      cursor: pointer;\n",
              "      display: none;\n",
              "      fill: #1967D2;\n",
              "      height: 32px;\n",
              "      padding: 0 0 0 0;\n",
              "      width: 32px;\n",
              "    }\n",
              "\n",
              "    .colab-df-convert:hover {\n",
              "      background-color: #E2EBFA;\n",
              "      box-shadow: 0px 1px 2px rgba(60, 64, 67, 0.3), 0px 1px 3px 1px rgba(60, 64, 67, 0.15);\n",
              "      fill: #174EA6;\n",
              "    }\n",
              "\n",
              "    [theme=dark] .colab-df-convert {\n",
              "      background-color: #3B4455;\n",
              "      fill: #D2E3FC;\n",
              "    }\n",
              "\n",
              "    [theme=dark] .colab-df-convert:hover {\n",
              "      background-color: #434B5C;\n",
              "      box-shadow: 0px 1px 3px 1px rgba(0, 0, 0, 0.15);\n",
              "      filter: drop-shadow(0px 1px 2px rgba(0, 0, 0, 0.3));\n",
              "      fill: #FFFFFF;\n",
              "    }\n",
              "  </style>\n",
              "\n",
              "      <script>\n",
              "        const buttonEl =\n",
              "          document.querySelector('#df-d9a9e34b-3988-4eda-a993-3c34d8a5fbac button.colab-df-convert');\n",
              "        buttonEl.style.display =\n",
              "          google.colab.kernel.accessAllowed ? 'block' : 'none';\n",
              "\n",
              "        async function convertToInteractive(key) {\n",
              "          const element = document.querySelector('#df-d9a9e34b-3988-4eda-a993-3c34d8a5fbac');\n",
              "          const dataTable =\n",
              "            await google.colab.kernel.invokeFunction('convertToInteractive',\n",
              "                                                     [key], {});\n",
              "          if (!dataTable) return;\n",
              "\n",
              "          const docLinkHtml = 'Like what you see? Visit the ' +\n",
              "            '<a target=\"_blank\" href=https://colab.research.google.com/notebooks/data_table.ipynb>data table notebook</a>'\n",
              "            + ' to learn more about interactive tables.';\n",
              "          element.innerHTML = '';\n",
              "          dataTable['output_type'] = 'display_data';\n",
              "          await google.colab.output.renderOutput(dataTable, element);\n",
              "          const docLink = document.createElement('div');\n",
              "          docLink.innerHTML = docLinkHtml;\n",
              "          element.appendChild(docLink);\n",
              "        }\n",
              "      </script>\n",
              "    </div>\n",
              "  </div>\n",
              "  "
            ]
          },
          "metadata": {},
          "execution_count": 37
        }
      ]
    },
    {
      "cell_type": "markdown",
      "source": [
        "Find the most representative document for each topic"
      ],
      "metadata": {
        "id": "abGXguFh5j9R"
      }
    },
    {
      "cell_type": "code",
      "source": [
        "# Group top 5 sentences under each topic\n",
        "df_topics_doc = pd.DataFrame()\n",
        "\n",
        "df_dominant_topic_grpd = df_dominant_topic.groupby('Dominant_Topic')\n",
        "\n",
        "for i, grp in df_dominant_topic_grpd:\n",
        "    df_topics_doc = pd.concat([df_topics_doc, \n",
        "                                             grp.sort_values(['Topic_Perc_Contrib'], ascending=[0]).head(1)], \n",
        "                                            axis=0)\n",
        "\n",
        "# Reset Index    \n",
        "df_topics_doc.reset_index(drop=True, inplace=True)\n",
        "\n",
        "# Format\n",
        "df_topics_doc.columns = ['Document_No', 'Topic_Num', \"Topic_Perc_Contrib\", \"Text\"]\n",
        "\n",
        "# Show\n",
        "df_topics_doc"
      ],
      "metadata": {
        "colab": {
          "base_uri": "https://localhost:8080/",
          "height": 205
        },
        "id": "GXjKmwp_5jO8",
        "outputId": "c30a1e06-16ab-4cee-91ae-e3ea7661eae3"
      },
      "execution_count": 38,
      "outputs": [
        {
          "output_type": "execute_result",
          "data": {
            "text/plain": [
              "   Document_No  Topic_Num  Topic_Perc_Contrib  \\\n",
              "0         5070        0.0              0.5903   \n",
              "1          195        2.0              0.6278   \n",
              "2          392        8.0              0.8915   \n",
              "\n",
              "                                                Text  \n",
              "0  [wollt, ihr, die, total, verruckte, welt, die,...  \n",
              "1  [mind, critique, culture, roll, eye, nonstop, ...  \n",
              "2  [detect, evidence, patriarchy, abuse, power, d...  "
            ],
            "text/html": [
              "\n",
              "  <div id=\"df-2642798a-a060-45e5-9c50-a06765daf22d\">\n",
              "    <div class=\"colab-df-container\">\n",
              "      <div>\n",
              "<style scoped>\n",
              "    .dataframe tbody tr th:only-of-type {\n",
              "        vertical-align: middle;\n",
              "    }\n",
              "\n",
              "    .dataframe tbody tr th {\n",
              "        vertical-align: top;\n",
              "    }\n",
              "\n",
              "    .dataframe thead th {\n",
              "        text-align: right;\n",
              "    }\n",
              "</style>\n",
              "<table border=\"1\" class=\"dataframe\">\n",
              "  <thead>\n",
              "    <tr style=\"text-align: right;\">\n",
              "      <th></th>\n",
              "      <th>Document_No</th>\n",
              "      <th>Topic_Num</th>\n",
              "      <th>Topic_Perc_Contrib</th>\n",
              "      <th>Text</th>\n",
              "    </tr>\n",
              "  </thead>\n",
              "  <tbody>\n",
              "    <tr>\n",
              "      <th>0</th>\n",
              "      <td>5070</td>\n",
              "      <td>0.0</td>\n",
              "      <td>0.5903</td>\n",
              "      <td>[wollt, ihr, die, total, verruckte, welt, die,...</td>\n",
              "    </tr>\n",
              "    <tr>\n",
              "      <th>1</th>\n",
              "      <td>195</td>\n",
              "      <td>2.0</td>\n",
              "      <td>0.6278</td>\n",
              "      <td>[mind, critique, culture, roll, eye, nonstop, ...</td>\n",
              "    </tr>\n",
              "    <tr>\n",
              "      <th>2</th>\n",
              "      <td>392</td>\n",
              "      <td>8.0</td>\n",
              "      <td>0.8915</td>\n",
              "      <td>[detect, evidence, patriarchy, abuse, power, d...</td>\n",
              "    </tr>\n",
              "  </tbody>\n",
              "</table>\n",
              "</div>\n",
              "      <button class=\"colab-df-convert\" onclick=\"convertToInteractive('df-2642798a-a060-45e5-9c50-a06765daf22d')\"\n",
              "              title=\"Convert this dataframe to an interactive table.\"\n",
              "              style=\"display:none;\">\n",
              "        \n",
              "  <svg xmlns=\"http://www.w3.org/2000/svg\" height=\"24px\"viewBox=\"0 0 24 24\"\n",
              "       width=\"24px\">\n",
              "    <path d=\"M0 0h24v24H0V0z\" fill=\"none\"/>\n",
              "    <path d=\"M18.56 5.44l.94 2.06.94-2.06 2.06-.94-2.06-.94-.94-2.06-.94 2.06-2.06.94zm-11 1L8.5 8.5l.94-2.06 2.06-.94-2.06-.94L8.5 2.5l-.94 2.06-2.06.94zm10 10l.94 2.06.94-2.06 2.06-.94-2.06-.94-.94-2.06-.94 2.06-2.06.94z\"/><path d=\"M17.41 7.96l-1.37-1.37c-.4-.4-.92-.59-1.43-.59-.52 0-1.04.2-1.43.59L10.3 9.45l-7.72 7.72c-.78.78-.78 2.05 0 2.83L4 21.41c.39.39.9.59 1.41.59.51 0 1.02-.2 1.41-.59l7.78-7.78 2.81-2.81c.8-.78.8-2.07 0-2.86zM5.41 20L4 18.59l7.72-7.72 1.47 1.35L5.41 20z\"/>\n",
              "  </svg>\n",
              "      </button>\n",
              "      \n",
              "  <style>\n",
              "    .colab-df-container {\n",
              "      display:flex;\n",
              "      flex-wrap:wrap;\n",
              "      gap: 12px;\n",
              "    }\n",
              "\n",
              "    .colab-df-convert {\n",
              "      background-color: #E8F0FE;\n",
              "      border: none;\n",
              "      border-radius: 50%;\n",
              "      cursor: pointer;\n",
              "      display: none;\n",
              "      fill: #1967D2;\n",
              "      height: 32px;\n",
              "      padding: 0 0 0 0;\n",
              "      width: 32px;\n",
              "    }\n",
              "\n",
              "    .colab-df-convert:hover {\n",
              "      background-color: #E2EBFA;\n",
              "      box-shadow: 0px 1px 2px rgba(60, 64, 67, 0.3), 0px 1px 3px 1px rgba(60, 64, 67, 0.15);\n",
              "      fill: #174EA6;\n",
              "    }\n",
              "\n",
              "    [theme=dark] .colab-df-convert {\n",
              "      background-color: #3B4455;\n",
              "      fill: #D2E3FC;\n",
              "    }\n",
              "\n",
              "    [theme=dark] .colab-df-convert:hover {\n",
              "      background-color: #434B5C;\n",
              "      box-shadow: 0px 1px 3px 1px rgba(0, 0, 0, 0.15);\n",
              "      filter: drop-shadow(0px 1px 2px rgba(0, 0, 0, 0.3));\n",
              "      fill: #FFFFFF;\n",
              "    }\n",
              "  </style>\n",
              "\n",
              "      <script>\n",
              "        const buttonEl =\n",
              "          document.querySelector('#df-2642798a-a060-45e5-9c50-a06765daf22d button.colab-df-convert');\n",
              "        buttonEl.style.display =\n",
              "          google.colab.kernel.accessAllowed ? 'block' : 'none';\n",
              "\n",
              "        async function convertToInteractive(key) {\n",
              "          const element = document.querySelector('#df-2642798a-a060-45e5-9c50-a06765daf22d');\n",
              "          const dataTable =\n",
              "            await google.colab.kernel.invokeFunction('convertToInteractive',\n",
              "                                                     [key], {});\n",
              "          if (!dataTable) return;\n",
              "\n",
              "          const docLinkHtml = 'Like what you see? Visit the ' +\n",
              "            '<a target=\"_blank\" href=https://colab.research.google.com/notebooks/data_table.ipynb>data table notebook</a>'\n",
              "            + ' to learn more about interactive tables.';\n",
              "          element.innerHTML = '';\n",
              "          dataTable['output_type'] = 'display_data';\n",
              "          await google.colab.output.renderOutput(dataTable, element);\n",
              "          const docLink = document.createElement('div');\n",
              "          docLink.innerHTML = docLinkHtml;\n",
              "          element.appendChild(docLink);\n",
              "        }\n",
              "      </script>\n",
              "    </div>\n",
              "  </div>\n",
              "  "
            ]
          },
          "metadata": {},
          "execution_count": 38
        }
      ]
    },
    {
      "cell_type": "markdown",
      "source": [
        "Topic distribution across documents¶"
      ],
      "metadata": {
        "id": "KkX-N0jm5rit"
      }
    },
    {
      "cell_type": "code",
      "source": [
        "df_dominant_topic['Dominant_Topic'].hist(bins=10)\n"
      ],
      "metadata": {
        "colab": {
          "base_uri": "https://localhost:8080/",
          "height": 283
        },
        "id": "EAMXdd0V5sM2",
        "outputId": "12153cb3-935a-4455-a777-78265ca827ee"
      },
      "execution_count": 39,
      "outputs": [
        {
          "output_type": "execute_result",
          "data": {
            "text/plain": [
              "<Axes: >"
            ]
          },
          "metadata": {},
          "execution_count": 39
        },
        {
          "output_type": "display_data",
          "data": {
            "text/plain": [
              "<Figure size 432x288 with 1 Axes>"
            ],
            "image/png": "[encoded data removed]"
          },
          "metadata": {
            "needs_background": "light"
          }
        }
      ]
    },
    {
      "cell_type": "code",
      "source": [
        "# Number of Documents for Each Topic\n",
        "topic_counts = df_dominant_topic['Dominant_Topic'].value_counts()\n",
        "\n",
        "# Percentage of Documents for Each Topic\n",
        "topic_contribution = round(topic_counts/topic_counts.sum(), 4)\n",
        "\n",
        "# Concatenate Column wise\n",
        "df_topics = pd.concat([topic_counts, topic_contribution], axis=1)\n",
        "\n",
        "# Change Column names\n",
        "df_topics.columns = ['Num_Documents', 'Perc_Documents']\n",
        "\n",
        "# Show\n",
        "df_topics"
      ],
      "metadata": {
        "colab": {
          "base_uri": "https://localhost:8080/",
          "height": 143
        },
        "id": "fmDs5kWI51Id",
        "outputId": "1941dcf3-d756-46d7-e6f5-cc5a9aa2c3d0"
      },
      "execution_count": 40,
      "outputs": [
        {
          "output_type": "execute_result",
          "data": {
            "text/plain": [
              "     Num_Documents  Perc_Documents\n",
              "8.0           5258          0.9896\n",
              "2.0             47          0.0088\n",
              "0.0              8          0.0015"
            ],
            "text/html": [
              "\n",
              "  <div id=\"df-d48a8056-d4fb-4c41-87f9-12108ea8d8a9\">\n",
              "    <div class=\"colab-df-container\">\n",
              "      <div>\n",
              "<style scoped>\n",
              "    .dataframe tbody tr th:only-of-type {\n",
              "        vertical-align: middle;\n",
              "    }\n",
              "\n",
              "    .dataframe tbody tr th {\n",
              "        vertical-align: top;\n",
              "    }\n",
              "\n",
              "    .dataframe thead th {\n",
              "        text-align: right;\n",
              "    }\n",
              "</style>\n",
              "<table border=\"1\" class=\"dataframe\">\n",
              "  <thead>\n",
              "    <tr style=\"text-align: right;\">\n",
              "      <th></th>\n",
              "      <th>Num_Documents</th>\n",
              "      <th>Perc_Documents</th>\n",
              "    </tr>\n",
              "  </thead>\n",
              "  <tbody>\n",
              "    <tr>\n",
              "      <th>8.0</th>\n",
              "      <td>5258</td>\n",
              "      <td>0.9896</td>\n",
              "    </tr>\n",
              "    <tr>\n",
              "      <th>2.0</th>\n",
              "      <td>47</td>\n",
              "      <td>0.0088</td>\n",
              "    </tr>\n",
              "    <tr>\n",
              "      <th>0.0</th>\n",
              "      <td>8</td>\n",
              "      <td>0.0015</td>\n",
              "    </tr>\n",
              "  </tbody>\n",
              "</table>\n",
              "</div>\n",
              "      <button class=\"colab-df-convert\" onclick=\"convertToInteractive('df-d48a8056-d4fb-4c41-87f9-12108ea8d8a9')\"\n",
              "              title=\"Convert this dataframe to an interactive table.\"\n",
              "              style=\"display:none;\">\n",
              "        \n",
              "  <svg xmlns=\"http://www.w3.org/2000/svg\" height=\"24px\"viewBox=\"0 0 24 24\"\n",
              "       width=\"24px\">\n",
              "    <path d=\"M0 0h24v24H0V0z\" fill=\"none\"/>\n",
              "    <path d=\"M18.56 5.44l.94 2.06.94-2.06 2.06-.94-2.06-.94-.94-2.06-.94 2.06-2.06.94zm-11 1L8.5 8.5l.94-2.06 2.06-.94-2.06-.94L8.5 2.5l-.94 2.06-2.06.94zm10 10l.94 2.06.94-2.06 2.06-.94-2.06-.94-.94-2.06-.94 2.06-2.06.94z\"/><path d=\"M17.41 7.96l-1.37-1.37c-.4-.4-.92-.59-1.43-.59-.52 0-1.04.2-1.43.59L10.3 9.45l-7.72 7.72c-.78.78-.78 2.05 0 2.83L4 21.41c.39.39.9.59 1.41.59.51 0 1.02-.2 1.41-.59l7.78-7.78 2.81-2.81c.8-.78.8-2.07 0-2.86zM5.41 20L4 18.59l7.72-7.72 1.47 1.35L5.41 20z\"/>\n",
              "  </svg>\n",
              "      </button>\n",
              "      \n",
              "  <style>\n",
              "    .colab-df-container {\n",
              "      display:flex;\n",
              "      flex-wrap:wrap;\n",
              "      gap: 12px;\n",
              "    }\n",
              "\n",
              "    .colab-df-convert {\n",
              "      background-color: #E8F0FE;\n",
              "      border: none;\n",
              "      border-radius: 50%;\n",
              "      cursor: pointer;\n",
              "      display: none;\n",
              "      fill: #1967D2;\n",
              "      height: 32px;\n",
              "      padding: 0 0 0 0;\n",
              "      width: 32px;\n",
              "    }\n",
              "\n",
              "    .colab-df-convert:hover {\n",
              "      background-color: #E2EBFA;\n",
              "      box-shadow: 0px 1px 2px rgba(60, 64, 67, 0.3), 0px 1px 3px 1px rgba(60, 64, 67, 0.15);\n",
              "      fill: #174EA6;\n",
              "    }\n",
              "\n",
              "    [theme=dark] .colab-df-convert {\n",
              "      background-color: #3B4455;\n",
              "      fill: #D2E3FC;\n",
              "    }\n",
              "\n",
              "    [theme=dark] .colab-df-convert:hover {\n",
              "      background-color: #434B5C;\n",
              "      box-shadow: 0px 1px 3px 1px rgba(0, 0, 0, 0.15);\n",
              "      filter: drop-shadow(0px 1px 2px rgba(0, 0, 0, 0.3));\n",
              "      fill: #FFFFFF;\n",
              "    }\n",
              "  </style>\n",
              "\n",
              "      <script>\n",
              "        const buttonEl =\n",
              "          document.querySelector('#df-d48a8056-d4fb-4c41-87f9-12108ea8d8a9 button.colab-df-convert');\n",
              "        buttonEl.style.display =\n",
              "          google.colab.kernel.accessAllowed ? 'block' : 'none';\n",
              "\n",
              "        async function convertToInteractive(key) {\n",
              "          const element = document.querySelector('#df-d48a8056-d4fb-4c41-87f9-12108ea8d8a9');\n",
              "          const dataTable =\n",
              "            await google.colab.kernel.invokeFunction('convertToInteractive',\n",
              "                                                     [key], {});\n",
              "          if (!dataTable) return;\n",
              "\n",
              "          const docLinkHtml = 'Like what you see? Visit the ' +\n",
              "            '<a target=\"_blank\" href=https://colab.research.google.com/notebooks/data_table.ipynb>data table notebook</a>'\n",
              "            + ' to learn more about interactive tables.';\n",
              "          element.innerHTML = '';\n",
              "          dataTable['output_type'] = 'display_data';\n",
              "          await google.colab.output.renderOutput(dataTable, element);\n",
              "          const docLink = document.createElement('div');\n",
              "          docLink.innerHTML = docLinkHtml;\n",
              "          element.appendChild(docLink);\n",
              "        }\n",
              "      </script>\n",
              "    </div>\n",
              "  </div>\n",
              "  "
            ]
          },
          "metadata": {},
          "execution_count": 40
        }
      ]
    },
    {
      "cell_type": "code",
      "source": [
        "df_topics.sort_index().Num_Documents.plot.bar()\n"
      ],
      "metadata": {
        "colab": {
          "base_uri": "https://localhost:8080/",
          "height": 289
        },
        "id": "V05kjknu53Ez",
        "outputId": "e47f4239-e018-4a8e-e880-e05e906f66ec"
      },
      "execution_count": 41,
      "outputs": [
        {
          "output_type": "execute_result",
          "data": {
            "text/plain": [
              "<Axes: >"
            ]
          },
          "metadata": {},
          "execution_count": 41
        },
        {
          "output_type": "display_data",
          "data": {
            "text/plain": [
              "<Figure size 432x288 with 1 Axes>"
            ],
            "image/png": "[encoded data removed]"
          },
          "metadata": {
            "needs_background": "light"
          }
        }
      ]
    },
    {
      "cell_type": "code",
      "source": [
        "df_topics.sort_index().Perc_Documents.plot.bar()\n"
      ],
      "metadata": {
        "colab": {
          "base_uri": "https://localhost:8080/",
          "height": 289
        },
        "id": "2qPkn_Je55do",
        "outputId": "e1c6c340-da91-47ff-b820-72d3809df853"
      },
      "execution_count": 42,
      "outputs": [
        {
          "output_type": "execute_result",
          "data": {
            "text/plain": [
              "<Axes: >"
            ]
          },
          "metadata": {},
          "execution_count": 42
        },
        {
          "output_type": "display_data",
          "data": {
            "text/plain": [
              "<Figure size 432x288 with 1 Axes>"
            ],
            "image/png": "[encoded data removed]"
          },
          "metadata": {
            "needs_background": "light"
          }
        }
      ]
    },
    {
      "cell_type": "code",
      "source": [
        "tfidf = models.TfidfModel(corpus, smartirs='ntc')\n",
        "tfidf_corpus=[]\n",
        "for doc in tfidf[corpus]:\n",
        "   tfidf_corpus.append([(id, np.around(freq,decimals=2)) for id, freq in doc])\n",
        "\n",
        "lda_model2 = LdaModel(corpus=tfidf_corpus,\n",
        "                   id2word=id2word,\n",
        "                   num_topics=10, \n",
        "                   random_state=0,\n",
        "                   chunksize=100,\n",
        "                   alpha='auto',\n",
        "                   per_word_topics=True)"
      ],
      "metadata": {
        "id": "OeikgClm571r"
      },
      "execution_count": 43,
      "outputs": []
    },
    {
      "cell_type": "code",
      "source": [
        "# Compute Perplexity\n",
        "print('\\nPerplexity: ', lda_model2.log_perplexity(tfidf_corpus))  # a measure of how good the model is. lower the better.\n",
        "\n",
        "# Compute Coherence Score\n",
        "coherence_model_lda2 = CoherenceModel(model=lda_model2, texts=tweets, dictionary=id2word, coherence='c_v')\n",
        "coherence_lda2 = coherence_model_lda2.get_coherence()\n",
        "print('\\nCoherence Score: ', coherence_lda2)"
      ],
      "metadata": {
        "colab": {
          "base_uri": "https://localhost:8080/"
        },
        "id": "gkdY9aat6zLp",
        "outputId": "2fb32d7d-25a7-49d1-8bed-0cd6028eb7a9"
      },
      "execution_count": 44,
      "outputs": [
        {
          "output_type": "stream",
          "name": "stdout",
          "text": [
            "\n",
            "Perplexity:  -11.933006579690394\n"
          ]
        },
        {
          "output_type": "stream",
          "name": "stderr",
          "text": [
            "/usr/local/lib/python3.9/dist-packages/gensim/topic_coherence/direct_confirmation_measure.py:204: RuntimeWarning: divide by zero encountered in double_scalars\n",
            "  m_lr_i = np.log(numerator / denominator)\n",
            "/usr/local/lib/python3.9/dist-packages/gensim/topic_coherence/indirect_confirmation_measure.py:323: RuntimeWarning: invalid value encountered in double_scalars\n",
            "  return cv1.T.dot(cv2)[0, 0] / (_magnitude(cv1) * _magnitude(cv2))\n"
          ]
        },
        {
          "output_type": "stream",
          "name": "stdout",
          "text": [
            "\n",
            "Coherence Score:  nan\n"
          ]
        }
      ]
    },
    {
      "cell_type": "code",
      "source": [
        "lda_model2.print_topics()\n"
      ],
      "metadata": {
        "colab": {
          "base_uri": "https://localhost:8080/"
        },
        "id": "rWWyajtR639T",
        "outputId": "7b0c6d1a-035b-418f-ab95-81199231d29d"
      },
      "execution_count": 45,
      "outputs": [
        {
          "output_type": "execute_result",
          "data": {
            "text/plain": [
              "[(0,\n",
              "  '0.010*\"sad\" + 0.008*\"buy\" + 0.006*\"club\" + 0.001*\"new_year\" + 0.000*\"funstarhumour\" + 0.000*\"smartcookie\" + 0.000*\"provisionistp\" + 0.000*\"bbcquestiontime_skynews\" + 0.000*\"doublehelix\" + 0.000*\"queer\"'),\n",
              " (1,\n",
              "  '0.030*\"opinion\" + 0.026*\"new\" + 0.025*\"bad\" + 0.022*\"real\" + 0.015*\"voice\" + 0.015*\"open\" + 0.011*\"fuck\" + 0.009*\"life\" + 0.009*\"woman\" + 0.007*\"internet\"'),\n",
              " (2,\n",
              "  '0.012*\"people\" + 0.012*\"fire\" + 0.011*\"think\" + 0.011*\"right\" + 0.010*\"s\" + 0.009*\"get\" + 0.008*\"m\" + 0.007*\"thing\" + 0.007*\"re\" + 0.007*\"make\"'),\n",
              " (3,\n",
              "  '0.041*\"far\" + 0.024*\"guy\" + 0.013*\"quick\" + 0.005*\"read\" + 0.004*\"article\" + 0.003*\"podcast\" + 0.003*\"defend\" + 0.003*\"apply\" + 0.002*\"step\" + 0.000*\"freeforlife\"'),\n",
              " (4,\n",
              "  '0.016*\"move\" + 0.012*\"little\" + 0.010*\"tweet\" + 0.008*\"wait\" + 0.006*\"thought\" + 0.006*\"late\" + 0.005*\"online\" + 0.005*\"ridiculous\" + 0.004*\"ill\" + 0.003*\"seriously\"'),\n",
              " (5,\n",
              "  '0.016*\"block\" + 0.016*\"let\" + 0.016*\"big\" + 0.014*\"sure\" + 0.013*\"guess\" + 0.012*\"happy\" + 0.011*\"tell\" + 0.011*\"truly\" + 0.011*\"point\" + 0.010*\"vote\"'),\n",
              " (6,\n",
              "  '0.023*\"die\" + 0.019*\"believe\" + 0.018*\"run\" + 0.015*\"love\" + 0.010*\"state\" + 0.007*\"important\" + 0.005*\"listen\" + 0.003*\"criticize\" + 0.003*\"regard\" + 0.002*\"phrase\"'),\n",
              " (7,\n",
              "  '0.018*\"violence\" + 0.016*\"agree\" + 0.016*\"actually\" + 0.015*\"view\" + 0.013*\"blame\" + 0.009*\"society\" + 0.009*\"understand\" + 0.009*\"ask\" + 0.008*\"sick\" + 0.008*\"happen\"'),\n",
              " (8,\n",
              "  '0.109*\"culture\" + 0.073*\"cancel\" + 0.024*\"say\" + 0.022*\"go\" + 0.014*\"play\" + 0.013*\"try\" + 0.012*\"call\" + 0.011*\"different\" + 0.010*\"hard\" + 0.009*\"end\"'),\n",
              " (9,\n",
              "  '0.044*\"hate\" + 0.026*\"wake\" + 0.021*\"leave\" + 0.019*\"look\" + 0.016*\"good\" + 0.015*\"wrong\" + 0.012*\"sound\" + 0.012*\"support\" + 0.012*\"ve\" + 0.011*\"use\"')]"
            ]
          },
          "metadata": {},
          "execution_count": 45
        }
      ]
    },
    {
      "cell_type": "code",
      "source": [
        "vis2 = pyLDAvis.gensim.prepare(lda_model2, tfidf_corpus, id2word)\n",
        "vis2"
      ],
      "metadata": {
        "colab": {
          "base_uri": "https://localhost:8080/",
          "height": 917
        },
        "id": "9jirxG676-uK",
        "outputId": "212b4bc5-df34-4cd0-8aa1-f5d1603d4422"
      },
      "execution_count": 46,
      "outputs": [
        {
          "output_type": "stream",
          "name": "stderr",
          "text": [
            "/usr/local/lib/python3.9/dist-packages/pyLDAvis/_prepare.py:243: FutureWarning: In a future version of pandas all arguments of DataFrame.drop except for the argument 'labels' will be keyword-only.\n",
            "  default_term_info = default_term_info.sort_values(\n"
          ]
        },
        {
          "output_type": "execute_result",
          "data": {
            "text/plain": [
              "PreparedData(topic_coordinates=              x         y  topics  cluster       Freq\n",
              "topic                                                \n",
              "2      0.306013 -0.006415       1        1  48.517606\n",
              "8     -0.052206 -0.215283       2        1  14.036182\n",
              "9     -0.056356  0.077849       3        1  11.681656\n",
              "5     -0.044850  0.043957       4        1   8.987562\n",
              "7     -0.038879  0.029791       5        1   5.913299\n",
              "1     -0.033830  0.024542       6        1   4.582218\n",
              "6     -0.022334  0.013320       7        1   2.008938\n",
              "4     -0.020181  0.011451       8        1   1.753117\n",
              "3     -0.021375  0.012559       9        1   1.537877\n",
              "0     -0.016001  0.008229      10        1   0.981545, topic_info=                         Term        Freq       Total Category  logprob  \\\n",
              "1                     culture  216.000000  216.000000  Default  30.0000   \n",
              "0                      cancel  139.000000  139.000000  Default  29.0000   \n",
              "404                      hate   69.000000   69.000000  Default  28.0000   \n",
              "510                      wake   41.000000   41.000000  Default  27.0000   \n",
              "357                       say   56.000000   56.000000  Default  26.0000   \n",
              "...                       ...         ...         ...      ...      ...   \n",
              "8666                    tvext    0.013508    0.838856  Topic10  -9.1933   \n",
              "8848  bbcquestiontime_skynews    0.014417   26.946136  Topic10  -9.1282   \n",
              "1827                      sht    0.013577    1.960255  Topic10  -9.1882   \n",
              "707                   quickly    0.013464    1.375664  Topic10  -9.1966   \n",
              "5347                     luck    0.013472    3.155456  Topic10  -9.1960   \n",
              "\n",
              "      loglift  \n",
              "1     30.0000  \n",
              "0     29.0000  \n",
              "404   28.0000  \n",
              "510   27.0000  \n",
              "357   26.0000  \n",
              "...       ...  \n",
              "8666   0.4951  \n",
              "8848  -2.9094  \n",
              "1827  -0.3486  \n",
              "707   -0.0029  \n",
              "5347  -0.8325  \n",
              "\n",
              "[434 rows x 6 columns], token_table=      Topic      Freq         Term\n",
              "term                              \n",
              "1182      4  0.909511         able\n",
              "127       6  0.977309   absolutely\n",
              "1112      6  0.847547      account\n",
              "471       6  0.670197  accountable\n",
              "252       4  0.973888          act\n",
              "...     ...       ...          ...\n",
              "623       3  0.974144         word\n",
              "544       1  0.981145         work\n",
              "318       3  0.980397        wrong\n",
              "721       1  0.980425         year\n",
              "389       6  0.710028        young\n",
              "\n",
              "[241 rows x 3 columns], R=30, lambda_step=0.01, plot_opts={'xlab': 'PC1', 'ylab': 'PC2'}, topic_order=[3, 9, 10, 6, 8, 2, 7, 5, 4, 1])"
            ],
            "text/html": [
              "\n",
              "<link rel=\"stylesheet\" type=\"text/css\" href=\"https://cdn.jsdelivr.net/gh/bmabey/pyLDAvis@3.4.0/pyLDAvis/js/ldavis.v1.0.0.css\">\n",
              "\n",
              "\n",
              "<div id=\"ldavis_el1571405841640996805725828373\" style=\"background-color:white;\"></div>\n",
              "<script type=\"text/javascript\">\n",
              "\n",
              "var ldavis_el1571405841640996805725828373_data = {\"mdsDat\": {\"x\": [0.3060129507541168, -0.05220593985630668, -0.05635622760582527, -0.044850217317876744, -0.03887912843437967, -0.03383027768831962, -0.02233404897117539, -0.020181062090555132, -0.021374881798411426, -0.01600116699126715], \"y\": [-0.006414978590198618, -0.2152827200946886, 0.0778493148652686, 0.04395670642408685, 0.02979137334966889, 0.02454150001858529, 0.013320068150561064, 0.011451081508597088, 0.012558817829794873, 0.008228836538324378], \"topics\": [1, 2, 3, 4, 5, 6, 7, 8, 9, 10], \"cluster\": [1, 1, 1, 1, 1, 1, 1, 1, 1, 1], \"Freq\": [48.51760578740388, 14.03618197716925, 11.681656098960241, 8.987561955375547, 5.91329942669813, 4.5822180385308515, 2.00893799469525, 1.753117056916597, 1.5378767330456087, 0.9815449312046556]}, \"tinfo\": {\"Term\": [\"culture\", \"cancel\", \"hate\", \"wake\", \"say\", \"go\", \"leave\", \"look\", \"opinion\", \"good\", \"play\", \"new\", \"bad\", \"try\", \"wrong\", \"block\", \"let\", \"big\", \"fire\", \"real\", \"think\", \"right\", \"violence\", \"people\", \"sound\", \"call\", \"different\", \"support\", \"sure\", \"far\", \"fire\", \"right\", \"think\", \"s\", \"get\", \"thing\", \"re\", \"stop\", \"want\", \"work\", \"m\", \"finallevel\", \"need\", \"today\", \"people\", \"make\", \"know\", \"follower\", \"wing\", \"elonmusk\", \"shit\", \"time\", \"man\", \"way\", \"hi\", \"year\", \"come\", \"news\", \"like\", \"post\", \"bbcquestiontime_skynews\", \"twitter\", \"cancel\", \"go\", \"play\", \"try\", \"different\", \"hard\", \"end\", \"call\", \"speak\", \"pull\", \"lie\", \"watch\", \"stand\", \"lot\", \"mean\", \"liberal\", \"remove\", \"follow\", \"cause\", \"great\", \"show\", \"continue\", \"culture\", \"fucking\", \"black\", \"base\", \"example\", \"fight\", \"issue\", \"care\", \"conservative\", \"say\", \"hate\", \"wake\", \"leave\", \"look\", \"good\", \"wrong\", \"sound\", \"support\", \"ve\", \"use\", \"httpstco\", \"influence\", \"influencer\", \"lose\", \"word\", \"wokeness\", \"literally\", \"medium\", \"take\", \"see\", \"allow\", \"mind\", \"racism\", \"social\", \"apologize\", \"girl\", \"offend\", \"form\", \"child\", \"explain\", \"true\", \"say\", \"block\", \"let\", \"big\", \"sure\", \"guess\", \"happy\", \"tell\", \"truly\", \"point\", \"definitely\", \"smh\", \"destroy\", \"reason\", \"change\", \"money\", \"mob\", \"proof\", \"turn\", \"reality\", \"toxic\", \"human\", \"complain\", \"force\", \"act\", \"ruin\", \"probably\", \"head\", \"able\", \"exactly\", \"fake\", \"vote\", \"agree\", \"actually\", \"violence\", \"view\", \"blame\", \"society\", \"understand\", \"ask\", \"sick\", \"happen\", \"problem\", \"fine\", \"power\", \"political\", \"hand\", \"idea\", \"woke\", \"instead\", \"especially\", \"story\", \"expect\", \"mad\", \"oppose\", \"offensive\", \"white\", \"tho\", \"long\", \"rid\", \"chance\", \"room\", \"opinion\", \"new\", \"bad\", \"real\", \"voice\", \"open\", \"fuck\", \"life\", \"woman\", \"internet\", \"shut\", \"start\", \"strong\", \"wish\", \"hold\", \"generation\", \"social_media\", \"soft\", \"platform\", \"absolutely\", \"young\", \"be\", \"account\", \"discuss\", \"tbh\", \"artist\", \"alive\", \"honest\", \"accountable\", \"ass\", \"die\", \"believe\", \"run\", \"love\", \"state\", \"important\", \"listen\", \"criticize\", \"regard\", \"phrase\", \"art\", \"episode\", \"hot\", \"warn\", \"wokeist\", \"unterdrucken\", \"urusei\", \"diesis\", \"ihr\", \"neue\", \"neuen\", \"nr\", \"verruckte\", \"wollt\", \"zum\", \"exposing_celebritie\", \"teil\", \"blimlinger\", \"beverlyg\", \"waar\", \"stray\", \"fighting\", \"bringen\", \"rechtsextreman\", \"france\", \"thinksfeel\", \"plump\", \"welt\", \"sell\", \"einfach\", \"threshold\", \"actuality\", \"doodly\", \"schiff\", \"sfweb\", \"shifty\", \"squat\", \"nicht\", \"move\", \"little\", \"tweet\", \"wait\", \"thought\", \"late\", \"online\", \"ridiculous\", \"ill\", \"seriously\", \"wild\", \"dislike\", \"response\", \"pc\", \"rally\", \"cute\", \"deepeeart\", \"bore\", \"ekofall\", \"park\", \"tickisnt\", \"flu\", \"actin\", \"hjaszik\", \"httpstcop\", \"preform\", \"libs\", \"dart\", \"daddyhack\", \"bariweiss\", \"applie\", \"molsjame\", \"tyhenrymedium\", \"httpstcobgu\", \"distrust\", \"economicsdaily\", \"fable\", \"creativity\", \"existgreat\", \"wokene\", \"kavalauthoract\", \"sensible\", \"comeback\", \"dance\", \"brit\", \"leftard\", \"swing\", \"odd\", \"far\", \"guy\", \"quick\", \"read\", \"article\", \"podcast\", \"defend\", \"apply\", \"step\", \"fast\", \"bench\", \"clean\", \"fauxnew\", \"handbook\", \"erosion\", \"wortherworther\", \"buster_espn\", \"morph\", \"ugliness\", \"dinosaur\", \"ghetto\", \"maddening\", \"amithaknight\", \"generate\", \"httpstcot\", \"standupwi\", \"urfa\", \"newsbreaking\", \"boss\", \"jeffreyasach\", \"freezillygrrly\", \"clickbait\", \"cpcdouche\", \"freeforlife\", \"loot\", \"trucker\", \"vandalism\", \"denounce\", \"ddheyrnqb\", \"dtbbythesea\", \"crooked\", \"king\", \"jashnediwaliya\", \"whitepeppergdf\", \"beg\", \"actuality\", \"doodly\", \"schiff\", \"sfweb\", \"shifty\", \"squat\", \"degrease\", \"relay\", \"bash\", \"fing\", \"translation\", \"anxious\", \"cross\", \"pick\", \"sad\", \"buy\", \"club\", \"new_year\", \"funstarhumour\", \"smartcookie\", \"doublehelix\", \"farrakhan\", \"harveynici\", \"atheism\", \"dan\", \"meditation\", \"naomialderman\", \"httpstcosszq\", \"zoxk\", \"bang\", \"httpstcolad\", \"health_concern\", \"yll\", \"boy_george\", \"httptcon\", \"djb_money\", \"httpstcosrskl\", \"vy\", \"boygeorge\", \"seller\", \"middleman\", \"rudder\", \"wrecker\", \"uniformity\", \"darn\", \"provisionistp\", \"betty\", \"reallyactivist\", \"maker\", \"coffee\", \"poblacion\", \"jean\", \"suburbsjust\", \"tpain\", \"dampd\", \"catering\", \"cow\", \"towing\", \"communautariste\", \"esprit\", \"terrorriste\", \"zemmourisation\", \"sneaker\", \"organization\", \"recognition\", \"amaze\", \"chescaleigh\", \"timing\", \"suspicious\", \"queer\", \"gift\", \"tvext\", \"bbcquestiontime_skynews\", \"sht\", \"quickly\", \"luck\"], \"Freq\": [216.0, 139.0, 69.0, 41.0, 56.0, 41.0, 34.0, 30.0, 18.0, 25.0, 27.0, 16.0, 15.0, 25.0, 23.0, 20.0, 20.0, 19.0, 76.0, 13.0, 75.0, 73.0, 14.0, 81.0, 20.0, 22.0, 22.0, 19.0, 17.0, 8.0, 75.88721921637764, 72.83166081269214, 75.40839256787208, 63.51979083560698, 58.35961445931168, 48.864941159912426, 46.528176020758615, 43.77256289544811, 43.127336038749235, 42.38778057684361, 49.265481607778135, 41.619466170165644, 41.14998434459472, 40.42144580838633, 80.3385890918074, 43.95473039075194, 38.601070021114204, 38.532755299837376, 37.04800141130996, 40.030840157556135, 33.20594333708054, 32.71649104103791, 31.046879619855513, 30.709906588713974, 33.504904306333884, 29.1596808592922, 28.96028489749847, 28.761839619359527, 26.888194978813285, 25.622511007070543, 26.45836980614751, 31.140954505630273, 138.1311179343764, 41.336996019821676, 26.904910901903893, 25.491105863089075, 21.68554196593655, 18.479162066931625, 17.531295678386943, 22.160242777929454, 16.208032387805954, 16.018351219127076, 15.389081558705689, 15.177360564183562, 13.682696549511041, 13.454332930699367, 12.327974197670045, 11.944037106316339, 10.248236908754699, 10.160639169036727, 9.709396683836133, 9.39954796780021, 9.286224422216733, 9.237426751475837, 206.2300304094324, 7.93875641157597, 8.383407819735808, 7.605793381758449, 7.567469978623983, 7.446099712257756, 7.267746653246605, 6.724281266255967, 12.632484963750514, 46.24374291121428, 69.49770230659914, 40.85903706627856, 33.815140643647545, 30.379213738575114, 24.685469690227173, 22.962554396864753, 19.678478546426796, 19.18131313867202, 18.410277371405687, 18.0186035429642, 15.528788829755669, 15.55687035991069, 13.663363855683594, 12.958082764310996, 11.867377997929747, 11.815968793133445, 11.75478323552881, 10.339916896250967, 9.87130479777868, 9.765735201948214, 9.193995571834126, 8.68892915170282, 8.282987868681078, 8.123364602523907, 7.730499918188128, 7.193133923940004, 6.865934858907597, 6.764812940561189, 6.659241872720965, 6.056225715271927, 6.767510398442884, 9.424243658169663, 19.82887397429908, 19.636029717251706, 19.072403252921138, 16.596810205922225, 15.974669522321603, 14.612056179189263, 13.52780865917082, 13.435599527253954, 12.943502270635806, 11.528364638086494, 11.457864896480421, 11.151435079840445, 10.954583945912715, 10.793143501475699, 10.631838960155033, 10.441262020098751, 9.645584382180077, 9.42876908046067, 7.568889065922054, 7.548257840334298, 6.184656368293504, 5.848709527308483, 5.753240985651178, 5.702946639868301, 5.521708508957138, 5.356562439547672, 5.2751055091859556, 5.0393747587226985, 4.975920461173354, 4.7982526183812775, 11.748255880339268, 13.015950702760637, 12.998153850084293, 14.413283809374713, 12.397242568066087, 10.355484412655187, 7.141452847023532, 7.049891154676494, 6.892892274036708, 6.670714767651431, 6.620127415105914, 6.514426747732346, 6.359354791436096, 6.109654158802863, 5.827326211308671, 5.375154711158496, 5.142659292404715, 4.993074152583187, 4.630449121699194, 4.402424897656701, 4.137900509072069, 4.014392184535309, 3.9221706733536994, 3.1394545266050238, 3.1101847991732896, 3.071754357171007, 3.0040094795155627, 2.9643743372300575, 2.946398092815233, 2.9019223541388928, 2.9679401904574334, 18.372254892281056, 15.852100961452544, 15.374168508458336, 13.461162627075211, 9.589146541287631, 9.284826506758181, 7.028108732458162, 5.8336985296546295, 5.633628168956729, 4.6330254821382555, 4.527784689240685, 3.9634721533588246, 3.5240920090159724, 3.2727323192895867, 3.2511814702009687, 3.1531146702167514, 2.913428705930079, 2.8217578429655576, 2.7634097137144678, 2.5849742148194923, 2.332027233329349, 2.1573710074124506, 1.8751066200161681, 1.8221976644335387, 1.7286655300974376, 1.58525265103903, 1.5182702666444874, 1.3441475647689543, 1.0075583477208518, 0.897822297200948, 6.23057778438119, 5.208201555771727, 4.801531007572902, 4.194948998606082, 2.664251292450852, 1.9878585523842147, 1.3317435208114685, 0.7754267621815264, 0.6804630908655921, 0.6279890695660559, 0.6244512135059284, 0.5852088700671341, 0.3876895219849232, 0.103749913615023, 0.03332674474121086, 0.026579678751008865, 0.026196851249636503, 0.02708826296350926, 0.02708826296350926, 0.02708826296350926, 0.02708826296350926, 0.02708826296350926, 0.02708826296350926, 0.02708826296350926, 0.02708826296350926, 0.02529883200321969, 0.025302306841495627, 0.03605297192804034, 0.024944768331036406, 0.02514102846259634, 0.02543684656729835, 0.02784600909985361, 0.02588932311793858, 0.029330255516013263, 0.02912823035680714, 0.027068895239413505, 0.028265341191378066, 0.02884372278147342, 0.029054631818616655, 0.027720424449584998, 0.027285636546377875, 0.027740031476715124, 0.027740031476715124, 0.027740031476715124, 0.027740031476715124, 0.027740031476715124, 0.027740031476715124, 0.027696921331730004, 3.763973948763727, 2.7462620748913418, 2.2908175387621834, 1.8585551738367299, 1.4267268988722566, 1.3076018993996457, 1.2445550269243848, 1.0853036571935613, 1.0600699967162475, 0.807274339047989, 0.7999012161280558, 0.5035262400412293, 0.3667060548360691, 0.25135774847944503, 0.03940947980022976, 0.028243285290511736, 0.02767058062968254, 0.025242811021894986, 0.027771585245126216, 0.022700775239900363, 0.022653522738939516, 0.022893235251027447, 0.02263499383538878, 0.02263499383538878, 0.02231414833560337, 0.02231414833560337, 0.022424690089741288, 0.0222535945809479, 0.022205677621355627, 0.022316640486937878, 0.022400524505956136, 0.0235148509705962, 0.022980764300252407, 0.022698367656028038, 0.023589473989572243, 0.023589473989572243, 0.02335465085749169, 0.023697299229720883, 0.030460685569721938, 0.030460685569721938, 0.023849013256875416, 0.023849013256875416, 0.02369906996882698, 0.023421868182993792, 0.025148314649306176, 0.023472648355234226, 0.02375145174524915, 0.02364681072893165, 8.453384521204331, 4.893351520258567, 2.7709824078146466, 1.0651191391977792, 0.9015961188755209, 0.6913054149400658, 0.6866944619673817, 0.6179675478177546, 0.4902394268819191, 0.02105504106838575, 0.021025468654275084, 0.01977202251092348, 0.01947761552541384, 0.01947761552541384, 0.019621065881703176, 0.01951393571250824, 0.019478274103212345, 0.019478274103212345, 0.019235278577200476, 0.019206887061211264, 0.01907930161699205, 0.019362562741001524, 0.019135226226874497, 0.01912922635603435, 0.019133046107265662, 0.019133046107265662, 0.019133046107265662, 0.01906045418017929, 0.019051706450248843, 0.019051706450248843, 0.019085507388017477, 0.019128505705385875, 0.03639216737681408, 0.03639216737681408, 0.03639216737681408, 0.03639216737681408, 0.03639216737681408, 0.03323537840677353, 0.01938913446270614, 0.019370217383183654, 0.021694088628725242, 0.02134712410695125, 0.019606318280932584, 0.020158288230562562, 0.02029124070534658, 0.026545269586695557, 0.026545269586695557, 0.026545269586695557, 0.026545269586695557, 0.026545269586695557, 0.026545269586695557, 0.02008954330620261, 0.023623648907682374, 0.02310486370923714, 0.023036959039309763, 0.022930304257307306, 0.020864637899993103, 0.022487627942789645, 0.02409618529098131, 1.3840173575090522, 1.0350133825722148, 0.8478960365892527, 0.18547233766652396, 0.015812191185368793, 0.015444304169243923, 0.01373861491280593, 0.013245278619372613, 0.013196795130018004, 0.013442366540104519, 0.013442366540104519, 0.013442366540104519, 0.013442366540104519, 0.01318170074860877, 0.01318170074860877, 0.013149044086800532, 0.013145596372001982, 0.013145409878460468, 0.013144235838807935, 0.013145365429222594, 0.013143960446790675, 0.013143957547927335, 0.013144651342553276, 0.013144651342553276, 0.013143488898354101, 0.013143140068465571, 0.01314313910217779, 0.01314313910217779, 0.01314313910217779, 0.013143138135890011, 0.013691280339621578, 0.015322140270387008, 0.013213805660094707, 0.013213805660094707, 0.013160798011354781, 0.013151494592610264, 0.013464356351110854, 0.013156154032284761, 0.013486161601151235, 0.013486161601151235, 0.013258064539275756, 0.01320126421099987, 0.01320126421099987, 0.01320126421099987, 0.013278049303138875, 0.013278049303138875, 0.013278049303138875, 0.013278049303138875, 0.013351348995255917, 0.013331372927982815, 0.013545797984061017, 0.013525089470650781, 0.013489750393965643, 0.01338072414376374, 0.013362213935052693, 0.013730790880652382, 0.013500902321233039, 0.013508170737913166, 0.014417371202029312, 0.013577341482346853, 0.013464073228791354, 0.013471918519276059], \"Total\": [216.0, 139.0, 69.0, 41.0, 56.0, 41.0, 34.0, 30.0, 18.0, 25.0, 27.0, 16.0, 15.0, 25.0, 23.0, 20.0, 20.0, 19.0, 76.0, 13.0, 75.0, 73.0, 14.0, 81.0, 20.0, 22.0, 22.0, 19.0, 17.0, 8.0, 76.30667715118555, 73.2510449312976, 75.89959201388774, 63.94479530894281, 58.783509300826225, 49.285504835494116, 46.94756105302976, 44.19253648506227, 43.55238334615798, 42.807128243207, 49.75433321648421, 42.04074138995547, 41.57485155279985, 40.84098490051013, 81.18290900040209, 44.4240459392241, 39.02060212214258, 38.95232668315708, 37.497574435889405, 40.529788830637116, 33.625308739497285, 33.14392648362216, 31.46622535922, 31.129813078270402, 33.97027517796632, 29.579012927654738, 29.38052362298229, 29.181893040101606, 27.307530003237186, 26.04256681576622, 26.946136260744808, 33.198053480161484, 139.49661597778052, 41.951823349973296, 27.353266132237863, 25.940548761840553, 22.133801068476693, 18.927517630412403, 17.97943595162384, 22.730114992441447, 16.656376170080677, 16.46711411719324, 15.837373810794647, 15.625551138357109, 14.130826225005684, 13.90251531859538, 12.776132942273124, 12.39225321205135, 10.696393134902115, 10.60910313311089, 10.157529411030106, 9.847662716088825, 9.734372248093125, 9.68564735139727, 216.47511825527826, 8.386968288735126, 8.861880319069556, 8.053973272774845, 8.015607400782732, 7.894400400115424, 7.7159005771875515, 7.1724103627364, 13.649251006725128, 56.03574816000658, 69.94883092363327, 41.31017273647492, 34.26627800202636, 30.83804638505057, 25.136610425220685, 23.459892279754374, 20.12960795106608, 19.633360974246774, 18.861479359823967, 18.469884844431707, 15.980135863675846, 16.009189321970368, 14.11589602026096, 13.409217756388724, 12.318511783147647, 12.267085086700826, 12.205869662962222, 10.79113857161634, 10.322428063314833, 10.216839093304522, 9.645075120348311, 9.14004865503895, 8.73414844771005, 8.57463779351657, 8.181662233348076, 7.644265127668917, 7.317027734426716, 7.216137057294118, 7.110357579121743, 6.5074848399691785, 7.278724920279112, 56.03574816000658, 20.287004612737096, 20.095999254479867, 19.530890598661994, 17.05481306646216, 16.432716201247608, 15.070729391923182, 13.985810113180436, 13.893835327828807, 13.401453821107681, 11.98661462396801, 11.915841921751245, 11.609508672248428, 11.412631486597817, 11.257121000342721, 11.08983704745574, 10.8993400212251, 10.104196698630076, 9.886770273212404, 8.026914215493614, 8.006182550730234, 6.642676390214548, 6.306622583945275, 6.21138700312211, 6.160872457113585, 5.979639478204761, 5.814511337038126, 5.733086867637032, 5.497462629084747, 5.433893953007388, 5.256679483704018, 12.986150149444995, 13.491459945010728, 13.473662680879352, 14.943737323023798, 12.872869164705842, 10.83161312230604, 7.616770650095958, 7.5251543787411235, 7.368197736429673, 7.145987602806843, 7.095713059195862, 6.989719411391756, 6.834644686038958, 6.5850514519369385, 6.302686912411866, 5.850588963655311, 5.617909650113539, 5.468405185776433, 5.1058750567345275, 4.888406633471791, 4.613192194453951, 4.489812519093694, 4.397397512490569, 3.6147555630251613, 3.5855003746211636, 3.54705052517185, 3.479498440309792, 3.4395897043493107, 3.421682145798183, 3.377321036876573, 3.458744794025583, 18.857204936410778, 16.337527017759985, 15.859011431273554, 13.945848705834296, 10.074693232672788, 9.77027476357887, 7.5127872538445395, 6.318397963320164, 6.118449707299184, 5.117875437701054, 5.012548807887, 4.448226149261291, 4.008912089669616, 3.757450131335448, 3.7358777617031054, 3.637942558753774, 3.398119100363811, 3.306473503586346, 3.248152331205505, 3.06965318963741, 2.8167899929019633, 2.64277963724763, 2.3597497647663968, 2.306847627064138, 2.216543841863725, 2.0700343766723583, 2.0028226317202074, 1.8301517561281102, 1.4920976620864685, 1.3825182589810707, 6.737928759492613, 5.71600223150536, 5.310648590392195, 4.702507395645309, 3.171852705411448, 2.495793752913614, 1.8390237843932098, 1.2826297262061053, 1.1878981543681009, 1.134982144927037, 1.133460978358367, 1.0923437013862163, 0.895423373635035, 0.6108963065886406, 0.665662828194743, 0.5567609281297254, 0.552696970410274, 0.5751493039621048, 0.5751493039621048, 0.5751493039621048, 0.5751493039621048, 0.5751493039621048, 0.5751493039621048, 0.5751493039621048, 0.5751493039621048, 0.5378321170340672, 0.5380903836439046, 0.7714709277228234, 0.5353072494026662, 0.5408863564846833, 0.5485129857971021, 0.6120221622126242, 0.5606404298502156, 0.6671823003238012, 0.6714098053031339, 0.6016269469711755, 0.6709833738547234, 0.7364919915536463, 0.8600523793759198, 0.8164464603595369, 0.6427649238339249, 1.2166753077270873, 1.2166753077270873, 1.2166753077270873, 1.2166753077270873, 1.2166753077270873, 1.2166753077270873, 5.520380082525041, 4.27995220323448, 3.2563647712753747, 2.8007584538200074, 2.3682984648470744, 1.9363432148258657, 1.8172204923738755, 1.7548726625140652, 1.5955991346106246, 1.570463358042415, 1.3175766277114065, 1.3125033919805238, 1.0130996912631094, 0.8768045090857968, 0.76424384299867, 0.5487059526636092, 0.537596329967642, 0.5372370082164308, 0.544751588656647, 0.619899409561421, 0.5320166327549579, 0.535749613009963, 0.5446648015553425, 0.5387005766026146, 0.5387005766026146, 0.5336071654231177, 0.5336071654231177, 0.5364056096615385, 0.5323846355509386, 0.5316678026573721, 0.5343495965297032, 0.536759951128994, 0.5731259792981584, 0.5569078250330547, 0.5501677701812204, 0.5902687919883642, 0.5902687919883642, 0.5875924379572663, 0.6077180107608353, 1.473537326915527, 1.473537326915527, 0.6418240902530796, 0.6418240902530796, 0.6322409101212935, 0.6156506207452459, 0.9454230424338665, 0.6464998259684434, 1.2909762716857869, 3.948042889685497, 8.967550447257487, 5.406904953733766, 3.292145032307722, 1.5780489284475534, 1.414080539270783, 1.204027496110522, 1.199434471236768, 1.1308780577354658, 1.002846996920131, 0.5483749360115974, 0.5626067852784473, 0.5321341450463486, 0.5363929980982373, 0.5363929980982373, 0.5444940441287202, 0.5425805024591673, 0.5423437375104297, 0.5423437375104297, 0.535619135475401, 0.5348926449957836, 0.5318057357962633, 0.5397038744428589, 0.5334777439775488, 0.5334508779367483, 0.5336431360765286, 0.5336431360765286, 0.5336431360765286, 0.5316853351446151, 0.5315647044315408, 0.5315647044315408, 0.5325141292177257, 0.5340679639113887, 1.1694567000989906, 1.1694567000989906, 1.1694567000989906, 1.1694567000989906, 1.1694567000989906, 1.1122838052563149, 0.5444747348708128, 0.5438620647711332, 0.6584893662093739, 0.6482507341821258, 0.5578306595392302, 0.5945443506725833, 0.6038797977070296, 1.2166753077270873, 1.2166753077270873, 1.2166753077270873, 1.2166753077270873, 1.2166753077270873, 1.2166753077270873, 0.6133600692059279, 1.3281757316800629, 1.2404430929325492, 1.5089353177115832, 1.9984998888758103, 0.8557998198561174, 3.542114153997385, 20.524648661175366, 1.9034465937693206, 1.5545853561850729, 1.3674823122432498, 0.7038702808319532, 0.583882193893451, 0.5865638727339598, 0.5465214403106905, 0.5334700837733768, 0.5321648587193016, 0.5423150425151514, 0.5423150425151514, 0.5423150425151514, 0.5423150425151514, 0.5324233744490782, 0.5324233744490782, 0.531524431052948, 0.5314485513727184, 0.5314445319497877, 0.5314013651420113, 0.5314529593951035, 0.531401089749994, 0.5314010868511306, 0.5314432053502393, 0.5314432053502393, 0.5314006182015575, 0.531400269371669, 0.5314002684053811, 0.5314002684053811, 0.5314002684053811, 0.5314002674390933, 0.5596032015063939, 0.6802059295806073, 0.5364870222122009, 0.5364870222122009, 0.5326818106843009, 0.5320405592786426, 0.5594085123587722, 0.5327728011435436, 0.5735549290155211, 0.5735549290155211, 0.5451152621786365, 0.5383917562320835, 0.5383917562320835, 0.5383917562320835, 0.5525033203078519, 0.5525033203078519, 0.5525033203078519, 0.5525033203078519, 0.5674891239616289, 0.5643178237728202, 0.6124526862270716, 0.6083702879796767, 0.6137338170341706, 0.5939964152269517, 0.5903084747427273, 0.8427793654685305, 0.6920153701372482, 0.8388556373487402, 26.946136260744808, 1.960255171823457, 1.3756635838776659, 3.1554557070305775], \"Category\": [\"Default\", \"Default\", \"Default\", \"Default\", \"Default\", \"Default\", \"Default\", \"Default\", \"Default\", \"Default\", \"Default\", \"Default\", \"Default\", \"Default\", \"Default\", \"Default\", \"Default\", \"Default\", \"Default\", \"Default\", \"Default\", \"Default\", \"Default\", \"Default\", \"Default\", \"Default\", \"Default\", \"Default\", \"Default\", \"Default\", \"Topic1\", \"Topic1\", \"Topic1\", \"Topic1\", \"Topic1\", \"Topic1\", \"Topic1\", \"Topic1\", \"Topic1\", \"Topic1\", \"Topic1\", \"Topic1\", \"Topic1\", \"Topic1\", \"Topic1\", \"Topic1\", \"Topic1\", \"Topic1\", \"Topic1\", \"Topic1\", \"Topic1\", \"Topic1\", \"Topic1\", \"Topic1\", \"Topic1\", \"Topic1\", \"Topic1\", \"Topic1\", \"Topic1\", \"Topic1\", \"Topic1\", \"Topic1\", \"Topic2\", \"Topic2\", \"Topic2\", \"Topic2\", \"Topic2\", \"Topic2\", \"Topic2\", \"Topic2\", \"Topic2\", \"Topic2\", \"Topic2\", \"Topic2\", \"Topic2\", \"Topic2\", \"Topic2\", \"Topic2\", \"Topic2\", \"Topic2\", \"Topic2\", \"Topic2\", \"Topic2\", \"Topic2\", \"Topic2\", \"Topic2\", \"Topic2\", \"Topic2\", \"Topic2\", \"Topic2\", \"Topic2\", \"Topic2\", \"Topic2\", \"Topic2\", \"Topic3\", \"Topic3\", \"Topic3\", \"Topic3\", \"Topic3\", \"Topic3\", \"Topic3\", \"Topic3\", \"Topic3\", \"Topic3\", \"Topic3\", \"Topic3\", \"Topic3\", \"Topic3\", \"Topic3\", \"Topic3\", \"Topic3\", \"Topic3\", \"Topic3\", \"Topic3\", \"Topic3\", \"Topic3\", \"Topic3\", \"Topic3\", \"Topic3\", \"Topic3\", \"Topic3\", \"Topic3\", \"Topic3\", \"Topic3\", \"Topic3\", \"Topic3\", \"Topic4\", \"Topic4\", \"Topic4\", \"Topic4\", \"Topic4\", \"Topic4\", \"Topic4\", \"Topic4\", \"Topic4\", \"Topic4\", \"Topic4\", \"Topic4\", \"Topic4\", \"Topic4\", \"Topic4\", \"Topic4\", \"Topic4\", \"Topic4\", \"Topic4\", \"Topic4\", \"Topic4\", \"Topic4\", \"Topic4\", \"Topic4\", \"Topic4\", \"Topic4\", \"Topic4\", \"Topic4\", \"Topic4\", \"Topic4\", \"Topic4\", \"Topic5\", \"Topic5\", \"Topic5\", \"Topic5\", \"Topic5\", \"Topic5\", \"Topic5\", \"Topic5\", \"Topic5\", \"Topic5\", \"Topic5\", \"Topic5\", \"Topic5\", \"Topic5\", \"Topic5\", \"Topic5\", \"Topic5\", \"Topic5\", \"Topic5\", \"Topic5\", \"Topic5\", \"Topic5\", \"Topic5\", \"Topic5\", \"Topic5\", \"Topic5\", \"Topic5\", \"Topic5\", \"Topic5\", \"Topic5\", \"Topic6\", \"Topic6\", \"Topic6\", \"Topic6\", \"Topic6\", \"Topic6\", \"Topic6\", \"Topic6\", \"Topic6\", \"Topic6\", \"Topic6\", \"Topic6\", \"Topic6\", \"Topic6\", \"Topic6\", \"Topic6\", \"Topic6\", \"Topic6\", \"Topic6\", \"Topic6\", \"Topic6\", \"Topic6\", \"Topic6\", \"Topic6\", \"Topic6\", \"Topic6\", \"Topic6\", \"Topic6\", \"Topic6\", \"Topic6\", \"Topic7\", \"Topic7\", \"Topic7\", \"Topic7\", \"Topic7\", \"Topic7\", \"Topic7\", \"Topic7\", \"Topic7\", \"Topic7\", \"Topic7\", \"Topic7\", \"Topic7\", \"Topic7\", \"Topic7\", \"Topic7\", \"Topic7\", \"Topic7\", \"Topic7\", \"Topic7\", \"Topic7\", \"Topic7\", \"Topic7\", \"Topic7\", \"Topic7\", \"Topic7\", \"Topic7\", \"Topic7\", \"Topic7\", \"Topic7\", \"Topic7\", \"Topic7\", \"Topic7\", \"Topic7\", \"Topic7\", \"Topic7\", \"Topic7\", \"Topic7\", \"Topic7\", \"Topic7\", \"Topic7\", \"Topic7\", \"Topic7\", \"Topic7\", \"Topic7\", \"Topic7\", \"Topic7\", \"Topic7\", \"Topic8\", \"Topic8\", \"Topic8\", \"Topic8\", \"Topic8\", \"Topic8\", \"Topic8\", \"Topic8\", \"Topic8\", \"Topic8\", \"Topic8\", \"Topic8\", \"Topic8\", \"Topic8\", \"Topic8\", \"Topic8\", \"Topic8\", \"Topic8\", \"Topic8\", \"Topic8\", \"Topic8\", \"Topic8\", \"Topic8\", \"Topic8\", \"Topic8\", \"Topic8\", \"Topic8\", \"Topic8\", \"Topic8\", \"Topic8\", \"Topic8\", \"Topic8\", \"Topic8\", \"Topic8\", \"Topic8\", \"Topic8\", \"Topic8\", \"Topic8\", \"Topic8\", \"Topic8\", \"Topic8\", \"Topic8\", \"Topic8\", \"Topic8\", \"Topic8\", \"Topic8\", \"Topic8\", \"Topic8\", \"Topic9\", \"Topic9\", \"Topic9\", \"Topic9\", \"Topic9\", \"Topic9\", \"Topic9\", \"Topic9\", \"Topic9\", \"Topic9\", \"Topic9\", \"Topic9\", \"Topic9\", \"Topic9\", \"Topic9\", \"Topic9\", \"Topic9\", \"Topic9\", \"Topic9\", \"Topic9\", \"Topic9\", \"Topic9\", \"Topic9\", \"Topic9\", \"Topic9\", \"Topic9\", \"Topic9\", \"Topic9\", \"Topic9\", \"Topic9\", \"Topic9\", \"Topic9\", \"Topic9\", \"Topic9\", \"Topic9\", \"Topic9\", \"Topic9\", \"Topic9\", \"Topic9\", \"Topic9\", \"Topic9\", \"Topic9\", \"Topic9\", \"Topic9\", \"Topic9\", \"Topic9\", \"Topic9\", \"Topic9\", \"Topic9\", \"Topic9\", \"Topic9\", \"Topic9\", \"Topic9\", \"Topic9\", \"Topic9\", \"Topic9\", \"Topic9\", \"Topic9\", \"Topic9\", \"Topic10\", \"Topic10\", \"Topic10\", \"Topic10\", \"Topic10\", \"Topic10\", \"Topic10\", \"Topic10\", \"Topic10\", \"Topic10\", \"Topic10\", \"Topic10\", \"Topic10\", \"Topic10\", \"Topic10\", \"Topic10\", \"Topic10\", \"Topic10\", \"Topic10\", \"Topic10\", \"Topic10\", \"Topic10\", \"Topic10\", \"Topic10\", \"Topic10\", \"Topic10\", \"Topic10\", \"Topic10\", \"Topic10\", \"Topic10\", \"Topic10\", \"Topic10\", \"Topic10\", \"Topic10\", \"Topic10\", \"Topic10\", \"Topic10\", \"Topic10\", \"Topic10\", \"Topic10\", \"Topic10\", \"Topic10\", \"Topic10\", \"Topic10\", \"Topic10\", \"Topic10\", \"Topic10\", \"Topic10\", \"Topic10\", \"Topic10\", \"Topic10\", \"Topic10\", \"Topic10\", \"Topic10\", \"Topic10\", \"Topic10\", \"Topic10\", \"Topic10\", \"Topic10\", \"Topic10\", \"Topic10\", \"Topic10\"], \"logprob\": [30.0, 29.0, 28.0, 27.0, 26.0, 25.0, 24.0, 23.0, 22.0, 21.0, 20.0, 19.0, 18.0, 17.0, 16.0, 15.0, 14.0, 13.0, 12.0, 11.0, 10.0, 9.0, 8.0, 7.0, 6.0, 5.0, 4.0, 3.0, 2.0, 1.0, -4.4602, -4.5013, -4.4665, -4.6381, -4.7228, -4.9004, -4.9494, -5.0104, -5.0253, -5.0426, -4.8922, -5.0609, -5.0722, -5.0901, -4.4032, -5.0063, -5.1362, -5.1379, -5.1772, -5.0998, -5.2867, -5.3016, -5.3539, -5.3649, -5.2777, -5.4167, -5.4235, -5.4304, -5.4978, -5.546, -5.5139, -5.3509, -2.6209, -3.8274, -4.2568, -4.3108, -4.4725, -4.6325, -4.6852, -4.4509, -4.7636, -4.7754, -4.8155, -4.8293, -4.933, -4.9499, -5.0373, -5.0689, -5.222, -5.2306, -5.2761, -5.3085, -5.3206, -5.3259, -2.2202, -5.4774, -5.4229, -5.5202, -5.5253, -5.5415, -5.5657, -5.6434, -5.0129, -3.7152, -3.1242, -3.6554, -3.8446, -3.9518, -4.1593, -4.2317, -4.386, -4.4116, -4.4526, -4.4741, -4.6228, -4.621, -4.7508, -4.8038, -4.8917, -4.8961, -4.9013, -5.0295, -5.0759, -5.0867, -5.147, -5.2035, -5.2513, -5.2708, -5.3204, -5.3924, -5.439, -5.4538, -5.4695, -5.5644, -5.4534, -5.1222, -4.1162, -4.126, -4.1551, -4.2941, -4.3324, -4.4215, -4.4986, -4.5054, -4.5428, -4.6585, -4.6647, -4.6918, -4.7096, -4.7244, -4.7395, -4.7576, -4.8369, -4.8596, -5.0793, -5.082, -5.2813, -5.3371, -5.3536, -5.3624, -5.3947, -5.425, -5.4404, -5.4861, -5.4987, -5.5351, -4.6397, -4.1185, -4.1199, -4.0166, -4.1672, -4.3472, -4.7188, -4.7317, -4.7542, -4.787, -4.7946, -4.8107, -4.8348, -4.8748, -4.9222, -5.0029, -5.0471, -5.0767, -5.1521, -5.2026, -5.2645, -5.2948, -5.3181, -5.5407, -5.55, -5.5625, -5.5848, -5.5981, -5.6041, -5.6193, -5.5968, -3.5189, -3.6664, -3.697, -3.8299, -4.1691, -4.2013, -4.4798, -4.666, -4.7009, -4.8965, -4.9195, -5.0526, -5.1701, -5.2441, -5.2507, -5.2813, -5.3604, -5.3923, -5.4132, -5.48, -5.583, -5.6608, -5.801, -5.8297, -5.8823, -5.969, -6.0121, -6.1339, -6.4222, -6.5375, -3.7757, -3.9549, -4.0362, -4.1712, -4.6252, -4.9181, -5.3186, -5.8595, -5.9901, -6.0704, -6.076, -6.1409, -6.5527, -7.8709, -9.0065, -9.2327, -9.2472, -9.2138, -9.2138, -9.2138, -9.2138, -9.2138, -9.2138, -9.2138, -9.2138, -9.2821, -9.282, -8.9279, -9.2962, -9.2884, -9.2767, -9.1862, -9.259, -9.1343, -9.1412, -9.2145, -9.1712, -9.151, -9.1437, -9.1907, -9.2065, -9.19, -9.19, -9.19, -9.19, -9.19, -9.19, -9.1916, -4.1434, -4.4587, -4.64, -4.8491, -5.1135, -5.2007, -5.2501, -5.387, -5.4106, -5.683, -5.6922, -6.155, -6.4721, -6.8498, -8.7027, -9.0358, -9.0563, -9.1481, -9.0527, -9.2543, -9.2563, -9.2458, -9.2572, -9.2572, -9.2714, -9.2714, -9.2665, -9.2742, -9.2763, -9.2713, -9.2676, -9.219, -9.242, -9.2544, -9.2159, -9.2159, -9.2259, -9.2113, -8.9602, -8.9602, -9.2049, -9.2049, -9.2112, -9.223, -9.1519, -9.2208, -9.209, -9.2134, -3.2033, -3.75, -4.3187, -5.2748, -5.4415, -5.7071, -5.7138, -5.8192, -6.0508, -9.1985, -9.1999, -9.2614, -9.2764, -9.2764, -9.2691, -9.2745, -9.2764, -9.2764, -9.2889, -9.2904, -9.2971, -9.2823, -9.2941, -9.2945, -9.2943, -9.2943, -9.2943, -9.2981, -9.2985, -9.2985, -9.2967, -9.2945, -8.6513, -8.6513, -8.6513, -8.6513, -8.6513, -8.7421, -9.281, -9.2819, -9.1686, -9.1848, -9.2698, -9.2421, -9.2355, -8.9668, -8.9668, -8.9668, -8.9668, -8.9668, -8.9668, -9.2455, -9.0834, -9.1056, -9.1086, -9.1132, -9.2076, -9.1327, -9.0636, -4.5639, -4.8545, -5.0539, -6.5737, -9.0359, -9.0594, -9.1764, -9.213, -9.2167, -9.1982, -9.1982, -9.1982, -9.1982, -9.2178, -9.2178, -9.2203, -9.2206, -9.2206, -9.2207, -9.2206, -9.2207, -9.2207, -9.2206, -9.2206, -9.2207, -9.2207, -9.2207, -9.2207, -9.2207, -9.2207, -9.1799, -9.0673, -9.2154, -9.2154, -9.2194, -9.2201, -9.1966, -9.2198, -9.195, -9.195, -9.212, -9.2163, -9.2163, -9.2163, -9.2105, -9.2105, -9.2105, -9.2105, -9.205, -9.2065, -9.1906, -9.1921, -9.1947, -9.2028, -9.2042, -9.177, -9.1939, -9.1933, -9.1282, -9.1882, -9.1966, -9.196], \"loglift\": [30.0, 29.0, 28.0, 27.0, 26.0, 25.0, 24.0, 23.0, 22.0, 21.0, 20.0, 19.0, 18.0, 17.0, 16.0, 15.0, 14.0, 13.0, 12.0, 11.0, 10.0, 9.0, 8.0, 7.0, 6.0, 5.0, 4.0, 3.0, 2.0, 1.0, 0.7177, 0.7175, 0.7168, 0.7166, 0.716, 0.7147, 0.7143, 0.7137, 0.7134, 0.7134, 0.7134, 0.7132, 0.713, 0.7129, 0.7128, 0.7126, 0.7124, 0.7124, 0.7112, 0.7109, 0.7107, 0.7103, 0.7098, 0.7097, 0.7094, 0.709, 0.7088, 0.7087, 0.7078, 0.707, 0.705, 0.6593, 1.9537, 1.9488, 1.947, 1.9461, 1.9431, 1.9396, 1.9383, 1.9381, 1.9362, 1.9359, 1.9348, 1.9344, 1.9313, 1.9308, 1.9278, 1.9267, 1.9207, 1.9203, 1.9184, 1.917, 1.9164, 1.9161, 1.915, 1.9086, 1.908, 1.9063, 1.906, 1.9051, 1.9037, 1.899, 1.8861, 1.7715, 2.1407, 2.1362, 2.1339, 2.1322, 2.129, 2.1257, 2.1245, 2.1239, 2.1229, 2.1224, 2.1185, 2.1185, 2.1146, 2.1129, 2.1098, 2.1097, 2.1095, 2.1044, 2.1025, 2.102, 2.0993, 2.0965, 2.0941, 2.0931, 2.0904, 2.0863, 2.0835, 2.0826, 2.0816, 2.0753, 2.0743, 0.3644, 2.3865, 2.3862, 2.3856, 2.3821, 2.3811, 2.3784, 2.376, 2.3758, 2.3746, 2.3703, 2.3701, 2.3691, 2.3684, 2.3672, 2.3672, 2.3664, 2.3629, 2.3619, 2.3506, 2.3504, 2.3379, 2.3339, 2.3327, 2.3321, 2.3297, 2.3273, 2.3261, 2.3223, 2.3213, 2.3181, 2.3091, 2.7921, 2.792, 2.7918, 2.7903, 2.783, 2.7635, 2.7627, 2.7613, 2.7591, 2.7586, 2.7575, 2.7559, 2.753, 2.7495, 2.7432, 2.7396, 2.737, 2.7302, 2.7233, 2.7192, 2.716, 2.7136, 2.687, 2.6858, 2.6841, 2.681, 2.6793, 2.6784, 2.6763, 2.6749, 3.0569, 3.0528, 3.0519, 3.0476, 3.0336, 3.032, 3.0163, 3.0032, 3.0004, 2.9835, 2.9813, 2.9676, 2.9541, 2.9449, 2.944, 2.94, 2.9291, 2.9245, 2.9214, 2.9111, 2.8941, 2.88, 2.8531, 2.8471, 2.8344, 2.8162, 2.806, 2.7743, 2.6903, 2.6513, 3.8293, 3.8145, 3.8068, 3.7933, 3.7332, 3.68, 3.5848, 3.4043, 3.3504, 3.3157, 3.3114, 3.2835, 3.0705, 2.1346, 0.9131, 0.8656, 0.8584, 0.852, 0.852, 0.852, 0.852, 0.852, 0.852, 0.852, 0.852, 0.8508, 0.8504, 0.8443, 0.8414, 0.8389, 0.8366, 0.8175, 0.8323, 0.7831, 0.7699, 0.8063, 0.7405, 0.6676, 0.5197, 0.5248, 0.7481, 0.1266, 0.1266, 0.1266, 0.1266, 0.1266, 0.1266, -1.3873, 3.9153, 3.8734, 3.8428, 3.8014, 3.7384, 3.7147, 3.7002, 3.6584, 3.6507, 3.5539, 3.5486, 3.3446, 3.1721, 2.9318, 1.4102, 1.0975, 1.0777, 0.972, 0.9382, 0.8895, 0.8804, 0.8744, 0.8741, 0.8741, 0.8693, 0.8693, 0.869, 0.8689, 0.8681, 0.8681, 0.8673, 0.8503, 0.856, 0.8558, 0.824, 0.824, 0.8185, 0.7994, 0.1648, 0.1648, 0.7512, 0.7512, 0.7599, 0.7748, 0.4169, 0.728, 0.0483, -1.074, 4.1157, 4.075, 4.0024, 3.7817, 3.7247, 3.6199, 3.6171, 3.5705, 3.4591, 0.9149, 0.8879, 0.8821, 0.8592, 0.8592, 0.8515, 0.8496, 0.8482, 0.8482, 0.8481, 0.848, 0.8471, 0.8471, 0.8469, 0.8466, 0.8465, 0.8465, 0.8465, 0.8463, 0.8461, 0.8461, 0.8461, 0.8454, 0.7048, 0.7048, 0.7048, 0.7048, 0.7048, 0.6642, 0.8397, 0.8398, 0.7619, 0.7614, 0.8266, 0.7906, 0.7816, 0.3497, 0.3497, 0.3497, 0.3497, 0.3497, 0.3497, 0.756, 0.1455, 0.1916, -0.0073, -0.2929, 0.4608, -0.8847, -2.5726, 4.3051, 4.217, 4.1458, 3.2901, 1.0149, 0.9868, 0.9404, 0.928, 0.9268, 0.9264, 0.9264, 0.9264, 0.9264, 0.9252, 0.9252, 0.9244, 0.9243, 0.9243, 0.9243, 0.9243, 0.9242, 0.9242, 0.9242, 0.9242, 0.9242, 0.9242, 0.9242, 0.9242, 0.9242, 0.9242, 0.9133, 0.8307, 0.92, 0.92, 0.9231, 0.9236, 0.897, 0.9226, 0.8736, 0.8736, 0.9074, 0.9155, 0.9155, 0.9155, 0.8955, 0.8955, 0.8955, 0.8955, 0.8742, 0.8783, 0.8124, 0.8176, 0.8062, 0.8307, 0.8356, 0.5067, 0.6869, 0.4951, -2.9094, -0.3486, -0.0029, -0.8325]}, \"token.table\": {\"Topic\": [4, 6, 6, 6, 4, 5, 5, 6, 3, 3, 9, 7, 9, 6, 5, 6, 6, 2, 1, 6, 7, 4, 2, 5, 4, 10, 2, 1, 2, 2, 2, 5, 4, 3, 10, 1, 4, 1, 2, 2, 7, 1, 1, 2, 9, 4, 4, 7, 2, 6, 8, 1, 2, 7, 5, 4, 2, 1, 5, 3, 4, 9, 2, 1, 5, 1, 1, 2, 1, 4, 3, 6, 2, 6, 1, 3, 2, 3, 2, 4, 9, 5, 5, 4, 2, 3, 4, 1, 6, 6, 3, 4, 5, 8, 7, 3, 3, 5, 6, 2, 1, 8, 3, 4, 2, 2, 6, 1, 7, 3, 8, 5, 3, 3, 2, 7, 1, 1, 5, 1, 1, 2, 3, 3, 4, 4, 8, 1, 6, 1, 1, 1, 3, 5, 8, 6, 6, 5, 1, 7, 1, 2, 6, 2, 9, 4, 5, 1, 5, 4, 5, 4, 2, 9, 1, 3, 1, 9, 6, 4, 4, 7, 1, 2, 5, 8, 1, 5, 4, 7, 1, 10, 2, 3, 3, 8, 1, 2, 1, 6, 5, 4, 3, 6, 5, 6, 3, 2, 2, 6, 7, 1, 5, 6, 3, 4, 1, 3, 6, 4, 1, 1, 5, 8, 1, 1, 4, 1, 3, 4, 2, 4, 8, 1, 3, 5, 3, 3, 5, 5, 6, 2, 4, 8, 3, 1, 2, 1, 5, 8, 1, 6, 5, 1, 3, 6, 3, 1, 3, 1, 6], \"Freq\": [0.9095105028176304, 0.9773091012781032, 0.8475474941716923, 0.6701974176419888, 0.9738880396837569, 0.9648452917296547, 0.9635725157237357, 0.9985906731452385, 0.9331187043854755, 0.9777964149378314, 0.8842686381257203, 0.8822535747532629, 0.7071732989944709, 0.9661675296499468, 0.950028792711515, 0.7233177525894013, 0.9458344906934358, 0.9932985532796225, 0.9648878692073141, 0.7567789503944171, 0.8747372372321844, 0.972817901161232, 0.9027429520555692, 0.9232235205489882, 0.9858527851589829, 0.643258342825243, 0.9678789573794838, 0.007168632679657858, 0.9892713097927844, 0.9759620052371596, 0.9844913655028117, 0.8882780071078086, 0.9771592576525656, 0.9844793207804643, 0.7312708844910591, 0.9870484397124687, 0.9513808572078116, 0.07326409335627937, 0.9524332136316318, 0.9292099612424608, 0.779648233288576, 0.8469518117066915, 0.046194685470537546, 0.9516105206930735, 0.8337262468110276, 1.0011166936163298, 0.9474991845515902, 0.8904813651445936, 0.9939548987513377, 0.8669840073248989, 0.987069691782477, 0.9869284088093585, 1.001143753810269, 0.9154627785476042, 0.8182625341785782, 0.9201504562364068, 0.998052873599921, 0.67863906922076, 0.8909057968432573, 0.922015209800845, 0.9511707943199241, 0.8921053800646987, 0.8867044544507335, 0.999030906958144, 0.8778803106262604, 0.662718930534794, 0.9959809919310477, 0.9425867459795082, 1.0012238888123604, 0.9659678260240655, 0.9700480942118962, 0.9317447391336512, 0.9538607664398971, 0.8246419374548042, 0.9866712737952307, 0.9157191545676565, 0.9773115141615436, 0.9945652805644942, 0.9139224463177502, 0.9736673964335394, 0.9247434609604566, 0.8546148141769503, 0.9865111429397754, 0.995306836843538, 0.9509963404328265, 0.9864353569444334, 0.8721305145792805, 1.0008750244700095, 0.8030241328432451, 0.5464027759728578, 1.0012430517796351, 0.9032503839625114, 0.8900107533589382, 0.6367547481314697, 0.8013482675261849, 0.9994259970454745, 0.991789680223302, 0.9792640721603869, 0.976967896320274, 0.90721749586767, 0.9994720193686892, 0.550290954893249, 0.9922291530463094, 0.9952229668570242, 0.968346901460189, 0.9471267256302368, 0.9496078016660962, 0.9887382709750486, 0.5437667573885959, 0.9831335522460216, 0.9212727107427318, 0.8721970519351607, 0.9728242712075031, 0.969482354316026, 0.9350825877250992, 0.8506100391684963, 0.9507343086184948, 0.9848388438208575, 0.9096289313481933, 0.9904545853431668, 0.9851833083282933, 0.9392513410920226, 0.9266862744495514, 0.9846774716060467, 0.9174867451172504, 0.9918991553192974, 0.9345898762554142, 0.9861730942786461, 0.9793403850293211, 0.993766921157183, 0.9057347366040388, 1.0131602193203737, 0.9566726072480092, 0.8367033012280675, 0.5698419158045236, 0.9211614020876607, 0.9545423121135186, 0.8299316365085895, 0.9854290882777281, 0.8810711291535653, 0.974438117317555, 0.048721905865877754, 0.923602003261526, 0.9870850475211985, 0.8305458166282661, 0.9700440096674153, 0.9519749407485584, 0.9983654907725742, 0.9111546118952722, 0.8599174909420622, 1.001470815636961, 0.9896877800642773, 0.971633516724978, 0.9112599750494788, 0.7269219100655697, 0.9159450458043759, 1.0011169685026025, 0.6336939127633868, 0.9321770423740079, 0.9966470034721856, 0.9638443169673547, 0.8418230100979888, 0.7529124167440251, 0.9348945830506362, 0.8767617423739935, 0.6267238295062317, 0.9965728143327777, 0.867366683191547, 1.0034049748098446, 0.941504585531378, 1.0008633179727995, 0.5253627831079511, 0.8209045388070821, 0.16061175759268997, 0.9787763033826553, 0.7589691399861668, 0.9814036283103988, 0.9245588488526333, 0.5101376669598509, 0.9974965215566072, 0.9795706890466055, 0.9231408130650457, 0.9329840154938015, 0.8828413341012128, 0.9190246525161962, 0.9073110662299482, 0.9935613276035405, 0.9605930988002238, 0.9907417851636887, 0.8992348558232077, 0.945819455891425, 0.9956432352524651, 0.8670785502517887, 0.9977769306309856, 0.9677405730441386, 0.9967860646581962, 0.7746075756250552, 0.9687643196603405, 0.90230563556927, 1.0010145916972082, 0.9942071236472655, 0.9881476040909003, 0.8621932302785856, 0.516437371403669, 0.9956575306883667, 0.9794083099964707, 0.9992277779464734, 0.5003753092838633, 0.9617069028803985, 0.9356667682653119, 0.9637421409055104, 0.910307385657068, 0.7140922835641761, 0.9337896879564039, 0.06024449599718735, 0.9302134743939996, 0.9745594058441914, 0.954325991965457, 0.9321931145622898, 0.9368473024770193, 0.9925860538928815, 0.07700511610384685, 0.9240613932461622, 0.8444881545490271, 0.9924916136649061, 0.9873168055633696, 0.9599661392537044, 0.9958299435353495, 0.8457731229680338, 0.7619027928690023, 0.9867304900816952, 0.7984137899745751, 0.9143433652292672, 0.67863906922076, 0.9782275019034161, 0.9806405686136677, 0.9741436474831816, 0.9811450037334591, 0.9803966585067717, 0.9804248732345834, 0.7100280833998294], \"Term\": [\"able\", \"absolutely\", \"account\", \"accountable\", \"act\", \"actually\", \"agree\", \"alive\", \"allow\", \"apologize\", \"apply\", \"art\", \"article\", \"artist\", \"ask\", \"ass\", \"bad\", \"base\", \"bbcquestiontime_skynews\", \"be\", \"believe\", \"big\", \"black\", \"blame\", \"block\", \"buy\", \"call\", \"cancel\", \"cancel\", \"care\", \"cause\", \"chance\", \"change\", \"child\", \"club\", \"come\", \"complain\", \"conservative\", \"conservative\", \"continue\", \"criticize\", \"cross\", \"culture\", \"culture\", \"defend\", \"definitely\", \"destroy\", \"die\", \"different\", \"discuss\", \"dislike\", \"elonmusk\", \"end\", \"episode\", \"especially\", \"exactly\", \"example\", \"existgreat\", \"expect\", \"explain\", \"fake\", \"far\", \"fight\", \"finallevel\", \"fine\", \"fing\", \"fire\", \"follow\", \"follower\", \"force\", \"form\", \"fuck\", \"fucking\", \"generation\", \"get\", \"girl\", \"go\", \"good\", \"great\", \"guess\", \"guy\", \"hand\", \"happen\", \"happy\", \"hard\", \"hate\", \"head\", \"hi\", \"hold\", \"honest\", \"httpstco\", \"human\", \"idea\", \"ill\", \"important\", \"influence\", \"influencer\", \"instead\", \"internet\", \"issue\", \"know\", \"late\", \"leave\", \"let\", \"liberal\", \"lie\", \"life\", \"like\", \"listen\", \"literally\", \"little\", \"long\", \"look\", \"lose\", \"lot\", \"love\", \"luck\", \"m\", \"mad\", \"make\", \"man\", \"mean\", \"medium\", \"mind\", \"mob\", \"money\", \"move\", \"need\", \"new\", \"news\", \"nicht\", \"odd\", \"offend\", \"offensive\", \"online\", \"open\", \"opinion\", \"oppose\", \"people\", \"phrase\", \"pick\", \"pick\", \"platform\", \"play\", \"podcast\", \"point\", \"political\", \"post\", \"power\", \"probably\", \"problem\", \"proof\", \"pull\", \"quick\", \"quickly\", \"racism\", \"re\", \"read\", \"real\", \"reality\", \"reason\", \"regard\", \"relay\", \"remove\", \"rid\", \"ridiculous\", \"right\", \"room\", \"ruin\", \"run\", \"s\", \"sad\", \"say\", \"say\", \"see\", \"seriously\", \"shit\", \"show\", \"sht\", \"shut\", \"sick\", \"smh\", \"social\", \"social_media\", \"society\", \"soft\", \"sound\", \"speak\", \"stand\", \"start\", \"state\", \"stop\", \"story\", \"strong\", \"support\", \"sure\", \"swing\", \"take\", \"tbh\", \"tell\", \"thing\", \"think\", \"tho\", \"thought\", \"time\", \"today\", \"toxic\", \"translation\", \"true\", \"truly\", \"try\", \"turn\", \"tweet\", \"twitter\", \"twitter\", \"understand\", \"use\", \"ve\", \"view\", \"violence\", \"voice\", \"vote\", \"vote\", \"wait\", \"wake\", \"want\", \"watch\", \"way\", \"white\", \"wild\", \"wing\", \"wish\", \"woke\", \"wokene\", \"wokeness\", \"woman\", \"word\", \"work\", \"wrong\", \"year\", \"young\"]}, \"R\": 30, \"lambda.step\": 0.01, \"plot.opts\": {\"xlab\": \"PC1\", \"ylab\": \"PC2\"}, \"topic.order\": [3, 9, 10, 6, 8, 2, 7, 5, 4, 1]};\n",
              "\n",
              "function LDAvis_load_lib(url, callback){\n",
              "  var s = document.createElement('script');\n",
              "  s.src = url;\n",
              "  s.async = true;\n",
              "  s.onreadystatechange = s.onload = callback;\n",
              "  s.onerror = function(){console.warn(\"failed to load library \" + url);};\n",
              "  document.getElementsByTagName(\"head\")[0].appendChild(s);\n",
              "}\n",
              "\n",
              "if(typeof(LDAvis) !== \"undefined\"){\n",
              "   // already loaded: just create the visualization\n",
              "   !function(LDAvis){\n",
              "       new LDAvis(\"#\" + \"ldavis_el1571405841640996805725828373\", ldavis_el1571405841640996805725828373_data);\n",
              "   }(LDAvis);\n",
              "}else if(typeof define === \"function\" && define.amd){\n",
              "   // require.js is available: use it to load d3/LDAvis\n",
              "   require.config({paths: {d3: \"https://d3js.org/d3.v5\"}});\n",
              "   require([\"d3\"], function(d3){\n",
              "      window.d3 = d3;\n",
              "      LDAvis_load_lib(\"https://cdn.jsdelivr.net/gh/bmabey/pyLDAvis@3.4.0/pyLDAvis/js/ldavis.v3.0.0.js\", function(){\n",
              "        new LDAvis(\"#\" + \"ldavis_el1571405841640996805725828373\", ldavis_el1571405841640996805725828373_data);\n",
              "      });\n",
              "    });\n",
              "}else{\n",
              "    // require.js not available: dynamically load d3 & LDAvis\n",
              "    LDAvis_load_lib(\"https://d3js.org/d3.v5.js\", function(){\n",
              "         LDAvis_load_lib(\"https://cdn.jsdelivr.net/gh/bmabey/pyLDAvis@3.4.0/pyLDAvis/js/ldavis.v3.0.0.js\", function(){\n",
              "                 new LDAvis(\"#\" + \"ldavis_el1571405841640996805725828373\", ldavis_el1571405841640996805725828373_data);\n",
              "            })\n",
              "         });\n",
              "}\n",
              "</script>"
            ]
          },
          "metadata": {},
          "execution_count": 46
        }
      ]
    }
  ]
}