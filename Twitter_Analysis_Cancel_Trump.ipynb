{
  "nbformat": 4,
  "nbformat_minor": 0,
  "metadata": {
    "colab": {
      "provenance": [],
      "authorship_tag": "ABX9TyMWXYJT9bpibIjAygzKbvo2",
      "include_colab_link": true
    },
    "kernelspec": {
      "name": "python3",
      "display_name": "Python 3"
    },
    "language_info": {
      "name": "python"
    }
  },
  "cells": [
    {
      "cell_type": "markdown",
      "metadata": {
        "id": "view-in-github",
        "colab_type": "text"
      },
      "source": [
        "<a href=\"https://colab.research.google.com/github/channacy/PHIL311_FinalProject/blob/main/Twitter_Analysis_Cancel_Trump.ipynb\" target=\"_parent\"><img src=\"https://colab.research.google.com/assets/colab-badge.svg\" alt=\"Open In Colab\"/></a>"
      ]
    },
    {
      "cell_type": "code",
      "execution_count": 76,
      "metadata": {
        "id": "YzRybrLMCCU6"
      },
      "outputs": [],
      "source": [
        "import pandas as pd\n",
        "import numpy as np\n",
        "import string\n",
        "import seaborn as sns\n",
        "import matplotlib.pyplot as plt\n",
        "import collections\n",
        "import nltk\n",
        "from nltk.tokenize import word_tokenize\n",
        "from nltk.sentiment import SentimentIntensityAnalyzer\n",
        "from nltk.corpus import stopwords\n",
        "\n",
        "\n",
        "import gensim\n",
        "import gensim.corpora as corpora\n",
        "from gensim.utils import simple_preprocess\n",
        "from gensim.corpora import Dictionary\n",
        "from gensim.models.coherencemodel import CoherenceModel\n",
        "from gensim.models.ldamodel import LdaModel\n",
        "from gensim import models\n",
        "\n",
        "import re\n",
        "import spacy\n",
        "\n",
        "\n"
      ]
    },
    {
      "cell_type": "code",
      "source": [
        "tweets = pd.read_csv(\"cancel_trump_exact_tweets.csv\")\n",
        "tweets.head()"
      ],
      "metadata": {
        "colab": {
          "base_uri": "https://localhost:8080/",
          "height": 354
        },
        "id": "WNUlyyxDpdrE",
        "outputId": "c499397c-80e6-4020-8447-71be2ae31692"
      },
      "execution_count": 3,
      "outputs": [
        {
          "output_type": "execute_result",
          "data": {
            "text/plain": [
              "           User               Date Created  Number of Likes  \\\n",
              "0    BucketBuoy  2012-12-26 22:20:01+00:00              1.0   \n",
              "1  ldiproperzio  2012-12-26 21:49:51+00:00              0.0   \n",
              "2  jonsaidstuff  2012-12-26 21:04:16+00:00              1.0   \n",
              "3      News12LI  2012-12-26 20:57:54+00:00              2.0   \n",
              "4      Its_crap  2012-11-08 05:51:10+00:00              0.0   \n",
              "\n",
              "        Source of Tweet                                              Tweet  \\\n",
              "0    Twitter for iPhone  BREAKING NEWS: Trump, officials cancel Trump o...   \n",
              "1  Twitter for Websites  Trump, officials cancel Trump on the Ocean pro...   \n",
              "2   Twitter for Android  \"@News12LI: Trump, officials cancel Trump on t...   \n",
              "3    Twitter Web Client  Trump, officials cancel Trump on the Ocean pro...   \n",
              "4      Twitter for iPad  @realDonaldTrump called NBC's Brian Williams a...   \n",
              "\n",
              "   Retweet Count  \n",
              "0            1.0  \n",
              "1            0.0  \n",
              "2            0.0  \n",
              "3            8.0  \n",
              "4            0.0  "
            ],
            "text/html": [
              "\n",
              "  <div id=\"df-d0eb7716-b3f3-441a-adde-0a7a3ecc949d\">\n",
              "    <div class=\"colab-df-container\">\n",
              "      <div>\n",
              "<style scoped>\n",
              "    .dataframe tbody tr th:only-of-type {\n",
              "        vertical-align: middle;\n",
              "    }\n",
              "\n",
              "    .dataframe tbody tr th {\n",
              "        vertical-align: top;\n",
              "    }\n",
              "\n",
              "    .dataframe thead th {\n",
              "        text-align: right;\n",
              "    }\n",
              "</style>\n",
              "<table border=\"1\" class=\"dataframe\">\n",
              "  <thead>\n",
              "    <tr style=\"text-align: right;\">\n",
              "      <th></th>\n",
              "      <th>User</th>\n",
              "      <th>Date Created</th>\n",
              "      <th>Number of Likes</th>\n",
              "      <th>Source of Tweet</th>\n",
              "      <th>Tweet</th>\n",
              "      <th>Retweet Count</th>\n",
              "    </tr>\n",
              "  </thead>\n",
              "  <tbody>\n",
              "    <tr>\n",
              "      <th>0</th>\n",
              "      <td>BucketBuoy</td>\n",
              "      <td>2012-12-26 22:20:01+00:00</td>\n",
              "      <td>1.0</td>\n",
              "      <td>Twitter for iPhone</td>\n",
              "      <td>BREAKING NEWS: Trump, officials cancel Trump o...</td>\n",
              "      <td>1.0</td>\n",
              "    </tr>\n",
              "    <tr>\n",
              "      <th>1</th>\n",
              "      <td>ldiproperzio</td>\n",
              "      <td>2012-12-26 21:49:51+00:00</td>\n",
              "      <td>0.0</td>\n",
              "      <td>Twitter for Websites</td>\n",
              "      <td>Trump, officials cancel Trump on the Ocean pro...</td>\n",
              "      <td>0.0</td>\n",
              "    </tr>\n",
              "    <tr>\n",
              "      <th>2</th>\n",
              "      <td>jonsaidstuff</td>\n",
              "      <td>2012-12-26 21:04:16+00:00</td>\n",
              "      <td>1.0</td>\n",
              "      <td>Twitter for Android</td>\n",
              "      <td>\"@News12LI: Trump, officials cancel Trump on t...</td>\n",
              "      <td>0.0</td>\n",
              "    </tr>\n",
              "    <tr>\n",
              "      <th>3</th>\n",
              "      <td>News12LI</td>\n",
              "      <td>2012-12-26 20:57:54+00:00</td>\n",
              "      <td>2.0</td>\n",
              "      <td>Twitter Web Client</td>\n",
              "      <td>Trump, officials cancel Trump on the Ocean pro...</td>\n",
              "      <td>8.0</td>\n",
              "    </tr>\n",
              "    <tr>\n",
              "      <th>4</th>\n",
              "      <td>Its_crap</td>\n",
              "      <td>2012-11-08 05:51:10+00:00</td>\n",
              "      <td>0.0</td>\n",
              "      <td>Twitter for iPad</td>\n",
              "      <td>@realDonaldTrump called NBC's Brian Williams a...</td>\n",
              "      <td>0.0</td>\n",
              "    </tr>\n",
              "  </tbody>\n",
              "</table>\n",
              "</div>\n",
              "      <button class=\"colab-df-convert\" onclick=\"convertToInteractive('df-d0eb7716-b3f3-441a-adde-0a7a3ecc949d')\"\n",
              "              title=\"Convert this dataframe to an interactive table.\"\n",
              "              style=\"display:none;\">\n",
              "        \n",
              "  <svg xmlns=\"http://www.w3.org/2000/svg\" height=\"24px\"viewBox=\"0 0 24 24\"\n",
              "       width=\"24px\">\n",
              "    <path d=\"M0 0h24v24H0V0z\" fill=\"none\"/>\n",
              "    <path d=\"M18.56 5.44l.94 2.06.94-2.06 2.06-.94-2.06-.94-.94-2.06-.94 2.06-2.06.94zm-11 1L8.5 8.5l.94-2.06 2.06-.94-2.06-.94L8.5 2.5l-.94 2.06-2.06.94zm10 10l.94 2.06.94-2.06 2.06-.94-2.06-.94-.94-2.06-.94 2.06-2.06.94z\"/><path d=\"M17.41 7.96l-1.37-1.37c-.4-.4-.92-.59-1.43-.59-.52 0-1.04.2-1.43.59L10.3 9.45l-7.72 7.72c-.78.78-.78 2.05 0 2.83L4 21.41c.39.39.9.59 1.41.59.51 0 1.02-.2 1.41-.59l7.78-7.78 2.81-2.81c.8-.78.8-2.07 0-2.86zM5.41 20L4 18.59l7.72-7.72 1.47 1.35L5.41 20z\"/>\n",
              "  </svg>\n",
              "      </button>\n",
              "      \n",
              "  <style>\n",
              "    .colab-df-container {\n",
              "      display:flex;\n",
              "      flex-wrap:wrap;\n",
              "      gap: 12px;\n",
              "    }\n",
              "\n",
              "    .colab-df-convert {\n",
              "      background-color: #E8F0FE;\n",
              "      border: none;\n",
              "      border-radius: 50%;\n",
              "      cursor: pointer;\n",
              "      display: none;\n",
              "      fill: #1967D2;\n",
              "      height: 32px;\n",
              "      padding: 0 0 0 0;\n",
              "      width: 32px;\n",
              "    }\n",
              "\n",
              "    .colab-df-convert:hover {\n",
              "      background-color: #E2EBFA;\n",
              "      box-shadow: 0px 1px 2px rgba(60, 64, 67, 0.3), 0px 1px 3px 1px rgba(60, 64, 67, 0.15);\n",
              "      fill: #174EA6;\n",
              "    }\n",
              "\n",
              "    [theme=dark] .colab-df-convert {\n",
              "      background-color: #3B4455;\n",
              "      fill: #D2E3FC;\n",
              "    }\n",
              "\n",
              "    [theme=dark] .colab-df-convert:hover {\n",
              "      background-color: #434B5C;\n",
              "      box-shadow: 0px 1px 3px 1px rgba(0, 0, 0, 0.15);\n",
              "      filter: drop-shadow(0px 1px 2px rgba(0, 0, 0, 0.3));\n",
              "      fill: #FFFFFF;\n",
              "    }\n",
              "  </style>\n",
              "\n",
              "      <script>\n",
              "        const buttonEl =\n",
              "          document.querySelector('#df-d0eb7716-b3f3-441a-adde-0a7a3ecc949d button.colab-df-convert');\n",
              "        buttonEl.style.display =\n",
              "          google.colab.kernel.accessAllowed ? 'block' : 'none';\n",
              "\n",
              "        async function convertToInteractive(key) {\n",
              "          const element = document.querySelector('#df-d0eb7716-b3f3-441a-adde-0a7a3ecc949d');\n",
              "          const dataTable =\n",
              "            await google.colab.kernel.invokeFunction('convertToInteractive',\n",
              "                                                     [key], {});\n",
              "          if (!dataTable) return;\n",
              "\n",
              "          const docLinkHtml = 'Like what you see? Visit the ' +\n",
              "            '<a target=\"_blank\" href=https://colab.research.google.com/notebooks/data_table.ipynb>data table notebook</a>'\n",
              "            + ' to learn more about interactive tables.';\n",
              "          element.innerHTML = '';\n",
              "          dataTable['output_type'] = 'display_data';\n",
              "          await google.colab.output.renderOutput(dataTable, element);\n",
              "          const docLink = document.createElement('div');\n",
              "          docLink.innerHTML = docLinkHtml;\n",
              "          element.appendChild(docLink);\n",
              "        }\n",
              "      </script>\n",
              "    </div>\n",
              "  </div>\n",
              "  "
            ]
          },
          "metadata": {},
          "execution_count": 3
        }
      ]
    },
    {
      "cell_type": "code",
      "source": [
        "tweets.info()"
      ],
      "metadata": {
        "colab": {
          "base_uri": "https://localhost:8080/"
        },
        "id": "Z12MYW5opstz",
        "outputId": "2a6d6e1b-347d-4b87-951a-93b9aac53dac"
      },
      "execution_count": 4,
      "outputs": [
        {
          "output_type": "stream",
          "name": "stdout",
          "text": [
            "<class 'pandas.core.frame.DataFrame'>\n",
            "RangeIndex: 7586 entries, 0 to 7585\n",
            "Data columns (total 6 columns):\n",
            " #   Column           Non-Null Count  Dtype  \n",
            "---  ------           --------------  -----  \n",
            " 0   User             7586 non-null   object \n",
            " 1   Date Created     7586 non-null   object \n",
            " 2   Number of Likes  7585 non-null   float64\n",
            " 3   Source of Tweet  7585 non-null   object \n",
            " 4   Tweet            7585 non-null   object \n",
            " 5   Retweet Count    7584 non-null   float64\n",
            "dtypes: float64(2), object(4)\n",
            "memory usage: 355.7+ KB\n"
          ]
        }
      ]
    },
    {
      "cell_type": "code",
      "source": [
        "tweets['clean_tweets'] = tweets['Tweet'].str.lower()\n",
        "tweets['clean_tweets'] = tweets['clean_tweets'].str.replace(\"[^\\w\\s]\", \"\")\n",
        "tweets.head()"
      ],
      "metadata": {
        "colab": {
          "base_uri": "https://localhost:8080/",
          "height": 410
        },
        "id": "LZf9xmkPqAs8",
        "outputId": "884fd6ca-3ad5-43d7-c5c4-7bc0756270cb"
      },
      "execution_count": 10,
      "outputs": [
        {
          "output_type": "stream",
          "name": "stderr",
          "text": [
            "<ipython-input-10-6163b0f575f9>:2: FutureWarning: The default value of regex will change from True to False in a future version.\n",
            "  tweets['clean_tweets'] = tweets['clean_tweets'].str.replace(\"[^\\w\\s]\", \"\")\n"
          ]
        },
        {
          "output_type": "execute_result",
          "data": {
            "text/plain": [
              "           User               Date Created  Number of Likes  \\\n",
              "0    BucketBuoy  2012-12-26 22:20:01+00:00              1.0   \n",
              "1  ldiproperzio  2012-12-26 21:49:51+00:00              0.0   \n",
              "2  jonsaidstuff  2012-12-26 21:04:16+00:00              1.0   \n",
              "3      News12LI  2012-12-26 20:57:54+00:00              2.0   \n",
              "4      Its_crap  2012-11-08 05:51:10+00:00              0.0   \n",
              "\n",
              "        Source of Tweet                                              Tweet  \\\n",
              "0    Twitter for iPhone  BREAKING NEWS: Trump, officials cancel Trump o...   \n",
              "1  Twitter for Websites  Trump, officials cancel Trump on the Ocean pro...   \n",
              "2   Twitter for Android  \"@News12LI: Trump, officials cancel Trump on t...   \n",
              "3    Twitter Web Client  Trump, officials cancel Trump on the Ocean pro...   \n",
              "4      Twitter for iPad  @realDonaldTrump called NBC's Brian Williams a...   \n",
              "\n",
              "   Retweet Count                                       clean_tweets  \n",
              "0            1.0  breaking news trump officials cancel trump on ...  \n",
              "1            0.0  trump officials cancel trump on the ocean proj...  \n",
              "2            0.0  news12li trump officials cancel trump on the o...  \n",
              "3            8.0  trump officials cancel trump on the ocean proj...  \n",
              "4            0.0  realdonaldtrump called nbcs brian williams a d...  "
            ],
            "text/html": [
              "\n",
              "  <div id=\"df-d9c63450-e2e8-4b6f-a285-e83e939e9530\">\n",
              "    <div class=\"colab-df-container\">\n",
              "      <div>\n",
              "<style scoped>\n",
              "    .dataframe tbody tr th:only-of-type {\n",
              "        vertical-align: middle;\n",
              "    }\n",
              "\n",
              "    .dataframe tbody tr th {\n",
              "        vertical-align: top;\n",
              "    }\n",
              "\n",
              "    .dataframe thead th {\n",
              "        text-align: right;\n",
              "    }\n",
              "</style>\n",
              "<table border=\"1\" class=\"dataframe\">\n",
              "  <thead>\n",
              "    <tr style=\"text-align: right;\">\n",
              "      <th></th>\n",
              "      <th>User</th>\n",
              "      <th>Date Created</th>\n",
              "      <th>Number of Likes</th>\n",
              "      <th>Source of Tweet</th>\n",
              "      <th>Tweet</th>\n",
              "      <th>Retweet Count</th>\n",
              "      <th>clean_tweets</th>\n",
              "    </tr>\n",
              "  </thead>\n",
              "  <tbody>\n",
              "    <tr>\n",
              "      <th>0</th>\n",
              "      <td>BucketBuoy</td>\n",
              "      <td>2012-12-26 22:20:01+00:00</td>\n",
              "      <td>1.0</td>\n",
              "      <td>Twitter for iPhone</td>\n",
              "      <td>BREAKING NEWS: Trump, officials cancel Trump o...</td>\n",
              "      <td>1.0</td>\n",
              "      <td>breaking news trump officials cancel trump on ...</td>\n",
              "    </tr>\n",
              "    <tr>\n",
              "      <th>1</th>\n",
              "      <td>ldiproperzio</td>\n",
              "      <td>2012-12-26 21:49:51+00:00</td>\n",
              "      <td>0.0</td>\n",
              "      <td>Twitter for Websites</td>\n",
              "      <td>Trump, officials cancel Trump on the Ocean pro...</td>\n",
              "      <td>0.0</td>\n",
              "      <td>trump officials cancel trump on the ocean proj...</td>\n",
              "    </tr>\n",
              "    <tr>\n",
              "      <th>2</th>\n",
              "      <td>jonsaidstuff</td>\n",
              "      <td>2012-12-26 21:04:16+00:00</td>\n",
              "      <td>1.0</td>\n",
              "      <td>Twitter for Android</td>\n",
              "      <td>\"@News12LI: Trump, officials cancel Trump on t...</td>\n",
              "      <td>0.0</td>\n",
              "      <td>news12li trump officials cancel trump on the o...</td>\n",
              "    </tr>\n",
              "    <tr>\n",
              "      <th>3</th>\n",
              "      <td>News12LI</td>\n",
              "      <td>2012-12-26 20:57:54+00:00</td>\n",
              "      <td>2.0</td>\n",
              "      <td>Twitter Web Client</td>\n",
              "      <td>Trump, officials cancel Trump on the Ocean pro...</td>\n",
              "      <td>8.0</td>\n",
              "      <td>trump officials cancel trump on the ocean proj...</td>\n",
              "    </tr>\n",
              "    <tr>\n",
              "      <th>4</th>\n",
              "      <td>Its_crap</td>\n",
              "      <td>2012-11-08 05:51:10+00:00</td>\n",
              "      <td>0.0</td>\n",
              "      <td>Twitter for iPad</td>\n",
              "      <td>@realDonaldTrump called NBC's Brian Williams a...</td>\n",
              "      <td>0.0</td>\n",
              "      <td>realdonaldtrump called nbcs brian williams a d...</td>\n",
              "    </tr>\n",
              "  </tbody>\n",
              "</table>\n",
              "</div>\n",
              "      <button class=\"colab-df-convert\" onclick=\"convertToInteractive('df-d9c63450-e2e8-4b6f-a285-e83e939e9530')\"\n",
              "              title=\"Convert this dataframe to an interactive table.\"\n",
              "              style=\"display:none;\">\n",
              "        \n",
              "  <svg xmlns=\"http://www.w3.org/2000/svg\" height=\"24px\"viewBox=\"0 0 24 24\"\n",
              "       width=\"24px\">\n",
              "    <path d=\"M0 0h24v24H0V0z\" fill=\"none\"/>\n",
              "    <path d=\"M18.56 5.44l.94 2.06.94-2.06 2.06-.94-2.06-.94-.94-2.06-.94 2.06-2.06.94zm-11 1L8.5 8.5l.94-2.06 2.06-.94-2.06-.94L8.5 2.5l-.94 2.06-2.06.94zm10 10l.94 2.06.94-2.06 2.06-.94-2.06-.94-.94-2.06-.94 2.06-2.06.94z\"/><path d=\"M17.41 7.96l-1.37-1.37c-.4-.4-.92-.59-1.43-.59-.52 0-1.04.2-1.43.59L10.3 9.45l-7.72 7.72c-.78.78-.78 2.05 0 2.83L4 21.41c.39.39.9.59 1.41.59.51 0 1.02-.2 1.41-.59l7.78-7.78 2.81-2.81c.8-.78.8-2.07 0-2.86zM5.41 20L4 18.59l7.72-7.72 1.47 1.35L5.41 20z\"/>\n",
              "  </svg>\n",
              "      </button>\n",
              "      \n",
              "  <style>\n",
              "    .colab-df-container {\n",
              "      display:flex;\n",
              "      flex-wrap:wrap;\n",
              "      gap: 12px;\n",
              "    }\n",
              "\n",
              "    .colab-df-convert {\n",
              "      background-color: #E8F0FE;\n",
              "      border: none;\n",
              "      border-radius: 50%;\n",
              "      cursor: pointer;\n",
              "      display: none;\n",
              "      fill: #1967D2;\n",
              "      height: 32px;\n",
              "      padding: 0 0 0 0;\n",
              "      width: 32px;\n",
              "    }\n",
              "\n",
              "    .colab-df-convert:hover {\n",
              "      background-color: #E2EBFA;\n",
              "      box-shadow: 0px 1px 2px rgba(60, 64, 67, 0.3), 0px 1px 3px 1px rgba(60, 64, 67, 0.15);\n",
              "      fill: #174EA6;\n",
              "    }\n",
              "\n",
              "    [theme=dark] .colab-df-convert {\n",
              "      background-color: #3B4455;\n",
              "      fill: #D2E3FC;\n",
              "    }\n",
              "\n",
              "    [theme=dark] .colab-df-convert:hover {\n",
              "      background-color: #434B5C;\n",
              "      box-shadow: 0px 1px 3px 1px rgba(0, 0, 0, 0.15);\n",
              "      filter: drop-shadow(0px 1px 2px rgba(0, 0, 0, 0.3));\n",
              "      fill: #FFFFFF;\n",
              "    }\n",
              "  </style>\n",
              "\n",
              "      <script>\n",
              "        const buttonEl =\n",
              "          document.querySelector('#df-d9c63450-e2e8-4b6f-a285-e83e939e9530 button.colab-df-convert');\n",
              "        buttonEl.style.display =\n",
              "          google.colab.kernel.accessAllowed ? 'block' : 'none';\n",
              "\n",
              "        async function convertToInteractive(key) {\n",
              "          const element = document.querySelector('#df-d9c63450-e2e8-4b6f-a285-e83e939e9530');\n",
              "          const dataTable =\n",
              "            await google.colab.kernel.invokeFunction('convertToInteractive',\n",
              "                                                     [key], {});\n",
              "          if (!dataTable) return;\n",
              "\n",
              "          const docLinkHtml = 'Like what you see? Visit the ' +\n",
              "            '<a target=\"_blank\" href=https://colab.research.google.com/notebooks/data_table.ipynb>data table notebook</a>'\n",
              "            + ' to learn more about interactive tables.';\n",
              "          element.innerHTML = '';\n",
              "          dataTable['output_type'] = 'display_data';\n",
              "          await google.colab.output.renderOutput(dataTable, element);\n",
              "          const docLink = document.createElement('div');\n",
              "          docLink.innerHTML = docLinkHtml;\n",
              "          element.appendChild(docLink);\n",
              "        }\n",
              "      </script>\n",
              "    </div>\n",
              "  </div>\n",
              "  "
            ]
          },
          "metadata": {},
          "execution_count": 10
        }
      ]
    },
    {
      "cell_type": "code",
      "source": [
        "stop = ['of', 'thus', 'somehow', 'many', 'until', 'he', 'name', 'whereas', 'namely', 'much', 'still', 'my', 'only', 'towards', 'am', 'below', 'something', 'everywhere', 'been', 'same', 'whereafter', 'none', 'except', 'have', 'yourselves', 'then', 'never', 'full', 'mostly', 'further', 'several', 'bill', 'together', 'can', 'i', 'which', 'might', 'therefore', 'nevertheless', 'thereby', 'formerly', 'were', 'whereupon', 'amoungst', 'thereupon', 'hereupon', 'next', 'during', 'what', 'yourself', 'across', 'was', 'whole', 'up', 'if', 'per', 'myself', 'they', 'wherein', 'she', 'since', 'behind', 'first', 'take', 'fire', 'least', 'mill', 'inc', 'made', 'latter', 'noone', 'four', 'give', 'therein', 'describe', 'others', 'whither', 'besides', 'itself', 'whereby', 'couldnt', 'rather', 'either', 'sixty', 'here', 'will', 'done', 'beyond', 'own', 'against', 'this', 'before', 'amongst', 'on', 'become', 'more', 'front', 'whenever', 'thick', 'nothing', 'again', 'became', 'me', 'thence', 'yet', 'eg', 'sometime', 'ltd', 'always', 'at', 'whence', 'ie', 'six', 'those', 'sincere', 'any', 'latterly', 'nobody', 'why', 'part', 'thru', 'nor', 'in', 'side', 'ours', 'as', 'bottom', 'five', 'third', 'co', 'such', 'himself', 'whoever', 'him', 'thin', 'would', 'these', 'herein', 'upon', 'each', 'you', 'beforehand', 'no', 'his', 'two', 'three', 'the', 'few', 'it', 'yours', 'already', 'interest', 'whom', 'with', 'for', 'other', 'via', 'go', 'onto', 'do', 'get', 'also', 'mine', 'wherever', 'so', 'system', 'us', 'whose', 'after', 'and', 'former', 'all', 'but', 'back', 'too', 'hundred', 'is', 'between', 'even', 'hence', 'whatever', 'hasnt', 'along', 'most', 'herself', 'un', 'has', 'anyone', 'fifty', 'meanwhile', 'being', 'otherwise', 'anywhere', 'serious', 'under', 'seeming', 'by', 'often', 'neither', 'hereby', 'around', 'afterwards', 'an', 'everything', 'who', 'due', 'anyhow', 'than', 'indeed', 'etc', 'to', 'them', 'amount', 'both', 'moreover', 'our', 'de', 'eleven', 'well', 'out', 'or', 'beside', 'because', 'through', 'now', 'your', 'where', 'found', 'had', 'ten', 'almost', 'twenty', 'its', 'once', 'move', 'although', 'nowhere', 'into', 'perhaps', 'con', 'throughout', 'twelve', 'not', 'while', 'detail', 'top', 'we', 'enough', 'from', 'ourselves', 'whether', 'thereafter', 'somewhere', 'please', 'find', 'how', 'fifteen', 'becoming', 'put', 'their', 'nine', 'within', 'one', 'cant', 'are', 'last', 'a', 'seem', 'toward', 'her', 'off', 'show', 'above', 're', 'else', 'cry', 'keep', 'could', 'some', 'see', 'eight', 'anyway', 'hereafter', 'themselves', 'empty', 'elsewhere', 'when', 'ever', 'must', 'seemed', 'very', 'sometimes', 'another', 'becomes', 'may', 'everyone', 'hers', 'fill', 'among', 'should', 'over', 'be', 'anything', 'seems', 'without', 'about', 'that', 'down', 'there', 'though', 'someone', 'alone', 'every', 'call', 'however', 'less', 'forty', 'cannot','the', 'a', 'this', 'that', 'to', 'is', 'am', 'was', 'were', 'be', 'being', 'been']\n",
        "tweets = tweets[tweets['clean_tweets'].notnull()]\n",
        "\n",
        "tweets['clean_tweets'] = tweets['clean_tweets'].apply(lambda x: ' '.join([word for word in x.split() if word not in (stop)]))\n"
      ],
      "metadata": {
        "id": "m14BnRw-qgQA"
      },
      "execution_count": 14,
      "outputs": []
    },
    {
      "cell_type": "code",
      "source": [
        "tweets.head()"
      ],
      "metadata": {
        "colab": {
          "base_uri": "https://localhost:8080/",
          "height": 354
        },
        "id": "V7SznJgjsDxt",
        "outputId": "d264605e-c272-42d0-8704-9a5676c73155"
      },
      "execution_count": 15,
      "outputs": [
        {
          "output_type": "execute_result",
          "data": {
            "text/plain": [
              "           User               Date Created  Number of Likes  \\\n",
              "0    BucketBuoy  2012-12-26 22:20:01+00:00              1.0   \n",
              "1  ldiproperzio  2012-12-26 21:49:51+00:00              0.0   \n",
              "2  jonsaidstuff  2012-12-26 21:04:16+00:00              1.0   \n",
              "3      News12LI  2012-12-26 20:57:54+00:00              2.0   \n",
              "4      Its_crap  2012-11-08 05:51:10+00:00              0.0   \n",
              "\n",
              "        Source of Tweet                                              Tweet  \\\n",
              "0    Twitter for iPhone  BREAKING NEWS: Trump, officials cancel Trump o...   \n",
              "1  Twitter for Websites  Trump, officials cancel Trump on the Ocean pro...   \n",
              "2   Twitter for Android  \"@News12LI: Trump, officials cancel Trump on t...   \n",
              "3    Twitter Web Client  Trump, officials cancel Trump on the Ocean pro...   \n",
              "4      Twitter for iPad  @realDonaldTrump called NBC's Brian Williams a...   \n",
              "\n",
              "   Retweet Count                                       clean_tweets  \n",
              "0            1.0  breaking news trump officials cancel trump oce...  \n",
              "1            0.0  trump officials cancel trump ocean project htt...  \n",
              "2            0.0  news12li trump officials cancel trump ocean pr...  \n",
              "3            8.0  trump officials cancel trump ocean project htt...  \n",
              "4            0.0  realdonaldtrump called nbcs brian williams dum...  "
            ],
            "text/html": [
              "\n",
              "  <div id=\"df-626e5df5-16ae-4ebd-ad9a-f88c6e53b9e0\">\n",
              "    <div class=\"colab-df-container\">\n",
              "      <div>\n",
              "<style scoped>\n",
              "    .dataframe tbody tr th:only-of-type {\n",
              "        vertical-align: middle;\n",
              "    }\n",
              "\n",
              "    .dataframe tbody tr th {\n",
              "        vertical-align: top;\n",
              "    }\n",
              "\n",
              "    .dataframe thead th {\n",
              "        text-align: right;\n",
              "    }\n",
              "</style>\n",
              "<table border=\"1\" class=\"dataframe\">\n",
              "  <thead>\n",
              "    <tr style=\"text-align: right;\">\n",
              "      <th></th>\n",
              "      <th>User</th>\n",
              "      <th>Date Created</th>\n",
              "      <th>Number of Likes</th>\n",
              "      <th>Source of Tweet</th>\n",
              "      <th>Tweet</th>\n",
              "      <th>Retweet Count</th>\n",
              "      <th>clean_tweets</th>\n",
              "    </tr>\n",
              "  </thead>\n",
              "  <tbody>\n",
              "    <tr>\n",
              "      <th>0</th>\n",
              "      <td>BucketBuoy</td>\n",
              "      <td>2012-12-26 22:20:01+00:00</td>\n",
              "      <td>1.0</td>\n",
              "      <td>Twitter for iPhone</td>\n",
              "      <td>BREAKING NEWS: Trump, officials cancel Trump o...</td>\n",
              "      <td>1.0</td>\n",
              "      <td>breaking news trump officials cancel trump oce...</td>\n",
              "    </tr>\n",
              "    <tr>\n",
              "      <th>1</th>\n",
              "      <td>ldiproperzio</td>\n",
              "      <td>2012-12-26 21:49:51+00:00</td>\n",
              "      <td>0.0</td>\n",
              "      <td>Twitter for Websites</td>\n",
              "      <td>Trump, officials cancel Trump on the Ocean pro...</td>\n",
              "      <td>0.0</td>\n",
              "      <td>trump officials cancel trump ocean project htt...</td>\n",
              "    </tr>\n",
              "    <tr>\n",
              "      <th>2</th>\n",
              "      <td>jonsaidstuff</td>\n",
              "      <td>2012-12-26 21:04:16+00:00</td>\n",
              "      <td>1.0</td>\n",
              "      <td>Twitter for Android</td>\n",
              "      <td>\"@News12LI: Trump, officials cancel Trump on t...</td>\n",
              "      <td>0.0</td>\n",
              "      <td>news12li trump officials cancel trump ocean pr...</td>\n",
              "    </tr>\n",
              "    <tr>\n",
              "      <th>3</th>\n",
              "      <td>News12LI</td>\n",
              "      <td>2012-12-26 20:57:54+00:00</td>\n",
              "      <td>2.0</td>\n",
              "      <td>Twitter Web Client</td>\n",
              "      <td>Trump, officials cancel Trump on the Ocean pro...</td>\n",
              "      <td>8.0</td>\n",
              "      <td>trump officials cancel trump ocean project htt...</td>\n",
              "    </tr>\n",
              "    <tr>\n",
              "      <th>4</th>\n",
              "      <td>Its_crap</td>\n",
              "      <td>2012-11-08 05:51:10+00:00</td>\n",
              "      <td>0.0</td>\n",
              "      <td>Twitter for iPad</td>\n",
              "      <td>@realDonaldTrump called NBC's Brian Williams a...</td>\n",
              "      <td>0.0</td>\n",
              "      <td>realdonaldtrump called nbcs brian williams dum...</td>\n",
              "    </tr>\n",
              "  </tbody>\n",
              "</table>\n",
              "</div>\n",
              "      <button class=\"colab-df-convert\" onclick=\"convertToInteractive('df-626e5df5-16ae-4ebd-ad9a-f88c6e53b9e0')\"\n",
              "              title=\"Convert this dataframe to an interactive table.\"\n",
              "              style=\"display:none;\">\n",
              "        \n",
              "  <svg xmlns=\"http://www.w3.org/2000/svg\" height=\"24px\"viewBox=\"0 0 24 24\"\n",
              "       width=\"24px\">\n",
              "    <path d=\"M0 0h24v24H0V0z\" fill=\"none\"/>\n",
              "    <path d=\"M18.56 5.44l.94 2.06.94-2.06 2.06-.94-2.06-.94-.94-2.06-.94 2.06-2.06.94zm-11 1L8.5 8.5l.94-2.06 2.06-.94-2.06-.94L8.5 2.5l-.94 2.06-2.06.94zm10 10l.94 2.06.94-2.06 2.06-.94-2.06-.94-.94-2.06-.94 2.06-2.06.94z\"/><path d=\"M17.41 7.96l-1.37-1.37c-.4-.4-.92-.59-1.43-.59-.52 0-1.04.2-1.43.59L10.3 9.45l-7.72 7.72c-.78.78-.78 2.05 0 2.83L4 21.41c.39.39.9.59 1.41.59.51 0 1.02-.2 1.41-.59l7.78-7.78 2.81-2.81c.8-.78.8-2.07 0-2.86zM5.41 20L4 18.59l7.72-7.72 1.47 1.35L5.41 20z\"/>\n",
              "  </svg>\n",
              "      </button>\n",
              "      \n",
              "  <style>\n",
              "    .colab-df-container {\n",
              "      display:flex;\n",
              "      flex-wrap:wrap;\n",
              "      gap: 12px;\n",
              "    }\n",
              "\n",
              "    .colab-df-convert {\n",
              "      background-color: #E8F0FE;\n",
              "      border: none;\n",
              "      border-radius: 50%;\n",
              "      cursor: pointer;\n",
              "      display: none;\n",
              "      fill: #1967D2;\n",
              "      height: 32px;\n",
              "      padding: 0 0 0 0;\n",
              "      width: 32px;\n",
              "    }\n",
              "\n",
              "    .colab-df-convert:hover {\n",
              "      background-color: #E2EBFA;\n",
              "      box-shadow: 0px 1px 2px rgba(60, 64, 67, 0.3), 0px 1px 3px 1px rgba(60, 64, 67, 0.15);\n",
              "      fill: #174EA6;\n",
              "    }\n",
              "\n",
              "    [theme=dark] .colab-df-convert {\n",
              "      background-color: #3B4455;\n",
              "      fill: #D2E3FC;\n",
              "    }\n",
              "\n",
              "    [theme=dark] .colab-df-convert:hover {\n",
              "      background-color: #434B5C;\n",
              "      box-shadow: 0px 1px 3px 1px rgba(0, 0, 0, 0.15);\n",
              "      filter: drop-shadow(0px 1px 2px rgba(0, 0, 0, 0.3));\n",
              "      fill: #FFFFFF;\n",
              "    }\n",
              "  </style>\n",
              "\n",
              "      <script>\n",
              "        const buttonEl =\n",
              "          document.querySelector('#df-626e5df5-16ae-4ebd-ad9a-f88c6e53b9e0 button.colab-df-convert');\n",
              "        buttonEl.style.display =\n",
              "          google.colab.kernel.accessAllowed ? 'block' : 'none';\n",
              "\n",
              "        async function convertToInteractive(key) {\n",
              "          const element = document.querySelector('#df-626e5df5-16ae-4ebd-ad9a-f88c6e53b9e0');\n",
              "          const dataTable =\n",
              "            await google.colab.kernel.invokeFunction('convertToInteractive',\n",
              "                                                     [key], {});\n",
              "          if (!dataTable) return;\n",
              "\n",
              "          const docLinkHtml = 'Like what you see? Visit the ' +\n",
              "            '<a target=\"_blank\" href=https://colab.research.google.com/notebooks/data_table.ipynb>data table notebook</a>'\n",
              "            + ' to learn more about interactive tables.';\n",
              "          element.innerHTML = '';\n",
              "          dataTable['output_type'] = 'display_data';\n",
              "          await google.colab.output.renderOutput(dataTable, element);\n",
              "          const docLink = document.createElement('div');\n",
              "          docLink.innerHTML = docLinkHtml;\n",
              "          element.appendChild(docLink);\n",
              "        }\n",
              "      </script>\n",
              "    </div>\n",
              "  </div>\n",
              "  "
            ]
          },
          "metadata": {},
          "execution_count": 15
        }
      ]
    },
    {
      "cell_type": "markdown",
      "source": [
        "Visualize how mentions of \"cancel Trump\" have changed over time\n"
      ],
      "metadata": {
        "id": "Kbw3lJY5ttdp"
      }
    },
    {
      "cell_type": "code",
      "source": [
        "tweets[\"contains_cancel_trump\"] = tweets[\"clean_tweets\"].str.contains(\"cancel trump\")\n",
        "cancel_trump_counts = sum(tweets[\"contains_cancel_trump\"])\n",
        "print(cancel_trump_counts)"
      ],
      "metadata": {
        "colab": {
          "base_uri": "https://localhost:8080/"
        },
        "id": "-fno9XFGsgg_",
        "outputId": "8d79cbc3-57d0-4443-9c74-47bfa506e727"
      },
      "execution_count": 16,
      "outputs": [
        {
          "output_type": "stream",
          "name": "stdout",
          "text": [
            "7565\n"
          ]
        }
      ]
    },
    {
      "cell_type": "code",
      "source": [
        "tweets[\"Year Created\"] = tweets[\"Date Created\"].str[0:4]\n"
      ],
      "metadata": {
        "id": "zwxUGZj2s9Yp"
      },
      "execution_count": 21,
      "outputs": []
    },
    {
      "cell_type": "code",
      "source": [
        "yearly_mentions = tweets.groupby(\"Year Created\").sum().reset_index()\n",
        "yearly_mentions"
      ],
      "metadata": {
        "colab": {
          "base_uri": "https://localhost:8080/",
          "height": 394
        },
        "id": "vfertz61tqYS",
        "outputId": "ec528177-3415-4a6c-ce24-ffb0266568ad"
      },
      "execution_count": 22,
      "outputs": [
        {
          "output_type": "execute_result",
          "data": {
            "text/plain": [
              "   Year Created  Number of Likes  Retweet Count  contains_cancel_trump\n",
              "0          2012              6.0           13.0                     22\n",
              "1          2013              0.0            0.0                      2\n",
              "2          2014              0.0            1.0                      2\n",
              "3          2015            286.0          306.0                    550\n",
              "4          2016           1594.0         1032.0                    994\n",
              "5          2017           6992.0         3286.0                   1000\n",
              "6          2018          10441.0         3976.0                    998\n",
              "7          2019           5436.0         1092.0                    997\n",
              "8          2020           9148.0         1694.0                   1001\n",
              "9          2021          14620.0         3087.0                   1000\n",
              "10         2022           7368.0         1118.0                    999"
            ],
            "text/html": [
              "\n",
              "  <div id=\"df-c1706d57-96c8-4895-9276-88e9ac2b489b\">\n",
              "    <div class=\"colab-df-container\">\n",
              "      <div>\n",
              "<style scoped>\n",
              "    .dataframe tbody tr th:only-of-type {\n",
              "        vertical-align: middle;\n",
              "    }\n",
              "\n",
              "    .dataframe tbody tr th {\n",
              "        vertical-align: top;\n",
              "    }\n",
              "\n",
              "    .dataframe thead th {\n",
              "        text-align: right;\n",
              "    }\n",
              "</style>\n",
              "<table border=\"1\" class=\"dataframe\">\n",
              "  <thead>\n",
              "    <tr style=\"text-align: right;\">\n",
              "      <th></th>\n",
              "      <th>Year Created</th>\n",
              "      <th>Number of Likes</th>\n",
              "      <th>Retweet Count</th>\n",
              "      <th>contains_cancel_trump</th>\n",
              "    </tr>\n",
              "  </thead>\n",
              "  <tbody>\n",
              "    <tr>\n",
              "      <th>0</th>\n",
              "      <td>2012</td>\n",
              "      <td>6.0</td>\n",
              "      <td>13.0</td>\n",
              "      <td>22</td>\n",
              "    </tr>\n",
              "    <tr>\n",
              "      <th>1</th>\n",
              "      <td>2013</td>\n",
              "      <td>0.0</td>\n",
              "      <td>0.0</td>\n",
              "      <td>2</td>\n",
              "    </tr>\n",
              "    <tr>\n",
              "      <th>2</th>\n",
              "      <td>2014</td>\n",
              "      <td>0.0</td>\n",
              "      <td>1.0</td>\n",
              "      <td>2</td>\n",
              "    </tr>\n",
              "    <tr>\n",
              "      <th>3</th>\n",
              "      <td>2015</td>\n",
              "      <td>286.0</td>\n",
              "      <td>306.0</td>\n",
              "      <td>550</td>\n",
              "    </tr>\n",
              "    <tr>\n",
              "      <th>4</th>\n",
              "      <td>2016</td>\n",
              "      <td>1594.0</td>\n",
              "      <td>1032.0</td>\n",
              "      <td>994</td>\n",
              "    </tr>\n",
              "    <tr>\n",
              "      <th>5</th>\n",
              "      <td>2017</td>\n",
              "      <td>6992.0</td>\n",
              "      <td>3286.0</td>\n",
              "      <td>1000</td>\n",
              "    </tr>\n",
              "    <tr>\n",
              "      <th>6</th>\n",
              "      <td>2018</td>\n",
              "      <td>10441.0</td>\n",
              "      <td>3976.0</td>\n",
              "      <td>998</td>\n",
              "    </tr>\n",
              "    <tr>\n",
              "      <th>7</th>\n",
              "      <td>2019</td>\n",
              "      <td>5436.0</td>\n",
              "      <td>1092.0</td>\n",
              "      <td>997</td>\n",
              "    </tr>\n",
              "    <tr>\n",
              "      <th>8</th>\n",
              "      <td>2020</td>\n",
              "      <td>9148.0</td>\n",
              "      <td>1694.0</td>\n",
              "      <td>1001</td>\n",
              "    </tr>\n",
              "    <tr>\n",
              "      <th>9</th>\n",
              "      <td>2021</td>\n",
              "      <td>14620.0</td>\n",
              "      <td>3087.0</td>\n",
              "      <td>1000</td>\n",
              "    </tr>\n",
              "    <tr>\n",
              "      <th>10</th>\n",
              "      <td>2022</td>\n",
              "      <td>7368.0</td>\n",
              "      <td>1118.0</td>\n",
              "      <td>999</td>\n",
              "    </tr>\n",
              "  </tbody>\n",
              "</table>\n",
              "</div>\n",
              "      <button class=\"colab-df-convert\" onclick=\"convertToInteractive('df-c1706d57-96c8-4895-9276-88e9ac2b489b')\"\n",
              "              title=\"Convert this dataframe to an interactive table.\"\n",
              "              style=\"display:none;\">\n",
              "        \n",
              "  <svg xmlns=\"http://www.w3.org/2000/svg\" height=\"24px\"viewBox=\"0 0 24 24\"\n",
              "       width=\"24px\">\n",
              "    <path d=\"M0 0h24v24H0V0z\" fill=\"none\"/>\n",
              "    <path d=\"M18.56 5.44l.94 2.06.94-2.06 2.06-.94-2.06-.94-.94-2.06-.94 2.06-2.06.94zm-11 1L8.5 8.5l.94-2.06 2.06-.94-2.06-.94L8.5 2.5l-.94 2.06-2.06.94zm10 10l.94 2.06.94-2.06 2.06-.94-2.06-.94-.94-2.06-.94 2.06-2.06.94z\"/><path d=\"M17.41 7.96l-1.37-1.37c-.4-.4-.92-.59-1.43-.59-.52 0-1.04.2-1.43.59L10.3 9.45l-7.72 7.72c-.78.78-.78 2.05 0 2.83L4 21.41c.39.39.9.59 1.41.59.51 0 1.02-.2 1.41-.59l7.78-7.78 2.81-2.81c.8-.78.8-2.07 0-2.86zM5.41 20L4 18.59l7.72-7.72 1.47 1.35L5.41 20z\"/>\n",
              "  </svg>\n",
              "      </button>\n",
              "      \n",
              "  <style>\n",
              "    .colab-df-container {\n",
              "      display:flex;\n",
              "      flex-wrap:wrap;\n",
              "      gap: 12px;\n",
              "    }\n",
              "\n",
              "    .colab-df-convert {\n",
              "      background-color: #E8F0FE;\n",
              "      border: none;\n",
              "      border-radius: 50%;\n",
              "      cursor: pointer;\n",
              "      display: none;\n",
              "      fill: #1967D2;\n",
              "      height: 32px;\n",
              "      padding: 0 0 0 0;\n",
              "      width: 32px;\n",
              "    }\n",
              "\n",
              "    .colab-df-convert:hover {\n",
              "      background-color: #E2EBFA;\n",
              "      box-shadow: 0px 1px 2px rgba(60, 64, 67, 0.3), 0px 1px 3px 1px rgba(60, 64, 67, 0.15);\n",
              "      fill: #174EA6;\n",
              "    }\n",
              "\n",
              "    [theme=dark] .colab-df-convert {\n",
              "      background-color: #3B4455;\n",
              "      fill: #D2E3FC;\n",
              "    }\n",
              "\n",
              "    [theme=dark] .colab-df-convert:hover {\n",
              "      background-color: #434B5C;\n",
              "      box-shadow: 0px 1px 3px 1px rgba(0, 0, 0, 0.15);\n",
              "      filter: drop-shadow(0px 1px 2px rgba(0, 0, 0, 0.3));\n",
              "      fill: #FFFFFF;\n",
              "    }\n",
              "  </style>\n",
              "\n",
              "      <script>\n",
              "        const buttonEl =\n",
              "          document.querySelector('#df-c1706d57-96c8-4895-9276-88e9ac2b489b button.colab-df-convert');\n",
              "        buttonEl.style.display =\n",
              "          google.colab.kernel.accessAllowed ? 'block' : 'none';\n",
              "\n",
              "        async function convertToInteractive(key) {\n",
              "          const element = document.querySelector('#df-c1706d57-96c8-4895-9276-88e9ac2b489b');\n",
              "          const dataTable =\n",
              "            await google.colab.kernel.invokeFunction('convertToInteractive',\n",
              "                                                     [key], {});\n",
              "          if (!dataTable) return;\n",
              "\n",
              "          const docLinkHtml = 'Like what you see? Visit the ' +\n",
              "            '<a target=\"_blank\" href=https://colab.research.google.com/notebooks/data_table.ipynb>data table notebook</a>'\n",
              "            + ' to learn more about interactive tables.';\n",
              "          element.innerHTML = '';\n",
              "          dataTable['output_type'] = 'display_data';\n",
              "          await google.colab.output.renderOutput(dataTable, element);\n",
              "          const docLink = document.createElement('div');\n",
              "          docLink.innerHTML = docLinkHtml;\n",
              "          element.appendChild(docLink);\n",
              "        }\n",
              "      </script>\n",
              "    </div>\n",
              "  </div>\n",
              "  "
            ]
          },
          "metadata": {},
          "execution_count": 22
        }
      ]
    },
    {
      "cell_type": "code",
      "source": [
        "plt.plot(yearly_mentions[\"Year Created\"], yearly_mentions[\"contains_cancel_trump\"])\n",
        "plt.xlabel(\"Year\")\n",
        "plt.ylabel(\"Number of Tweets Containing `cancel Trump`\")\n",
        "plt.show()"
      ],
      "metadata": {
        "colab": {
          "base_uri": "https://localhost:8080/",
          "height": 279
        },
        "id": "_nWuw-fcuJHc",
        "outputId": "f9aed648-f92e-41ce-bee9-1d4925a947ca"
      },
      "execution_count": 26,
      "outputs": [
        {
          "output_type": "display_data",
          "data": {
            "text/plain": [
              "<Figure size 432x288 with 1 Axes>"
            ],
            "image/png": "[encoded data removed]"
          },
          "metadata": {
            "needs_background": "light"
          }
        }
      ]
    },
    {
      "cell_type": "markdown",
      "source": [
        "Sentiment Analysis"
      ],
      "metadata": {
        "id": "ibLL-qaNxDGr"
      }
    },
    {
      "cell_type": "code",
      "source": [
        "nltk.download('vader_lexicon')"
      ],
      "metadata": {
        "colab": {
          "base_uri": "https://localhost:8080/"
        },
        "id": "3PDoxE4-vO9P",
        "outputId": "09162885-9fe5-498d-918f-60b9fd68acc0"
      },
      "execution_count": 27,
      "outputs": [
        {
          "output_type": "stream",
          "name": "stderr",
          "text": [
            "[nltk_data] Downloading package vader_lexicon to /root/nltk_data...\n"
          ]
        },
        {
          "output_type": "execute_result",
          "data": {
            "text/plain": [
              "True"
            ]
          },
          "metadata": {},
          "execution_count": 27
        }
      ]
    },
    {
      "cell_type": "code",
      "source": [
        "sia = SentimentIntensityAnalyzer()"
      ],
      "metadata": {
        "id": "HQt0FySCvUiO"
      },
      "execution_count": 28,
      "outputs": []
    },
    {
      "cell_type": "code",
      "source": [
        "tweets[\"polarity\"] = tweets[\"clean_tweets\"].apply(lambda x: sia.polarity_scores(x))"
      ],
      "metadata": {
        "id": "a7wNR36ZvXmC"
      },
      "execution_count": 29,
      "outputs": []
    },
    {
      "cell_type": "code",
      "source": [
        "tweets[['neg', 'neu', 'pos', 'compound']] = tweets['polarity'].apply(pd.Series)\n",
        "tweets.drop('polarity', axis=1)"
      ],
      "metadata": {
        "colab": {
          "base_uri": "https://localhost:8080/",
          "height": 887
        },
        "id": "ohpNb1kAvf9e",
        "outputId": "c1b0218f-36b0-4566-d673-6a7d00172981"
      },
      "execution_count": 31,
      "outputs": [
        {
          "output_type": "execute_result",
          "data": {
            "text/plain": [
              "                User               Date Created  Number of Likes  \\\n",
              "0         BucketBuoy  2012-12-26 22:20:01+00:00              1.0   \n",
              "1       ldiproperzio  2012-12-26 21:49:51+00:00              0.0   \n",
              "2       jonsaidstuff  2012-12-26 21:04:16+00:00              1.0   \n",
              "3           News12LI  2012-12-26 20:57:54+00:00              2.0   \n",
              "4           Its_crap  2012-11-08 05:51:10+00:00              0.0   \n",
              "...              ...                        ...              ...   \n",
              "7581      ElBanadoro  2022-08-27 18:22:16+00:00              0.0   \n",
              "7582     The_NewArab  2022-08-27 15:55:10+00:00              3.0   \n",
              "7583      Al20209736  2022-08-27 15:01:17+00:00              0.0   \n",
              "7584  dianecloutier9  2022-08-27 11:53:11+00:00              0.0   \n",
              "7585       SoooDonna  2022-08-27 08:46:38+00:00              0.0   \n",
              "\n",
              "           Source of Tweet                                              Tweet  \\\n",
              "0       Twitter for iPhone  BREAKING NEWS: Trump, officials cancel Trump o...   \n",
              "1     Twitter for Websites  Trump, officials cancel Trump on the Ocean pro...   \n",
              "2      Twitter for Android  \"@News12LI: Trump, officials cancel Trump on t...   \n",
              "3       Twitter Web Client  Trump, officials cancel Trump on the Ocean pro...   \n",
              "4         Twitter for iPad  @realDonaldTrump called NBC's Brian Williams a...   \n",
              "...                    ...                                                ...   \n",
              "7581       Twitter Web App  @AleteiaES @YvesPDB Shia le bœuf le même qui m...   \n",
              "7582        Hootsuite Inc.  The plan to host the Aramco Team Series at the...   \n",
              "7583    Twitter for iPhone  @gtconway3d What we really need to do is cut o...   \n",
              "7584       Twitter Web App  TWO YEARS LATER: Davos and the Plot to Cancel ...   \n",
              "7585   Twitter for Android  CANCEL TRUMP’S OFFICIAL... https://t.co/gnuQwD...   \n",
              "\n",
              "      Retweet Count                                       clean_tweets  \\\n",
              "0               1.0  breaking news trump officials cancel trump oce...   \n",
              "1               0.0  trump officials cancel trump ocean project htt...   \n",
              "2               0.0  news12li trump officials cancel trump ocean pr...   \n",
              "3               8.0  trump officials cancel trump ocean project htt...   \n",
              "4               0.0  realdonaldtrump called nbcs brian williams dum...   \n",
              "...             ...                                                ...   \n",
              "7581            0.0  aleteiaes yvespdb shia le bœuf le même qui mil...   \n",
              "7582            0.0  plan host aramco team series trump golf links ...   \n",
              "7583            0.0  gtconway3d really need cut publicity trump lov...   \n",
              "7584            0.0  years later davos plot cancel trump httpstcoiz...   \n",
              "7585            0.0          cancel trumps official httpstcognuqwdsg2n   \n",
              "\n",
              "      contains_cancel_trump Year Created    neg    neu    pos  compound  \n",
              "0                      True         2012  0.167  0.833  0.000   -0.2500  \n",
              "1                      True         2012  0.222  0.778  0.000   -0.2500  \n",
              "2                      True         2012  0.234  0.526  0.240    0.2732  \n",
              "3                      True         2012  0.200  0.800  0.000   -0.2500  \n",
              "4                      True         2012  0.471  0.529  0.000   -0.8360  \n",
              "...                     ...          ...    ...    ...    ...       ...  \n",
              "7581                   True         2022  0.125  0.875  0.000   -0.2500  \n",
              "7582                   True         2022  0.077  0.923  0.000   -0.2500  \n",
              "7583                   True         2022  0.290  0.464  0.245    0.0828  \n",
              "7584                   True         2022  0.222  0.778  0.000   -0.2500  \n",
              "7585                   True         2022  0.400  0.600  0.000   -0.2500  \n",
              "\n",
              "[7585 rows x 13 columns]"
            ],
            "text/html": [
              "\n",
              "  <div id=\"df-47ffe18e-b779-439a-8ff1-ec306731f3c7\">\n",
              "    <div class=\"colab-df-container\">\n",
              "      <div>\n",
              "<style scoped>\n",
              "    .dataframe tbody tr th:only-of-type {\n",
              "        vertical-align: middle;\n",
              "    }\n",
              "\n",
              "    .dataframe tbody tr th {\n",
              "        vertical-align: top;\n",
              "    }\n",
              "\n",
              "    .dataframe thead th {\n",
              "        text-align: right;\n",
              "    }\n",
              "</style>\n",
              "<table border=\"1\" class=\"dataframe\">\n",
              "  <thead>\n",
              "    <tr style=\"text-align: right;\">\n",
              "      <th></th>\n",
              "      <th>User</th>\n",
              "      <th>Date Created</th>\n",
              "      <th>Number of Likes</th>\n",
              "      <th>Source of Tweet</th>\n",
              "      <th>Tweet</th>\n",
              "      <th>Retweet Count</th>\n",
              "      <th>clean_tweets</th>\n",
              "      <th>contains_cancel_trump</th>\n",
              "      <th>Year Created</th>\n",
              "      <th>neg</th>\n",
              "      <th>neu</th>\n",
              "      <th>pos</th>\n",
              "      <th>compound</th>\n",
              "    </tr>\n",
              "  </thead>\n",
              "  <tbody>\n",
              "    <tr>\n",
              "      <th>0</th>\n",
              "      <td>BucketBuoy</td>\n",
              "      <td>2012-12-26 22:20:01+00:00</td>\n",
              "      <td>1.0</td>\n",
              "      <td>Twitter for iPhone</td>\n",
              "      <td>BREAKING NEWS: Trump, officials cancel Trump o...</td>\n",
              "      <td>1.0</td>\n",
              "      <td>breaking news trump officials cancel trump oce...</td>\n",
              "      <td>True</td>\n",
              "      <td>2012</td>\n",
              "      <td>0.167</td>\n",
              "      <td>0.833</td>\n",
              "      <td>0.000</td>\n",
              "      <td>-0.2500</td>\n",
              "    </tr>\n",
              "    <tr>\n",
              "      <th>1</th>\n",
              "      <td>ldiproperzio</td>\n",
              "      <td>2012-12-26 21:49:51+00:00</td>\n",
              "      <td>0.0</td>\n",
              "      <td>Twitter for Websites</td>\n",
              "      <td>Trump, officials cancel Trump on the Ocean pro...</td>\n",
              "      <td>0.0</td>\n",
              "      <td>trump officials cancel trump ocean project htt...</td>\n",
              "      <td>True</td>\n",
              "      <td>2012</td>\n",
              "      <td>0.222</td>\n",
              "      <td>0.778</td>\n",
              "      <td>0.000</td>\n",
              "      <td>-0.2500</td>\n",
              "    </tr>\n",
              "    <tr>\n",
              "      <th>2</th>\n",
              "      <td>jonsaidstuff</td>\n",
              "      <td>2012-12-26 21:04:16+00:00</td>\n",
              "      <td>1.0</td>\n",
              "      <td>Twitter for Android</td>\n",
              "      <td>\"@News12LI: Trump, officials cancel Trump on t...</td>\n",
              "      <td>0.0</td>\n",
              "      <td>news12li trump officials cancel trump ocean pr...</td>\n",
              "      <td>True</td>\n",
              "      <td>2012</td>\n",
              "      <td>0.234</td>\n",
              "      <td>0.526</td>\n",
              "      <td>0.240</td>\n",
              "      <td>0.2732</td>\n",
              "    </tr>\n",
              "    <tr>\n",
              "      <th>3</th>\n",
              "      <td>News12LI</td>\n",
              "      <td>2012-12-26 20:57:54+00:00</td>\n",
              "      <td>2.0</td>\n",
              "      <td>Twitter Web Client</td>\n",
              "      <td>Trump, officials cancel Trump on the Ocean pro...</td>\n",
              "      <td>8.0</td>\n",
              "      <td>trump officials cancel trump ocean project htt...</td>\n",
              "      <td>True</td>\n",
              "      <td>2012</td>\n",
              "      <td>0.200</td>\n",
              "      <td>0.800</td>\n",
              "      <td>0.000</td>\n",
              "      <td>-0.2500</td>\n",
              "    </tr>\n",
              "    <tr>\n",
              "      <th>4</th>\n",
              "      <td>Its_crap</td>\n",
              "      <td>2012-11-08 05:51:10+00:00</td>\n",
              "      <td>0.0</td>\n",
              "      <td>Twitter for iPad</td>\n",
              "      <td>@realDonaldTrump called NBC's Brian Williams a...</td>\n",
              "      <td>0.0</td>\n",
              "      <td>realdonaldtrump called nbcs brian williams dum...</td>\n",
              "      <td>True</td>\n",
              "      <td>2012</td>\n",
              "      <td>0.471</td>\n",
              "      <td>0.529</td>\n",
              "      <td>0.000</td>\n",
              "      <td>-0.8360</td>\n",
              "    </tr>\n",
              "    <tr>\n",
              "      <th>...</th>\n",
              "      <td>...</td>\n",
              "      <td>...</td>\n",
              "      <td>...</td>\n",
              "      <td>...</td>\n",
              "      <td>...</td>\n",
              "      <td>...</td>\n",
              "      <td>...</td>\n",
              "      <td>...</td>\n",
              "      <td>...</td>\n",
              "      <td>...</td>\n",
              "      <td>...</td>\n",
              "      <td>...</td>\n",
              "      <td>...</td>\n",
              "    </tr>\n",
              "    <tr>\n",
              "      <th>7581</th>\n",
              "      <td>ElBanadoro</td>\n",
              "      <td>2022-08-27 18:22:16+00:00</td>\n",
              "      <td>0.0</td>\n",
              "      <td>Twitter Web App</td>\n",
              "      <td>@AleteiaES @YvesPDB Shia le bœuf le même qui m...</td>\n",
              "      <td>0.0</td>\n",
              "      <td>aleteiaes yvespdb shia le bœuf le même qui mil...</td>\n",
              "      <td>True</td>\n",
              "      <td>2022</td>\n",
              "      <td>0.125</td>\n",
              "      <td>0.875</td>\n",
              "      <td>0.000</td>\n",
              "      <td>-0.2500</td>\n",
              "    </tr>\n",
              "    <tr>\n",
              "      <th>7582</th>\n",
              "      <td>The_NewArab</td>\n",
              "      <td>2022-08-27 15:55:10+00:00</td>\n",
              "      <td>3.0</td>\n",
              "      <td>Hootsuite Inc.</td>\n",
              "      <td>The plan to host the Aramco Team Series at the...</td>\n",
              "      <td>0.0</td>\n",
              "      <td>plan host aramco team series trump golf links ...</td>\n",
              "      <td>True</td>\n",
              "      <td>2022</td>\n",
              "      <td>0.077</td>\n",
              "      <td>0.923</td>\n",
              "      <td>0.000</td>\n",
              "      <td>-0.2500</td>\n",
              "    </tr>\n",
              "    <tr>\n",
              "      <th>7583</th>\n",
              "      <td>Al20209736</td>\n",
              "      <td>2022-08-27 15:01:17+00:00</td>\n",
              "      <td>0.0</td>\n",
              "      <td>Twitter for iPhone</td>\n",
              "      <td>@gtconway3d What we really need to do is cut o...</td>\n",
              "      <td>0.0</td>\n",
              "      <td>gtconway3d really need cut publicity trump lov...</td>\n",
              "      <td>True</td>\n",
              "      <td>2022</td>\n",
              "      <td>0.290</td>\n",
              "      <td>0.464</td>\n",
              "      <td>0.245</td>\n",
              "      <td>0.0828</td>\n",
              "    </tr>\n",
              "    <tr>\n",
              "      <th>7584</th>\n",
              "      <td>dianecloutier9</td>\n",
              "      <td>2022-08-27 11:53:11+00:00</td>\n",
              "      <td>0.0</td>\n",
              "      <td>Twitter Web App</td>\n",
              "      <td>TWO YEARS LATER: Davos and the Plot to Cancel ...</td>\n",
              "      <td>0.0</td>\n",
              "      <td>years later davos plot cancel trump httpstcoiz...</td>\n",
              "      <td>True</td>\n",
              "      <td>2022</td>\n",
              "      <td>0.222</td>\n",
              "      <td>0.778</td>\n",
              "      <td>0.000</td>\n",
              "      <td>-0.2500</td>\n",
              "    </tr>\n",
              "    <tr>\n",
              "      <th>7585</th>\n",
              "      <td>SoooDonna</td>\n",
              "      <td>2022-08-27 08:46:38+00:00</td>\n",
              "      <td>0.0</td>\n",
              "      <td>Twitter for Android</td>\n",
              "      <td>CANCEL TRUMP’S OFFICIAL... https://t.co/gnuQwD...</td>\n",
              "      <td>0.0</td>\n",
              "      <td>cancel trumps official httpstcognuqwdsg2n</td>\n",
              "      <td>True</td>\n",
              "      <td>2022</td>\n",
              "      <td>0.400</td>\n",
              "      <td>0.600</td>\n",
              "      <td>0.000</td>\n",
              "      <td>-0.2500</td>\n",
              "    </tr>\n",
              "  </tbody>\n",
              "</table>\n",
              "<p>7585 rows × 13 columns</p>\n",
              "</div>\n",
              "      <button class=\"colab-df-convert\" onclick=\"convertToInteractive('df-47ffe18e-b779-439a-8ff1-ec306731f3c7')\"\n",
              "              title=\"Convert this dataframe to an interactive table.\"\n",
              "              style=\"display:none;\">\n",
              "        \n",
              "  <svg xmlns=\"http://www.w3.org/2000/svg\" height=\"24px\"viewBox=\"0 0 24 24\"\n",
              "       width=\"24px\">\n",
              "    <path d=\"M0 0h24v24H0V0z\" fill=\"none\"/>\n",
              "    <path d=\"M18.56 5.44l.94 2.06.94-2.06 2.06-.94-2.06-.94-.94-2.06-.94 2.06-2.06.94zm-11 1L8.5 8.5l.94-2.06 2.06-.94-2.06-.94L8.5 2.5l-.94 2.06-2.06.94zm10 10l.94 2.06.94-2.06 2.06-.94-2.06-.94-.94-2.06-.94 2.06-2.06.94z\"/><path d=\"M17.41 7.96l-1.37-1.37c-.4-.4-.92-.59-1.43-.59-.52 0-1.04.2-1.43.59L10.3 9.45l-7.72 7.72c-.78.78-.78 2.05 0 2.83L4 21.41c.39.39.9.59 1.41.59.51 0 1.02-.2 1.41-.59l7.78-7.78 2.81-2.81c.8-.78.8-2.07 0-2.86zM5.41 20L4 18.59l7.72-7.72 1.47 1.35L5.41 20z\"/>\n",
              "  </svg>\n",
              "      </button>\n",
              "      \n",
              "  <style>\n",
              "    .colab-df-container {\n",
              "      display:flex;\n",
              "      flex-wrap:wrap;\n",
              "      gap: 12px;\n",
              "    }\n",
              "\n",
              "    .colab-df-convert {\n",
              "      background-color: #E8F0FE;\n",
              "      border: none;\n",
              "      border-radius: 50%;\n",
              "      cursor: pointer;\n",
              "      display: none;\n",
              "      fill: #1967D2;\n",
              "      height: 32px;\n",
              "      padding: 0 0 0 0;\n",
              "      width: 32px;\n",
              "    }\n",
              "\n",
              "    .colab-df-convert:hover {\n",
              "      background-color: #E2EBFA;\n",
              "      box-shadow: 0px 1px 2px rgba(60, 64, 67, 0.3), 0px 1px 3px 1px rgba(60, 64, 67, 0.15);\n",
              "      fill: #174EA6;\n",
              "    }\n",
              "\n",
              "    [theme=dark] .colab-df-convert {\n",
              "      background-color: #3B4455;\n",
              "      fill: #D2E3FC;\n",
              "    }\n",
              "\n",
              "    [theme=dark] .colab-df-convert:hover {\n",
              "      background-color: #434B5C;\n",
              "      box-shadow: 0px 1px 3px 1px rgba(0, 0, 0, 0.15);\n",
              "      filter: drop-shadow(0px 1px 2px rgba(0, 0, 0, 0.3));\n",
              "      fill: #FFFFFF;\n",
              "    }\n",
              "  </style>\n",
              "\n",
              "      <script>\n",
              "        const buttonEl =\n",
              "          document.querySelector('#df-47ffe18e-b779-439a-8ff1-ec306731f3c7 button.colab-df-convert');\n",
              "        buttonEl.style.display =\n",
              "          google.colab.kernel.accessAllowed ? 'block' : 'none';\n",
              "\n",
              "        async function convertToInteractive(key) {\n",
              "          const element = document.querySelector('#df-47ffe18e-b779-439a-8ff1-ec306731f3c7');\n",
              "          const dataTable =\n",
              "            await google.colab.kernel.invokeFunction('convertToInteractive',\n",
              "                                                     [key], {});\n",
              "          if (!dataTable) return;\n",
              "\n",
              "          const docLinkHtml = 'Like what you see? Visit the ' +\n",
              "            '<a target=\"_blank\" href=https://colab.research.google.com/notebooks/data_table.ipynb>data table notebook</a>'\n",
              "            + ' to learn more about interactive tables.';\n",
              "          element.innerHTML = '';\n",
              "          dataTable['output_type'] = 'display_data';\n",
              "          await google.colab.output.renderOutput(dataTable, element);\n",
              "          const docLink = document.createElement('div');\n",
              "          docLink.innerHTML = docLinkHtml;\n",
              "          element.appendChild(docLink);\n",
              "        }\n",
              "      </script>\n",
              "    </div>\n",
              "  </div>\n",
              "  "
            ]
          },
          "metadata": {},
          "execution_count": 31
        }
      ]
    },
    {
      "cell_type": "code",
      "source": [
        "positive = sum(tweets[\"pos\"])\n",
        "negative = sum(tweets[\"neg\"])\n",
        "compound = sum(tweets[\"compound\"])\n",
        "neutral = sum(tweets[\"neu\"])\n",
        "\n",
        "print(\"Positive: \", positive)\n",
        "print(\"Negative \", negative)\n",
        "print(\"Compound\", compound)\n",
        "print(\"Neutral\", neutral)"
      ],
      "metadata": {
        "colab": {
          "base_uri": "https://localhost:8080/"
        },
        "id": "8ZC0v1zAvz9p",
        "outputId": "4169cbc4-1ca7-4d9e-8cae-0b890a165237"
      },
      "execution_count": 33,
      "outputs": [
        {
          "output_type": "stream",
          "name": "stdout",
          "text": [
            "Positive:  784.7059999999943\n",
            "Negative  1944.7370000000055\n",
            "Compound -1482.4249000000164\n",
            "Neutral 4855.635999999995\n"
          ]
        }
      ]
    },
    {
      "cell_type": "code",
      "source": [
        "df = tweets.groupby(\"Year Created\").sum().reset_index()\n",
        "\n",
        "plt.plot(df[\"Year Created\"], df[\"pos\"], label=\"positive\")\n",
        "plt.plot(df[\"Year Created\"], df[\"neg\"], label = \"negative\")\n",
        "plt.plot(df[\"Year Created\"], df[\"compound\"], label = \"compound\")\n",
        "plt.plot(df[\"Year Created\"], df[\"neu\"], label = \"neutral\")\n",
        "plt.xlabel(\"Year\")\n",
        "plt.ylabel(\"Sentiment Value\")\n",
        "plt.legend()\n",
        "plt.show()\n"
      ],
      "metadata": {
        "colab": {
          "base_uri": "https://localhost:8080/",
          "height": 279
        },
        "id": "WSXskbuew29a",
        "outputId": "6f6f3779-a5eb-44c1-d2d5-19b5784383b1"
      },
      "execution_count": 35,
      "outputs": [
        {
          "output_type": "display_data",
          "data": {
            "text/plain": [
              "<Figure size 432x288 with 1 Axes>"
            ],
            "image/png": "[encoded data removed]"
          },
          "metadata": {
            "needs_background": "light"
          }
        }
      ]
    },
    {
      "cell_type": "markdown",
      "source": [
        "Topic Modelling"
      ],
      "metadata": {
        "id": "UE5o9zgw0B-O"
      }
    },
    {
      "cell_type": "code",
      "source": [
        "data = tweets[\"clean_tweets\"].values.tolist()\n",
        "\n",
        "# Remove Emails\n",
        "data = [re.sub('\\S*@\\S*\\s?', '', sent) for sent in data]\n",
        "\n",
        "# Remove new line characters\n",
        "data = [re.sub('\\s+', ' ', sent) for sent in data]\n",
        "\n",
        "# Remove distracting single quotes\n",
        "data = [re.sub(\"\\'\", \"\", sent) for sent in data]\n",
        "data[:1]"
      ],
      "metadata": {
        "colab": {
          "base_uri": "https://localhost:8080/"
        },
        "id": "j6aafGou0tAK",
        "outputId": "f97fd9ef-21e4-4b2b-f6b2-3f2982cafceb"
      },
      "execution_count": 38,
      "outputs": [
        {
          "output_type": "execute_result",
          "data": {
            "text/plain": [
              "['breaking news trump officials cancel trump ocean project httptcobnpkub8u jonesbeach news12li']"
            ]
          },
          "metadata": {},
          "execution_count": 38
        }
      ]
    },
    {
      "cell_type": "code",
      "source": [
        "def sent_to_words(sentences):\n",
        "    for sentence in sentences:\n",
        "        yield(gensim.utils.simple_preprocess(str(sentence), deacc=True))  # deacc=True removes punctuations\n",
        "\n",
        "data_words = list(sent_to_words(data))\n",
        "\n",
        "print(data_words[:1])"
      ],
      "metadata": {
        "colab": {
          "base_uri": "https://localhost:8080/"
        },
        "id": "tYZEKrsg0D3m",
        "outputId": "b0ac1d8f-ecc1-4161-ac4e-6af677440989"
      },
      "execution_count": 39,
      "outputs": [
        {
          "output_type": "stream",
          "name": "stdout",
          "text": [
            "[['breaking', 'news', 'trump', 'officials', 'cancel', 'trump', 'ocean', 'project', 'httptcobnpkub', 'jonesbeach', 'news', 'li']]\n"
          ]
        }
      ]
    },
    {
      "cell_type": "code",
      "source": [
        "# Build the bigram and trigram models\n",
        "bigram = gensim.models.Phrases(data_words, min_count=5, threshold=100) # higher threshold fewer phrases.\n",
        "trigram = gensim.models.Phrases(bigram[data_words], threshold=100)  \n",
        "\n",
        "# Faster way to get a sentence clubbed as a trigram/bigram\n",
        "bigram_mod = gensim.models.phrases.Phraser(bigram)\n",
        "trigram_mod = gensim.models.phrases.Phraser(trigram)\n",
        "\n",
        "# See trigram example\n",
        "print(trigram_mod[bigram_mod[data_words[0]]])"
      ],
      "metadata": {
        "colab": {
          "base_uri": "https://localhost:8080/"
        },
        "id": "mMakNK6X1RNG",
        "outputId": "cfc9c322-55d4-4daf-9dd8-f12e36c5c922"
      },
      "execution_count": 40,
      "outputs": [
        {
          "output_type": "stream",
          "name": "stdout",
          "text": [
            "['breaking', 'news', 'trump', 'officials', 'cancel', 'trump', 'ocean', 'project', 'httptcobnpkub', 'jonesbeach', 'news', 'li']\n"
          ]
        }
      ]
    },
    {
      "cell_type": "code",
      "source": [
        "nltk.download('stopwords')\n",
        "stop_words = stopwords.words('english')\n",
        "stop_words.extend(['from', 'subject', 're', 'edu', 'use'])\n"
      ],
      "metadata": {
        "colab": {
          "base_uri": "https://localhost:8080/"
        },
        "id": "6VtARXgR1YTB",
        "outputId": "3de7e5e9-d3cf-4fd7-aa28-e0b132e8c905"
      },
      "execution_count": 46,
      "outputs": [
        {
          "output_type": "stream",
          "name": "stderr",
          "text": [
            "[nltk_data] Downloading package stopwords to /root/nltk_data...\n",
            "[nltk_data]   Unzipping corpora/stopwords.zip.\n"
          ]
        }
      ]
    },
    {
      "cell_type": "code",
      "source": [
        "# Define functions for stopwords, bigrams, trigrams and lemmatization\n",
        "def remove_stopwords(texts):\n",
        "    return [[word for word in simple_preprocess(str(doc)) if word not in stop_words] for doc in texts]\n",
        "\n",
        "def make_bigrams(texts):\n",
        "    return [bigram_mod[doc] for doc in texts]\n",
        "\n",
        "def make_trigrams(texts):\n",
        "    return [trigram_mod[bigram_mod[doc]] for doc in texts]\n",
        "\n",
        "def lemmatization(texts, allowed_postags=['NOUN', 'ADJ', 'VERB', 'ADV']):\n",
        "    \"\"\"https://spacy.io/api/annotation\"\"\"\n",
        "    texts_out = []\n",
        "    for sent in texts:\n",
        "        doc = nlp(\" \".join(sent)) \n",
        "        texts_out.append([token.lemma_ for token in doc if token.pos_ in allowed_postags])\n",
        "    return texts_out"
      ],
      "metadata": {
        "id": "3zuxDUPq1tke"
      },
      "execution_count": 47,
      "outputs": []
    },
    {
      "cell_type": "code",
      "source": [
        "# Remove Stop Words\n",
        "data_words_nostops = remove_stopwords(data_words)\n",
        "\n",
        "# Form Bigrams\n",
        "data_words_bigrams = make_bigrams(data_words_nostops)"
      ],
      "metadata": {
        "id": "FnfCFFTu2qIj"
      },
      "execution_count": 48,
      "outputs": []
    },
    {
      "cell_type": "code",
      "source": [
        "nlp = spacy.load('en_core_web_sm', disable=['parser', 'ner'])\n",
        "\n",
        "# Do lemmatization keeping only noun, adj, vb, adv\n",
        "data_lemmatized = lemmatization(data_words_bigrams, allowed_postags=['NOUN', 'ADJ', 'VERB', 'ADV'])\n",
        "\n",
        "print(data_lemmatized[:1])"
      ],
      "metadata": {
        "colab": {
          "base_uri": "https://localhost:8080/"
        },
        "id": "qM49Or4L2uFr",
        "outputId": "cd45fa84-e7c9-4fb0-be44-dc919b615407"
      },
      "execution_count": 49,
      "outputs": [
        {
          "output_type": "stream",
          "name": "stdout",
          "text": [
            "[['break', 'news', 'trump', 'official', 'cancel', 'ocean', 'project']]\n"
          ]
        }
      ]
    },
    {
      "cell_type": "code",
      "source": [
        "tweets_lemmatized=data_lemmatized\n"
      ],
      "metadata": {
        "id": "ndXDMc_23Z7r"
      },
      "execution_count": 53,
      "outputs": []
    },
    {
      "cell_type": "code",
      "source": [
        "id2word = Dictionary(tweets)\n",
        "corpus = [id2word.doc2bow(tweet) for tweet in tweets_lemmatized]\n"
      ],
      "metadata": {
        "id": "pO4Wah3P3cbD"
      },
      "execution_count": 54,
      "outputs": []
    },
    {
      "cell_type": "code",
      "source": [
        "# Build LDA model\n",
        "lda_model = LdaModel(corpus=corpus,\n",
        "                   id2word=id2word,\n",
        "                   num_topics=10, \n",
        "                   random_state=0,\n",
        "                   chunksize=100,\n",
        "                   alpha='auto',\n",
        "                   per_word_topics=True)"
      ],
      "metadata": {
        "id": "UKAMxoCP3noP"
      },
      "execution_count": 55,
      "outputs": []
    },
    {
      "cell_type": "code",
      "source": [
        "lda_model.print_topics()"
      ],
      "metadata": {
        "colab": {
          "base_uri": "https://localhost:8080/"
        },
        "id": "mGIlIgpB3rYC",
        "outputId": "39cd5976-2141-4cb3-8ca2-f941653c0f67"
      },
      "execution_count": 56,
      "outputs": [
        {
          "output_type": "execute_result",
          "data": {
            "text/plain": [
              "[(0,\n",
              "  '0.057*\"rally\" + 0.053*\"supporter\" + 0.053*\"mean\" + 0.046*\"ve\" + 0.026*\"true\" + 0.025*\"month\" + 0.025*\"ago\" + 0.022*\"call\" + 0.021*\"silence\" + 0.018*\"able\"'),\n",
              " (1,\n",
              "  '0.066*\"biden\" + 0.038*\"time\" + 0.037*\"day\" + 0.034*\"think\" + 0.032*\"re\" + 0.030*\"need\" + 0.020*\"leave\" + 0.019*\"support\" + 0.017*\"power\" + 0.017*\"deal\"'),\n",
              " (2,\n",
              "  '0.118*\"want\" + 0.088*\"twitter\" + 0.045*\"country\" + 0.043*\"account\" + 0.034*\"really\" + 0.032*\"dem\" + 0.028*\"rule\" + 0.025*\"black\" + 0.022*\"httpstco\" + 0.021*\"company\"'),\n",
              " (3,\n",
              "  '0.368*\"cancel\" + 0.246*\"trump\" + 0.017*\"official\" + 0.013*\"policy\" + 0.013*\"plot\" + 0.010*\"alabama_official\" + 0.010*\"election\" + 0.009*\"come\" + 0.009*\"good\" + 0.008*\"pity_party\"'),\n",
              " (4,\n",
              "  '0.063*\"take\" + 0.048*\"credit\" + 0.043*\"ask\" + 0.033*\"give\" + 0.030*\"claim\" + 0.025*\"democracy\" + 0.020*\"ill\" + 0.019*\"event\" + 0.018*\"corruption\" + 0.018*\"wonder\"'),\n",
              " (5,\n",
              "  '0.042*\"plan\" + 0.028*\"stop\" + 0.027*\"medium\" + 0.027*\"work\" + 0.025*\"tell\" + 0.025*\"amp\" + 0.024*\"m\" + 0.023*\"order\" + 0.021*\"lie\" + 0.018*\"political\"'),\n",
              " (6,\n",
              "  '0.050*\"go\" + 0.044*\"year\" + 0.038*\"know\" + 0.034*\"thing\" + 0.033*\"cancel\" + 0.033*\"cost\" + 0.032*\"get\" + 0.021*\"low\" + 0.018*\"youtube\" + 0.017*\"attempt\"'),\n",
              " (7,\n",
              "  '0.000*\"load\" + 0.000*\"unfortunately\" + 0.000*\"stupidly\" + 0.000*\"anger\" + 0.000*\"fortune\" + 0.000*\"preelection\" + 0.000*\"loseroftheyear\" + 0.000*\"miniserie\" + 0.000*\"historical\" + 0.000*\"executive_ord\"'),\n",
              " (8,\n",
              "  '0.077*\"say\" + 0.076*\"s\" + 0.052*\"let\" + 0.043*\"vote\" + 0.024*\"president\" + 0.020*\"run\" + 0.020*\"wait\" + 0.017*\"maga\" + 0.017*\"move\" + 0.016*\"crime\"'),\n",
              " (9,\n",
              "  '0.095*\"try\" + 0.069*\"people\" + 0.062*\"insulin\" + 0.040*\"price\" + 0.026*\"make\" + 0.022*\"office\" + 0.022*\"right\" + 0.020*\"pay\" + 0.017*\"lower\" + 0.016*\"cap\"')]"
            ]
          },
          "metadata": {},
          "execution_count": 56
        }
      ]
    },
    {
      "cell_type": "code",
      "source": [
        "# Compute Perplexity\n",
        "print('\\nPerplexity: ', lda_model.log_perplexity(corpus))  # a measure of how good the model is. lower the better.\n",
        "\n",
        "# Compute Coherence Score\n",
        "#a measure of how well sentences fit together in document\n",
        "coherence_model_lda = CoherenceModel(model=lda_model, texts=tweets, dictionary=id2word, coherence='c_v')\n",
        "coherence_lda = coherence_model_lda.get_coherence()\n",
        "print('\\nCoherence Score: ', coherence_lda)"
      ],
      "metadata": {
        "colab": {
          "base_uri": "https://localhost:8080/"
        },
        "id": "NjkrlFH_3w9X",
        "outputId": "9f08c3fe-4b10-4ac2-f5ed-1824836c3821"
      },
      "execution_count": 58,
      "outputs": [
        {
          "output_type": "stream",
          "name": "stdout",
          "text": [
            "\n",
            "Perplexity:  -9.053100738419163\n",
            "\n",
            "Coherence Score:  0.39557808873275324\n"
          ]
        }
      ]
    },
    {
      "cell_type": "code",
      "source": [
        "!pip install pyLDAvis\n"
      ],
      "metadata": {
        "colab": {
          "base_uri": "https://localhost:8080/"
        },
        "id": "dXuxVCRl4ll8",
        "outputId": "86554155-c99e-4a10-de3d-048ffa51e245"
      },
      "execution_count": 63,
      "outputs": [
        {
          "output_type": "stream",
          "name": "stdout",
          "text": [
            "Looking in indexes: https://pypi.org/simple, https://us-python.pkg.dev/colab-wheels/public/simple/\n",
            "Collecting pyLDAvis\n",
            "  Downloading pyLDAvis-3.4.0-py3-none-any.whl (2.6 MB)\n",
            "\u001b[2K     \u001b[90m━━━━━━━━━━━━━━━━━━━━━━━━━━━━━━━━━━━━━━━━\u001b[0m \u001b[32m2.6/2.6 MB\u001b[0m \u001b[31m25.7 MB/s\u001b[0m eta \u001b[36m0:00:00\u001b[0m\n",
            "\u001b[?25hRequirement already satisfied: jinja2 in /usr/local/lib/python3.9/dist-packages (from pyLDAvis) (3.1.2)\n",
            "Requirement already satisfied: pandas>=1.3.4 in /usr/local/lib/python3.9/dist-packages (from pyLDAvis) (1.4.4)\n",
            "Requirement already satisfied: scipy in /usr/local/lib/python3.9/dist-packages (from pyLDAvis) (1.10.1)\n",
            "Collecting joblib>=1.2.0\n",
            "  Downloading joblib-1.2.0-py3-none-any.whl (297 kB)\n",
            "\u001b[2K     \u001b[90m━━━━━━━━━━━━━━━━━━━━━━━━━━━━━━━━━━━━━━\u001b[0m \u001b[32m298.0/298.0 KB\u001b[0m \u001b[31m25.8 MB/s\u001b[0m eta \u001b[36m0:00:00\u001b[0m\n",
            "\u001b[?25hRequirement already satisfied: scikit-learn>=1.0.0 in /usr/local/lib/python3.9/dist-packages (from pyLDAvis) (1.2.2)\n",
            "Requirement already satisfied: setuptools in /usr/local/lib/python3.9/dist-packages (from pyLDAvis) (67.6.0)\n",
            "Requirement already satisfied: gensim in /usr/local/lib/python3.9/dist-packages (from pyLDAvis) (4.3.1)\n",
            "Requirement already satisfied: numexpr in /usr/local/lib/python3.9/dist-packages (from pyLDAvis) (2.8.4)\n",
            "Requirement already satisfied: numpy>=1.22.0 in /usr/local/lib/python3.9/dist-packages (from pyLDAvis) (1.22.4)\n",
            "Collecting funcy\n",
            "  Downloading funcy-1.18-py2.py3-none-any.whl (33 kB)\n",
            "Requirement already satisfied: pytz>=2020.1 in /usr/local/lib/python3.9/dist-packages (from pandas>=1.3.4->pyLDAvis) (2022.7.1)\n",
            "Requirement already satisfied: python-dateutil>=2.8.1 in /usr/local/lib/python3.9/dist-packages (from pandas>=1.3.4->pyLDAvis) (2.8.2)\n",
            "Requirement already satisfied: threadpoolctl>=2.0.0 in /usr/local/lib/python3.9/dist-packages (from scikit-learn>=1.0.0->pyLDAvis) (3.1.0)\n",
            "Requirement already satisfied: smart-open>=1.8.1 in /usr/local/lib/python3.9/dist-packages (from gensim->pyLDAvis) (6.3.0)\n",
            "Requirement already satisfied: MarkupSafe>=2.0 in /usr/local/lib/python3.9/dist-packages (from jinja2->pyLDAvis) (2.1.2)\n",
            "Requirement already satisfied: six>=1.5 in /usr/local/lib/python3.9/dist-packages (from python-dateutil>=2.8.1->pandas>=1.3.4->pyLDAvis) (1.16.0)\n",
            "Installing collected packages: funcy, joblib, pyLDAvis\n",
            "  Attempting uninstall: joblib\n",
            "    Found existing installation: joblib 1.1.1\n",
            "    Uninstalling joblib-1.1.1:\n",
            "      Successfully uninstalled joblib-1.1.1\n",
            "\u001b[31mERROR: pip's dependency resolver does not currently take into account all the packages that are installed. This behaviour is the source of the following dependency conflicts.\n",
            "pandas-profiling 3.2.0 requires joblib~=1.1.0, but you have joblib 1.2.0 which is incompatible.\u001b[0m\u001b[31m\n",
            "\u001b[0mSuccessfully installed funcy-1.18 joblib-1.2.0 pyLDAvis-3.4.0\n"
          ]
        }
      ]
    },
    {
      "cell_type": "code",
      "source": [
        "import pyLDAvis\n",
        "import pyLDAvis.gensim"
      ],
      "metadata": {
        "id": "unh_sY5p3re2"
      },
      "execution_count": 64,
      "outputs": []
    },
    {
      "cell_type": "code",
      "source": [
        "pyLDAvis.enable_notebook()\n",
        "vis = pyLDAvis.gensim.prepare(lda_model, corpus, id2word)\n",
        "vis"
      ],
      "metadata": {
        "colab": {
          "base_uri": "https://localhost:8080/",
          "height": 917
        },
        "id": "t6YunBsz4qHd",
        "outputId": "06a8b23f-6f29-4944-ca37-d3cfab042ebf"
      },
      "execution_count": 65,
      "outputs": [
        {
          "output_type": "stream",
          "name": "stderr",
          "text": [
            "/usr/local/lib/python3.9/dist-packages/pyLDAvis/_prepare.py:243: FutureWarning: In a future version of pandas all arguments of DataFrame.drop except for the argument 'labels' will be keyword-only.\n",
            "  default_term_info = default_term_info.sort_values(\n"
          ]
        },
        {
          "output_type": "execute_result",
          "data": {
            "text/plain": [
              "PreparedData(topic_coordinates=              x         y  topics  cluster       Freq\n",
              "topic                                                \n",
              "3      0.394629 -0.028221       1        1  39.472492\n",
              "6      0.148427 -0.077702       2        1  13.288393\n",
              "1      0.047041  0.020497       3        1  10.198156\n",
              "9     -0.018353  0.392648       4        1   8.721594\n",
              "5     -0.060522 -0.045398       5        1   8.395983\n",
              "8     -0.063631 -0.048039       6        1   7.452276\n",
              "2     -0.075381 -0.071430       7        1   6.990434\n",
              "0     -0.126699 -0.053592       8        1   2.831057\n",
              "4     -0.127744 -0.048088       9        1   2.429321\n",
              "7     -0.117766 -0.040677      10        1   0.220294, topic_info=          Term         Freq        Total Category  logprob  loglift\n",
              "1       cancel  9443.000000  9443.000000  Default  30.0000  30.0000\n",
              "6        trump  6125.000000  6125.000000  Default  29.0000  29.0000\n",
              "206       want   516.000000   516.000000  Default  28.0000  28.0000\n",
              "229        try   518.000000   518.000000  Default  27.0000  27.0000\n",
              "392    twitter   384.000000   384.000000  Default  26.0000  26.0000\n",
              "..         ...          ...          ...      ...      ...      ...\n",
              "25      romney     0.014395     0.799064  Topic10  -9.1696   2.1014\n",
              "26       trend     0.014395    11.545401  Topic10  -9.1696  -0.5692\n",
              "27      appear     0.014395    22.245497  Topic10  -9.1696  -1.2250\n",
              "28   celebrity     0.014395     7.031606  Topic10  -9.1696  -0.0733\n",
              "29      couple     0.014395     2.153889  Topic10  -9.1696   1.1098\n",
              "\n",
              "[387 rows x 6 columns], token_table=      Topic      Freq            Term\n",
              "term                                 \n",
              "1116      8  0.973181            able\n",
              "772       7  0.998953         account\n",
              "1072      5  0.981614             act\n",
              "1214      3  0.991961        actually\n",
              "3713      1  0.989476  administration\n",
              "...     ...       ...             ...\n",
              "250       5  0.996684            work\n",
              "273       7  0.985189           world\n",
              "73        4  0.992525           wrong\n",
              "255       2  0.998366            year\n",
              "2401      2  0.997553         youtube\n",
              "\n",
              "[342 rows x 3 columns], R=30, lambda_step=0.01, plot_opts={'xlab': 'PC1', 'ylab': 'PC2'}, topic_order=[4, 7, 2, 10, 6, 9, 3, 1, 5, 8])"
            ],
            "text/html": [
              "\n",
              "<link rel=\"stylesheet\" type=\"text/css\" href=\"https://cdn.jsdelivr.net/gh/bmabey/pyLDAvis@3.4.0/pyLDAvis/js/ldavis.v1.0.0.css\">\n",
              "\n",
              "\n",
              "<div id=\"ldavis_el130140648601419104925396298\" style=\"background-color:white;\"></div>\n",
              "<script type=\"text/javascript\">\n",
              "\n",
              "var ldavis_el130140648601419104925396298_data = {\"mdsDat\": {\"x\": [0.39462875531286745, 0.148426784786977, 0.04704132107498072, -0.018353361146401466, -0.060521848743649104, -0.06363126273579547, -0.07538109270911005, -0.126699014100653, -0.12774407903164808, -0.11776620270756802], \"y\": [-0.028220962227831423, -0.07770171970832325, 0.020496901004225743, 0.3926483253627972, -0.04539778003631946, -0.04803939288636399, -0.07142971518779762, -0.053591578359753936, -0.04808753869052492, -0.04067653927010828], \"topics\": [1, 2, 3, 4, 5, 6, 7, 8, 9, 10], \"cluster\": [1, 1, 1, 1, 1, 1, 1, 1, 1, 1], \"Freq\": [39.472491746612256, 13.288392531318369, 10.19815605177032, 8.721593607898082, 8.39598349052232, 7.452276070819414, 6.990434480996706, 2.8310572490014922, 2.429320898062123, 0.22029387299891534]}, \"tinfo\": {\"Term\": [\"cancel\", \"trump\", \"want\", \"try\", \"twitter\", \"say\", \"biden\", \"people\", \"s\", \"go\", \"insulin\", \"year\", \"know\", \"let\", \"thing\", \"time\", \"cost\", \"plan\", \"price\", \"day\", \"get\", \"vote\", \"country\", \"account\", \"think\", \"re\", \"need\", \"really\", \"dem\", \"stop\", \"official\", \"policy\", \"alabama_official\", \"election\", \"come\", \"good\", \"pity_party\", \"rally_realize\", \"way\", \"celebration\", \"fact\", \"trump\", \"change\", \"allow\", \"break\", \"exactly\", \"problem\", \"entire\", \"blame\", \"administration\", \"free\", \"shit\", \"potus\", \"fail\", \"effect\", \"seek\", \"license\", \"real\", \"campaign\", \"human\", \"cancel\", \"culture\", \"spend\", \"plot\", \"sign\", \"go\", \"year\", \"know\", \"thing\", \"cost\", \"get\", \"low\", \"youtube\", \"attempt\", \"state\", \"bad\", \"money\", \"talk\", \"party\", \"davos\", \"new\", \"foxnew\", \"truth\", \"care\", \"continue\", \"hard\", \"set\", \"lol\", \"reason\", \"speak\", \"business\", \"realdonaldtrump\", \"leader\", \"bring\", \"keep\", \"cancel\", \"say\", \"biden\", \"time\", \"think\", \"re\", \"need\", \"leave\", \"support\", \"power\", \"deal\", \"happen\", \"day\", \"tax\", \"golf\", \"law\", \"lose\", \"well\", \"actually\", \"rich\", \"use\", \"create\", \"control\", \"concern\", \"today\", \"push\", \"joncoopertweet\", \"family\", \"hold\", \"republican\", \"soon\", \"play\", \"covid\", \"executive_order\", \"great_reset\", \"try\", \"people\", \"price\", \"make\", \"office\", \"right\", \"pay\", \"lower\", \"insulin\", \"maybe\", \"man\", \"conservative\", \"tax_cut\", \"great\", \"long\", \"american\", \"wrong\", \"high\", \"point\", \"news\", \"like\", \"love\", \"turn\", \"drug\", \"send\", \"million\", \"social\", \"decide\", \"hear\", \"program\", \"border\", \"reduce\", \"cap\", \"plan\", \"stop\", \"medium\", \"work\", \"tell\", \"amp\", \"m\", \"order\", \"lie\", \"political\", \"look\", \"hate\", \"start\", \"help\", \"remember\", \"guy\", \"sure\", \"pass\", \"group\", \"fake\", \"end\", \"act\", \"hope\", \"leftist\", \"guess\", \"word\", \"eye\", \"week\", \"listen\", \"racist\", \"social_media\", \"rino\", \"oil\", \"half\", \"s\", \"let\", \"vote\", \"president\", \"run\", \"wait\", \"maga\", \"move\", \"crime\", \"big\", \"win\", \"agree\", \"wake\", \"matter\", \"decision\", \"contract\", \"government\", \"ban\", \"case\", \"refuse\", \"lot\", \"job\", \"voter\", \"history\", \"presidency\", \"wealthy\", \"thank\", \"funny\", \"folk\", \"jail\", \"joebiden\", \"say\", \"want\", \"twitter\", \"country\", \"account\", \"really\", \"dem\", \"rule\", \"black\", \"httpstco\", \"company\", \"believe\", \"person\", \"fight\", \"cause\", \"world\", \"kill\", \"place\", \"block\", \"favor\", \"pretend\", \"message\", \"air\", \"war\", \"massive\", \"meet\", \"httpstcoa\", \"nytime\", \"secret\", \"liar\", \"brain\", \"target\", \"endangered_specie\", \"wildlife_agencie\", \"fault\", \"sign\", \"rally\", \"supporter\", \"mean\", \"ve\", \"true\", \"month\", \"ago\", \"call\", \"silence\", \"able\", \"wish\", \"student\", \"appear\", \"public\", \"owner\", \"bank\", \"mess\", \"false\", \"close\", \"article\", \"totally\", \"ass\", \"narrative\", \"link\", \"afraid\", \"demand\", \"permanently\", \"senator\", \"victim\", \"join\", \"necessary\", \"take\", \"credit\", \"ask\", \"give\", \"claim\", \"democracy\", \"ill\", \"event\", \"corruption\", \"wonder\", \"probably\", \"stand\", \"speech\", \"result\", \"follow\", \"paper\", \"speakerpelosi\", \"defend\", \"red\", \"successful\", \"face\", \"hopefully\", \"hurt\", \"truly\", \"investigate\", \"threaten\", \"moment\", \"member\", \"evil\", \"constitution\", \"honest\", \"billion\", \"hosting\", \"bfgm\", \"qfwikazyu\", \"yhztv\", \"fwrw\", \"qcdw\", \"sppzgry\", \"qmjdcsil\", \"lkvwkk\", \"httpstcoxbh\", \"iblauo\", \"httpstcolw\", \"osxnbdg\", \"httpstcocyr\", \"netq\", \"kiuhj\", \"httpstcouik\", \"yfdgq\", \"httpstcohusd\", \"mvq\", \"uf\", \"uu\", \"squat\", \"ipiyvl\", \"kylvzorj\", \"guesthost\", \"ilssl\", \"nznew\", \"httpstcoigsb\", \"jybjp\", \"break\", \"cancel\", \"news\", \"ocean\", \"official\", \"project\", \"trump\", \"pmeot\", \"earth\", \"great\", \"call\", \"dumbass\", \"go\", \"insult\", \"realdonaldtrump\", \"repeatedly\", \"apprentice\", \"disgrace\", \"nbcpolitic\", \"pathetic\", \"nancywonderful\", \"time\", \"thank\", \"maddow\", \"let\", \"romney\", \"trend\", \"appear\", \"celebrity\", \"couple\"], \"Freq\": [9443.0, 6125.0, 516.0, 518.0, 384.0, 469.0, 425.0, 379.0, 354.0, 420.0, 342.0, 368.0, 320.0, 243.0, 286.0, 247.0, 277.0, 221.0, 219.0, 237.0, 264.0, 203.0, 197.0, 189.0, 220.0, 208.0, 193.0, 149.0, 141.0, 150.0, 416.85568132535633, 314.0010894937603, 248.39004820936248, 236.84201193778557, 219.15541574081007, 218.23578146781782, 191.47256520508952, 189.10018369777143, 176.53464316179327, 170.03497790930834, 152.04862531352458, 6091.422730054737, 114.32606879211318, 93.19902585047937, 85.04211501411616, 83.4996276745535, 78.73629277100908, 72.90791971540133, 72.71400174962616, 72.10438713599997, 71.89562780355303, 72.77526995563018, 69.3760434636279, 87.36271894850785, 71.21129319354004, 59.048245447729016, 57.11371308661199, 56.133623596232944, 52.681737352166415, 49.61882291736363, 9107.723511119631, 135.48960396749433, 63.75932421057946, 309.5874492472775, 124.21624253100298, 420.29591844418627, 367.9373409932126, 319.99417524384205, 285.7740047106353, 277.16788063683134, 264.2015957400707, 177.83597825319814, 153.71339494457322, 140.58023935024826, 135.70724539988973, 131.51108247726586, 118.55172335112809, 115.86422154108664, 112.64926639503021, 111.21101987188618, 103.2316159249198, 96.3597296609035, 93.18687264076338, 91.19632696771058, 84.20893872635544, 81.31069006427663, 80.67490121536781, 73.74662271812942, 71.84077021318711, 69.65749090316993, 68.33825582857725, 63.8440207823961, 61.871534910317344, 59.983474337418066, 58.486766390613596, 277.42040727779454, 109.57414659529486, 424.3596479954737, 246.31261805001148, 219.35215976204628, 207.37371692475722, 192.62424620016753, 130.13694108082203, 120.357728049676, 107.89626003465875, 107.287267668147, 81.9922934451659, 235.82778616544195, 74.60072471918545, 74.75121796989113, 69.31233730757877, 68.2973122915447, 66.90393880569923, 65.83984378968253, 60.1012100795103, 59.27782918484129, 58.21978226232579, 57.40473760687666, 56.48251358413092, 54.33279472271838, 49.915559206370965, 49.69705618701906, 47.9974733879851, 46.459377664789535, 45.82098798863426, 44.95481757728337, 44.518481893770584, 48.74164213392685, 81.42522658197869, 51.77545819417634, 517.5117634345524, 379.14006169022156, 218.73965443119346, 140.8903327092728, 122.55670301890677, 119.98700026792841, 110.79397686202046, 94.33853732818338, 339.5682027679761, 61.97594868906821, 61.64085825176908, 56.8745081448017, 54.61585305657448, 50.720694261264555, 49.663423697250245, 47.19507464338609, 46.63928804667108, 45.00840009574605, 44.884588469968634, 42.353003555704746, 41.67771906968007, 40.06892468574376, 40.08589170945243, 62.178865017963126, 38.25474497667079, 35.75223000886918, 33.76016281515573, 33.397340122856576, 32.562528923004564, 29.013717557146478, 64.9691772969103, 42.35316662666395, 87.67176845456027, 220.5284240514283, 149.9704863072423, 143.9160482049612, 143.78060139417173, 130.49330359573085, 129.8621930809011, 127.26761890977319, 123.21674378401462, 111.18198313241906, 94.47571544899458, 90.29746832050733, 85.80704106701461, 79.3479942500111, 68.34289426906422, 65.85674132087215, 61.36720690763889, 59.72767747119049, 53.009731507522126, 50.09124764512296, 49.355248022669535, 45.10054531482138, 45.14248427843745, 43.98886598319517, 40.02324483792575, 36.38152357249615, 35.942000879056266, 35.28531686822343, 35.11572382322529, 34.73044608126331, 30.437699548073883, 43.95112631222799, 47.20137882246792, 55.25543570583962, 36.76979625389989, 354.1745299398636, 242.36639035377442, 202.9298916755334, 112.79548026801179, 92.55172619884272, 92.41181338388556, 80.56639004093493, 80.44202212668102, 74.11304425761037, 68.75022768754337, 68.23091479189259, 64.0294895398576, 59.323403658520974, 56.35526815600601, 55.83092167346083, 49.26445952305806, 48.90904300344946, 46.810207086732554, 40.49030796219028, 40.405224668144996, 39.06389568158037, 38.529495088188185, 34.05313627793078, 34.756414582492475, 32.56903586931888, 31.72424889374743, 31.396721754812322, 31.965371204361784, 30.992066653368305, 36.60974339447509, 36.35126696572268, 359.1211350593363, 515.6946642612509, 383.982592460128, 197.27757167663086, 188.5306287222869, 148.72021702708773, 140.6170344616085, 124.19182380089742, 110.10765580800944, 94.2947143261147, 93.11929572101663, 84.66063416812733, 84.26546236888196, 76.85949764455194, 73.89610534312656, 63.279499431629375, 61.638435701971396, 51.76775893785392, 49.410558134239444, 37.93543076716617, 25.39833484042986, 24.832830721204832, 25.315128201584102, 23.65523305507423, 23.2418874375266, 20.686447220202822, 16.68434533390307, 16.218781898603993, 16.631911039610436, 16.508749162178958, 14.551774680823467, 19.40976660738494, 41.41712509067984, 40.1674305251758, 17.805375229143245, 23.596655728367484, 101.49843351479885, 93.78754549903427, 93.57235155603342, 82.21000152887522, 45.326177872046244, 45.090002469977804, 44.03261897967275, 39.34499975381415, 36.555871740097295, 31.14661206903244, 28.038782242581526, 23.071775800146213, 21.537686082988657, 21.29353097747161, 20.0179694262094, 19.630601471299748, 18.31808416656629, 18.226934581340643, 17.00977671781888, 16.398871199635845, 15.809415269889394, 15.543360642407988, 16.477733629551327, 13.687012652646038, 13.476198944871552, 11.778091915163609, 12.017510312383578, 10.25066270296787, 9.883331677550954, 9.4876879232314, 10.984000592812768, 96.73110543620837, 72.44415386105214, 64.92345612696587, 49.63505615686428, 45.07249907729922, 38.1665730873657, 29.99409324580779, 28.270986456416402, 27.66000744413402, 26.963768614289634, 26.95136842506076, 24.167948934981027, 22.482281178453743, 21.320301404331534, 20.567205662885517, 20.220711501702688, 18.607725944061002, 16.764133204313083, 16.23579798981834, 16.235267120911338, 15.741436965936371, 15.295149386285578, 15.055358455975261, 14.668810661589543, 16.45906385110364, 12.611892367924666, 10.890669169548241, 10.21899580157308, 8.659058809871276, 9.7727933880571, 9.860772844190821, 10.362971991346814, 0.014395161572430176, 0.014395161572430176, 0.014395161572430176, 0.014395161572430176, 0.014395161572430176, 0.014395161572430176, 0.014395161572430176, 0.014395161572430176, 0.014395161572430176, 0.014395161572430176, 0.014395161572430176, 0.014395161572430176, 0.014395161572430176, 0.014395161572430176, 0.014395161572430176, 0.014395161572430176, 0.014395161572430176, 0.014395161572430176, 0.014395161572430176, 0.014395161572430176, 0.014395161572430176, 0.014395161572430176, 0.014395161572430176, 0.014395161572430176, 0.014395161572430176, 0.014395161572430176, 0.014395161572430176, 0.014395161572430176, 0.014395161572430176, 0.014395161572430176, 0.014395161572430176, 0.014395161572430176, 0.014395161572430176, 0.014395161572430176, 0.014395161572430176, 0.014395161572430176, 0.014395161572430176, 0.014395161572430176, 0.014395161572430176, 0.014395161572430176, 0.014395161572430176, 0.014395161572430176, 0.014395161572430176, 0.014395161572430176, 0.014395161572430176, 0.014395161572430176, 0.014395161572430176, 0.014395161572430176, 0.014395161572430176, 0.014395161572430176, 0.014395161572430176, 0.014395161572430176, 0.014395161572430176, 0.014395161572430176, 0.014395161572430176, 0.014395161572430176, 0.014395161572430176, 0.014395161572430176, 0.014395161572430176, 0.014395161572430176], \"Total\": [9443.0, 6125.0, 516.0, 518.0, 384.0, 469.0, 425.0, 379.0, 354.0, 420.0, 342.0, 368.0, 320.0, 243.0, 286.0, 247.0, 277.0, 221.0, 219.0, 237.0, 264.0, 203.0, 197.0, 189.0, 220.0, 208.0, 193.0, 149.0, 141.0, 150.0, 417.51723797957794, 314.66351160699884, 249.05679349715626, 237.5033366953557, 219.81677829682818, 218.89712033502002, 192.1392849286387, 189.76690339857356, 177.19594483802766, 170.70014818067753, 152.7145508270253, 6125.861049213747, 114.9876539253423, 93.8604185888651, 85.70345301845659, 84.16292615312855, 79.39771037059525, 73.56965347942395, 73.37540381867356, 72.76576106879287, 72.55702757546925, 73.46043323091456, 70.03740931738676, 88.27077349850781, 71.97811923338269, 59.7119705037973, 57.77792980939769, 56.79495030704552, 53.34303742523196, 50.28023243507778, 9443.029569791986, 138.69986505394434, 64.89916376041256, 359.2022238458059, 148.3662177208837, 420.9596144688447, 368.6024036004147, 320.6579115086431, 286.4377315471032, 277.8349533952177, 264.8652886862057, 178.49981243395186, 154.37779419812017, 141.2439846200245, 136.37098488896407, 132.17474056921094, 119.21540614336361, 116.52890926503663, 113.31299354830323, 111.89329784069747, 103.89528543955292, 97.023416468592, 93.85060121437859, 91.8600402631532, 84.8726396609708, 81.97444682510545, 81.33872713893805, 74.41036258951588, 72.50446777836115, 70.32132984374164, 69.00198471172449, 64.5076268607272, 62.53524654731137, 60.647181862983125, 59.150526601304335, 9443.029569791986, 469.2804397857201, 425.05800000639994, 247.00743481899664, 220.0470124290011, 208.06857895174488, 193.3190874653092, 130.83180002543705, 121.05261910162825, 108.59111961544765, 107.9821324154354, 82.68713976963006, 237.8587528680109, 75.29554158373342, 75.44811546627547, 70.0072088163685, 68.99220901473578, 67.59876796274419, 66.53485925900625, 60.79611212261709, 59.97326081942823, 58.9146355667396, 58.099572153354494, 57.17746268672329, 55.027610447964975, 50.61047709120342, 50.39390342250575, 48.69238033114195, 47.164024515969835, 46.51963856172256, 45.649667861723344, 45.21382567209054, 49.55922239039342, 97.66913294444514, 66.4326897464518, 518.2264799077158, 379.8547644022259, 219.57030977610347, 141.60502053473974, 123.27456897851818, 120.7016778012762, 111.50866133442578, 95.12791813142914, 342.73013760455467, 62.690657501590415, 62.35560450415818, 57.58946755012627, 55.378451980594285, 51.43543145115117, 50.37854807537917, 47.90975748037266, 47.353993393650924, 45.723479250773714, 45.59934881952838, 43.067713952943656, 42.41135332364322, 40.783719263296646, 40.803870091966395, 63.3232801428283, 38.970737845219205, 36.467257823066, 34.47535888081288, 34.112061124977636, 33.2773402089213, 29.72871045552059, 68.51720148209732, 43.935093155049216, 112.76481605840064, 221.2269667664657, 150.66902001526552, 144.6145837765314, 144.47913622132756, 131.19188392185438, 130.5607672763731, 127.9661535193578, 123.91536035662389, 111.95963488407706, 95.17422567986466, 90.99605181204862, 86.5055517613268, 80.04655946963291, 69.04137255968396, 66.55536689937675, 62.065739303007724, 60.42617141710519, 53.70831952203494, 50.78968828983068, 50.05432019373205, 45.7991372892603, 45.842870618486316, 44.687369009545925, 40.722149682455424, 37.08008586910219, 36.64060486142424, 35.9842040332754, 35.8143870835191, 35.43068945616831, 31.1361835135924, 46.671071429589816, 52.59022244590749, 64.68390640142601, 38.580659589292274, 354.87203993066385, 243.06390103075154, 203.627721606706, 113.4930123361011, 93.24925107968795, 93.10930826499215, 81.26447067119285, 81.14069799093977, 74.8107421998885, 69.44774817932337, 68.92841375746441, 64.72712005657348, 60.02107155446108, 57.05282972453423, 56.5284606487016, 49.96551786538634, 49.60725048996161, 47.50787401701044, 41.18790688060539, 41.102850200585266, 39.761686128257196, 39.22708544088822, 34.75072024019897, 35.47375109175524, 33.26663192254104, 32.422499268070744, 32.0942384314111, 32.67701530360033, 31.68961564716165, 37.47173349765331, 37.31822335672525, 469.2804397857201, 516.3622693723661, 384.6501075788701, 197.94517070631443, 189.19812906854156, 149.38783050609797, 141.29393486229145, 124.85944808043607, 110.77530593660485, 94.96227148747101, 93.7870011238795, 85.32826689016802, 84.93343943242537, 77.52714976058273, 74.56376999185954, 63.94709320826977, 62.306132269694174, 52.43554308691857, 50.078353427850345, 38.60378729195202, 26.06748720579925, 25.500381886276113, 26.005454383914888, 24.322761665787752, 23.913369334854238, 21.354141825071885, 17.35328335850354, 16.886438617970015, 17.322475302967455, 17.23669909444261, 15.247273177509497, 23.53126390329787, 79.20914857454702, 76.57462106347238, 22.30728112481082, 148.3662177208837, 102.20615912617286, 94.49521163300162, 94.28005115570811, 82.91771142087455, 46.03398855362518, 45.79768523676262, 44.740373157759336, 40.05265435988664, 37.265174776187514, 31.854313421992853, 28.746441824506217, 23.78949218186295, 22.24549746267306, 22.007664365017803, 20.73334955448892, 20.370710281028924, 19.025918473547584, 18.93466344342851, 17.717459101977532, 17.10664434100207, 16.520884006622573, 16.25166400795411, 17.253493160548963, 14.394998347284115, 14.18614948564961, 12.485721872377074, 12.740328381805623, 10.961269236572948, 10.59217091334957, 10.195389499832757, 12.662095794691211, 97.44854631379957, 73.16321607411837, 65.6408837343092, 50.3525822864215, 45.78997879864279, 38.8849452626589, 30.74881757413522, 28.988379300694707, 28.385025249717305, 27.681212167502274, 27.668815222897763, 24.885342062582854, 23.19975038171141, 22.039758313572438, 21.28472995840191, 20.939184276915565, 19.36486633737562, 17.48223162691563, 16.963033399866866, 16.962567414823276, 16.45885007235606, 16.012541894774035, 15.774017577945738, 15.38757516766013, 17.365988264710424, 13.32929644017117, 11.609757392443443, 10.936389689456663, 9.37663333292868, 10.676929560882805, 11.616442741015867, 19.949472246694135, 0.7759652275743248, 0.7759652388358028, 0.7759652388358028, 0.7759652388358028, 0.7759652388358028, 0.7759652388358028, 0.7759652388358028, 0.7759652388358028, 0.7759652388358028, 0.7759652388358028, 0.7759652388358028, 0.7759652388358028, 0.7759652388358028, 0.7759652388358028, 0.7759652388358028, 0.7759652388358028, 0.7759652388358028, 0.7759652388358028, 0.7759652388358028, 0.7759652464665285, 0.7759652527337116, 0.7759652527337116, 0.7759652527337116, 0.7759652527337116, 0.7759652551931251, 0.7759652597868524, 0.7759652611229105, 0.7759652611229105, 0.7759652613587588, 0.7759652613587588, 85.70345301845659, 9443.029569791986, 43.067713952943656, 0.7759707563234236, 417.51723797957794, 16.617636643259033, 6125.861049213747, 0.7759668717501077, 1.009090309289196, 51.43543145115117, 40.05265435988664, 0.7789453597460404, 420.9596144688447, 5.115769400806598, 64.5076268607272, 0.8087552949307143, 11.194233108735773, 0.8571672291726087, 0.7783419004937794, 21.837846467496338, 0.7759660769955293, 247.00743481899664, 32.0942384314111, 0.7915387635770862, 243.06390103075154, 0.799063557276538, 11.545400599971767, 22.24549746267306, 7.031605863020635, 2.1538886376829214], \"Category\": [\"Default\", \"Default\", \"Default\", \"Default\", \"Default\", \"Default\", \"Default\", \"Default\", \"Default\", \"Default\", \"Default\", \"Default\", \"Default\", \"Default\", \"Default\", \"Default\", \"Default\", \"Default\", \"Default\", \"Default\", \"Default\", \"Default\", \"Default\", \"Default\", \"Default\", \"Default\", \"Default\", \"Default\", \"Default\", \"Default\", \"Topic1\", \"Topic1\", \"Topic1\", \"Topic1\", \"Topic1\", \"Topic1\", \"Topic1\", \"Topic1\", \"Topic1\", \"Topic1\", \"Topic1\", \"Topic1\", \"Topic1\", \"Topic1\", \"Topic1\", \"Topic1\", \"Topic1\", \"Topic1\", \"Topic1\", \"Topic1\", \"Topic1\", \"Topic1\", \"Topic1\", \"Topic1\", \"Topic1\", \"Topic1\", \"Topic1\", \"Topic1\", \"Topic1\", \"Topic1\", \"Topic1\", \"Topic1\", \"Topic1\", \"Topic1\", \"Topic1\", \"Topic2\", \"Topic2\", \"Topic2\", \"Topic2\", \"Topic2\", \"Topic2\", \"Topic2\", \"Topic2\", \"Topic2\", \"Topic2\", \"Topic2\", \"Topic2\", \"Topic2\", \"Topic2\", \"Topic2\", \"Topic2\", \"Topic2\", \"Topic2\", \"Topic2\", \"Topic2\", \"Topic2\", \"Topic2\", \"Topic2\", \"Topic2\", \"Topic2\", \"Topic2\", \"Topic2\", \"Topic2\", \"Topic2\", \"Topic2\", \"Topic2\", \"Topic2\", \"Topic3\", \"Topic3\", \"Topic3\", \"Topic3\", \"Topic3\", \"Topic3\", \"Topic3\", \"Topic3\", \"Topic3\", \"Topic3\", \"Topic3\", \"Topic3\", \"Topic3\", \"Topic3\", \"Topic3\", \"Topic3\", \"Topic3\", \"Topic3\", \"Topic3\", \"Topic3\", \"Topic3\", \"Topic3\", \"Topic3\", \"Topic3\", \"Topic3\", \"Topic3\", \"Topic3\", \"Topic3\", \"Topic3\", \"Topic3\", \"Topic3\", \"Topic3\", \"Topic3\", \"Topic4\", \"Topic4\", \"Topic4\", \"Topic4\", \"Topic4\", \"Topic4\", \"Topic4\", \"Topic4\", \"Topic4\", \"Topic4\", \"Topic4\", \"Topic4\", \"Topic4\", \"Topic4\", \"Topic4\", \"Topic4\", \"Topic4\", \"Topic4\", \"Topic4\", \"Topic4\", \"Topic4\", \"Topic4\", \"Topic4\", \"Topic4\", \"Topic4\", \"Topic4\", \"Topic4\", \"Topic4\", \"Topic4\", \"Topic4\", \"Topic4\", \"Topic4\", \"Topic4\", \"Topic5\", \"Topic5\", \"Topic5\", \"Topic5\", \"Topic5\", \"Topic5\", \"Topic5\", \"Topic5\", \"Topic5\", \"Topic5\", \"Topic5\", \"Topic5\", \"Topic5\", \"Topic5\", \"Topic5\", \"Topic5\", \"Topic5\", \"Topic5\", \"Topic5\", \"Topic5\", \"Topic5\", \"Topic5\", \"Topic5\", \"Topic5\", \"Topic5\", \"Topic5\", \"Topic5\", \"Topic5\", \"Topic5\", \"Topic5\", \"Topic5\", \"Topic5\", \"Topic5\", \"Topic5\", \"Topic6\", \"Topic6\", \"Topic6\", \"Topic6\", \"Topic6\", \"Topic6\", \"Topic6\", \"Topic6\", \"Topic6\", \"Topic6\", \"Topic6\", \"Topic6\", \"Topic6\", \"Topic6\", \"Topic6\", \"Topic6\", \"Topic6\", \"Topic6\", \"Topic6\", \"Topic6\", \"Topic6\", \"Topic6\", \"Topic6\", \"Topic6\", \"Topic6\", \"Topic6\", \"Topic6\", \"Topic6\", \"Topic6\", \"Topic6\", \"Topic6\", \"Topic6\", \"Topic7\", \"Topic7\", \"Topic7\", \"Topic7\", \"Topic7\", \"Topic7\", \"Topic7\", \"Topic7\", \"Topic7\", \"Topic7\", \"Topic7\", \"Topic7\", \"Topic7\", \"Topic7\", \"Topic7\", \"Topic7\", \"Topic7\", \"Topic7\", \"Topic7\", \"Topic7\", \"Topic7\", \"Topic7\", \"Topic7\", \"Topic7\", \"Topic7\", \"Topic7\", \"Topic7\", \"Topic7\", \"Topic7\", \"Topic7\", \"Topic7\", \"Topic7\", \"Topic7\", \"Topic7\", \"Topic7\", \"Topic8\", \"Topic8\", \"Topic8\", \"Topic8\", \"Topic8\", \"Topic8\", \"Topic8\", \"Topic8\", \"Topic8\", \"Topic8\", \"Topic8\", \"Topic8\", \"Topic8\", \"Topic8\", \"Topic8\", \"Topic8\", \"Topic8\", \"Topic8\", \"Topic8\", \"Topic8\", \"Topic8\", \"Topic8\", \"Topic8\", \"Topic8\", \"Topic8\", \"Topic8\", \"Topic8\", \"Topic8\", \"Topic8\", \"Topic8\", \"Topic8\", \"Topic9\", \"Topic9\", \"Topic9\", \"Topic9\", \"Topic9\", \"Topic9\", \"Topic9\", \"Topic9\", \"Topic9\", \"Topic9\", \"Topic9\", \"Topic9\", \"Topic9\", \"Topic9\", \"Topic9\", \"Topic9\", \"Topic9\", \"Topic9\", \"Topic9\", \"Topic9\", \"Topic9\", \"Topic9\", \"Topic9\", \"Topic9\", \"Topic9\", \"Topic9\", \"Topic9\", \"Topic9\", \"Topic9\", \"Topic9\", \"Topic9\", \"Topic9\", \"Topic10\", \"Topic10\", \"Topic10\", \"Topic10\", \"Topic10\", \"Topic10\", \"Topic10\", \"Topic10\", \"Topic10\", \"Topic10\", \"Topic10\", \"Topic10\", \"Topic10\", \"Topic10\", \"Topic10\", \"Topic10\", \"Topic10\", \"Topic10\", \"Topic10\", \"Topic10\", \"Topic10\", \"Topic10\", \"Topic10\", \"Topic10\", \"Topic10\", \"Topic10\", \"Topic10\", \"Topic10\", \"Topic10\", \"Topic10\", \"Topic10\", \"Topic10\", \"Topic10\", \"Topic10\", \"Topic10\", \"Topic10\", \"Topic10\", \"Topic10\", \"Topic10\", \"Topic10\", \"Topic10\", \"Topic10\", \"Topic10\", \"Topic10\", \"Topic10\", \"Topic10\", \"Topic10\", \"Topic10\", \"Topic10\", \"Topic10\", \"Topic10\", \"Topic10\", \"Topic10\", \"Topic10\", \"Topic10\", \"Topic10\", \"Topic10\", \"Topic10\", \"Topic10\", \"Topic10\"], \"logprob\": [30.0, 29.0, 28.0, 27.0, 26.0, 25.0, 24.0, 23.0, 22.0, 21.0, 20.0, 19.0, 18.0, 17.0, 16.0, 15.0, 14.0, 13.0, 12.0, 11.0, 10.0, 9.0, 8.0, 7.0, 6.0, 5.0, 4.0, 3.0, 2.0, 1.0, -4.0844, -4.3678, -4.6022, -4.6498, -4.7274, -4.7316, -4.8624, -4.8749, -4.9436, -4.9812, -5.093, -1.4025, -5.3781, -5.5824, -5.674, -5.6923, -5.7511, -5.828, -5.8306, -5.839, -5.8419, -5.8298, -5.8776, -5.6471, -5.8515, -6.0388, -6.0721, -6.0894, -6.1529, -6.2128, -1.0003, -5.2083, -5.962, -4.3819, -5.2951, -2.9875, -3.1205, -3.2601, -3.3732, -3.4038, -3.4517, -3.8476, -3.9934, -4.0827, -4.1179, -4.1494, -4.2531, -4.276, -4.3042, -4.317, -4.3915, -4.4604, -4.4938, -4.5154, -4.5951, -4.6302, -4.638, -4.7278, -4.754, -4.7849, -4.804, -4.872, -4.9034, -4.9344, -4.9596, -3.4029, -4.3318, -2.7132, -3.2572, -3.3731, -3.4292, -3.503, -3.8952, -3.9733, -4.0826, -4.0882, -4.3571, -3.3007, -4.4516, -4.4496, -4.5251, -4.5399, -4.5605, -4.5765, -4.6677, -4.6815, -4.6995, -4.7136, -4.7298, -4.7686, -4.8534, -4.8578, -4.8926, -4.9252, -4.939, -4.9581, -4.9679, -4.8772, -4.3641, -4.8168, -2.3583, -2.6694, -3.2195, -3.6594, -3.7988, -3.82, -3.8997, -4.0605, -2.7797, -4.4806, -4.486, -4.5665, -4.607, -4.681, -4.7021, -4.7531, -4.7649, -4.8005, -4.8033, -4.8613, -4.8774, -4.9168, -4.9163, -4.4773, -4.9631, -5.0307, -5.0881, -5.0989, -5.1242, -5.2396, -4.4334, -4.8613, -4.1338, -3.1733, -3.5589, -3.6001, -3.601, -3.698, -3.7028, -3.723, -3.7554, -3.8581, -4.021, -4.0662, -4.1172, -4.1955, -4.3448, -4.3818, -4.4524, -4.4795, -4.5988, -4.6555, -4.6703, -4.7604, -4.7595, -4.7854, -4.8798, -4.9752, -4.9874, -5.0058, -5.0107, -5.0217, -5.1536, -4.7862, -4.7149, -4.5573, -4.9646, -2.5803, -2.9596, -3.1372, -3.7245, -3.9223, -3.9238, -4.061, -4.0625, -4.1445, -4.2196, -4.2272, -4.2907, -4.3671, -4.4184, -4.4277, -4.5529, -4.5601, -4.604, -4.749, -4.7511, -4.7849, -4.7986, -4.9221, -4.9017, -4.9667, -4.993, -5.0034, -4.9854, -5.0163, -4.8498, -4.8568, -2.5664, -2.1406, -2.4355, -3.1015, -3.1468, -3.384, -3.4401, -3.5643, -3.6846, -3.8397, -3.8522, -3.9474, -3.9521, -4.0441, -4.0834, -4.2385, -4.2648, -4.4393, -4.4859, -4.7502, -5.1514, -5.1739, -5.1547, -5.2225, -5.2401, -5.3566, -5.5716, -5.5999, -5.5748, -5.5822, -5.7084, -5.4203, -4.6624, -4.693, -5.5066, -5.225, -2.8622, -2.9412, -2.9435, -3.0729, -3.6683, -3.6735, -3.6973, -3.8098, -3.8834, -4.0435, -4.1486, -4.3436, -4.4124, -4.4238, -4.4856, -4.5051, -4.5743, -4.5793, -4.6484, -4.685, -4.7216, -4.7386, -4.6802, -4.8658, -4.8813, -5.016, -4.9958, -5.1549, -5.1914, -5.2322, -5.0858, -2.7572, -3.0463, -3.156, -3.4245, -3.5209, -3.6872, -3.9282, -3.9873, -4.0092, -4.0347, -4.0351, -4.1441, -4.2164, -4.2695, -4.3055, -4.3225, -4.4056, -4.5099, -4.5419, -4.542, -4.5729, -4.6016, -4.6174, -4.6434, -4.5283, -4.7945, -4.9413, -5.0049, -5.1706, -5.0496, -5.0406, -4.9909, -9.1696, -9.1696, -9.1696, -9.1696, -9.1696, -9.1696, -9.1696, -9.1696, -9.1696, -9.1696, -9.1696, -9.1696, -9.1696, -9.1696, -9.1696, -9.1696, -9.1696, -9.1696, -9.1696, -9.1696, -9.1696, -9.1696, -9.1696, -9.1696, -9.1696, -9.1696, -9.1696, -9.1696, -9.1696, -9.1696, -9.1696, -9.1696, -9.1696, -9.1696, -9.1696, -9.1696, -9.1696, -9.1696, -9.1696, -9.1696, -9.1696, -9.1696, -9.1696, -9.1696, -9.1696, -9.1696, -9.1696, -9.1696, -9.1696, -9.1696, -9.1696, -9.1696, -9.1696, -9.1696, -9.1696, -9.1696, -9.1696, -9.1696, -9.1696, -9.1696], \"loglift\": [30.0, 29.0, 28.0, 27.0, 26.0, 25.0, 24.0, 23.0, 22.0, 21.0, 20.0, 19.0, 18.0, 17.0, 16.0, 15.0, 14.0, 13.0, 12.0, 11.0, 10.0, 9.0, 8.0, 7.0, 6.0, 5.0, 4.0, 3.0, 2.0, 1.0, 0.928, 0.9275, 0.9269, 0.9268, 0.9266, 0.9265, 0.9261, 0.926, 0.9258, 0.9257, 0.9252, 0.9239, 0.9238, 0.9225, 0.9218, 0.9217, 0.9212, 0.9205, 0.9205, 0.9204, 0.9204, 0.9202, 0.9201, 0.9192, 0.9189, 0.9184, 0.918, 0.9179, 0.9171, 0.9163, 0.8934, 0.9061, 0.9118, 0.7809, 0.7519, 2.0167, 2.0165, 2.0162, 2.016, 2.0159, 2.0158, 2.0146, 2.014, 2.0136, 2.0134, 2.0132, 2.0127, 2.0126, 2.0124, 2.0122, 2.0119, 2.0114, 2.0112, 2.011, 2.0104, 2.0101, 2.0101, 2.0093, 2.0091, 2.0088, 2.0086, 2.0079, 2.0076, 2.0073, 2.007, -1.5092, 0.5637, 2.2813, 2.2801, 2.2798, 2.2796, 2.2794, 2.2776, 2.2772, 2.2765, 2.2765, 2.2745, 2.2744, 2.2737, 2.2737, 2.273, 2.2728, 2.2726, 2.2725, 2.2715, 2.2713, 2.2711, 2.2709, 2.2707, 2.2703, 2.2691, 2.269, 2.2686, 2.2679, 2.2678, 2.2676, 2.2675, 2.2663, 2.1011, 2.0337, 2.438, 2.4375, 2.4356, 2.4343, 2.4335, 2.4334, 2.4329, 2.431, 2.4301, 2.4279, 2.4278, 2.4269, 2.4255, 2.4254, 2.4251, 2.4243, 2.4242, 2.4236, 2.4236, 2.4226, 2.4219, 2.4217, 2.4216, 2.4211, 2.4208, 2.4196, 2.4184, 2.4182, 2.4177, 2.415, 2.3862, 2.4027, 2.1877, 2.4743, 2.4728, 2.4726, 2.4726, 2.4721, 2.4721, 2.4719, 2.4718, 2.4704, 2.4701, 2.4697, 2.4693, 2.4687, 2.4672, 2.4669, 2.4661, 2.4658, 2.4643, 2.4636, 2.4634, 2.462, 2.462, 2.4617, 2.4601, 2.4584, 2.4582, 2.4578, 2.4577, 2.4575, 2.4547, 2.4174, 2.3693, 2.3199, 2.4293, 2.5947, 2.5938, 2.5932, 2.5905, 2.5891, 2.5891, 2.588, 2.588, 2.5873, 2.5866, 2.5865, 2.5858, 2.585, 2.5843, 2.5842, 2.5825, 2.5825, 2.5819, 2.5796, 2.5795, 2.5789, 2.5787, 2.5764, 2.5762, 2.5755, 2.5749, 2.5747, 2.5746, 2.5744, 2.5734, 2.5704, 2.3291, 2.6593, 2.6589, 2.6572, 2.6571, 2.6561, 2.6558, 2.6553, 2.6546, 2.6536, 2.6535, 2.6528, 2.6527, 2.652, 2.6516, 2.6501, 2.6499, 2.6478, 2.6472, 2.6432, 2.6346, 2.6341, 2.6337, 2.6328, 2.6321, 2.6289, 2.6213, 2.6203, 2.6199, 2.6175, 2.6139, 2.4681, 2.0122, 2.0154, 2.4352, 0.822, 3.5576, 3.557, 3.557, 3.5559, 3.549, 3.5489, 3.5486, 3.5467, 3.5453, 3.5421, 3.5396, 3.5339, 3.5322, 3.5315, 3.5294, 3.5275, 3.5266, 3.5264, 3.5238, 3.5223, 3.5205, 3.52, 3.5185, 3.5141, 3.5132, 3.5062, 3.5061, 3.4975, 3.4953, 3.4926, 3.4223, 3.7102, 3.7077, 3.7066, 3.7032, 3.7018, 3.6989, 3.6927, 3.6925, 3.6917, 3.6913, 3.6913, 3.6883, 3.6861, 3.6844, 3.6833, 3.6826, 3.6777, 3.6756, 3.6737, 3.6737, 3.673, 3.6717, 3.6709, 3.6697, 3.6639, 3.6622, 3.6536, 3.6497, 3.6379, 3.6291, 3.5537, 3.0626, 2.1307, 2.1307, 2.1307, 2.1307, 2.1307, 2.1307, 2.1307, 2.1307, 2.1307, 2.1307, 2.1307, 2.1307, 2.1307, 2.1307, 2.1307, 2.1307, 2.1307, 2.1307, 2.1307, 2.1307, 2.1307, 2.1307, 2.1307, 2.1307, 2.1307, 2.1307, 2.1307, 2.1307, 2.1307, 2.1307, -2.5738, -7.2759, -1.8857, 2.1307, -4.1572, -0.9334, -6.8432, 2.1307, 1.8681, -2.0632, -1.8131, 2.1269, -4.1654, 0.2448, -2.2897, 2.0894, -0.5383, 2.0312, 2.1277, -1.2065, 2.1307, -3.6323, -1.5916, 2.1109, -3.6162, 2.1014, -0.5692, -1.225, -0.0733, 1.1098]}, \"token.table\": {\"Topic\": [8, 7, 5, 3, 1, 8, 8, 6, 7, 1, 1, 4, 5, 8, 6, 8, 9, 8, 2, 2, 6, 8, 7, 3, 6, 1, 3, 9, 7, 1, 7, 2, 4, 7, 1, 2, 2, 8, 1, 1, 2, 3, 5, 6, 7, 1, 3, 4, 2, 6, 7, 1, 4, 1, 9, 8, 1, 7, 3, 4, 9, 2, 6, 3, 9, 2, 7, 8, 3, 3, 9, 6, 1, 3, 4, 2, 3, 5, 3, 4, 6, 9, 7, 8, 9, 4, 1, 1, 5, 1, 7, 1, 9, 9, 1, 1, 2, 3, 5, 9, 1, 1, 5, 8, 3, 5, 7, 7, 7, 6, 9, 2, 1, 6, 2, 9, 2, 3, 1, 6, 4, 1, 2, 3, 5, 5, 5, 3, 5, 3, 2, 5, 4, 5, 4, 6, 3, 9, 5, 9, 7, 7, 1, 9, 9, 1, 2, 4, 9, 2, 9, 6, 6, 6, 8, 3, 2, 7, 2, 3, 2, 3, 5, 6, 7, 1, 5, 4, 8, 5, 2, 4, 5, 3, 6, 4, 2, 4, 5, 6, 4, 4, 7, 6, 4, 8, 5, 7, 9, 8, 7, 4, 9, 2, 8, 6, 8, 4, 8, 3, 2, 4, 7, 4, 1, 4, 5, 5, 8, 9, 2, 5, 6, 4, 4, 8, 7, 1, 7, 5, 3, 1, 2, 3, 4, 1, 5, 1, 3, 6, 6, 7, 4, 9, 1, 4, 3, 8, 3, 5, 8, 1, 3, 1, 2, 7, 2, 9, 4, 6, 6, 5, 3, 9, 3, 4, 1, 2, 5, 7, 7, 6, 6, 2, 6, 7, 1, 8, 4, 2, 1, 1, 7, 8, 4, 1, 2, 5, 3, 2, 9, 9, 1, 3, 9, 5, 2, 5, 8, 9, 3, 8, 5, 9, 2, 1, 7, 3, 4, 5, 6, 2, 3, 9, 3, 3, 8, 1, 8, 9, 1, 2, 3, 5, 2, 4, 4, 7, 3, 8, 8, 6, 6, 6, 6, 7, 7, 1, 6, 5, 3, 1, 7, 6, 8, 9, 5, 5, 7, 4, 2, 2], \"Freq\": [0.9731806047527926, 0.9989527958362115, 0.9816139214862687, 0.9919612175487715, 0.9894763545719131, 0.9163867907320805, 0.9834517884965174, 0.9887663771238708, 0.9613367884647772, 0.9957568172210154, 0.9908329985972684, 0.9810110188776188, 0.995704932744566, 0.9889641729484812, 0.893317112736931, 0.935309092833034, 0.990236515752846, 0.9845145698415291, 0.998272601692165, 0.9986779579179924, 0.9893096875514027, 0.9818017989596483, 0.9961528939689991, 0.9975109279054059, 0.9935527329386228, 0.20050655729315583, 0.20050655729315583, 0.5012663932328896, 0.9930010941513576, 0.9948837921273829, 0.9784666756385277, 0.04378462539489244, 0.9486668835560028, 0.9837824655837978, 0.9917920107804163, 0.9893287397187677, 0.9854789001227926, 0.9737182372377076, 0.9935692183686994, 0.9645209657222998, 0.029333806269771306, 0.0038123358328944657, 0.0007412875230628128, 0.00021179643516080365, 0.0012707786109648219, 0.008868014288092328, 0.20396432862612354, 0.7803852573521248, 0.9906374930743616, 0.9711588432000473, 0.9924390894945213, 0.9958983739139087, 0.8532901469284744, 0.9914107828829732, 0.9827477797682185, 0.9595055307960354, 0.9962842768274711, 0.9916086332386299, 0.9794068741179609, 0.9897643167196641, 0.9365988548465395, 0.989718245309011, 0.9806763162549906, 0.9810743502473278, 0.9864356206721662, 0.9969947863470223, 0.9952250883265207, 0.4642765565984717, 0.9887160781904879, 0.9844752401853784, 0.9841010806176158, 0.9891627568976357, 0.9733246672409858, 0.007209812349933228, 0.014419624699866455, 0.9920165205786564, 0.9921854762727932, 0.004204175746918615, 0.9909046766028209, 0.9673997674633809, 0.9906514233248674, 0.9724158999144487, 0.9979196922884346, 0.9610978141799181, 0.9772419568375036, 0.9791027858973258, 0.986410880920475, 0.9978807173728202, 0.9825512588978899, 0.46711775932268434, 0.5176169765467583, 0.9922569503527257, 0.9659042925290059, 0.9598327758422603, 0.9861824415299832, 0.03071594791065075, 0.13310244094615326, 0.8293305935875702, 0.972648998089126, 0.9721213772323781, 0.9953210036427069, 0.9856036891018147, 0.9789364796155182, 0.9506374408913566, 0.9857805199410404, 0.1793136499970443, 0.8069114249866993, 0.9843593767786123, 0.9932004496204148, 0.9782384344815045, 0.9866228061639317, 0.989451861150207, 0.9923228997371776, 0.9792816052105673, 0.9967330989632589, 0.9929977317863083, 0.9977204120398687, 0.9940606141915398, 0.9959016348244006, 0.9877588359773237, 0.9915344065585471, 0.015052830222840863, 0.2107396231197721, 0.7827471715877249, 0.9844517988508941, 0.9708715380834056, 0.9828288631541995, 0.025919722748274147, 0.9590297416861434, 0.9916898834384106, 0.9881127977943608, 0.9941558460580467, 0.9916657939853333, 0.9849166880513024, 0.984177073516087, 0.9866450240762571, 0.9753196524699521, 0.8608487316596106, 0.9846182707825316, 0.9367656989484914, 0.9898668021268007, 0.9796416994291504, 0.9944265883130191, 0.9509308535938288, 0.9756472725388602, 0.00291774749366748, 0.00291774749366748, 0.9920341478469433, 0.00291774749366748, 0.7818960720491671, 0.9213411731086874, 0.9874109507721907, 0.9942110039954303, 0.9646761491262771, 0.8827519537284607, 0.9921835103900716, 0.9805491739902961, 0.9950866430230484, 0.997948244889553, 0.9856127842632543, 0.9914408821126751, 0.9936422182888616, 0.9822664154990189, 0.99562295747645, 0.986267724861605, 0.9865358656503619, 0.991428742286712, 0.9903008677769803, 0.9725600282990905, 0.9878441694819086, 0.9944851419179389, 0.9924859272479872, 0.9890539007768606, 0.9856185353548564, 0.9808437165918904, 0.9807835264303137, 0.9971999273997176, 0.988143142900796, 0.9924499291977886, 0.996745555972881, 0.9957274075985794, 0.9942971524855562, 0.9618050755598466, 0.9815464065565623, 0.9889830872874017, 0.9970295820560641, 0.9957501950323275, 0.9834157781673958, 0.9143785366061528, 0.9460778477015995, 0.9803774747959594, 0.987186921886667, 0.9474788859205342, 0.9981931350122267, 0.9825824114769386, 0.9859417281440302, 0.9273484419134821, 0.07897586751944068, 0.8687345427138474, 0.9983494259698156, 0.9913828097611436, 0.9752084832245739, 0.9475058869413296, 0.9977727038042532, 0.9987611577857697, 0.12367836831548616, 0.8502887821689674, 0.9926130194514262, 0.9646294703824089, 0.9551470456300931, 0.9972377964918048, 0.9868117355311343, 0.9616332833577067, 0.9954383692859494, 0.997749759954779, 0.9418909497762333, 0.9890097535356727, 0.9940705258216099, 0.9916937431887259, 0.9989740547014538, 0.9952707900976728, 0.8630236101574725, 0.10857393805206912, 0.02783947129540234, 0.9868561978395687, 0.9978913614622482, 0.9876623563630097, 0.9851877828220978, 0.9945564644922994, 0.991985003977503, 0.9956560115380401, 0.9590490944765184, 0.9974026097759527, 0.9758278329769511, 0.9949909088216914, 0.9754879897461118, 0.9628324618886418, 0.9542130255939594, 0.9879377329302133, 0.9635092235020903, 0.9881987628095498, 0.9959587083688518, 0.9948642944690236, 0.9860031516402805, 0.9921307466197264, 0.9974038681411728, 0.9930422525146553, 0.943227524395818, 0.9559556378264598, 0.022760848519677614, 0.9731685224941028, 0.991655565505087, 0.9888296947743243, 0.9528235156311974, 0.9869052132641073, 0.9941866773183431, 0.01901494143761354, 0.07605976575045416, 0.8937022475678363, 0.01901494143761354, 0.9931166756408982, 0.9973270447022148, 0.997542663742023, 0.23440141688033603, 0.7650009878185512, 0.9813839940697037, 0.9880765866912393, 0.9123031087161317, 0.9750905962038825, 0.9958355982340434, 0.9937322282123324, 0.8357697722892483, 0.16176189141082226, 0.9928841129075567, 0.9862116335770057, 0.021426549024241865, 0.021426549024241865, 0.942768157066642, 0.9857683989357547, 0.9954305493872819, 0.9811583343247042, 0.94828606506658, 0.9861452180842885, 0.015408519032567007, 0.964423150770588, 0.9869256158344951, 0.9972795907482362, 0.9955596710246225, 0.9668134075402897, 0.9432534361524715, 0.9913044500033119, 0.994759399715142, 0.9929472378092028, 0.9953970958955592, 0.9954611326204584, 0.1274899645139569, 0.8074364419217269, 0.9960749125709553, 0.9931660787353374, 0.9909149568843425, 0.9659054557798713, 0.998471809056932, 0.9952418693739871, 0.9752952872157038, 0.9959214392889231, 0.9813255484001672, 0.9684711782726777, 0.9527603572306447, 0.9775385842914593, 0.9748124598296234, 0.9943092001379592, 0.002448635363991034, 0.0029383624367892405, 0.00016324235759940226, 0.9909366460803422, 0.999562971178632, 0.9802991703935293, 0.9983098728791157, 0.983771754176272, 0.9889322630213897, 0.9440935273614928, 0.9969173077135421, 0.9783969876016971, 0.9880859574014338, 0.9829881152065971, 0.9992984201328141, 0.9867300567993582, 0.9988941911836258, 0.9869689481807833, 0.9772608956947958, 0.9911423243235115, 0.4701296526189761, 0.5223662806877513, 0.9865307540554874, 0.9740335924333468, 0.9753908115229861, 0.9825165314861198, 0.9966836995717252, 0.9851894251833281, 0.9925245292259051, 0.9983657089738684, 0.9975527944282238], \"Term\": [\"able\", \"account\", \"act\", \"actually\", \"administration\", \"afraid\", \"ago\", \"agree\", \"air\", \"alabama_official\", \"allow\", \"american\", \"amp\", \"appear\", \"apprentice\", \"article\", \"ask\", \"ass\", \"attempt\", \"bad\", \"ban\", \"bank\", \"believe\", \"biden\", \"big\", \"billion\", \"billion\", \"billion\", \"black\", \"blame\", \"block\", \"border\", \"border\", \"brain\", \"break\", \"bring\", \"business\", \"call\", \"campaign\", \"cancel\", \"cancel\", \"cancel\", \"cancel\", \"cancel\", \"cancel\", \"cap\", \"cap\", \"cap\", \"care\", \"case\", \"cause\", \"celebration\", \"celebrity\", \"change\", \"claim\", \"close\", \"come\", \"company\", \"concern\", \"conservative\", \"constitution\", \"continue\", \"contract\", \"control\", \"corruption\", \"cost\", \"country\", \"couple\", \"covid\", \"create\", \"credit\", \"crime\", \"culture\", \"culture\", \"culture\", \"davos\", \"day\", \"day\", \"deal\", \"decide\", \"decision\", \"defend\", \"dem\", \"demand\", \"democracy\", \"drug\", \"effect\", \"election\", \"end\", \"endangered_specie\", \"endangered_specie\", \"entire\", \"event\", \"evil\", \"exactly\", \"executive_order\", \"executive_order\", \"executive_order\", \"eye\", \"face\", \"fact\", \"fail\", \"fake\", \"false\", \"family\", \"fault\", \"fault\", \"favor\", \"fight\", \"folk\", \"follow\", \"foxnew\", \"free\", \"funny\", \"get\", \"give\", \"go\", \"golf\", \"good\", \"government\", \"great\", \"great_reset\", \"great_reset\", \"great_reset\", \"group\", \"guess\", \"guy\", \"half\", \"half\", \"happen\", \"hard\", \"hate\", \"hear\", \"help\", \"high\", \"history\", \"hold\", \"honest\", \"hope\", \"hopefully\", \"httpstco\", \"httpstcoa\", \"human\", \"hurt\", \"ill\", \"insulin\", \"insulin\", \"insulin\", \"insulin\", \"insult\", \"investigate\", \"jail\", \"job\", \"joebiden\", \"join\", \"joncoopertweet\", \"keep\", \"kill\", \"know\", \"law\", \"leader\", \"leave\", \"leftist\", \"let\", \"liar\", \"license\", \"lie\", \"like\", \"link\", \"listen\", \"lol\", \"long\", \"look\", \"lose\", \"lot\", \"love\", \"low\", \"lower\", \"m\", \"maga\", \"make\", \"man\", \"massive\", \"matter\", \"maybe\", \"mean\", \"medium\", \"meet\", \"member\", \"mess\", \"message\", \"million\", \"moment\", \"money\", \"month\", \"move\", \"narrative\", \"necessary\", \"necessary\", \"need\", \"new\", \"news\", \"nytime\", \"office\", \"official\", \"oil\", \"oil\", \"order\", \"owner\", \"paper\", \"party\", \"pass\", \"pathetic\", \"pay\", \"people\", \"permanently\", \"person\", \"pity_party\", \"place\", \"plan\", \"play\", \"plot\", \"plot\", \"plot\", \"point\", \"policy\", \"political\", \"potus\", \"power\", \"presidency\", \"president\", \"pretend\", \"price\", \"probably\", \"problem\", \"program\", \"project\", \"public\", \"push\", \"racist\", \"rally\", \"rally_realize\", \"re\", \"real\", \"realdonaldtrump\", \"really\", \"reason\", \"red\", \"reduce\", \"reduce\", \"refuse\", \"remember\", \"republican\", \"result\", \"rich\", \"right\", \"rino\", \"rino\", \"rino\", \"rino\", \"rule\", \"run\", \"s\", \"say\", \"say\", \"secret\", \"seek\", \"senator\", \"send\", \"set\", \"shit\", \"sign\", \"sign\", \"silence\", \"social\", \"social_media\", \"social_media\", \"social_media\", \"soon\", \"speak\", \"speakerpelosi\", \"speech\", \"spend\", \"spend\", \"stand\", \"start\", \"state\", \"stop\", \"student\", \"successful\", \"support\", \"supporter\", \"sure\", \"take\", \"talk\", \"target\", \"target\", \"tax\", \"tax_cut\", \"tell\", \"thank\", \"thing\", \"think\", \"threaten\", \"time\", \"today\", \"totally\", \"trend\", \"true\", \"truly\", \"trump\", \"trump\", \"trump\", \"trump\", \"truth\", \"try\", \"turn\", \"twitter\", \"use\", \"ve\", \"victim\", \"vote\", \"voter\", \"wait\", \"wake\", \"want\", \"war\", \"way\", \"wealthy\", \"week\", \"well\", \"wildlife_agencie\", \"wildlife_agencie\", \"win\", \"wish\", \"wonder\", \"word\", \"work\", \"world\", \"wrong\", \"year\", \"youtube\"]}, \"R\": 30, \"lambda.step\": 0.01, \"plot.opts\": {\"xlab\": \"PC1\", \"ylab\": \"PC2\"}, \"topic.order\": [4, 7, 2, 10, 6, 9, 3, 1, 5, 8]};\n",
              "\n",
              "function LDAvis_load_lib(url, callback){\n",
              "  var s = document.createElement('script');\n",
              "  s.src = url;\n",
              "  s.async = true;\n",
              "  s.onreadystatechange = s.onload = callback;\n",
              "  s.onerror = function(){console.warn(\"failed to load library \" + url);};\n",
              "  document.getElementsByTagName(\"head\")[0].appendChild(s);\n",
              "}\n",
              "\n",
              "if(typeof(LDAvis) !== \"undefined\"){\n",
              "   // already loaded: just create the visualization\n",
              "   !function(LDAvis){\n",
              "       new LDAvis(\"#\" + \"ldavis_el130140648601419104925396298\", ldavis_el130140648601419104925396298_data);\n",
              "   }(LDAvis);\n",
              "}else if(typeof define === \"function\" && define.amd){\n",
              "   // require.js is available: use it to load d3/LDAvis\n",
              "   require.config({paths: {d3: \"https://d3js.org/d3.v5\"}});\n",
              "   require([\"d3\"], function(d3){\n",
              "      window.d3 = d3;\n",
              "      LDAvis_load_lib(\"https://cdn.jsdelivr.net/gh/bmabey/pyLDAvis@3.4.0/pyLDAvis/js/ldavis.v3.0.0.js\", function(){\n",
              "        new LDAvis(\"#\" + \"ldavis_el130140648601419104925396298\", ldavis_el130140648601419104925396298_data);\n",
              "      });\n",
              "    });\n",
              "}else{\n",
              "    // require.js not available: dynamically load d3 & LDAvis\n",
              "    LDAvis_load_lib(\"https://d3js.org/d3.v5.js\", function(){\n",
              "         LDAvis_load_lib(\"https://cdn.jsdelivr.net/gh/bmabey/pyLDAvis@3.4.0/pyLDAvis/js/ldavis.v3.0.0.js\", function(){\n",
              "                 new LDAvis(\"#\" + \"ldavis_el130140648601419104925396298\", ldavis_el130140648601419104925396298_data);\n",
              "            })\n",
              "         });\n",
              "}\n",
              "</script>"
            ]
          },
          "metadata": {},
          "execution_count": 65
        }
      ]
    },
    {
      "cell_type": "code",
      "source": [
        "list(lda_model.get_document_topics(corpus[1]))\n"
      ],
      "metadata": {
        "colab": {
          "base_uri": "https://localhost:8080/"
        },
        "id": "L5EfFRjo5Ac7",
        "outputId": "77529400-07a1-4df9-983f-427e4f8e78d9"
      },
      "execution_count": 66,
      "outputs": [
        {
          "output_type": "execute_result",
          "data": {
            "text/plain": [
              "[(0, 0.010948798),\n",
              " (1, 0.15731345),\n",
              " (2, 0.0276725),\n",
              " (3, 0.5277867),\n",
              " (5, 0.032601118),\n",
              " (6, 0.0554582),\n",
              " (8, 0.029511474),\n",
              " (9, 0.14715517)]"
            ]
          },
          "metadata": {},
          "execution_count": 66
        }
      ]
    },
    {
      "cell_type": "code",
      "source": [
        "lda_model.show_topic(0)\n"
      ],
      "metadata": {
        "colab": {
          "base_uri": "https://localhost:8080/"
        },
        "id": "F32-oOf75FYy",
        "outputId": "50ec36f7-8dd9-4028-9c16-d59853b13318"
      },
      "execution_count": 67,
      "outputs": [
        {
          "output_type": "execute_result",
          "data": {
            "text/plain": [
              "[('rally', 0.057145238),\n",
              " ('supporter', 0.052803885),\n",
              " ('mean', 0.052682728),\n",
              " ('ve', 0.046285544),\n",
              " ('true', 0.025519362),\n",
              " ('month', 0.025386391),\n",
              " ('ago', 0.024791067),\n",
              " ('call', 0.022151863),\n",
              " ('silence', 0.02058154),\n",
              " ('able', 0.01753604)]"
            ]
          },
          "metadata": {},
          "execution_count": 67
        }
      ]
    },
    {
      "cell_type": "markdown",
      "source": [
        "Find dominant topic in each tweet"
      ],
      "metadata": {
        "id": "nErWcYQQ5ObJ"
      }
    },
    {
      "cell_type": "code",
      "source": [
        "def find_dom_topics(ldamodel=lda_model, corpus=corpus, texts=data):\n",
        "    # Init output\n",
        "    sent_topics_df = pd.DataFrame()\n",
        "\n",
        "    # Get main topic in each document\n",
        "    for i, row in enumerate(ldamodel[corpus]):\n",
        "        row = sorted(row[0], key=lambda x: (x[1]), reverse=True)\n",
        "        dominant_topic = row[0]\n",
        "        # Get the Dominant topic, Perc Contribution and Keywords for each document\n",
        "        sent_topics_df = sent_topics_df.append(pd.Series([int(dominant_topic[0]), round(dominant_topic[1],4)]), ignore_index=True)\n",
        "\n",
        "    sent_topics_df.columns = ['Dominant_Topic', 'Perc_Contribution']\n",
        "\n",
        "    # Add original text to the end of the output\n",
        "    contents = pd.Series(texts)\n",
        "    sent_topics_df = pd.concat([sent_topics_df, contents], axis=1)\n",
        "    return(sent_topics_df)\n",
        "\n",
        "\n",
        "df_dominant_topic = find_dom_topics(ldamodel=lda_model, corpus=corpus, texts=tweets)\n",
        "\n",
        "# Format\n",
        "df_dominant_topic = df_dominant_topic.reset_index()\n",
        "df_dominant_topic.columns = ['Document_No', 'Dominant_Topic', 'Topic_Perc_Contrib', 'Text']\n",
        "\n",
        "# Show\n",
        "df_dominant_topic.head(10)\n"
      ],
      "metadata": {
        "colab": {
          "base_uri": "https://localhost:8080/",
          "height": 454
        },
        "id": "KTE-WosA5QZ8",
        "outputId": "f21f830e-8655-4b3e-dfa0-14eec18d46ca"
      },
      "execution_count": 69,
      "outputs": [
        {
          "output_type": "stream",
          "name": "stderr",
          "text": [
            "<ipython-input-69-ff6457fc9b4a>:10: FutureWarning: The frame.append method is deprecated and will be removed from pandas in a future version. Use pandas.concat instead.\n",
            "  sent_topics_df = sent_topics_df.append(pd.Series([int(dominant_topic[0]), round(dominant_topic[1],4)]), ignore_index=True)\n",
            "<ipython-input-69-ff6457fc9b4a>:10: FutureWarning: The frame.append method is deprecated and will be removed from pandas in a future version. Use pandas.concat instead.\n",
            "  sent_topics_df = sent_topics_df.append(pd.Series([int(dominant_topic[0]), round(dominant_topic[1],4)]), ignore_index=True)\n"
          ]
        },
        {
          "output_type": "execute_result",
          "data": {
            "text/plain": [
              "   Document_No  Dominant_Topic  Topic_Perc_Contrib  \\\n",
              "0            0             3.0              0.5758   \n",
              "1            1             3.0              0.5278   \n",
              "2            2             3.0              0.4541   \n",
              "3            3             3.0              0.5948   \n",
              "4            4             3.0              0.3645   \n",
              "5            5             3.0              0.4300   \n",
              "6            6             3.0              0.5356   \n",
              "7            7             3.0              0.3914   \n",
              "8            8             3.0              0.6278   \n",
              "9            9             3.0              0.6277   \n",
              "\n",
              "                                                Text  \n",
              "0  [break, news, trump, official, cancel, ocean, ...  \n",
              "1  [trump, official, cancel, ocean, project, pmeo...  \n",
              "2  [news, trump, official, cancel, ocean, project...  \n",
              "3          [trump, official, cancel, ocean, project]  \n",
              "4  [realdonaldtrump, call, insult, repeatedly, go...  \n",
              "5  [cancel, pathetic, apprentice, disgrace, nbcpo...  \n",
              "6              [nancywonderful, time, cancel, trump]  \n",
              "7                        [cancel, apprentice, thank]  \n",
              "8                                    [cancel, trump]  \n",
              "9                            [maddow, cancel, trump]  "
            ],
            "text/html": [
              "\n",
              "  <div id=\"df-24f8287c-babe-4d38-990e-2efdbf6e5680\">\n",
              "    <div class=\"colab-df-container\">\n",
              "      <div>\n",
              "<style scoped>\n",
              "    .dataframe tbody tr th:only-of-type {\n",
              "        vertical-align: middle;\n",
              "    }\n",
              "\n",
              "    .dataframe tbody tr th {\n",
              "        vertical-align: top;\n",
              "    }\n",
              "\n",
              "    .dataframe thead th {\n",
              "        text-align: right;\n",
              "    }\n",
              "</style>\n",
              "<table border=\"1\" class=\"dataframe\">\n",
              "  <thead>\n",
              "    <tr style=\"text-align: right;\">\n",
              "      <th></th>\n",
              "      <th>Document_No</th>\n",
              "      <th>Dominant_Topic</th>\n",
              "      <th>Topic_Perc_Contrib</th>\n",
              "      <th>Text</th>\n",
              "    </tr>\n",
              "  </thead>\n",
              "  <tbody>\n",
              "    <tr>\n",
              "      <th>0</th>\n",
              "      <td>0</td>\n",
              "      <td>3.0</td>\n",
              "      <td>0.5758</td>\n",
              "      <td>[break, news, trump, official, cancel, ocean, ...</td>\n",
              "    </tr>\n",
              "    <tr>\n",
              "      <th>1</th>\n",
              "      <td>1</td>\n",
              "      <td>3.0</td>\n",
              "      <td>0.5278</td>\n",
              "      <td>[trump, official, cancel, ocean, project, pmeo...</td>\n",
              "    </tr>\n",
              "    <tr>\n",
              "      <th>2</th>\n",
              "      <td>2</td>\n",
              "      <td>3.0</td>\n",
              "      <td>0.4541</td>\n",
              "      <td>[news, trump, official, cancel, ocean, project...</td>\n",
              "    </tr>\n",
              "    <tr>\n",
              "      <th>3</th>\n",
              "      <td>3</td>\n",
              "      <td>3.0</td>\n",
              "      <td>0.5948</td>\n",
              "      <td>[trump, official, cancel, ocean, project]</td>\n",
              "    </tr>\n",
              "    <tr>\n",
              "      <th>4</th>\n",
              "      <td>4</td>\n",
              "      <td>3.0</td>\n",
              "      <td>0.3645</td>\n",
              "      <td>[realdonaldtrump, call, insult, repeatedly, go...</td>\n",
              "    </tr>\n",
              "    <tr>\n",
              "      <th>5</th>\n",
              "      <td>5</td>\n",
              "      <td>3.0</td>\n",
              "      <td>0.4300</td>\n",
              "      <td>[cancel, pathetic, apprentice, disgrace, nbcpo...</td>\n",
              "    </tr>\n",
              "    <tr>\n",
              "      <th>6</th>\n",
              "      <td>6</td>\n",
              "      <td>3.0</td>\n",
              "      <td>0.5356</td>\n",
              "      <td>[nancywonderful, time, cancel, trump]</td>\n",
              "    </tr>\n",
              "    <tr>\n",
              "      <th>7</th>\n",
              "      <td>7</td>\n",
              "      <td>3.0</td>\n",
              "      <td>0.3914</td>\n",
              "      <td>[cancel, apprentice, thank]</td>\n",
              "    </tr>\n",
              "    <tr>\n",
              "      <th>8</th>\n",
              "      <td>8</td>\n",
              "      <td>3.0</td>\n",
              "      <td>0.6278</td>\n",
              "      <td>[cancel, trump]</td>\n",
              "    </tr>\n",
              "    <tr>\n",
              "      <th>9</th>\n",
              "      <td>9</td>\n",
              "      <td>3.0</td>\n",
              "      <td>0.6277</td>\n",
              "      <td>[maddow, cancel, trump]</td>\n",
              "    </tr>\n",
              "  </tbody>\n",
              "</table>\n",
              "</div>\n",
              "      <button class=\"colab-df-convert\" onclick=\"convertToInteractive('df-24f8287c-babe-4d38-990e-2efdbf6e5680')\"\n",
              "              title=\"Convert this dataframe to an interactive table.\"\n",
              "              style=\"display:none;\">\n",
              "        \n",
              "  <svg xmlns=\"http://www.w3.org/2000/svg\" height=\"24px\"viewBox=\"0 0 24 24\"\n",
              "       width=\"24px\">\n",
              "    <path d=\"M0 0h24v24H0V0z\" fill=\"none\"/>\n",
              "    <path d=\"M18.56 5.44l.94 2.06.94-2.06 2.06-.94-2.06-.94-.94-2.06-.94 2.06-2.06.94zm-11 1L8.5 8.5l.94-2.06 2.06-.94-2.06-.94L8.5 2.5l-.94 2.06-2.06.94zm10 10l.94 2.06.94-2.06 2.06-.94-2.06-.94-.94-2.06-.94 2.06-2.06.94z\"/><path d=\"M17.41 7.96l-1.37-1.37c-.4-.4-.92-.59-1.43-.59-.52 0-1.04.2-1.43.59L10.3 9.45l-7.72 7.72c-.78.78-.78 2.05 0 2.83L4 21.41c.39.39.9.59 1.41.59.51 0 1.02-.2 1.41-.59l7.78-7.78 2.81-2.81c.8-.78.8-2.07 0-2.86zM5.41 20L4 18.59l7.72-7.72 1.47 1.35L5.41 20z\"/>\n",
              "  </svg>\n",
              "      </button>\n",
              "      \n",
              "  <style>\n",
              "    .colab-df-container {\n",
              "      display:flex;\n",
              "      flex-wrap:wrap;\n",
              "      gap: 12px;\n",
              "    }\n",
              "\n",
              "    .colab-df-convert {\n",
              "      background-color: #E8F0FE;\n",
              "      border: none;\n",
              "      border-radius: 50%;\n",
              "      cursor: pointer;\n",
              "      display: none;\n",
              "      fill: #1967D2;\n",
              "      height: 32px;\n",
              "      padding: 0 0 0 0;\n",
              "      width: 32px;\n",
              "    }\n",
              "\n",
              "    .colab-df-convert:hover {\n",
              "      background-color: #E2EBFA;\n",
              "      box-shadow: 0px 1px 2px rgba(60, 64, 67, 0.3), 0px 1px 3px 1px rgba(60, 64, 67, 0.15);\n",
              "      fill: #174EA6;\n",
              "    }\n",
              "\n",
              "    [theme=dark] .colab-df-convert {\n",
              "      background-color: #3B4455;\n",
              "      fill: #D2E3FC;\n",
              "    }\n",
              "\n",
              "    [theme=dark] .colab-df-convert:hover {\n",
              "      background-color: #434B5C;\n",
              "      box-shadow: 0px 1px 3px 1px rgba(0, 0, 0, 0.15);\n",
              "      filter: drop-shadow(0px 1px 2px rgba(0, 0, 0, 0.3));\n",
              "      fill: #FFFFFF;\n",
              "    }\n",
              "  </style>\n",
              "\n",
              "      <script>\n",
              "        const buttonEl =\n",
              "          document.querySelector('#df-24f8287c-babe-4d38-990e-2efdbf6e5680 button.colab-df-convert');\n",
              "        buttonEl.style.display =\n",
              "          google.colab.kernel.accessAllowed ? 'block' : 'none';\n",
              "\n",
              "        async function convertToInteractive(key) {\n",
              "          const element = document.querySelector('#df-24f8287c-babe-4d38-990e-2efdbf6e5680');\n",
              "          const dataTable =\n",
              "            await google.colab.kernel.invokeFunction('convertToInteractive',\n",
              "                                                     [key], {});\n",
              "          if (!dataTable) return;\n",
              "\n",
              "          const docLinkHtml = 'Like what you see? Visit the ' +\n",
              "            '<a target=\"_blank\" href=https://colab.research.google.com/notebooks/data_table.ipynb>data table notebook</a>'\n",
              "            + ' to learn more about interactive tables.';\n",
              "          element.innerHTML = '';\n",
              "          dataTable['output_type'] = 'display_data';\n",
              "          await google.colab.output.renderOutput(dataTable, element);\n",
              "          const docLink = document.createElement('div');\n",
              "          docLink.innerHTML = docLinkHtml;\n",
              "          element.appendChild(docLink);\n",
              "        }\n",
              "      </script>\n",
              "    </div>\n",
              "  </div>\n",
              "  "
            ]
          },
          "metadata": {},
          "execution_count": 69
        }
      ]
    },
    {
      "cell_type": "markdown",
      "source": [
        "Find the most representative document for each topic"
      ],
      "metadata": {
        "id": "abGXguFh5j9R"
      }
    },
    {
      "cell_type": "code",
      "source": [
        "# Group top 5 sentences under each topic\n",
        "df_topics_doc = pd.DataFrame()\n",
        "\n",
        "df_dominant_topic_grpd = df_dominant_topic.groupby('Dominant_Topic')\n",
        "\n",
        "for i, grp in df_dominant_topic_grpd:\n",
        "    df_topics_doc = pd.concat([df_topics_doc, \n",
        "                                             grp.sort_values(['Topic_Perc_Contrib'], ascending=[0]).head(1)], \n",
        "                                            axis=0)\n",
        "\n",
        "# Reset Index    \n",
        "df_topics_doc.reset_index(drop=True, inplace=True)\n",
        "\n",
        "# Format\n",
        "df_topics_doc.columns = ['Document_No', 'Topic_Num', \"Topic_Perc_Contrib\", \"Text\"]\n",
        "\n",
        "# Show\n",
        "df_topics_doc"
      ],
      "metadata": {
        "colab": {
          "base_uri": "https://localhost:8080/",
          "height": 332
        },
        "id": "GXjKmwp_5jO8",
        "outputId": "f34804c6-5757-4227-d1bf-101a7920e387"
      },
      "execution_count": 70,
      "outputs": [
        {
          "output_type": "execute_result",
          "data": {
            "text/plain": [
              "   Document_No  Topic_Num  Topic_Perc_Contrib  \\\n",
              "0          130        0.0              0.4694   \n",
              "1         7351        1.0              0.6742   \n",
              "2         5142        2.0              0.6079   \n",
              "3         6361        3.0              0.8312   \n",
              "4         7504        4.0              0.4261   \n",
              "5         4137        5.0              0.5298   \n",
              "6           76        6.0              0.5838   \n",
              "7         4074        8.0              0.6831   \n",
              "8          896        9.0              0.5966   \n",
              "\n",
              "                                                Text  \n",
              "0  [join, public, rally, demand, cancel, trump, s...  \n",
              "1  [ahrehead, ziggystardog, skeeduu, dickchibble,...  \n",
              "2  [realdonaldtrump, larry_kudlow, eamonjaver, re...  \n",
              "3  [trump, alabama_official, cancel, trump, rally...  \n",
              "4  [lepapillonblu, hopefully, plug, get, pulled, ...  \n",
              "5  [exnational_security, adviser_wante, cancel, t...  \n",
              "6  [nice, ball, bow, pressure, cancel, trump, cou...  \n",
              "7  [critical, investment, central, correct, longs...  \n",
              "8             [maybe, make, great, term, altogether]  "
            ],
            "text/html": [
              "\n",
              "  <div id=\"df-d4271260-6160-4a37-9746-f7f93be65607\">\n",
              "    <div class=\"colab-df-container\">\n",
              "      <div>\n",
              "<style scoped>\n",
              "    .dataframe tbody tr th:only-of-type {\n",
              "        vertical-align: middle;\n",
              "    }\n",
              "\n",
              "    .dataframe tbody tr th {\n",
              "        vertical-align: top;\n",
              "    }\n",
              "\n",
              "    .dataframe thead th {\n",
              "        text-align: right;\n",
              "    }\n",
              "</style>\n",
              "<table border=\"1\" class=\"dataframe\">\n",
              "  <thead>\n",
              "    <tr style=\"text-align: right;\">\n",
              "      <th></th>\n",
              "      <th>Document_No</th>\n",
              "      <th>Topic_Num</th>\n",
              "      <th>Topic_Perc_Contrib</th>\n",
              "      <th>Text</th>\n",
              "    </tr>\n",
              "  </thead>\n",
              "  <tbody>\n",
              "    <tr>\n",
              "      <th>0</th>\n",
              "      <td>130</td>\n",
              "      <td>0.0</td>\n",
              "      <td>0.4694</td>\n",
              "      <td>[join, public, rally, demand, cancel, trump, s...</td>\n",
              "    </tr>\n",
              "    <tr>\n",
              "      <th>1</th>\n",
              "      <td>7351</td>\n",
              "      <td>1.0</td>\n",
              "      <td>0.6742</td>\n",
              "      <td>[ahrehead, ziggystardog, skeeduu, dickchibble,...</td>\n",
              "    </tr>\n",
              "    <tr>\n",
              "      <th>2</th>\n",
              "      <td>5142</td>\n",
              "      <td>2.0</td>\n",
              "      <td>0.6079</td>\n",
              "      <td>[realdonaldtrump, larry_kudlow, eamonjaver, re...</td>\n",
              "    </tr>\n",
              "    <tr>\n",
              "      <th>3</th>\n",
              "      <td>6361</td>\n",
              "      <td>3.0</td>\n",
              "      <td>0.8312</td>\n",
              "      <td>[trump, alabama_official, cancel, trump, rally...</td>\n",
              "    </tr>\n",
              "    <tr>\n",
              "      <th>4</th>\n",
              "      <td>7504</td>\n",
              "      <td>4.0</td>\n",
              "      <td>0.4261</td>\n",
              "      <td>[lepapillonblu, hopefully, plug, get, pulled, ...</td>\n",
              "    </tr>\n",
              "    <tr>\n",
              "      <th>5</th>\n",
              "      <td>4137</td>\n",
              "      <td>5.0</td>\n",
              "      <td>0.5298</td>\n",
              "      <td>[exnational_security, adviser_wante, cancel, t...</td>\n",
              "    </tr>\n",
              "    <tr>\n",
              "      <th>6</th>\n",
              "      <td>76</td>\n",
              "      <td>6.0</td>\n",
              "      <td>0.5838</td>\n",
              "      <td>[nice, ball, bow, pressure, cancel, trump, cou...</td>\n",
              "    </tr>\n",
              "    <tr>\n",
              "      <th>7</th>\n",
              "      <td>4074</td>\n",
              "      <td>8.0</td>\n",
              "      <td>0.6831</td>\n",
              "      <td>[critical, investment, central, correct, longs...</td>\n",
              "    </tr>\n",
              "    <tr>\n",
              "      <th>8</th>\n",
              "      <td>896</td>\n",
              "      <td>9.0</td>\n",
              "      <td>0.5966</td>\n",
              "      <td>[maybe, make, great, term, altogether]</td>\n",
              "    </tr>\n",
              "  </tbody>\n",
              "</table>\n",
              "</div>\n",
              "      <button class=\"colab-df-convert\" onclick=\"convertToInteractive('df-d4271260-6160-4a37-9746-f7f93be65607')\"\n",
              "              title=\"Convert this dataframe to an interactive table.\"\n",
              "              style=\"display:none;\">\n",
              "        \n",
              "  <svg xmlns=\"http://www.w3.org/2000/svg\" height=\"24px\"viewBox=\"0 0 24 24\"\n",
              "       width=\"24px\">\n",
              "    <path d=\"M0 0h24v24H0V0z\" fill=\"none\"/>\n",
              "    <path d=\"M18.56 5.44l.94 2.06.94-2.06 2.06-.94-2.06-.94-.94-2.06-.94 2.06-2.06.94zm-11 1L8.5 8.5l.94-2.06 2.06-.94-2.06-.94L8.5 2.5l-.94 2.06-2.06.94zm10 10l.94 2.06.94-2.06 2.06-.94-2.06-.94-.94-2.06-.94 2.06-2.06.94z\"/><path d=\"M17.41 7.96l-1.37-1.37c-.4-.4-.92-.59-1.43-.59-.52 0-1.04.2-1.43.59L10.3 9.45l-7.72 7.72c-.78.78-.78 2.05 0 2.83L4 21.41c.39.39.9.59 1.41.59.51 0 1.02-.2 1.41-.59l7.78-7.78 2.81-2.81c.8-.78.8-2.07 0-2.86zM5.41 20L4 18.59l7.72-7.72 1.47 1.35L5.41 20z\"/>\n",
              "  </svg>\n",
              "      </button>\n",
              "      \n",
              "  <style>\n",
              "    .colab-df-container {\n",
              "      display:flex;\n",
              "      flex-wrap:wrap;\n",
              "      gap: 12px;\n",
              "    }\n",
              "\n",
              "    .colab-df-convert {\n",
              "      background-color: #E8F0FE;\n",
              "      border: none;\n",
              "      border-radius: 50%;\n",
              "      cursor: pointer;\n",
              "      display: none;\n",
              "      fill: #1967D2;\n",
              "      height: 32px;\n",
              "      padding: 0 0 0 0;\n",
              "      width: 32px;\n",
              "    }\n",
              "\n",
              "    .colab-df-convert:hover {\n",
              "      background-color: #E2EBFA;\n",
              "      box-shadow: 0px 1px 2px rgba(60, 64, 67, 0.3), 0px 1px 3px 1px rgba(60, 64, 67, 0.15);\n",
              "      fill: #174EA6;\n",
              "    }\n",
              "\n",
              "    [theme=dark] .colab-df-convert {\n",
              "      background-color: #3B4455;\n",
              "      fill: #D2E3FC;\n",
              "    }\n",
              "\n",
              "    [theme=dark] .colab-df-convert:hover {\n",
              "      background-color: #434B5C;\n",
              "      box-shadow: 0px 1px 3px 1px rgba(0, 0, 0, 0.15);\n",
              "      filter: drop-shadow(0px 1px 2px rgba(0, 0, 0, 0.3));\n",
              "      fill: #FFFFFF;\n",
              "    }\n",
              "  </style>\n",
              "\n",
              "      <script>\n",
              "        const buttonEl =\n",
              "          document.querySelector('#df-d4271260-6160-4a37-9746-f7f93be65607 button.colab-df-convert');\n",
              "        buttonEl.style.display =\n",
              "          google.colab.kernel.accessAllowed ? 'block' : 'none';\n",
              "\n",
              "        async function convertToInteractive(key) {\n",
              "          const element = document.querySelector('#df-d4271260-6160-4a37-9746-f7f93be65607');\n",
              "          const dataTable =\n",
              "            await google.colab.kernel.invokeFunction('convertToInteractive',\n",
              "                                                     [key], {});\n",
              "          if (!dataTable) return;\n",
              "\n",
              "          const docLinkHtml = 'Like what you see? Visit the ' +\n",
              "            '<a target=\"_blank\" href=https://colab.research.google.com/notebooks/data_table.ipynb>data table notebook</a>'\n",
              "            + ' to learn more about interactive tables.';\n",
              "          element.innerHTML = '';\n",
              "          dataTable['output_type'] = 'display_data';\n",
              "          await google.colab.output.renderOutput(dataTable, element);\n",
              "          const docLink = document.createElement('div');\n",
              "          docLink.innerHTML = docLinkHtml;\n",
              "          element.appendChild(docLink);\n",
              "        }\n",
              "      </script>\n",
              "    </div>\n",
              "  </div>\n",
              "  "
            ]
          },
          "metadata": {},
          "execution_count": 70
        }
      ]
    },
    {
      "cell_type": "markdown",
      "source": [
        "Topic distribution across documents¶"
      ],
      "metadata": {
        "id": "KkX-N0jm5rit"
      }
    },
    {
      "cell_type": "code",
      "source": [
        "df_dominant_topic['Dominant_Topic'].hist(bins=10)\n"
      ],
      "metadata": {
        "colab": {
          "base_uri": "https://localhost:8080/",
          "height": 283
        },
        "id": "EAMXdd0V5sM2",
        "outputId": "8c720380-2e65-4bba-958e-270e8f302ad3"
      },
      "execution_count": 71,
      "outputs": [
        {
          "output_type": "execute_result",
          "data": {
            "text/plain": [
              "<Axes: >"
            ]
          },
          "metadata": {},
          "execution_count": 71
        },
        {
          "output_type": "display_data",
          "data": {
            "text/plain": [
              "<Figure size 432x288 with 1 Axes>"
            ],
            "image/png": "[encoded data removed]"
          },
          "metadata": {
            "needs_background": "light"
          }
        }
      ]
    },
    {
      "cell_type": "code",
      "source": [
        "# Number of Documents for Each Topic\n",
        "topic_counts = df_dominant_topic['Dominant_Topic'].value_counts()\n",
        "\n",
        "# Percentage of Documents for Each Topic\n",
        "topic_contribution = round(topic_counts/topic_counts.sum(), 4)\n",
        "\n",
        "# Concatenate Column wise\n",
        "df_topics = pd.concat([topic_counts, topic_contribution], axis=1)\n",
        "\n",
        "# Change Column names\n",
        "df_topics.columns = ['Num_Documents', 'Perc_Documents']\n",
        "\n",
        "# Show\n",
        "df_topics"
      ],
      "metadata": {
        "colab": {
          "base_uri": "https://localhost:8080/",
          "height": 332
        },
        "id": "fmDs5kWI51Id",
        "outputId": "e5e9e708-f7ed-42cc-d422-0b520069b147"
      },
      "execution_count": 72,
      "outputs": [
        {
          "output_type": "execute_result",
          "data": {
            "text/plain": [
              "     Num_Documents  Perc_Documents\n",
              "3.0           6152          0.8111\n",
              "6.0            559          0.0737\n",
              "1.0            190          0.0250\n",
              "5.0            169          0.0223\n",
              "2.0            166          0.0219\n",
              "9.0            163          0.0215\n",
              "8.0            133          0.0175\n",
              "4.0             32          0.0042\n",
              "0.0             21          0.0028"
            ],
            "text/html": [
              "\n",
              "  <div id=\"df-e26f5f21-3151-4ec8-8921-5001669f5859\">\n",
              "    <div class=\"colab-df-container\">\n",
              "      <div>\n",
              "<style scoped>\n",
              "    .dataframe tbody tr th:only-of-type {\n",
              "        vertical-align: middle;\n",
              "    }\n",
              "\n",
              "    .dataframe tbody tr th {\n",
              "        vertical-align: top;\n",
              "    }\n",
              "\n",
              "    .dataframe thead th {\n",
              "        text-align: right;\n",
              "    }\n",
              "</style>\n",
              "<table border=\"1\" class=\"dataframe\">\n",
              "  <thead>\n",
              "    <tr style=\"text-align: right;\">\n",
              "      <th></th>\n",
              "      <th>Num_Documents</th>\n",
              "      <th>Perc_Documents</th>\n",
              "    </tr>\n",
              "  </thead>\n",
              "  <tbody>\n",
              "    <tr>\n",
              "      <th>3.0</th>\n",
              "      <td>6152</td>\n",
              "      <td>0.8111</td>\n",
              "    </tr>\n",
              "    <tr>\n",
              "      <th>6.0</th>\n",
              "      <td>559</td>\n",
              "      <td>0.0737</td>\n",
              "    </tr>\n",
              "    <tr>\n",
              "      <th>1.0</th>\n",
              "      <td>190</td>\n",
              "      <td>0.0250</td>\n",
              "    </tr>\n",
              "    <tr>\n",
              "      <th>5.0</th>\n",
              "      <td>169</td>\n",
              "      <td>0.0223</td>\n",
              "    </tr>\n",
              "    <tr>\n",
              "      <th>2.0</th>\n",
              "      <td>166</td>\n",
              "      <td>0.0219</td>\n",
              "    </tr>\n",
              "    <tr>\n",
              "      <th>9.0</th>\n",
              "      <td>163</td>\n",
              "      <td>0.0215</td>\n",
              "    </tr>\n",
              "    <tr>\n",
              "      <th>8.0</th>\n",
              "      <td>133</td>\n",
              "      <td>0.0175</td>\n",
              "    </tr>\n",
              "    <tr>\n",
              "      <th>4.0</th>\n",
              "      <td>32</td>\n",
              "      <td>0.0042</td>\n",
              "    </tr>\n",
              "    <tr>\n",
              "      <th>0.0</th>\n",
              "      <td>21</td>\n",
              "      <td>0.0028</td>\n",
              "    </tr>\n",
              "  </tbody>\n",
              "</table>\n",
              "</div>\n",
              "      <button class=\"colab-df-convert\" onclick=\"convertToInteractive('df-e26f5f21-3151-4ec8-8921-5001669f5859')\"\n",
              "              title=\"Convert this dataframe to an interactive table.\"\n",
              "              style=\"display:none;\">\n",
              "        \n",
              "  <svg xmlns=\"http://www.w3.org/2000/svg\" height=\"24px\"viewBox=\"0 0 24 24\"\n",
              "       width=\"24px\">\n",
              "    <path d=\"M0 0h24v24H0V0z\" fill=\"none\"/>\n",
              "    <path d=\"M18.56 5.44l.94 2.06.94-2.06 2.06-.94-2.06-.94-.94-2.06-.94 2.06-2.06.94zm-11 1L8.5 8.5l.94-2.06 2.06-.94-2.06-.94L8.5 2.5l-.94 2.06-2.06.94zm10 10l.94 2.06.94-2.06 2.06-.94-2.06-.94-.94-2.06-.94 2.06-2.06.94z\"/><path d=\"M17.41 7.96l-1.37-1.37c-.4-.4-.92-.59-1.43-.59-.52 0-1.04.2-1.43.59L10.3 9.45l-7.72 7.72c-.78.78-.78 2.05 0 2.83L4 21.41c.39.39.9.59 1.41.59.51 0 1.02-.2 1.41-.59l7.78-7.78 2.81-2.81c.8-.78.8-2.07 0-2.86zM5.41 20L4 18.59l7.72-7.72 1.47 1.35L5.41 20z\"/>\n",
              "  </svg>\n",
              "      </button>\n",
              "      \n",
              "  <style>\n",
              "    .colab-df-container {\n",
              "      display:flex;\n",
              "      flex-wrap:wrap;\n",
              "      gap: 12px;\n",
              "    }\n",
              "\n",
              "    .colab-df-convert {\n",
              "      background-color: #E8F0FE;\n",
              "      border: none;\n",
              "      border-radius: 50%;\n",
              "      cursor: pointer;\n",
              "      display: none;\n",
              "      fill: #1967D2;\n",
              "      height: 32px;\n",
              "      padding: 0 0 0 0;\n",
              "      width: 32px;\n",
              "    }\n",
              "\n",
              "    .colab-df-convert:hover {\n",
              "      background-color: #E2EBFA;\n",
              "      box-shadow: 0px 1px 2px rgba(60, 64, 67, 0.3), 0px 1px 3px 1px rgba(60, 64, 67, 0.15);\n",
              "      fill: #174EA6;\n",
              "    }\n",
              "\n",
              "    [theme=dark] .colab-df-convert {\n",
              "      background-color: #3B4455;\n",
              "      fill: #D2E3FC;\n",
              "    }\n",
              "\n",
              "    [theme=dark] .colab-df-convert:hover {\n",
              "      background-color: #434B5C;\n",
              "      box-shadow: 0px 1px 3px 1px rgba(0, 0, 0, 0.15);\n",
              "      filter: drop-shadow(0px 1px 2px rgba(0, 0, 0, 0.3));\n",
              "      fill: #FFFFFF;\n",
              "    }\n",
              "  </style>\n",
              "\n",
              "      <script>\n",
              "        const buttonEl =\n",
              "          document.querySelector('#df-e26f5f21-3151-4ec8-8921-5001669f5859 button.colab-df-convert');\n",
              "        buttonEl.style.display =\n",
              "          google.colab.kernel.accessAllowed ? 'block' : 'none';\n",
              "\n",
              "        async function convertToInteractive(key) {\n",
              "          const element = document.querySelector('#df-e26f5f21-3151-4ec8-8921-5001669f5859');\n",
              "          const dataTable =\n",
              "            await google.colab.kernel.invokeFunction('convertToInteractive',\n",
              "                                                     [key], {});\n",
              "          if (!dataTable) return;\n",
              "\n",
              "          const docLinkHtml = 'Like what you see? Visit the ' +\n",
              "            '<a target=\"_blank\" href=https://colab.research.google.com/notebooks/data_table.ipynb>data table notebook</a>'\n",
              "            + ' to learn more about interactive tables.';\n",
              "          element.innerHTML = '';\n",
              "          dataTable['output_type'] = 'display_data';\n",
              "          await google.colab.output.renderOutput(dataTable, element);\n",
              "          const docLink = document.createElement('div');\n",
              "          docLink.innerHTML = docLinkHtml;\n",
              "          element.appendChild(docLink);\n",
              "        }\n",
              "      </script>\n",
              "    </div>\n",
              "  </div>\n",
              "  "
            ]
          },
          "metadata": {},
          "execution_count": 72
        }
      ]
    },
    {
      "cell_type": "code",
      "source": [
        "df_topics.sort_index().Num_Documents.plot.bar()\n"
      ],
      "metadata": {
        "colab": {
          "base_uri": "https://localhost:8080/",
          "height": 289
        },
        "id": "V05kjknu53Ez",
        "outputId": "b60abc3a-5321-44d5-edaf-0488ae6c2e74"
      },
      "execution_count": 73,
      "outputs": [
        {
          "output_type": "execute_result",
          "data": {
            "text/plain": [
              "<Axes: >"
            ]
          },
          "metadata": {},
          "execution_count": 73
        },
        {
          "output_type": "display_data",
          "data": {
            "text/plain": [
              "<Figure size 432x288 with 1 Axes>"
            ],
            "image/png": "[encoded data removed]"
          },
          "metadata": {
            "needs_background": "light"
          }
        }
      ]
    },
    {
      "cell_type": "code",
      "source": [
        "df_topics.sort_index().Perc_Documents.plot.bar()\n"
      ],
      "metadata": {
        "colab": {
          "base_uri": "https://localhost:8080/",
          "height": 289
        },
        "id": "2qPkn_Je55do",
        "outputId": "cebe0336-8bbe-4705-e04c-076ed71f3967"
      },
      "execution_count": 74,
      "outputs": [
        {
          "output_type": "execute_result",
          "data": {
            "text/plain": [
              "<Axes: >"
            ]
          },
          "metadata": {},
          "execution_count": 74
        },
        {
          "output_type": "display_data",
          "data": {
            "text/plain": [
              "<Figure size 432x288 with 1 Axes>"
            ],
            "image/png": "[encoded data removed]"
          },
          "metadata": {
            "needs_background": "light"
          }
        }
      ]
    },
    {
      "cell_type": "code",
      "source": [
        "tfidf = models.TfidfModel(corpus, smartirs='ntc')\n",
        "tfidf_corpus=[]\n",
        "for doc in tfidf[corpus]:\n",
        "   tfidf_corpus.append([(id, np.around(freq,decimals=2)) for id, freq in doc])\n",
        "\n",
        "lda_model2 = LdaModel(corpus=tfidf_corpus,\n",
        "                   id2word=id2word,\n",
        "                   num_topics=10, \n",
        "                   random_state=0,\n",
        "                   chunksize=100,\n",
        "                   alpha='auto',\n",
        "                   per_word_topics=True)"
      ],
      "metadata": {
        "id": "OeikgClm571r"
      },
      "execution_count": 77,
      "outputs": []
    },
    {
      "cell_type": "code",
      "source": [
        "# Compute Perplexity\n",
        "print('\\nPerplexity: ', lda_model2.log_perplexity(tfidf_corpus))  # a measure of how good the model is. lower the better.\n",
        "\n",
        "# Compute Coherence Score\n",
        "coherence_model_lda2 = CoherenceModel(model=lda_model2, texts=tweets, dictionary=id2word, coherence='c_v')\n",
        "coherence_lda2 = coherence_model_lda2.get_coherence()\n",
        "print('\\nCoherence Score: ', coherence_lda2)"
      ],
      "metadata": {
        "colab": {
          "base_uri": "https://localhost:8080/"
        },
        "id": "gkdY9aat6zLp",
        "outputId": "50b13dce-65a8-4f53-a821-081a59c30106"
      },
      "execution_count": 78,
      "outputs": [
        {
          "output_type": "stream",
          "name": "stdout",
          "text": [
            "\n",
            "Perplexity:  -12.137653614658515\n",
            "\n",
            "Coherence Score:  0.4769556523883668\n"
          ]
        }
      ]
    },
    {
      "cell_type": "code",
      "source": [
        "lda_model2.print_topics()\n"
      ],
      "metadata": {
        "colab": {
          "base_uri": "https://localhost:8080/"
        },
        "id": "rWWyajtR639T",
        "outputId": "9a276e00-9a62-4264-8c27-bf7fe9791587"
      },
      "execution_count": 79,
      "outputs": [
        {
          "output_type": "execute_result",
          "data": {
            "text/plain": [
              "[(0,\n",
              "  '0.020*\"month\" + 0.014*\"wish\" + 0.003*\"integrity\" + 0.002*\"fundraiser\" + 0.002*\"request\" + 0.002*\"hotel\" + 0.000*\"implore_stephen\" + 0.000*\"implores_controversial\" + 0.000*\"momofuku_investor\" + 0.000*\"rating\"'),\n",
              " (1,\n",
              "  '0.045*\"people\" + 0.038*\"day\" + 0.034*\"go\" + 0.031*\"year\" + 0.029*\"time\" + 0.029*\"plan\" + 0.020*\"need\" + 0.017*\"leave\" + 0.017*\"pay\" + 0.014*\"support\"'),\n",
              " (2,\n",
              "  '0.075*\"want\" + 0.042*\"think\" + 0.041*\"re\" + 0.031*\"take\" + 0.028*\"tell\" + 0.011*\"cause\" + 0.008*\"stand\" + 0.006*\"promote\" + 0.003*\"coward\" + 0.002*\"excuse\"'),\n",
              " (3,\n",
              "  '0.032*\"trump\" + 0.019*\"official\" + 0.015*\"insulin\" + 0.012*\"plot\" + 0.010*\"say\" + 0.009*\"biden\" + 0.009*\"price\" + 0.007*\"alabama_official\" + 0.007*\"cancel\" + 0.006*\"let\"'),\n",
              " (4,\n",
              "  '0.053*\"s\" + 0.048*\"twitter\" + 0.033*\"get\" + 0.032*\"account\" + 0.021*\"really\" + 0.016*\"believe\" + 0.015*\"big\" + 0.010*\"world\" + 0.009*\"kill\" + 0.008*\"real\"'),\n",
              " (5,\n",
              "  '0.043*\"know\" + 0.037*\"work\" + 0.029*\"m\" + 0.026*\"stop\" + 0.022*\"political\" + 0.020*\"amp\" + 0.019*\"httpstco\" + 0.018*\"conservative\" + 0.017*\"give\" + 0.015*\"ask\"'),\n",
              " (6,\n",
              "  '0.032*\"thing\" + 0.028*\"good\" + 0.025*\"way\" + 0.022*\"party\" + 0.021*\"bad\" + 0.020*\"care\" + 0.014*\"business\" + 0.010*\"show\" + 0.010*\"bring\" + 0.007*\"include\"'),\n",
              " (7,\n",
              "  '0.031*\"mean\" + 0.026*\"win\" + 0.016*\"case\" + 0.004*\"demand\" + 0.003*\"declare\" + 0.003*\"waste\" + 0.002*\"racism\" + 0.001*\"respect\" + 0.001*\"donaldtrump\" + 0.000*\"bat\"'),\n",
              " (8,\n",
              "  '0.026*\"power\" + 0.025*\"president\" + 0.022*\"run\" + 0.021*\"man\" + 0.014*\"decision\" + 0.012*\"politic\" + 0.011*\"presidency\" + 0.011*\"able\" + 0.010*\"thank\" + 0.007*\"apprentice\"'),\n",
              " (9,\n",
              "  '0.128*\"try\" + 0.037*\"make\" + 0.027*\"right\" + 0.016*\"great\" + 0.012*\"liberal\" + 0.009*\"term\" + 0.006*\"appear\" + 0.005*\"strong\" + 0.004*\"altogether\" + 0.004*\"quite\"')]"
            ]
          },
          "metadata": {},
          "execution_count": 79
        }
      ]
    },
    {
      "cell_type": "code",
      "source": [
        "vis2 = pyLDAvis.gensim.prepare(lda_model2, tfidf_corpus, id2word)\n",
        "vis2"
      ],
      "metadata": {
        "colab": {
          "base_uri": "https://localhost:8080/",
          "height": 917
        },
        "id": "9jirxG676-uK",
        "outputId": "a0599157-3098-4899-d66e-c33b6626cbab"
      },
      "execution_count": 80,
      "outputs": [
        {
          "output_type": "stream",
          "name": "stderr",
          "text": [
            "/usr/local/lib/python3.9/dist-packages/pyLDAvis/_prepare.py:243: FutureWarning: In a future version of pandas all arguments of DataFrame.drop except for the argument 'labels' will be keyword-only.\n",
            "  default_term_info = default_term_info.sort_values(\n"
          ]
        },
        {
          "output_type": "execute_result",
          "data": {
            "text/plain": [
              "PreparedData(topic_coordinates=              x         y  topics  cluster       Freq\n",
              "topic                                                \n",
              "3      0.360738 -0.009453       1        1  68.998672\n",
              "1     -0.057135 -0.227758       2        1  10.569501\n",
              "4     -0.045244  0.043084       3        1   5.152986\n",
              "5     -0.046410  0.046237       4        1   3.304463\n",
              "6     -0.040312  0.021778       5        1   3.114610\n",
              "2     -0.041009  0.035005       6        1   2.476592\n",
              "9     -0.041000  0.035005       7        1   2.116450\n",
              "8     -0.036343  0.026635       8        1   1.991952\n",
              "7     -0.028298  0.016621       9        1   1.200316\n",
              "0     -0.024988  0.012846      10        1   1.074457, topic_info=                            Term       Freq      Total Category  logprob  \\\n",
              "229                          try  47.000000  47.000000  Default  30.0000   \n",
              "618                       people  82.000000  82.000000  Default  29.0000   \n",
              "1124                         day  69.000000  69.000000  Default  28.0000   \n",
              "138                            s  47.000000  47.000000  Default  27.0000   \n",
              "12                            go  62.000000  62.000000  Default  26.0000   \n",
              "...                          ...        ...        ...      ...      ...   \n",
              "6462  jim_jordan_realdonaldtrump   0.019383   0.598091  Topic10  -9.1748   \n",
              "116                    httpstcop   0.019766   1.582831  Topic10  -9.1553   \n",
              "3884                      relief   0.019398   3.238350  Topic10  -9.1741   \n",
              "8863                  initiative   0.019389   6.131113  Topic10  -9.1745   \n",
              "9322                    medicare   0.019200   5.834916  Topic10  -9.1843   \n",
              "\n",
              "      loglift  \n",
              "229   30.0000  \n",
              "618   29.0000  \n",
              "1124  28.0000  \n",
              "138   27.0000  \n",
              "12    26.0000  \n",
              "...       ...  \n",
              "6462   1.1040  \n",
              "116    0.1504  \n",
              "3884  -0.5843  \n",
              "8863  -1.2231  \n",
              "9322  -1.1833  \n",
              "\n",
              "[436 rows x 6 columns], token_table=      Topic      Freq     Term\n",
              "term                          \n",
              "1116      8  0.964462     able\n",
              "772       3  0.987410  account\n",
              "892       3  0.808615     acct\n",
              "1072      4  0.913330      act\n",
              "5791      1  1.011254    actor\n",
              "...     ...       ...      ...\n",
              "238       4  0.867883     word\n",
              "250       4  0.972781     work\n",
              "273       3  0.967181    world\n",
              "255       2  0.985853     year\n",
              "2401      1  1.001787  youtube\n",
              "\n",
              "[203 rows x 3 columns], R=30, lambda_step=0.01, plot_opts={'xlab': 'PC1', 'ylab': 'PC2'}, topic_order=[4, 2, 5, 6, 7, 3, 10, 9, 8, 1])"
            ],
            "text/html": [
              "\n",
              "<link rel=\"stylesheet\" type=\"text/css\" href=\"https://cdn.jsdelivr.net/gh/bmabey/pyLDAvis@3.4.0/pyLDAvis/js/ldavis.v1.0.0.css\">\n",
              "\n",
              "\n",
              "<div id=\"ldavis_el1301406450299299204155033702\" style=\"background-color:white;\"></div>\n",
              "<script type=\"text/javascript\">\n",
              "\n",
              "var ldavis_el1301406450299299204155033702_data = {\"mdsDat\": {\"x\": [0.3607375118643375, -0.05713512938581467, -0.0452436685510548, -0.046410406985643485, -0.04031192327495113, -0.041008580942068856, -0.040999997185142384, -0.03634251104629913, -0.028297756870887772, -0.024987537622474822], \"y\": [-0.009452579770095702, -0.2277576995111686, 0.04308377880562287, 0.04623678266743976, 0.021778246702044063, 0.03500499150760232, 0.03500530546864616, 0.02663456107176927, 0.016620958858022512, 0.01284565420011756], \"topics\": [1, 2, 3, 4, 5, 6, 7, 8, 9, 10], \"cluster\": [1, 1, 1, 1, 1, 1, 1, 1, 1, 1], \"Freq\": [68.99867183397411, 10.569501138173369, 5.152985822479904, 3.3044625208885874, 3.114610159876755, 2.4765922373406384, 2.116450243867091, 1.9919524095239463, 1.200316327360495, 1.0744573065150709]}, \"tinfo\": {\"Term\": [\"try\", \"people\", \"day\", \"s\", \"go\", \"twitter\", \"year\", \"want\", \"time\", \"plan\", \"trump\", \"get\", \"account\", \"know\", \"thing\", \"need\", \"work\", \"think\", \"re\", \"leave\", \"pay\", \"official\", \"m\", \"really\", \"support\", \"make\", \"good\", \"look\", \"stop\", \"take\", \"trump\", \"official\", \"insulin\", \"plot\", \"say\", \"biden\", \"price\", \"cancel\", \"alabama_official\", \"let\", \"cost\", \"pity_party\", \"rally_realize\", \"policy\", \"office\", \"lower\", \"youtube\", \"vote\", \"celebration\", \"low\", \"election\", \"rule\", \"move\", \"supporter\", \"medium\", \"order\", \"come\", \"deal\", \"wait\", \"country\", \"cap\", \"davos\", \"people\", \"day\", \"go\", \"year\", \"time\", \"plan\", \"need\", \"leave\", \"pay\", \"support\", \"look\", \"well\", \"golf\", \"lose\", \"company\", \"soon\", \"start\", \"sure\", \"guy\", \"help\", \"group\", \"hope\", \"love\", \"realdonaldtrump\", \"control\", \"watch\", \"contract\", \"probably\", \"family\", \"decide\", \"s\", \"twitter\", \"get\", \"account\", \"really\", \"believe\", \"big\", \"world\", \"kill\", \"real\", \"pathetic\", \"campaign\", \"favor\", \"candidate\", \"link\", \"face\", \"dangerous\", \"war\", \"national_security\", \"presidential\", \"press\", \"ceo\", \"peace\", \"acct\", \"nonsense\", \"ukchange\", \"disgrace\", \"triumph\", \"conscience_enable\", \"despotic_cult\", \"bat\", \"leak\", \"wide\", \"gregkellyusa\", \"know\", \"work\", \"m\", \"stop\", \"political\", \"amp\", \"httpstco\", \"conservative\", \"give\", \"ask\", \"keep\", \"act\", \"word\", \"comment\", \"speech\", \"reality\", \"boycott\", \"tv\", \"report\", \"especially\", \"value\", \"reservation\", \"advise\", \"ksorb\", \"dignity\", \"heal\", \"yippee\", \"oppression\", \"despise\", \"evolve\", \"wflloidut\", \"ynfqqcd\", \"zoezle\", \"viewer\", \"policyagain\", \"demonize\", \"reminder\", \"collusion\", \"surfside_search\", \"denies_report\", \"good\", \"way\", \"party\", \"bad\", \"care\", \"business\", \"show\", \"bring\", \"include\", \"read\", \"stupid\", \"httpstcoy\", \"network\", \"ball\", \"inauguration\", \"pressure\", \"interesting\", \"thing\", \"httpstcof\", \"spot\", \"advertiser\", \"irrmrbba\", \"edc\", \"rome\", \"rickydoggin\", \"wrpnkydb\", \"missoulian\", \"devise\", \"icus\", \"envision\", \"melania_wante\", \"hysterical\", \"migrant_controversy\", \"promotes_britain\", \"icilo\", \"funniest\", \"actor\", \"damn\", \"scramble\", \"gregkellyusa\", \"want\", \"think\", \"re\", \"take\", \"tell\", \"cause\", \"stand\", \"promote\", \"coward\", \"excuse\", \"debate\", \"membership\", \"melimel\", \"concede\", \"loner\", \"loyalty\", \"coffee_anytime\", \"hatefille\", \"shoe\", \"normalization\", \"ilk\", \"bidenflation\", \"insulinprice\", \"welfare\", \"sole\", \"jeremy\", \"clench\", \"tooth\", \"figured\", \"purposely\", \"johnny\", \"bender\", \"snipit\", \"ineffective\", \"cathsolidarity\", \"justanyone\", \"julie_kelly\", \"thequartere\", \"fabhcoir\", \"shot\", \"democrat\", \"snowflake\", \"try\", \"make\", \"right\", \"great\", \"liberal\", \"term\", \"appear\", \"strong\", \"altogether\", \"quite\", \"httpstcov\", \"chat\", \"gailsimone\", \"everettdoreen\", \"kxjqq\", \"sanity\", \"lmauck\", \"nobodyonit\", \"women\", \"ceremony\", \"ewfh\", \"isis\", \"heated\", \"interested\", \"removal\", \"lmfaooo\", \"tgwoc\", \"quietly\", \"padresj\", \"backfire\", \"woke\", \"naoto\", \"yjrdqgh\", \"larryandress\", \"buddugoliaethus\", \"heavenscent\", \"decline\", \"length\", \"nomiki_shut\", \"harassment\", \"necessary\", \"power\", \"president\", \"run\", \"man\", \"decision\", \"politic\", \"presidency\", \"able\", \"thank\", \"apprentice\", \"trust\", \"build\", \"buy\", \"late\", \"invite\", \"shame\", \"joke\", \"dear\", \"internet\", \"anyways\", \"cbcalert\", \"scrutiny\", \"undergo\", \"spectator\", \"dababydababy\", \"harvey\", \"weinstein\", \"williamlegate\", \"contemporain\", \"secblinken\", \"uberfact\", \"zijfilfg\", \"washtimesope\", \"kxjqq\", \"bidens_constitutional\", \"mate\", \"suspendcancel\", \"washington_time\", \"guarantee\", \"reminder\", \"mean\", \"win\", \"case\", \"demand\", \"declare\", \"waste\", \"racism\", \"respect\", \"donaldtrump\", \"bat\", \"eeyjn\", \"british_lawmaker\", \"latime\", \"candidacy\", \"benheck\", \"mister_meek\", \"armband\", \"convinced\", \"tbh\", \"reaganworld\", \"louder\", \"aberdeen\", \"forge\", \"httpstcocmqv\", \"ohfir\", \"httpstcoxs\", \"yiqdy\", \"qrcwdw\", \"httpstcojfnh\", \"httpstcovs\", \"potkettle\", \"greed\", \"image\", \"unlivable\", \"airplane\", \"airshow\", \"tragically\", \"anoint\", \"lobbyist\", \"scoundrel\", \"prior\", \"interact\", \"hearsay\", \"reachable\", \"tom_neverwinter\", \"nonetheless\", \"ahole\", \"sweep\", \"uselessargument\", \"diabetes\", \"admonish\", \"extramarital\", \"fornication\", \"necessary\", \"gaslighte\", \"harassment\", \"bid\", \"unclear\", \"repvaldeming\", \"bidenswin\", \"month\", \"wish\", \"integrity\", \"fundraiser\", \"request\", \"hotel\", \"implore_stephen\", \"rating\", \"robbreport\", \"implores_controversial\", \"momofuku_investor\", \"banana\", \"represent\", \"nebyddm\", \"lubd\", \"kris_sacrebleu\", \"httpstcotcnazy\", \"wvt\", \"dq\", \"httpstconbrcib\", \"tuckfrump\", \"smai\", \"backer\", \"begs_momofuku\", \"postal\", \"appreciation\", \"bidenwarroom\", \"payroll\", \"david_chang\", \"hurry\", \"scotusblog\", \"ericboehlert\", \"lift\", \"air_force\", \"maxine\", \"stephen_ross\", \"suspendcancel\", \"emmacoo\", \"mscoxjd\", \"consolidate\", \"dj\", \"stalemate\", \"jim_jordan_realdonaldtrump\", \"httpstcop\", \"relief\", \"initiative\", \"medicare\"], \"Freq\": [47.0, 82.0, 69.0, 47.0, 62.0, 43.0, 57.0, 32.0, 54.0, 54.0, 386.0, 30.0, 29.0, 25.0, 28.0, 37.0, 21.0, 18.0, 18.0, 31.0, 31.0, 234.0, 17.0, 19.0, 25.0, 13.0, 15.0, 24.0, 15.0, 13.0, 386.00398385067615, 233.84662163495344, 177.0455844060495, 140.1948674814338, 118.14547093113953, 107.4491840632665, 104.02781374699613, 84.45406424843912, 84.5699455283833, 76.36610472183828, 72.46731360153431, 71.12141812552126, 70.37126934460527, 67.94905131071724, 63.27649881559698, 63.966813361886715, 62.52676399628928, 61.55983359044464, 60.68885836658806, 55.53827531317332, 50.85776244820703, 49.33211253490475, 48.50538085645384, 47.46415553007149, 46.01151110283784, 45.12813101592181, 44.796365960212924, 43.81170792819676, 41.87692689104039, 41.36106639523094, 68.31242009758927, 69.58039009787834, 82.09961545773386, 69.2108126544717, 62.07807537254612, 57.424630588467224, 53.82043048432017, 53.742241347172744, 36.749593708950805, 30.868849231207214, 30.680319183362627, 25.517825788861867, 24.402983607191445, 23.80500003765217, 19.888548969840624, 17.902616525109067, 17.980483458982114, 17.141382153986317, 16.980115987465243, 16.9026655184628, 15.990650298013929, 15.089394610312668, 14.560779006361095, 14.346352727261902, 14.24400519992487, 13.733194754577141, 13.254054491714781, 12.986191313713999, 12.251153097106583, 12.202423279551175, 11.797400909802798, 11.356756225916303, 47.499478900394855, 43.197017394535074, 30.04810316350664, 28.96049418871451, 18.985306328125056, 14.103039486497686, 13.788949923617585, 8.896041416371224, 8.317882965256192, 6.894660455666159, 6.622954150299444, 6.0589045123761105, 5.778762832067772, 4.8052304906610654, 3.828726487525878, 3.6281466319851488, 2.9693560064120303, 2.8754326121831144, 2.416768134202303, 1.9482413572487096, 1.7990566691250731, 1.6644883956271432, 1.5959404775301316, 0.826998826328371, 0.6929601398821162, 0.3120640660468214, 0.10770385927078499, 0.08079500380697939, 0.08346797969165283, 0.08346797969165283, 0.09893956173326592, 0.0956861276809806, 0.08671814984582851, 0.09346488835027168, 24.788493292133058, 21.15420170352011, 16.836517467637588, 14.839980406857618, 12.397102563516167, 11.317318218986276, 10.999565521459278, 10.13004957266232, 10.006052388323614, 8.432493848056039, 6.14325579039454, 6.135795576763901, 5.327729005242136, 5.17552843049459, 4.965040884623402, 2.974772375108594, 2.353911996139678, 2.3449228218256364, 1.8976762365533442, 0.8998191484919976, 0.25281274145664, 0.18359825256276768, 0.05526633943882599, 0.05774307674876831, 0.04784681459455384, 0.05242476353055587, 0.048187193874081456, 0.04765551869338485, 0.04781041236345914, 0.04781041236345914, 0.056289754509896824, 0.05628973357945116, 0.0562897252072729, 0.06193261521853843, 0.0511943254214459, 0.052443140461846775, 0.06773225333736387, 0.05524871181748977, 0.05665146609964277, 0.05660311258407528, 15.256087258380804, 13.575212249128805, 11.90078350408947, 11.482920739127776, 10.777930538187972, 7.4286533641888415, 5.422385947115993, 5.339464282976465, 3.9790078462978706, 3.897608104534154, 3.6686344159361433, 3.1570167378147316, 2.8518633471664225, 2.5408876628033163, 2.0216363836497537, 1.8881344740208414, 1.7874954314751328, 17.435108394928402, 0.3341376851462176, 0.14832791644666002, 0.06304197528302176, 0.06888307759860884, 0.07217238504633859, 0.05081294027440332, 0.05208573845179318, 0.046715888844648716, 0.047525053237054166, 0.04767042040275647, 0.04630114479584804, 0.04779852563674997, 0.06855825341806958, 0.049600201782606934, 0.0683623393707395, 0.050266804319811786, 0.05198159080621931, 0.05792697491724954, 0.06578279915344759, 0.10932892386623247, 0.05834964169950651, 0.06368736241295843, 32.29639678842483, 18.004932619381492, 17.642135574015022, 13.509536430406412, 12.262064983884324, 4.654151621146013, 3.250012356286961, 2.76624213516101, 1.466657747342315, 0.9673098349143716, 0.8427351889680165, 0.20505793697858896, 0.0403068175642032, 0.038617241708032296, 0.038617241708032296, 0.04125855911984775, 0.04039412671195234, 0.04039412671195234, 0.04039412671195234, 0.039464409311584625, 0.039759840452011724, 0.038474715304888246, 0.038474715304888246, 0.038474715304888246, 0.038092269927053314, 0.034888564769040724, 0.034897688165557106, 0.034897688165557106, 0.036427566934562575, 0.036427566934562575, 0.03640383292677493, 0.03604328621045458, 0.03604328621045458, 0.03964114217697701, 0.037713467005668015, 0.038044720340532565, 0.03696097503370956, 0.03843669383226717, 0.03719622877778838, 0.039127154237539936, 0.040118718101294006, 0.03863759052158294, 47.165847935252465, 13.532850399021472, 9.965644391371745, 6.062891277251838, 4.472209585156487, 3.484037684488991, 2.092624300758912, 1.7074785102323204, 1.4909467279280302, 1.310863117320542, 0.8208197760662542, 0.0492149251109888, 0.03674636012437371, 0.03557317588425389, 0.034363737585280114, 0.03168903688337845, 0.03400392905457022, 0.03400392905457022, 0.03400392905457022, 0.03359957645243601, 0.029901552523551755, 0.031139788696076066, 0.033755558454802916, 0.033755558454802916, 0.033755558454802916, 0.029438384266257136, 0.02940684897264375, 0.030437094842723587, 0.030980793118635077, 0.030048802129106992, 0.03305291018043287, 0.03277765870549401, 0.03272068229633077, 0.03656574402255776, 0.03499571698793943, 0.03611732458775653, 0.033024415273059715, 0.04032025907849813, 0.03551581875653147, 0.03432423669420666, 0.03379914000536281, 9.06326932136481, 8.645960980073397, 7.755314255583391, 7.19686653911368, 4.881901395019662, 4.318934324503919, 3.9410204611697934, 3.7020189185437395, 3.587556716659035, 2.42647016001757, 2.3660489933065185, 2.132994122159989, 1.6253007994191482, 1.4888587488471579, 1.2003930990542253, 0.7125480157220259, 0.5908670646711872, 0.1779348490767643, 0.06706003284218855, 0.03903042157298756, 0.036593763163636515, 0.036593763163636515, 0.036593763163636515, 0.0368468377646533, 0.031076471399484856, 0.030702503088562774, 0.030702503088562774, 0.030192826169264244, 0.030280956015815888, 0.030280956015815888, 0.033487403716191834, 0.03283560117492256, 0.041452641070900714, 0.0328572570186765, 0.04799593584031125, 0.033708630449110454, 0.033405330036618684, 0.034734976637164766, 0.03516971858371605, 0.034303974373722707, 6.5674131612832385, 5.412262624486164, 3.248277987467254, 0.7663947184193803, 0.7099135076753147, 0.6306987923171652, 0.5163190149536294, 0.1595354247101865, 0.15422259060514554, 0.03470736758152994, 0.027098811330586975, 0.021021496283029493, 0.0202047430743341, 0.020169831033391986, 0.020566245397927334, 0.020566245397927334, 0.019978736267130707, 0.019978736267130707, 0.019978736267130707, 0.020377513580778595, 0.01991618197913778, 0.019906182781348786, 0.019929359145810444, 0.019897687416682252, 0.019897687416682252, 0.019901298744959148, 0.019901298744959148, 0.01989721452274789, 0.019887952796207017, 0.019887698862808178, 0.02015889212997136, 0.02072857118271541, 0.020653762707529433, 0.02008163251323492, 0.02192097399849382, 0.02192097399849382, 0.02192097399849382, 0.021855121617434543, 0.02082138003859271, 0.02082138003859271, 0.020332879083835444, 0.021071270270320394, 0.020476374262568334, 0.020476374262568334, 0.02050918793171166, 0.02092376689733997, 0.021405160758048304, 0.021297851848929544, 0.0209854270964795, 0.02110028102071824, 0.020508302966213914, 0.02068460573185303, 0.02068460573185303, 0.02734918662072322, 0.020822605609367942, 0.021818793935807886, 0.021588877770709797, 0.020714848135263208, 0.02141847781617422, 0.021528262195791837, 3.666142936816739, 2.5516168114448985, 0.5544075828144294, 0.43232707446548824, 0.4073975622275521, 0.3167268533503407, 0.059221785337168154, 0.03690250342727482, 0.03613597984617361, 0.05231001178804148, 0.05231001178804148, 0.021352519702929038, 0.01981409475079108, 0.019083454408381398, 0.019103243749781704, 0.018884791960889713, 0.018860044054889277, 0.018860044054889277, 0.01885949960640175, 0.01885949960640175, 0.018809432123488973, 0.018761683991133055, 0.019027887995744622, 0.019027887995744622, 0.019168039925403245, 0.018748486559795455, 0.018748486559795455, 0.018748486559795455, 0.01889816497686454, 0.018736644805191792, 0.020849780052912343, 0.019276411035723827, 0.019185761723672173, 0.022622202159382345, 0.02038971971983271, 0.020277062438794093, 0.020588086804019915, 0.019641627081155428, 0.01940284558573926, 0.019244568965930943, 0.019244568965930943, 0.019382720047397908, 0.01938326857924909, 0.019766463674859975, 0.019397548101955646, 0.01938912003936876, 0.019200388332289528], \"Total\": [47.0, 82.0, 69.0, 47.0, 62.0, 43.0, 57.0, 32.0, 54.0, 54.0, 386.0, 30.0, 29.0, 25.0, 28.0, 37.0, 21.0, 18.0, 18.0, 31.0, 31.0, 234.0, 17.0, 19.0, 25.0, 13.0, 15.0, 24.0, 15.0, 13.0, 386.366655479288, 234.20759581554316, 177.41529931488122, 140.58252159795697, 118.50646622716661, 107.81061564474544, 104.39562699954236, 84.81493349159555, 84.93867043995331, 76.72697128090472, 72.83606054239146, 71.49061988363258, 70.74047031565618, 68.30994514944888, 63.63739918431826, 64.33409191272527, 62.887634157379985, 61.92076130667284, 61.05538499309974, 55.8991784748797, 51.21883491696676, 49.692991728860804, 48.866487443472444, 47.8250282367584, 46.37239030496711, 45.48903405227857, 45.15724220292141, 44.172587221193005, 42.237799860353434, 41.72195012095932, 68.93904464428965, 71.12531570841556, 82.49501799041307, 69.60411286429625, 62.47134100895687, 57.81795468385233, 54.21367629254673, 54.1355215252071, 37.14284003044065, 31.262105577238547, 31.073585550796196, 25.911098914096822, 24.796295960410607, 24.198313738638515, 20.2852594831079, 18.295870970426083, 18.37656901213815, 17.534650171875484, 17.373375532827712, 17.29595542055025, 16.3839346559055, 15.48263556427601, 14.95407710661183, 14.73960577299051, 14.63726442891083, 14.126398350231677, 13.647342814569104, 13.37940795773583, 12.644972871207885, 12.608282092144613, 12.190661512379082, 11.750024368463002, 47.90891004395951, 43.606307965824264, 30.457533279857795, 29.369773537026816, 19.394686456994652, 14.512406616243965, 14.19836427407218, 9.30539388742765, 8.72724415662237, 7.304043698567941, 7.032475839255572, 6.468268565062491, 6.188501264696854, 5.214555122496486, 4.238615889477832, 4.037515733783134, 3.378717419053278, 3.2847307441922977, 2.8264602051009042, 2.3575743467807655, 2.2083854181461673, 2.0907940640690783, 2.005299298860703, 1.236682685476046, 1.1024290314589467, 0.7434282550938924, 0.5169474229142225, 0.4918423880888349, 0.5465677814583187, 0.5465677814583187, 0.7119480839695844, 2.1582827560751006, 1.636221951307432, 26.52106770949681, 25.22210529844153, 21.587602344894442, 17.269981079037777, 15.27354264103648, 12.830529032646309, 11.750937653444055, 11.432930376654463, 10.563989928634426, 10.439542519517468, 8.866047294383566, 6.576777549419913, 6.569367518703152, 5.761144236312447, 5.608978417613154, 5.398714243225191, 3.4080332307310774, 2.7876630147725274, 2.77835729753275, 2.3309287243358736, 1.3331100120344301, 0.6860213439879909, 0.7506224654501144, 0.48842564568268904, 0.5698119048685796, 0.48197618052598273, 0.5519700771153166, 0.5113034405970023, 0.5109986757763539, 0.5143239842649056, 0.5143239842649056, 0.6165322313674867, 0.6165322169648373, 0.6165321886754315, 0.6883130667252362, 0.5840961503471919, 0.6567441491961504, 3.9498760332498626, 1.0055751233446284, 16.989942140145487, 17.757100900608606, 15.687414430312886, 14.006367177164973, 12.332748622374382, 11.91401226506466, 11.209118303128246, 7.859788629782568, 5.853523513033553, 5.77070631368599, 4.410359740535366, 4.32870203713968, 4.099867510583982, 3.5883689445345555, 3.2834733210200944, 2.972026449626181, 2.4526493493401285, 2.319129616611079, 2.218545475008113, 28.14720835439361, 0.7650417689833626, 0.5793106841290614, 0.5597465776968125, 0.6141644798700534, 0.6668636847862268, 0.5137246364608337, 0.5344769673982361, 0.486043777146753, 0.49529491084828825, 0.4981037472515144, 0.4899995159449424, 0.5059579585884343, 0.7496462113544116, 0.5318694332197944, 0.8380225479803644, 0.5422963585664435, 0.5723888859195472, 0.7304014242340058, 0.9888708008318455, 6.1358934421276885, 1.2903419653089179, 26.52106770949681, 32.73754289089544, 18.446064021571413, 18.08329671716195, 13.950708302713617, 12.703230692585745, 5.095228834076203, 3.690808205001007, 3.207861054268773, 1.9082219358844805, 1.4083574144452191, 1.2877894265471623, 0.6457110273935336, 0.5308467684670577, 0.5125403290046745, 0.5125403290046745, 0.5584316283097372, 0.5539846322064845, 0.5539846322064845, 0.5539846322064845, 0.5446060693441354, 0.5509916066333168, 0.5344875365644138, 0.5344875365644138, 0.5344875365644138, 0.5306125483880286, 0.4863062166622487, 0.4879727519086623, 0.4879727519086623, 0.5094453281329895, 0.5094453281329895, 0.5092855963419841, 0.5043233183634381, 0.5043233183634381, 0.5727897042902003, 0.5495678158141294, 0.5743683770822697, 0.5375218203285443, 0.6342879542900254, 0.5555250786318098, 0.7642882415228001, 4.471633740035086, 1.2632270191296229, 47.61225210354617, 13.979035473288087, 10.41178032718302, 6.508798707401405, 4.918249286081297, 3.9298311402152772, 2.538786554197107, 2.154205910944266, 1.9366111116551317, 1.757099696899671, 1.266514866600265, 0.5991505434210506, 0.5214984648140928, 0.5082497563812594, 0.5346285026396719, 0.49810503358326735, 0.5408986375866762, 0.5408986375866762, 0.5408986375866762, 0.5367125141394239, 0.48098929671998014, 0.5009620050047583, 0.5431403394664753, 0.5431403394664753, 0.5431403394664753, 0.477180002722081, 0.47742749074673024, 0.4951569596447804, 0.5055970919668714, 0.49053387659123104, 0.5450550767482449, 0.5410138838964901, 0.5405972721137084, 0.6456182875107399, 0.607726209732372, 0.6626475073090793, 0.570188877683051, 0.9179093612349041, 1.8243122523916246, 2.3757382922263703, 7.13406589553408, 9.508927612621358, 9.091500021179664, 8.201003157233897, 7.642340067541515, 5.327338572167438, 4.764212086465797, 4.38641669341915, 4.147389399339713, 4.032827040469773, 2.8760512721136866, 2.8117394152778457, 2.578719189799479, 2.0708466229957208, 1.9340856423384636, 1.6458389452843112, 1.1581395199611018, 1.0363106077915958, 0.6229596000255262, 0.5121956170348968, 0.5463735684223432, 0.544161231673985, 0.544161231673985, 0.544161231673985, 0.5631406917656196, 0.4931893741000451, 0.4906133445377968, 0.4906133445377968, 0.48250415239525524, 0.48405419120859455, 0.48405419120859455, 0.5369894363640331, 0.5316874614515001, 0.7022165887514874, 0.5346285026396719, 0.8869923255324237, 0.5674609195366497, 0.590212728701957, 0.7868330842195842, 2.9412184699977266, 3.9498760332498626, 7.022813099727558, 5.867047356634626, 3.70379794256201, 1.2212288956427395, 1.1647270763183908, 1.08592173898884, 0.9714584658582393, 0.6143307218676968, 0.6086214217942458, 0.7119480839695844, 0.5639615725699846, 0.48308089935728243, 0.47475127764458747, 0.474563897453994, 0.48946683133555363, 0.48946683133555363, 0.4756463938369213, 0.4756463938369213, 0.4756463938369213, 0.4854417500160775, 0.47473139679842385, 0.474525146131729, 0.4751056482675855, 0.4744488418689519, 0.4744488418689519, 0.4745856372245535, 0.4745856372245535, 0.47451602577355273, 0.4743284282997345, 0.47434732916407746, 0.48082350316495326, 0.4947728883239038, 0.49588066275803566, 0.4801337167623988, 0.5380738120790494, 0.5380738120790494, 0.5380738120790494, 0.5361151593351415, 0.5073997699868061, 0.5073997699868061, 0.4903177861789197, 0.5249317543820717, 0.4996022059787727, 0.4996022059787727, 0.5024231701497285, 0.5317260030466706, 0.5884939814060668, 0.5839932218549868, 0.5537759443490791, 0.5808704429491967, 0.504120626572579, 0.5379845174066621, 0.5379845174066621, 7.13406589553408, 0.5832244528634541, 2.3757382922263703, 2.3681239646828187, 0.5715725566156863, 4.512611404080715, 12.54660130491724, 4.12233229837303, 3.007671560356692, 1.0202189235790864, 0.8895243904796966, 0.86340356289541, 0.7726131075150985, 0.7063713657516872, 0.4925255337949694, 0.6012505993724442, 1.1394111487714975, 1.1394111487714975, 0.5031920519844798, 0.4904364297907685, 0.4764744190942765, 0.47756518176576346, 0.4760066817213184, 0.47602139948353994, 0.47602139948353994, 0.47602150212838157, 0.47602150212838157, 0.476282781521074, 0.4759120626939084, 0.4827547326795713, 0.4827547326795713, 0.48632217983545406, 0.47583298821316283, 0.47583298821316283, 0.47583298821316283, 0.47986212498295416, 0.47581739237460285, 0.5296444635409044, 0.4903904820429983, 0.4899806745956198, 0.6121991953036381, 0.554906542000222, 0.5524452430461438, 0.590212728701957, 0.548597749483885, 0.5439694962163903, 0.5288077480933279, 0.5288077480933279, 0.5661822801912882, 0.5980905512849243, 1.5828308228055616, 3.238350487862769, 6.131112600855156, 5.834916337663912], \"Category\": [\"Default\", \"Default\", \"Default\", \"Default\", \"Default\", \"Default\", \"Default\", \"Default\", \"Default\", \"Default\", \"Default\", \"Default\", \"Default\", \"Default\", \"Default\", \"Default\", \"Default\", \"Default\", \"Default\", \"Default\", \"Default\", \"Default\", \"Default\", \"Default\", \"Default\", \"Default\", \"Default\", \"Default\", \"Default\", \"Default\", \"Topic1\", \"Topic1\", \"Topic1\", \"Topic1\", \"Topic1\", \"Topic1\", \"Topic1\", \"Topic1\", \"Topic1\", \"Topic1\", \"Topic1\", \"Topic1\", \"Topic1\", \"Topic1\", \"Topic1\", \"Topic1\", \"Topic1\", \"Topic1\", \"Topic1\", \"Topic1\", \"Topic1\", \"Topic1\", \"Topic1\", \"Topic1\", \"Topic1\", \"Topic1\", \"Topic1\", \"Topic1\", \"Topic1\", \"Topic1\", \"Topic1\", \"Topic1\", \"Topic2\", \"Topic2\", \"Topic2\", \"Topic2\", \"Topic2\", \"Topic2\", \"Topic2\", \"Topic2\", \"Topic2\", \"Topic2\", \"Topic2\", \"Topic2\", \"Topic2\", \"Topic2\", \"Topic2\", \"Topic2\", \"Topic2\", \"Topic2\", \"Topic2\", \"Topic2\", \"Topic2\", \"Topic2\", \"Topic2\", \"Topic2\", \"Topic2\", \"Topic2\", \"Topic2\", \"Topic2\", \"Topic2\", \"Topic2\", \"Topic3\", \"Topic3\", \"Topic3\", \"Topic3\", \"Topic3\", \"Topic3\", \"Topic3\", \"Topic3\", \"Topic3\", \"Topic3\", \"Topic3\", \"Topic3\", \"Topic3\", \"Topic3\", \"Topic3\", \"Topic3\", \"Topic3\", \"Topic3\", \"Topic3\", \"Topic3\", \"Topic3\", \"Topic3\", \"Topic3\", \"Topic3\", \"Topic3\", \"Topic3\", \"Topic3\", \"Topic3\", \"Topic3\", \"Topic3\", \"Topic3\", \"Topic3\", \"Topic3\", \"Topic3\", \"Topic4\", \"Topic4\", \"Topic4\", \"Topic4\", \"Topic4\", \"Topic4\", \"Topic4\", \"Topic4\", \"Topic4\", \"Topic4\", \"Topic4\", \"Topic4\", \"Topic4\", \"Topic4\", \"Topic4\", \"Topic4\", \"Topic4\", \"Topic4\", \"Topic4\", \"Topic4\", \"Topic4\", \"Topic4\", \"Topic4\", \"Topic4\", \"Topic4\", \"Topic4\", \"Topic4\", \"Topic4\", \"Topic4\", \"Topic4\", \"Topic4\", \"Topic4\", \"Topic4\", \"Topic4\", \"Topic4\", \"Topic4\", \"Topic4\", \"Topic4\", \"Topic4\", \"Topic4\", \"Topic5\", \"Topic5\", \"Topic5\", \"Topic5\", \"Topic5\", \"Topic5\", \"Topic5\", \"Topic5\", \"Topic5\", \"Topic5\", \"Topic5\", \"Topic5\", \"Topic5\", \"Topic5\", \"Topic5\", \"Topic5\", \"Topic5\", \"Topic5\", \"Topic5\", \"Topic5\", \"Topic5\", \"Topic5\", \"Topic5\", \"Topic5\", \"Topic5\", \"Topic5\", \"Topic5\", \"Topic5\", \"Topic5\", \"Topic5\", \"Topic5\", \"Topic5\", \"Topic5\", \"Topic5\", \"Topic5\", \"Topic5\", \"Topic5\", \"Topic5\", \"Topic5\", \"Topic5\", \"Topic6\", \"Topic6\", \"Topic6\", \"Topic6\", \"Topic6\", \"Topic6\", \"Topic6\", \"Topic6\", \"Topic6\", \"Topic6\", \"Topic6\", \"Topic6\", \"Topic6\", \"Topic6\", \"Topic6\", \"Topic6\", \"Topic6\", \"Topic6\", \"Topic6\", \"Topic6\", \"Topic6\", \"Topic6\", \"Topic6\", \"Topic6\", \"Topic6\", \"Topic6\", \"Topic6\", \"Topic6\", \"Topic6\", \"Topic6\", \"Topic6\", \"Topic6\", \"Topic6\", \"Topic6\", \"Topic6\", \"Topic6\", \"Topic6\", \"Topic6\", \"Topic6\", \"Topic6\", \"Topic6\", \"Topic6\", \"Topic7\", \"Topic7\", \"Topic7\", \"Topic7\", \"Topic7\", \"Topic7\", \"Topic7\", \"Topic7\", \"Topic7\", \"Topic7\", \"Topic7\", \"Topic7\", \"Topic7\", \"Topic7\", \"Topic7\", \"Topic7\", \"Topic7\", \"Topic7\", \"Topic7\", \"Topic7\", \"Topic7\", \"Topic7\", \"Topic7\", \"Topic7\", \"Topic7\", \"Topic7\", \"Topic7\", \"Topic7\", \"Topic7\", \"Topic7\", \"Topic7\", \"Topic7\", \"Topic7\", \"Topic7\", \"Topic7\", \"Topic7\", \"Topic7\", \"Topic7\", \"Topic7\", \"Topic7\", \"Topic7\", \"Topic8\", \"Topic8\", \"Topic8\", \"Topic8\", \"Topic8\", \"Topic8\", \"Topic8\", \"Topic8\", \"Topic8\", \"Topic8\", \"Topic8\", \"Topic8\", \"Topic8\", \"Topic8\", \"Topic8\", \"Topic8\", \"Topic8\", \"Topic8\", \"Topic8\", \"Topic8\", \"Topic8\", \"Topic8\", \"Topic8\", \"Topic8\", \"Topic8\", \"Topic8\", \"Topic8\", \"Topic8\", \"Topic8\", \"Topic8\", \"Topic8\", \"Topic8\", \"Topic8\", \"Topic8\", \"Topic8\", \"Topic8\", \"Topic8\", \"Topic8\", \"Topic8\", \"Topic8\", \"Topic9\", \"Topic9\", \"Topic9\", \"Topic9\", \"Topic9\", \"Topic9\", \"Topic9\", \"Topic9\", \"Topic9\", \"Topic9\", \"Topic9\", \"Topic9\", \"Topic9\", \"Topic9\", \"Topic9\", \"Topic9\", \"Topic9\", \"Topic9\", \"Topic9\", \"Topic9\", \"Topic9\", \"Topic9\", \"Topic9\", \"Topic9\", \"Topic9\", \"Topic9\", \"Topic9\", \"Topic9\", \"Topic9\", \"Topic9\", \"Topic9\", \"Topic9\", \"Topic9\", \"Topic9\", \"Topic9\", \"Topic9\", \"Topic9\", \"Topic9\", \"Topic9\", \"Topic9\", \"Topic9\", \"Topic9\", \"Topic9\", \"Topic9\", \"Topic9\", \"Topic9\", \"Topic9\", \"Topic9\", \"Topic9\", \"Topic9\", \"Topic9\", \"Topic9\", \"Topic9\", \"Topic9\", \"Topic9\", \"Topic9\", \"Topic9\", \"Topic9\", \"Topic9\", \"Topic9\", \"Topic10\", \"Topic10\", \"Topic10\", \"Topic10\", \"Topic10\", \"Topic10\", \"Topic10\", \"Topic10\", \"Topic10\", \"Topic10\", \"Topic10\", \"Topic10\", \"Topic10\", \"Topic10\", \"Topic10\", \"Topic10\", \"Topic10\", \"Topic10\", \"Topic10\", \"Topic10\", \"Topic10\", \"Topic10\", \"Topic10\", \"Topic10\", \"Topic10\", \"Topic10\", \"Topic10\", \"Topic10\", \"Topic10\", \"Topic10\", \"Topic10\", \"Topic10\", \"Topic10\", \"Topic10\", \"Topic10\", \"Topic10\", \"Topic10\", \"Topic10\", \"Topic10\", \"Topic10\", \"Topic10\", \"Topic10\", \"Topic10\", \"Topic10\", \"Topic10\", \"Topic10\", \"Topic10\"], \"logprob\": [30.0, 29.0, 28.0, 27.0, 26.0, 25.0, 24.0, 23.0, 22.0, 21.0, 20.0, 19.0, 18.0, 17.0, 16.0, 15.0, 14.0, 13.0, 12.0, 11.0, 10.0, 9.0, 8.0, 7.0, 6.0, 5.0, 4.0, 3.0, 2.0, 1.0, -3.4379, -3.9391, -4.2174, -4.4507, -4.6218, -4.7167, -4.7491, -4.9576, -4.9562, -5.0582, -5.1106, -5.1294, -5.14, -5.175, -5.2462, -5.2354, -5.2582, -5.2738, -5.288, -5.3767, -5.4647, -5.4952, -5.5121, -5.5338, -5.5649, -5.5843, -5.5916, -5.6139, -5.659, -5.6714, -5.1697, -5.1513, -3.1097, -3.2805, -3.3893, -3.4672, -3.532, -3.5334, -3.9135, -4.0879, -4.094, -4.2783, -4.3229, -4.3477, -4.5275, -4.6327, -4.6284, -4.6761, -4.6856, -4.6902, -4.7456, -4.8037, -4.8393, -4.8541, -4.8613, -4.8978, -4.9333, -4.9538, -5.012, -5.016, -5.0498, -5.0878, -2.9385, -3.0335, -3.3964, -3.4333, -3.8556, -4.1529, -4.1754, -4.6136, -4.6808, -4.8685, -4.9087, -4.9977, -5.0451, -5.2295, -5.4567, -5.5105, -5.7109, -5.743, -5.9168, -6.1323, -6.212, -6.2897, -6.3318, -6.9892, -7.166, -7.9638, -9.0276, -9.3151, -9.2825, -9.2825, -9.1125, -9.1459, -9.2443, -9.1694, -3.1446, -3.3031, -3.5314, -3.6576, -3.8375, -3.9286, -3.9571, -4.0394, -4.0518, -4.2229, -4.5396, -4.5408, -4.682, -4.711, -4.7525, -5.2648, -5.4989, -5.5027, -5.7143, -6.4605, -7.7301, -8.05, -9.2505, -9.2067, -9.3947, -9.3033, -9.3876, -9.3987, -9.3955, -9.3955, -9.2322, -9.2322, -9.2322, -9.1367, -9.3271, -9.303, -9.0471, -9.2509, -9.2258, -9.2266, -3.5708, -3.6875, -3.8192, -3.8549, -3.9183, -4.2904, -4.6052, -4.6207, -4.9147, -4.9354, -4.996, -5.1461, -5.2478, -5.3633, -5.5919, -5.6602, -5.715, -3.4373, -7.392, -8.2041, -9.0597, -8.9711, -8.9245, -9.2754, -9.2506, -9.3594, -9.3423, -9.3392, -9.3684, -9.3365, -8.9758, -9.2995, -8.9787, -9.2862, -9.2526, -9.1443, -9.0172, -8.5092, -9.1371, -9.0495, -2.5916, -3.1759, -3.1963, -3.4632, -3.56, -4.5288, -4.8879, -5.0491, -5.6836, -6.0998, -6.2377, -7.651, -9.2778, -9.3206, -9.3206, -9.2545, -9.2756, -9.2756, -9.2756, -9.2989, -9.2915, -9.3243, -9.3243, -9.3243, -9.3343, -9.4222, -9.4219, -9.4219, -9.379, -9.379, -9.3796, -9.3896, -9.3896, -9.2944, -9.3443, -9.3355, -9.3644, -9.3253, -9.3581, -9.3075, -9.2825, -9.3201, -2.0557, -3.3043, -3.6103, -4.1072, -4.4115, -4.6612, -5.171, -5.3744, -5.51, -5.6387, -6.1069, -8.921, -9.2131, -9.2456, -9.2802, -9.3612, -9.2907, -9.2907, -9.2907, -9.3027, -9.4193, -9.3787, -9.298, -9.298, -9.298, -9.4349, -9.4359, -9.4015, -9.3838, -9.4143, -9.3191, -9.3274, -9.3292, -9.2181, -9.2619, -9.2304, -9.3199, -9.1203, -9.2472, -9.2813, -9.2967, -3.6446, -3.6917, -3.8004, -3.8751, -4.2633, -4.3858, -4.4773, -4.5399, -4.5713, -4.9624, -4.9876, -5.0913, -5.3631, -5.4508, -5.6661, -6.1877, -6.375, -7.5751, -8.551, -9.0922, -9.1567, -9.1567, -9.1567, -9.1498, -9.3201, -9.3322, -9.3322, -9.3489, -9.346, -9.346, -9.2454, -9.265, -9.032, -9.2644, -8.8854, -9.2388, -9.2478, -9.2088, -9.1964, -9.2213, -3.4601, -3.6536, -4.1641, -5.6083, -5.6849, -5.8032, -6.0033, -7.1777, -7.2116, -8.7031, -8.9505, -9.2045, -9.2441, -9.2458, -9.2264, -9.2264, -9.2553, -9.2553, -9.2553, -9.2356, -9.2585, -9.259, -9.2578, -9.2594, -9.2594, -9.2592, -9.2592, -9.2594, -9.2599, -9.2599, -9.2464, -9.2185, -9.2221, -9.2502, -9.1626, -9.1626, -9.1626, -9.1656, -9.214, -9.214, -9.2378, -9.2021, -9.2307, -9.2307, -9.2291, -9.2091, -9.1864, -9.1914, -9.2062, -9.2007, -9.2292, -9.2206, -9.2206, -8.9413, -9.214, -9.1672, -9.1778, -9.2192, -9.1858, -9.1806, -3.9323, -4.2948, -5.8213, -6.0701, -6.1295, -6.3812, -8.058, -8.531, -8.552, -8.1821, -8.1821, -9.0781, -9.1529, -9.1904, -9.1894, -9.2009, -9.2022, -9.2022, -9.2022, -9.2022, -9.2049, -9.2074, -9.1933, -9.1933, -9.186, -9.2081, -9.2081, -9.2081, -9.2002, -9.2088, -9.1019, -9.1804, -9.1851, -9.0203, -9.1242, -9.1298, -9.1145, -9.1616, -9.1738, -9.182, -9.182, -9.1749, -9.1748, -9.1553, -9.1741, -9.1745, -9.1843], \"loglift\": [30.0, 29.0, 28.0, 27.0, 26.0, 25.0, 24.0, 23.0, 22.0, 21.0, 20.0, 19.0, 18.0, 17.0, 16.0, 15.0, 14.0, 13.0, 12.0, 11.0, 10.0, 9.0, 8.0, 7.0, 6.0, 5.0, 4.0, 3.0, 2.0, 1.0, 0.3701, 0.3695, 0.369, 0.3683, 0.368, 0.3677, 0.3676, 0.3668, 0.3667, 0.3664, 0.366, 0.3659, 0.3659, 0.3658, 0.3654, 0.3654, 0.3653, 0.3652, 0.3651, 0.3646, 0.364, 0.3638, 0.3637, 0.3635, 0.3633, 0.3631, 0.3631, 0.3629, 0.3625, 0.3624, 0.362, 0.3491, 2.2424, 2.2415, 2.2409, 2.2404, 2.2399, 2.2399, 2.2366, 2.2345, 2.2345, 2.2319, 2.2312, 2.2308, 2.2274, 2.2255, 2.2254, 2.2245, 2.2243, 2.2242, 2.2229, 2.2215, 2.2205, 2.2202, 2.22, 2.219, 2.218, 2.2174, 2.2156, 2.2145, 2.2144, 2.2132, 2.957, 2.9562, 2.9521, 2.9516, 2.9443, 2.937, 2.9363, 2.9206, 2.9176, 2.9079, 2.9056, 2.9002, 2.8971, 2.8838, 2.8639, 2.8587, 2.8364, 2.8325, 2.809, 2.7749, 2.7606, 2.7376, 2.7373, 2.5632, 2.5013, 2.0975, 1.397, 1.1594, 1.0864, 1.0864, 0.9921, -0.1504, 0.0281, -2.6825, 3.3926, 3.3896, 3.3845, 3.3811, 3.3755, 3.3723, 3.3713, 3.368, 3.3675, 3.3598, 3.3417, 3.3416, 3.3317, 3.3295, 3.3262, 3.2739, 3.2408, 3.2403, 3.2043, 3.0168, 2.4116, 2.0017, 1.2309, 1.1206, 1.1, 1.0558, 1.048, 1.0375, 1.0343, 1.0343, 1.0163, 1.0163, 1.0163, 1.0017, 0.9755, 0.8823, -0.656, 0.5084, -2.2936, -2.3386, 3.4412, 3.4378, 3.4334, 3.4322, 3.4298, 3.4127, 3.3926, 3.3914, 3.3661, 3.3642, 3.3579, 3.341, 3.3281, 3.3123, 3.2758, 3.2635, 3.253, 2.9901, 2.6407, 2.1067, 1.2854, 1.2812, 1.2455, 1.1555, 1.1407, 1.1269, 1.1252, 1.1226, 1.1098, 1.1096, 1.0771, 1.0967, 0.9628, 1.0906, 1.0701, 0.9347, 0.7589, -0.5585, 0.3729, -2.5626, 3.6847, 3.6741, 3.6736, 3.6662, 3.6629, 3.6077, 3.5711, 3.5502, 3.4351, 3.3226, 3.2743, 2.5512, 1.1203, 1.1126, 1.1126, 1.093, 1.0798, 1.0798, 1.0798, 1.0736, 1.0694, 1.067, 1.067, 1.067, 1.0643, 1.0636, 1.0604, 1.0604, 1.0603, 1.0603, 1.06, 1.0598, 1.0598, 1.0276, 1.0192, 0.9838, 1.0212, 0.8948, 0.9946, 0.7262, -1.0154, 0.2111, 3.846, 3.823, 3.8116, 3.7845, 3.7604, 3.735, 3.6622, 3.623, 3.5939, 3.5625, 3.4217, 1.3561, 1.2028, 1.196, 1.1109, 1.1006, 1.0887, 1.0887, 1.0887, 1.0845, 1.0775, 1.0774, 1.0772, 1.0772, 1.0772, 1.0698, 1.0682, 1.0662, 1.0631, 1.0628, 1.0527, 1.0517, 1.0508, 0.9843, 1.0009, 0.946, 1.0067, 0.7302, -0.0836, -0.3818, -1.4968, 3.8681, 3.8658, 3.8602, 3.856, 3.8287, 3.8179, 3.809, 3.8025, 3.7991, 3.7461, 3.7435, 3.7263, 3.6738, 3.6544, 3.6005, 3.4303, 3.3542, 2.663, 1.8829, 1.2771, 1.2167, 1.2167, 1.2167, 1.1893, 1.1516, 1.1447, 1.1447, 1.1447, 1.1444, 1.1444, 1.1412, 1.1315, 1.0864, 1.1267, 0.9993, 1.0926, 1.0443, 0.7958, -0.5103, -0.8301, 4.3555, 4.3419, 4.2914, 3.9567, 3.9275, 3.8792, 3.7905, 3.0743, 3.0498, 1.4015, 1.3871, 1.2879, 1.2657, 1.2644, 1.2529, 1.2529, 1.2526, 1.2526, 1.2526, 1.252, 1.2514, 1.2513, 1.2512, 1.251, 1.251, 1.2509, 1.2509, 1.2509, 1.2508, 1.2507, 1.2507, 1.25, 1.2441, 1.2483, 1.222, 1.222, 1.222, 1.2227, 1.2293, 1.2293, 1.2398, 1.2072, 1.228, 1.228, 1.224, 1.1873, 1.1087, 1.1113, 1.1497, 1.1073, 1.2206, 1.1641, 1.1641, -1.1414, 1.0901, -0.2677, -0.2751, 1.105, -0.9278, -1.9453, 4.4161, 4.3689, 3.9235, 3.8118, 3.7823, 3.6416, 2.0545, 1.9421, 1.7216, 1.4523, 1.4523, 1.3736, 1.3245, 1.3158, 1.3145, 1.3063, 1.3049, 1.3049, 1.3049, 1.3049, 1.3017, 1.2999, 1.2998, 1.2998, 1.2997, 1.2994, 1.2994, 1.2994, 1.2989, 1.2988, 1.2985, 1.297, 1.2932, 1.2352, 1.2296, 1.2285, 1.1776, 1.2036, 1.1999, 1.22, 1.22, 1.1588, 1.104, 0.1504, -0.5843, -1.2231, -1.1833]}, \"token.table\": {\"Topic\": [8, 3, 3, 4, 1, 1, 7, 4, 7, 8, 4, 5, 5, 3, 1, 1, 1, 3, 4, 5, 8, 5, 8, 3, 1, 3, 1, 5, 9, 6, 1, 3, 1, 1, 4, 2, 4, 2, 2, 1, 1, 6, 1, 3, 1, 2, 2, 1, 6, 2, 8, 9, 9, 1, 1, 1, 4, 6, 3, 2, 3, 3, 4, 2, 2, 5, 7, 1, 2, 2, 1, 2, 1, 2, 2, 4, 1, 7, 5, 1, 5, 5, 1, 1, 10, 5, 8, 8, 4, 3, 4, 8, 1, 2, 1, 1, 7, 3, 2, 2, 2, 1, 1, 4, 7, 8, 9, 1, 1, 1, 10, 1, 3, 1, 2, 5, 1, 3, 1, 1, 1, 5, 3, 2, 3, 2, 1, 2, 1, 1, 8, 4, 8, 8, 8, 3, 3, 5, 1, 2, 6, 7, 9, 1, 6, 5, 3, 2, 4, 3, 1, 1, 4, 1, 7, 1, 8, 3, 1, 1, 8, 5, 1, 2, 4, 6, 2, 4, 7, 5, 2, 1, 2, 1, 6, 6, 7, 8, 2, 5, 6, 2, 1, 8, 7, 4, 3, 1, 1, 6, 3, 9, 2, 5, 2, 1, 9, 10, 4, 4, 3, 2, 1], \"Freq\": [0.9644621266179688, 0.9874097246081711, 0.8086148627649478, 0.913329933653103, 1.0112544522083091, 1.000722045208961, 0.5163659311782769, 0.9360955120697143, 0.78777792354919, 0.695397894812267, 0.9023186696813373, 0.9232825814906361, 1.009412281770688, 0.9646918233623347, 0.8445503824238676, 0.9924811147780052, 0.9564343130355933, 0.9860290755862339, 0.717446832490691, 0.866445063777001, 0.7755788252987407, 0.890609191890399, 0.965788570621791, 0.927605268650751, 0.9903916272990262, 0.9588545681354756, 0.9863786240564412, 0.9813439114948153, 0.809979390486087, 0.9813101948553663, 0.99909287292012, 0.9565743629994932, 0.9944557863304284, 0.9965178962387735, 0.8914279263937159, 0.9795081980815125, 0.9466120346152838, 0.9489937323095043, 0.9525663842870541, 0.9885213376977621, 0.9826961558875782, 0.5240480581397833, 0.9778527050038591, 0.8879108927791318, 0.9841784082473688, 0.014059691546390984, 0.9913207303500289, 0.9960928885526044, 0.7765244685081885, 0.9361682712355845, 0.9385549523963783, 0.858570235321497, 0.8188473132006056, 0.8945276452736969, 0.9573634849040782, 0.9957274522678713, 0.7501256392740775, 0.7100470304932648, 0.9907082136004504, 0.9843600355743227, 0.9695400781814193, 0.9849779929433625, 0.9578963811205604, 0.9924550841818924, 0.9859375975276311, 0.95618051442661, 0.9218290916228781, 0.9803526873350494, 0.03770587258980959, 1.0030709279523418, 0.6799902898751843, 0.9765663948270746, 0.8418435677634107, 0.9688272993139733, 0.9498218755385035, 0.9621330348045776, 0.6317794584183696, 0.7895683077801708, 0.83603443413178, 0.8776463185200449, 0.8154447355216468, 0.9069554946360106, 0.9786152025919621, 0.9976591685357183, 0.9801817795065443, 0.9014915504459904, 0.6075928649429635, 0.9649616557829369, 0.9123008882259084, 0.9166696675868148, 0.9911940222351203, 0.5170401858683571, 0.9266626415702165, 0.9916158693600797, 1.0894321838647072, 0.9905252185930393, 0.8132975307534831, 0.9437042903391683, 0.9678864955603869, 0.9838285386410772, 0.9564628737831548, 1.0018036316073162, 0.9948069226938262, 0.9843670309885006, 1.0014997119616709, 0.9159498187904963, 0.9967515724249527, 0.8569103155302169, 0.991969568475593, 0.8776463185200449, 0.9703244936315999, 1.0027321905770699, 0.7075988532902766, 0.9812076454721276, 0.9961543051009674, 0.9136666288087804, 0.5481517753822169, 0.9070878682109879, 0.9899838900946892, 0.9991136247532012, 0.9892494078525268, 0.9730191028323807, 0.995382019078645, 0.9976318937936562, 0.9973573526586712, 0.9939994195713661, 0.9931372831228604, 0.9974966247412247, 0.9958563725324057, 0.9954626643489352, 0.8395931850647927, 0.935269307248899, 0.9464789686750954, 0.9119060681127529, 0.9899356518763125, 0.8483295564913877, 0.90563901734096, 0.8623925052203767, 0.9962103106144082, 0.9517553551150641, 0.9352026005016123, 0.5691196701954124, 1.0293800868949612, 0.9895325785600226, 0.9953937205994692, 0.9240645268906337, 0.9583732366459482, 0.9910523300350225, 0.8802731067726274, 0.9796497634612541, 0.9263975629703768, 1.0126900100985945, 0.8580270941445618, 0.8864047093403244, 0.9604505363882921, 0.9860545379790783, 0.9754904182597958, 0.9810283714840199, 0.9957262566061521, 0.7749883572612414, 0.8634538263866403, 0.8541863697765828, 0.7916233462841943, 0.9695089342168326, 0.926146444271331, 0.8128300993627984, 0.9785087513867294, 0.9820904260743324, 0.9284163551121852, 0.9756412834497287, 1.0034310040727301, 0.9827490277125591, 0.9828887498057142, 0.9417336367611073, 1.0035332756027016, 0.9446415868841785, 0.7633915791699027, 0.991860042560628, 0.3552750196073729, 0.603967533332534, 0.9758179294482676, 0.9960586275058402, 0.9990510167632526, 0.7113034689960298, 0.9871408707528756, 0.7198498198111702, 0.9860958656188126, 1.0012796789260183, 0.9943699752084709, 0.9774710370490096, 0.9133168693672297, 0.920876674714288, 0.9716423956176281, 0.9995454083786013, 0.9918046463575741, 0.6111640289393163, 0.852217426598041, 0.9974493357393777, 0.8678831487128962, 0.9727805647192027, 0.9671809822214767, 0.9858529294520207, 1.0017867716622764], \"Term\": [\"able\", \"account\", \"acct\", \"act\", \"actor\", \"alabama_official\", \"altogether\", \"amp\", \"appear\", \"apprentice\", \"ask\", \"bad\", \"ball\", \"believe\", \"bid\", \"biden\", \"bidenswin\", \"big\", \"boycott\", \"bring\", \"build\", \"business\", \"buy\", \"campaign\", \"cancel\", \"candidate\", \"cap\", \"care\", \"case\", \"cause\", \"celebration\", \"ceo\", \"collusion\", \"come\", \"comment\", \"company\", \"conservative\", \"contract\", \"control\", \"cost\", \"country\", \"coward\", \"damn\", \"dangerous\", \"davos\", \"davos\", \"day\", \"deal\", \"debate\", \"decide\", \"decision\", \"declare\", \"demand\", \"democrat\", \"denies_report\", \"election\", \"especially\", \"excuse\", \"face\", \"family\", \"favor\", \"get\", \"give\", \"go\", \"golf\", \"good\", \"great\", \"gregkellyusa\", \"gregkellyusa\", \"group\", \"guarantee\", \"guy\", \"harassment\", \"help\", \"hope\", \"httpstco\", \"httpstcop\", \"httpstcov\", \"httpstcoy\", \"implores_controversial\", \"inauguration\", \"include\", \"initiative\", \"insulin\", \"integrity\", \"interesting\", \"invite\", \"joke\", \"keep\", \"kill\", \"know\", \"late\", \"leak\", \"leave\", \"length\", \"let\", \"liberal\", \"link\", \"look\", \"lose\", \"love\", \"low\", \"lower\", \"m\", \"make\", \"man\", \"mean\", \"medicare\", \"medium\", \"momofuku_investor\", \"month\", \"move\", \"national_security\", \"necessary\", \"need\", \"network\", \"nomiki_shut\", \"nonsense\", \"office\", \"official\", \"order\", \"party\", \"pathetic\", \"pay\", \"peace\", \"people\", \"pity_party\", \"plan\", \"plot\", \"policy\", \"politic\", \"political\", \"power\", \"presidency\", \"president\", \"presidential\", \"press\", \"pressure\", \"price\", \"probably\", \"promote\", \"quite\", \"racism\", \"rally_realize\", \"re\", \"read\", \"real\", \"realdonaldtrump\", \"reality\", \"really\", \"relief\", \"reminder\", \"report\", \"repvaldeming\", \"right\", \"rule\", \"run\", \"s\", \"say\", \"scramble\", \"shame\", \"show\", \"snowflake\", \"soon\", \"speech\", \"stand\", \"start\", \"stop\", \"strong\", \"stupid\", \"support\", \"supporter\", \"sure\", \"surfside_search\", \"take\", \"tell\", \"term\", \"thank\", \"thing\", \"thing\", \"think\", \"time\", \"trump\", \"trust\", \"try\", \"tv\", \"twitter\", \"vote\", \"wait\", \"want\", \"war\", \"waste\", \"watch\", \"way\", \"well\", \"wide\", \"win\", \"wish\", \"word\", \"work\", \"world\", \"year\", \"youtube\"]}, \"R\": 30, \"lambda.step\": 0.01, \"plot.opts\": {\"xlab\": \"PC1\", \"ylab\": \"PC2\"}, \"topic.order\": [4, 2, 5, 6, 7, 3, 10, 9, 8, 1]};\n",
              "\n",
              "function LDAvis_load_lib(url, callback){\n",
              "  var s = document.createElement('script');\n",
              "  s.src = url;\n",
              "  s.async = true;\n",
              "  s.onreadystatechange = s.onload = callback;\n",
              "  s.onerror = function(){console.warn(\"failed to load library \" + url);};\n",
              "  document.getElementsByTagName(\"head\")[0].appendChild(s);\n",
              "}\n",
              "\n",
              "if(typeof(LDAvis) !== \"undefined\"){\n",
              "   // already loaded: just create the visualization\n",
              "   !function(LDAvis){\n",
              "       new LDAvis(\"#\" + \"ldavis_el1301406450299299204155033702\", ldavis_el1301406450299299204155033702_data);\n",
              "   }(LDAvis);\n",
              "}else if(typeof define === \"function\" && define.amd){\n",
              "   // require.js is available: use it to load d3/LDAvis\n",
              "   require.config({paths: {d3: \"https://d3js.org/d3.v5\"}});\n",
              "   require([\"d3\"], function(d3){\n",
              "      window.d3 = d3;\n",
              "      LDAvis_load_lib(\"https://cdn.jsdelivr.net/gh/bmabey/pyLDAvis@3.4.0/pyLDAvis/js/ldavis.v3.0.0.js\", function(){\n",
              "        new LDAvis(\"#\" + \"ldavis_el1301406450299299204155033702\", ldavis_el1301406450299299204155033702_data);\n",
              "      });\n",
              "    });\n",
              "}else{\n",
              "    // require.js not available: dynamically load d3 & LDAvis\n",
              "    LDAvis_load_lib(\"https://d3js.org/d3.v5.js\", function(){\n",
              "         LDAvis_load_lib(\"https://cdn.jsdelivr.net/gh/bmabey/pyLDAvis@3.4.0/pyLDAvis/js/ldavis.v3.0.0.js\", function(){\n",
              "                 new LDAvis(\"#\" + \"ldavis_el1301406450299299204155033702\", ldavis_el1301406450299299204155033702_data);\n",
              "            })\n",
              "         });\n",
              "}\n",
              "</script>"
            ]
          },
          "metadata": {},
          "execution_count": 80
        }
      ]
    }
  ]
}