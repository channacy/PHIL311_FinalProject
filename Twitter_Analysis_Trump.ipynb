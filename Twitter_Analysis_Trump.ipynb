{
  "nbformat": 4,
  "nbformat_minor": 0,
  "metadata": {
    "colab": {
      "provenance": [],
      "authorship_tag": "ABX9TyOIxBBJZW9gxyQDQyrMSKMW",
      "include_colab_link": true
    },
    "kernelspec": {
      "name": "python3",
      "display_name": "Python 3"
    },
    "language_info": {
      "name": "python"
    }
  },
  "cells": [
    {
      "cell_type": "markdown",
      "metadata": {
        "id": "view-in-github",
        "colab_type": "text"
      },
      "source": [
        "<a href=\"https://colab.research.google.com/github/channacy/PHIL311_FinalProject/blob/main/Twitter_Analysis_Trump.ipynb\" target=\"_parent\"><img src=\"https://colab.research.google.com/assets/colab-badge.svg\" alt=\"Open In Colab\"/></a>"
      ]
    },
    {
      "cell_type": "code",
      "execution_count": 75,
      "metadata": {
        "id": "YzRybrLMCCU6"
      },
      "outputs": [],
      "source": [
        "import pandas as pd\n",
        "import numpy as np\n",
        "import string\n",
        "import seaborn as sns\n",
        "import matplotlib.pyplot as plt\n",
        "import collections\n",
        "import nltk\n",
        "from nltk.tokenize import word_tokenize\n",
        "from nltk.sentiment import SentimentIntensityAnalyzer\n",
        "from nltk.corpus import stopwords\n",
        "\n",
        "\n",
        "import gensim\n",
        "import gensim.corpora as corpora\n",
        "from gensim.utils import simple_preprocess\n",
        "from gensim.corpora import Dictionary\n",
        "from gensim.models.coherencemodel import CoherenceModel\n",
        "from gensim.models.ldamodel import LdaModel\n",
        "from gensim import models\n",
        "\n",
        "import re\n",
        "import spacy\n",
        "\n",
        "\n"
      ]
    },
    {
      "cell_type": "code",
      "source": [
        "tweets = pd.read_csv(\"trump_tweets.csv\")\n",
        "#csv file on tweets with mention of trump\n",
        "tweets.head()"
      ],
      "metadata": {
        "colab": {
          "base_uri": "https://localhost:8080/",
          "height": 424
        },
        "id": "WNUlyyxDpdrE",
        "outputId": "fcb90eb4-f9a7-47a2-9169-9eaa0071c20e"
      },
      "execution_count": 76,
      "outputs": [
        {
          "output_type": "execute_result",
          "data": {
            "text/plain": [
              "             User               Date Created  Number of Likes  \\\n",
              "0           _4D4D  2012-12-31 23:52:45+00:00              0.0   \n",
              "1      HotDuckOrg  2012-12-31 23:51:56+00:00              0.0   \n",
              "2     emilyybroon  2012-12-31 23:51:10+00:00              1.0   \n",
              "3  getawayplacess  2012-12-31 23:51:10+00:00              0.0   \n",
              "4           GugsM  2012-12-31 23:50:52+00:00              0.0   \n",
              "\n",
              "           Source of Tweet                                              Tweet  \\\n",
              "0  Twitter for BlackBerry®  @realDonaldTrump fuck you donald trump you sha...   \n",
              "1              twitterfeed  Miss Pennsylvania idømt million-bøde: Donald T...   \n",
              "2      Twitter for Android  \"visit Scotland, before Donald Trump turns it ...   \n",
              "3       Twitter for iPhone  LOOOOOOL I TWEETED HAPPY NEW YEAR TO DONALD TR...   \n",
              "4         Twitter for iPad  Lol! Do better Emily! “@stephlombard: Had to G...   \n",
              "\n",
              "   Retweet Count  \n",
              "0            0.0  \n",
              "1            0.0  \n",
              "2            0.0  \n",
              "3            0.0  \n",
              "4            0.0  "
            ],
            "text/html": [
              "\n",
              "  <div id=\"df-4b5154f3-a92d-43a4-90e8-2b5f49d74293\">\n",
              "    <div class=\"colab-df-container\">\n",
              "      <div>\n",
              "<style scoped>\n",
              "    .dataframe tbody tr th:only-of-type {\n",
              "        vertical-align: middle;\n",
              "    }\n",
              "\n",
              "    .dataframe tbody tr th {\n",
              "        vertical-align: top;\n",
              "    }\n",
              "\n",
              "    .dataframe thead th {\n",
              "        text-align: right;\n",
              "    }\n",
              "</style>\n",
              "<table border=\"1\" class=\"dataframe\">\n",
              "  <thead>\n",
              "    <tr style=\"text-align: right;\">\n",
              "      <th></th>\n",
              "      <th>User</th>\n",
              "      <th>Date Created</th>\n",
              "      <th>Number of Likes</th>\n",
              "      <th>Source of Tweet</th>\n",
              "      <th>Tweet</th>\n",
              "      <th>Retweet Count</th>\n",
              "    </tr>\n",
              "  </thead>\n",
              "  <tbody>\n",
              "    <tr>\n",
              "      <th>0</th>\n",
              "      <td>_4D4D</td>\n",
              "      <td>2012-12-31 23:52:45+00:00</td>\n",
              "      <td>0.0</td>\n",
              "      <td>Twitter for BlackBerry®</td>\n",
              "      <td>@realDonaldTrump fuck you donald trump you sha...</td>\n",
              "      <td>0.0</td>\n",
              "    </tr>\n",
              "    <tr>\n",
              "      <th>1</th>\n",
              "      <td>HotDuckOrg</td>\n",
              "      <td>2012-12-31 23:51:56+00:00</td>\n",
              "      <td>0.0</td>\n",
              "      <td>twitterfeed</td>\n",
              "      <td>Miss Pennsylvania idømt million-bøde: Donald T...</td>\n",
              "      <td>0.0</td>\n",
              "    </tr>\n",
              "    <tr>\n",
              "      <th>2</th>\n",
              "      <td>emilyybroon</td>\n",
              "      <td>2012-12-31 23:51:10+00:00</td>\n",
              "      <td>1.0</td>\n",
              "      <td>Twitter for Android</td>\n",
              "      <td>\"visit Scotland, before Donald Trump turns it ...</td>\n",
              "      <td>0.0</td>\n",
              "    </tr>\n",
              "    <tr>\n",
              "      <th>3</th>\n",
              "      <td>getawayplacess</td>\n",
              "      <td>2012-12-31 23:51:10+00:00</td>\n",
              "      <td>0.0</td>\n",
              "      <td>Twitter for iPhone</td>\n",
              "      <td>LOOOOOOL I TWEETED HAPPY NEW YEAR TO DONALD TR...</td>\n",
              "      <td>0.0</td>\n",
              "    </tr>\n",
              "    <tr>\n",
              "      <th>4</th>\n",
              "      <td>GugsM</td>\n",
              "      <td>2012-12-31 23:50:52+00:00</td>\n",
              "      <td>0.0</td>\n",
              "      <td>Twitter for iPad</td>\n",
              "      <td>Lol! Do better Emily! “@stephlombard: Had to G...</td>\n",
              "      <td>0.0</td>\n",
              "    </tr>\n",
              "  </tbody>\n",
              "</table>\n",
              "</div>\n",
              "      <button class=\"colab-df-convert\" onclick=\"convertToInteractive('df-4b5154f3-a92d-43a4-90e8-2b5f49d74293')\"\n",
              "              title=\"Convert this dataframe to an interactive table.\"\n",
              "              style=\"display:none;\">\n",
              "        \n",
              "  <svg xmlns=\"http://www.w3.org/2000/svg\" height=\"24px\"viewBox=\"0 0 24 24\"\n",
              "       width=\"24px\">\n",
              "    <path d=\"M0 0h24v24H0V0z\" fill=\"none\"/>\n",
              "    <path d=\"M18.56 5.44l.94 2.06.94-2.06 2.06-.94-2.06-.94-.94-2.06-.94 2.06-2.06.94zm-11 1L8.5 8.5l.94-2.06 2.06-.94-2.06-.94L8.5 2.5l-.94 2.06-2.06.94zm10 10l.94 2.06.94-2.06 2.06-.94-2.06-.94-.94-2.06-.94 2.06-2.06.94z\"/><path d=\"M17.41 7.96l-1.37-1.37c-.4-.4-.92-.59-1.43-.59-.52 0-1.04.2-1.43.59L10.3 9.45l-7.72 7.72c-.78.78-.78 2.05 0 2.83L4 21.41c.39.39.9.59 1.41.59.51 0 1.02-.2 1.41-.59l7.78-7.78 2.81-2.81c.8-.78.8-2.07 0-2.86zM5.41 20L4 18.59l7.72-7.72 1.47 1.35L5.41 20z\"/>\n",
              "  </svg>\n",
              "      </button>\n",
              "      \n",
              "  <style>\n",
              "    .colab-df-container {\n",
              "      display:flex;\n",
              "      flex-wrap:wrap;\n",
              "      gap: 12px;\n",
              "    }\n",
              "\n",
              "    .colab-df-convert {\n",
              "      background-color: #E8F0FE;\n",
              "      border: none;\n",
              "      border-radius: 50%;\n",
              "      cursor: pointer;\n",
              "      display: none;\n",
              "      fill: #1967D2;\n",
              "      height: 32px;\n",
              "      padding: 0 0 0 0;\n",
              "      width: 32px;\n",
              "    }\n",
              "\n",
              "    .colab-df-convert:hover {\n",
              "      background-color: #E2EBFA;\n",
              "      box-shadow: 0px 1px 2px rgba(60, 64, 67, 0.3), 0px 1px 3px 1px rgba(60, 64, 67, 0.15);\n",
              "      fill: #174EA6;\n",
              "    }\n",
              "\n",
              "    [theme=dark] .colab-df-convert {\n",
              "      background-color: #3B4455;\n",
              "      fill: #D2E3FC;\n",
              "    }\n",
              "\n",
              "    [theme=dark] .colab-df-convert:hover {\n",
              "      background-color: #434B5C;\n",
              "      box-shadow: 0px 1px 3px 1px rgba(0, 0, 0, 0.15);\n",
              "      filter: drop-shadow(0px 1px 2px rgba(0, 0, 0, 0.3));\n",
              "      fill: #FFFFFF;\n",
              "    }\n",
              "  </style>\n",
              "\n",
              "      <script>\n",
              "        const buttonEl =\n",
              "          document.querySelector('#df-4b5154f3-a92d-43a4-90e8-2b5f49d74293 button.colab-df-convert');\n",
              "        buttonEl.style.display =\n",
              "          google.colab.kernel.accessAllowed ? 'block' : 'none';\n",
              "\n",
              "        async function convertToInteractive(key) {\n",
              "          const element = document.querySelector('#df-4b5154f3-a92d-43a4-90e8-2b5f49d74293');\n",
              "          const dataTable =\n",
              "            await google.colab.kernel.invokeFunction('convertToInteractive',\n",
              "                                                     [key], {});\n",
              "          if (!dataTable) return;\n",
              "\n",
              "          const docLinkHtml = 'Like what you see? Visit the ' +\n",
              "            '<a target=\"_blank\" href=https://colab.research.google.com/notebooks/data_table.ipynb>data table notebook</a>'\n",
              "            + ' to learn more about interactive tables.';\n",
              "          element.innerHTML = '';\n",
              "          dataTable['output_type'] = 'display_data';\n",
              "          await google.colab.output.renderOutput(dataTable, element);\n",
              "          const docLink = document.createElement('div');\n",
              "          docLink.innerHTML = docLinkHtml;\n",
              "          element.appendChild(docLink);\n",
              "        }\n",
              "      </script>\n",
              "    </div>\n",
              "  </div>\n",
              "  "
            ]
          },
          "metadata": {},
          "execution_count": 76
        }
      ]
    },
    {
      "cell_type": "code",
      "source": [
        "tweets.info()"
      ],
      "metadata": {
        "colab": {
          "base_uri": "https://localhost:8080/"
        },
        "id": "Z12MYW5opstz",
        "outputId": "2a3972d1-f25d-4d60-957a-539bbebc512f"
      },
      "execution_count": 77,
      "outputs": [
        {
          "output_type": "stream",
          "name": "stdout",
          "text": [
            "<class 'pandas.core.frame.DataFrame'>\n",
            "RangeIndex: 11012 entries, 0 to 11011\n",
            "Data columns (total 6 columns):\n",
            " #   Column           Non-Null Count  Dtype  \n",
            "---  ------           --------------  -----  \n",
            " 0   User             11012 non-null  object \n",
            " 1   Date Created     11012 non-null  object \n",
            " 2   Number of Likes  11011 non-null  float64\n",
            " 3   Source of Tweet  11011 non-null  object \n",
            " 4   Tweet            11011 non-null  object \n",
            " 5   Retweet Count    11010 non-null  float64\n",
            "dtypes: float64(2), object(4)\n",
            "memory usage: 516.3+ KB\n"
          ]
        }
      ]
    },
    {
      "cell_type": "code",
      "source": [
        "tweets['clean_tweets'] = tweets['Tweet'].str.lower()\n",
        "tweets['clean_tweets'] = tweets['clean_tweets'].str.replace(\"[^\\w\\s]\", \"\")\n",
        "tweets.head()"
      ],
      "metadata": {
        "colab": {
          "base_uri": "https://localhost:8080/",
          "height": 690
        },
        "id": "LZf9xmkPqAs8",
        "outputId": "ad734c9b-5103-4680-9170-443cdaa7e9fd"
      },
      "execution_count": 78,
      "outputs": [
        {
          "output_type": "stream",
          "name": "stderr",
          "text": [
            "<>:2: DeprecationWarning: invalid escape sequence \\w\n",
            "<>:2: DeprecationWarning: invalid escape sequence \\w\n",
            "<ipython-input-78-6163b0f575f9>:2: DeprecationWarning: invalid escape sequence \\w\n",
            "  tweets['clean_tweets'] = tweets['clean_tweets'].str.replace(\"[^\\w\\s]\", \"\")\n",
            "<ipython-input-78-6163b0f575f9>:2: FutureWarning: The default value of regex will change from True to False in a future version.\n",
            "  tweets['clean_tweets'] = tweets['clean_tweets'].str.replace(\"[^\\w\\s]\", \"\")\n"
          ]
        },
        {
          "output_type": "execute_result",
          "data": {
            "text/plain": [
              "             User               Date Created  Number of Likes  \\\n",
              "0           _4D4D  2012-12-31 23:52:45+00:00              0.0   \n",
              "1      HotDuckOrg  2012-12-31 23:51:56+00:00              0.0   \n",
              "2     emilyybroon  2012-12-31 23:51:10+00:00              1.0   \n",
              "3  getawayplacess  2012-12-31 23:51:10+00:00              0.0   \n",
              "4           GugsM  2012-12-31 23:50:52+00:00              0.0   \n",
              "\n",
              "           Source of Tweet                                              Tweet  \\\n",
              "0  Twitter for BlackBerry®  @realDonaldTrump fuck you donald trump you sha...   \n",
              "1              twitterfeed  Miss Pennsylvania idømt million-bøde: Donald T...   \n",
              "2      Twitter for Android  \"visit Scotland, before Donald Trump turns it ...   \n",
              "3       Twitter for iPhone  LOOOOOOL I TWEETED HAPPY NEW YEAR TO DONALD TR...   \n",
              "4         Twitter for iPad  Lol! Do better Emily! “@stephlombard: Had to G...   \n",
              "\n",
              "   Retweet Count                                       clean_tweets  \n",
              "0            0.0  realdonaldtrump fuck you donald trump you sham...  \n",
              "1            0.0  miss pennsylvania idømt millionbøde donald tru...  \n",
              "2            0.0  visit scotland before donald trump turns it in...  \n",
              "3            0.0  looooool i tweeted happy new year to donald tr...  \n",
              "4            0.0  lol do better emily stephlombard had to google...  "
            ],
            "text/html": [
              "\n",
              "  <div id=\"df-032d42db-f007-4c19-829e-7ba33ad40b72\">\n",
              "    <div class=\"colab-df-container\">\n",
              "      <div>\n",
              "<style scoped>\n",
              "    .dataframe tbody tr th:only-of-type {\n",
              "        vertical-align: middle;\n",
              "    }\n",
              "\n",
              "    .dataframe tbody tr th {\n",
              "        vertical-align: top;\n",
              "    }\n",
              "\n",
              "    .dataframe thead th {\n",
              "        text-align: right;\n",
              "    }\n",
              "</style>\n",
              "<table border=\"1\" class=\"dataframe\">\n",
              "  <thead>\n",
              "    <tr style=\"text-align: right;\">\n",
              "      <th></th>\n",
              "      <th>User</th>\n",
              "      <th>Date Created</th>\n",
              "      <th>Number of Likes</th>\n",
              "      <th>Source of Tweet</th>\n",
              "      <th>Tweet</th>\n",
              "      <th>Retweet Count</th>\n",
              "      <th>clean_tweets</th>\n",
              "    </tr>\n",
              "  </thead>\n",
              "  <tbody>\n",
              "    <tr>\n",
              "      <th>0</th>\n",
              "      <td>_4D4D</td>\n",
              "      <td>2012-12-31 23:52:45+00:00</td>\n",
              "      <td>0.0</td>\n",
              "      <td>Twitter for BlackBerry®</td>\n",
              "      <td>@realDonaldTrump fuck you donald trump you sha...</td>\n",
              "      <td>0.0</td>\n",
              "      <td>realdonaldtrump fuck you donald trump you sham...</td>\n",
              "    </tr>\n",
              "    <tr>\n",
              "      <th>1</th>\n",
              "      <td>HotDuckOrg</td>\n",
              "      <td>2012-12-31 23:51:56+00:00</td>\n",
              "      <td>0.0</td>\n",
              "      <td>twitterfeed</td>\n",
              "      <td>Miss Pennsylvania idømt million-bøde: Donald T...</td>\n",
              "      <td>0.0</td>\n",
              "      <td>miss pennsylvania idømt millionbøde donald tru...</td>\n",
              "    </tr>\n",
              "    <tr>\n",
              "      <th>2</th>\n",
              "      <td>emilyybroon</td>\n",
              "      <td>2012-12-31 23:51:10+00:00</td>\n",
              "      <td>1.0</td>\n",
              "      <td>Twitter for Android</td>\n",
              "      <td>\"visit Scotland, before Donald Trump turns it ...</td>\n",
              "      <td>0.0</td>\n",
              "      <td>visit scotland before donald trump turns it in...</td>\n",
              "    </tr>\n",
              "    <tr>\n",
              "      <th>3</th>\n",
              "      <td>getawayplacess</td>\n",
              "      <td>2012-12-31 23:51:10+00:00</td>\n",
              "      <td>0.0</td>\n",
              "      <td>Twitter for iPhone</td>\n",
              "      <td>LOOOOOOL I TWEETED HAPPY NEW YEAR TO DONALD TR...</td>\n",
              "      <td>0.0</td>\n",
              "      <td>looooool i tweeted happy new year to donald tr...</td>\n",
              "    </tr>\n",
              "    <tr>\n",
              "      <th>4</th>\n",
              "      <td>GugsM</td>\n",
              "      <td>2012-12-31 23:50:52+00:00</td>\n",
              "      <td>0.0</td>\n",
              "      <td>Twitter for iPad</td>\n",
              "      <td>Lol! Do better Emily! “@stephlombard: Had to G...</td>\n",
              "      <td>0.0</td>\n",
              "      <td>lol do better emily stephlombard had to google...</td>\n",
              "    </tr>\n",
              "  </tbody>\n",
              "</table>\n",
              "</div>\n",
              "      <button class=\"colab-df-convert\" onclick=\"convertToInteractive('df-032d42db-f007-4c19-829e-7ba33ad40b72')\"\n",
              "              title=\"Convert this dataframe to an interactive table.\"\n",
              "              style=\"display:none;\">\n",
              "        \n",
              "  <svg xmlns=\"http://www.w3.org/2000/svg\" height=\"24px\"viewBox=\"0 0 24 24\"\n",
              "       width=\"24px\">\n",
              "    <path d=\"M0 0h24v24H0V0z\" fill=\"none\"/>\n",
              "    <path d=\"M18.56 5.44l.94 2.06.94-2.06 2.06-.94-2.06-.94-.94-2.06-.94 2.06-2.06.94zm-11 1L8.5 8.5l.94-2.06 2.06-.94-2.06-.94L8.5 2.5l-.94 2.06-2.06.94zm10 10l.94 2.06.94-2.06 2.06-.94-2.06-.94-.94-2.06-.94 2.06-2.06.94z\"/><path d=\"M17.41 7.96l-1.37-1.37c-.4-.4-.92-.59-1.43-.59-.52 0-1.04.2-1.43.59L10.3 9.45l-7.72 7.72c-.78.78-.78 2.05 0 2.83L4 21.41c.39.39.9.59 1.41.59.51 0 1.02-.2 1.41-.59l7.78-7.78 2.81-2.81c.8-.78.8-2.07 0-2.86zM5.41 20L4 18.59l7.72-7.72 1.47 1.35L5.41 20z\"/>\n",
              "  </svg>\n",
              "      </button>\n",
              "      \n",
              "  <style>\n",
              "    .colab-df-container {\n",
              "      display:flex;\n",
              "      flex-wrap:wrap;\n",
              "      gap: 12px;\n",
              "    }\n",
              "\n",
              "    .colab-df-convert {\n",
              "      background-color: #E8F0FE;\n",
              "      border: none;\n",
              "      border-radius: 50%;\n",
              "      cursor: pointer;\n",
              "      display: none;\n",
              "      fill: #1967D2;\n",
              "      height: 32px;\n",
              "      padding: 0 0 0 0;\n",
              "      width: 32px;\n",
              "    }\n",
              "\n",
              "    .colab-df-convert:hover {\n",
              "      background-color: #E2EBFA;\n",
              "      box-shadow: 0px 1px 2px rgba(60, 64, 67, 0.3), 0px 1px 3px 1px rgba(60, 64, 67, 0.15);\n",
              "      fill: #174EA6;\n",
              "    }\n",
              "\n",
              "    [theme=dark] .colab-df-convert {\n",
              "      background-color: #3B4455;\n",
              "      fill: #D2E3FC;\n",
              "    }\n",
              "\n",
              "    [theme=dark] .colab-df-convert:hover {\n",
              "      background-color: #434B5C;\n",
              "      box-shadow: 0px 1px 3px 1px rgba(0, 0, 0, 0.15);\n",
              "      filter: drop-shadow(0px 1px 2px rgba(0, 0, 0, 0.3));\n",
              "      fill: #FFFFFF;\n",
              "    }\n",
              "  </style>\n",
              "\n",
              "      <script>\n",
              "        const buttonEl =\n",
              "          document.querySelector('#df-032d42db-f007-4c19-829e-7ba33ad40b72 button.colab-df-convert');\n",
              "        buttonEl.style.display =\n",
              "          google.colab.kernel.accessAllowed ? 'block' : 'none';\n",
              "\n",
              "        async function convertToInteractive(key) {\n",
              "          const element = document.querySelector('#df-032d42db-f007-4c19-829e-7ba33ad40b72');\n",
              "          const dataTable =\n",
              "            await google.colab.kernel.invokeFunction('convertToInteractive',\n",
              "                                                     [key], {});\n",
              "          if (!dataTable) return;\n",
              "\n",
              "          const docLinkHtml = 'Like what you see? Visit the ' +\n",
              "            '<a target=\"_blank\" href=https://colab.research.google.com/notebooks/data_table.ipynb>data table notebook</a>'\n",
              "            + ' to learn more about interactive tables.';\n",
              "          element.innerHTML = '';\n",
              "          dataTable['output_type'] = 'display_data';\n",
              "          await google.colab.output.renderOutput(dataTable, element);\n",
              "          const docLink = document.createElement('div');\n",
              "          docLink.innerHTML = docLinkHtml;\n",
              "          element.appendChild(docLink);\n",
              "        }\n",
              "      </script>\n",
              "    </div>\n",
              "  </div>\n",
              "  "
            ]
          },
          "metadata": {},
          "execution_count": 78
        }
      ]
    },
    {
      "cell_type": "code",
      "source": [
        "stop = ['of', 'thus', 'somehow', 'many', 'until', 'he', 'name', 'whereas', 'namely', 'much', 'still', 'my', 'only', 'towards', 'am', 'below', 'something', 'everywhere', 'been', 'same', 'whereafter', 'none', 'except', 'have', 'yourselves', 'then', 'never', 'full', 'mostly', 'further', 'several', 'bill', 'together', 'can', 'i', 'which', 'might', 'therefore', 'nevertheless', 'thereby', 'formerly', 'were', 'whereupon', 'amoungst', 'thereupon', 'hereupon', 'next', 'during', 'what', 'yourself', 'across', 'was', 'whole', 'up', 'if', 'per', 'myself', 'they', 'wherein', 'she', 'since', 'behind', 'first', 'take', 'fire', 'least', 'mill', 'inc', 'made', 'latter', 'noone', 'four', 'give', 'therein', 'describe', 'others', 'whither', 'besides', 'itself', 'whereby', 'couldnt', 'rather', 'either', 'sixty', 'here', 'will', 'done', 'beyond', 'own', 'against', 'this', 'before', 'amongst', 'on', 'become', 'more', 'front', 'whenever', 'thick', 'nothing', 'again', 'became', 'me', 'thence', 'yet', 'eg', 'sometime', 'ltd', 'always', 'at', 'whence', 'ie', 'six', 'those', 'sincere', 'any', 'latterly', 'nobody', 'why', 'part', 'thru', 'nor', 'in', 'side', 'ours', 'as', 'bottom', 'five', 'third', 'co', 'such', 'himself', 'whoever', 'him', 'thin', 'would', 'these', 'herein', 'upon', 'each', 'you', 'beforehand', 'no', 'his', 'two', 'three', 'the', 'few', 'it', 'yours', 'already', 'interest', 'whom', 'with', 'for', 'other', 'via', 'go', 'onto', 'do', 'get', 'also', 'mine', 'wherever', 'so', 'system', 'us', 'whose', 'after', 'and', 'former', 'all', 'but', 'back', 'too', 'hundred', 'is', 'between', 'even', 'hence', 'whatever', 'hasnt', 'along', 'most', 'herself', 'un', 'has', 'anyone', 'fifty', 'meanwhile', 'being', 'otherwise', 'anywhere', 'serious', 'under', 'seeming', 'by', 'often', 'neither', 'hereby', 'around', 'afterwards', 'an', 'everything', 'who', 'due', 'anyhow', 'than', 'indeed', 'etc', 'to', 'them', 'amount', 'both', 'moreover', 'our', 'de', 'eleven', 'well', 'out', 'or', 'beside', 'because', 'through', 'now', 'your', 'where', 'found', 'had', 'ten', 'almost', 'twenty', 'its', 'once', 'move', 'although', 'nowhere', 'into', 'perhaps', 'con', 'throughout', 'twelve', 'not', 'while', 'detail', 'top', 'we', 'enough', 'from', 'ourselves', 'whether', 'thereafter', 'somewhere', 'please', 'find', 'how', 'fifteen', 'becoming', 'put', 'their', 'nine', 'within', 'one', 'cant', 'are', 'last', 'a', 'seem', 'toward', 'her', 'off', 'show', 'above', 're', 'else', 'cry', 'keep', 'could', 'some', 'see', 'eight', 'anyway', 'hereafter', 'themselves', 'empty', 'elsewhere', 'when', 'ever', 'must', 'seemed', 'very', 'sometimes', 'another', 'becomes', 'may', 'everyone', 'hers', 'fill', 'among', 'should', 'over', 'be', 'anything', 'seems', 'without', 'about', 'that', 'down', 'there', 'though', 'someone', 'alone', 'every', 'call', 'however', 'less', 'forty', 'cannot','the', 'a', 'this', 'that', 'to', 'is', 'am', 'was', 'were', 'be', 'being', 'been']\n",
        "tweets = tweets[tweets['clean_tweets'].notnull()]\n",
        "\n",
        "tweets['clean_tweets'] = tweets['clean_tweets'].apply(lambda x: ' '.join([word for word in x.split() if word not in (stop)]))\n"
      ],
      "metadata": {
        "id": "m14BnRw-qgQA"
      },
      "execution_count": 79,
      "outputs": []
    },
    {
      "cell_type": "code",
      "source": [
        "tweets.head()"
      ],
      "metadata": {
        "colab": {
          "base_uri": "https://localhost:8080/",
          "height": 583
        },
        "id": "V7SznJgjsDxt",
        "outputId": "014f3e16-e9b3-4c4f-dc2f-af9a841682c9"
      },
      "execution_count": 80,
      "outputs": [
        {
          "output_type": "execute_result",
          "data": {
            "text/plain": [
              "             User               Date Created  Number of Likes  \\\n",
              "0           _4D4D  2012-12-31 23:52:45+00:00              0.0   \n",
              "1      HotDuckOrg  2012-12-31 23:51:56+00:00              0.0   \n",
              "2     emilyybroon  2012-12-31 23:51:10+00:00              1.0   \n",
              "3  getawayplacess  2012-12-31 23:51:10+00:00              0.0   \n",
              "4           GugsM  2012-12-31 23:50:52+00:00              0.0   \n",
              "\n",
              "           Source of Tweet                                              Tweet  \\\n",
              "0  Twitter for BlackBerry®  @realDonaldTrump fuck you donald trump you sha...   \n",
              "1              twitterfeed  Miss Pennsylvania idømt million-bøde: Donald T...   \n",
              "2      Twitter for Android  \"visit Scotland, before Donald Trump turns it ...   \n",
              "3       Twitter for iPhone  LOOOOOOL I TWEETED HAPPY NEW YEAR TO DONALD TR...   \n",
              "4         Twitter for iPad  Lol! Do better Emily! “@stephlombard: Had to G...   \n",
              "\n",
              "   Retweet Count                                       clean_tweets  \n",
              "0            0.0  realdonaldtrump fuck donald trump shameless hy...  \n",
              "1            0.0  miss pennsylvania idømt millionbøde donald tru...  \n",
              "2            0.0  visit scotland donald trump turns golf course ...  \n",
              "3            0.0  looooool tweeted happy new year donald trump r...  \n",
              "4            0.0  lol better emily stephlombard google obeezy sh...  "
            ],
            "text/html": [
              "\n",
              "  <div id=\"df-437121f4-657d-46eb-abc4-be669873136b\">\n",
              "    <div class=\"colab-df-container\">\n",
              "      <div>\n",
              "<style scoped>\n",
              "    .dataframe tbody tr th:only-of-type {\n",
              "        vertical-align: middle;\n",
              "    }\n",
              "\n",
              "    .dataframe tbody tr th {\n",
              "        vertical-align: top;\n",
              "    }\n",
              "\n",
              "    .dataframe thead th {\n",
              "        text-align: right;\n",
              "    }\n",
              "</style>\n",
              "<table border=\"1\" class=\"dataframe\">\n",
              "  <thead>\n",
              "    <tr style=\"text-align: right;\">\n",
              "      <th></th>\n",
              "      <th>User</th>\n",
              "      <th>Date Created</th>\n",
              "      <th>Number of Likes</th>\n",
              "      <th>Source of Tweet</th>\n",
              "      <th>Tweet</th>\n",
              "      <th>Retweet Count</th>\n",
              "      <th>clean_tweets</th>\n",
              "    </tr>\n",
              "  </thead>\n",
              "  <tbody>\n",
              "    <tr>\n",
              "      <th>0</th>\n",
              "      <td>_4D4D</td>\n",
              "      <td>2012-12-31 23:52:45+00:00</td>\n",
              "      <td>0.0</td>\n",
              "      <td>Twitter for BlackBerry®</td>\n",
              "      <td>@realDonaldTrump fuck you donald trump you sha...</td>\n",
              "      <td>0.0</td>\n",
              "      <td>realdonaldtrump fuck donald trump shameless hy...</td>\n",
              "    </tr>\n",
              "    <tr>\n",
              "      <th>1</th>\n",
              "      <td>HotDuckOrg</td>\n",
              "      <td>2012-12-31 23:51:56+00:00</td>\n",
              "      <td>0.0</td>\n",
              "      <td>twitterfeed</td>\n",
              "      <td>Miss Pennsylvania idømt million-bøde: Donald T...</td>\n",
              "      <td>0.0</td>\n",
              "      <td>miss pennsylvania idømt millionbøde donald tru...</td>\n",
              "    </tr>\n",
              "    <tr>\n",
              "      <th>2</th>\n",
              "      <td>emilyybroon</td>\n",
              "      <td>2012-12-31 23:51:10+00:00</td>\n",
              "      <td>1.0</td>\n",
              "      <td>Twitter for Android</td>\n",
              "      <td>\"visit Scotland, before Donald Trump turns it ...</td>\n",
              "      <td>0.0</td>\n",
              "      <td>visit scotland donald trump turns golf course ...</td>\n",
              "    </tr>\n",
              "    <tr>\n",
              "      <th>3</th>\n",
              "      <td>getawayplacess</td>\n",
              "      <td>2012-12-31 23:51:10+00:00</td>\n",
              "      <td>0.0</td>\n",
              "      <td>Twitter for iPhone</td>\n",
              "      <td>LOOOOOOL I TWEETED HAPPY NEW YEAR TO DONALD TR...</td>\n",
              "      <td>0.0</td>\n",
              "      <td>looooool tweeted happy new year donald trump r...</td>\n",
              "    </tr>\n",
              "    <tr>\n",
              "      <th>4</th>\n",
              "      <td>GugsM</td>\n",
              "      <td>2012-12-31 23:50:52+00:00</td>\n",
              "      <td>0.0</td>\n",
              "      <td>Twitter for iPad</td>\n",
              "      <td>Lol! Do better Emily! “@stephlombard: Had to G...</td>\n",
              "      <td>0.0</td>\n",
              "      <td>lol better emily stephlombard google obeezy sh...</td>\n",
              "    </tr>\n",
              "  </tbody>\n",
              "</table>\n",
              "</div>\n",
              "      <button class=\"colab-df-convert\" onclick=\"convertToInteractive('df-437121f4-657d-46eb-abc4-be669873136b')\"\n",
              "              title=\"Convert this dataframe to an interactive table.\"\n",
              "              style=\"display:none;\">\n",
              "        \n",
              "  <svg xmlns=\"http://www.w3.org/2000/svg\" height=\"24px\"viewBox=\"0 0 24 24\"\n",
              "       width=\"24px\">\n",
              "    <path d=\"M0 0h24v24H0V0z\" fill=\"none\"/>\n",
              "    <path d=\"M18.56 5.44l.94 2.06.94-2.06 2.06-.94-2.06-.94-.94-2.06-.94 2.06-2.06.94zm-11 1L8.5 8.5l.94-2.06 2.06-.94-2.06-.94L8.5 2.5l-.94 2.06-2.06.94zm10 10l.94 2.06.94-2.06 2.06-.94-2.06-.94-.94-2.06-.94 2.06-2.06.94z\"/><path d=\"M17.41 7.96l-1.37-1.37c-.4-.4-.92-.59-1.43-.59-.52 0-1.04.2-1.43.59L10.3 9.45l-7.72 7.72c-.78.78-.78 2.05 0 2.83L4 21.41c.39.39.9.59 1.41.59.51 0 1.02-.2 1.41-.59l7.78-7.78 2.81-2.81c.8-.78.8-2.07 0-2.86zM5.41 20L4 18.59l7.72-7.72 1.47 1.35L5.41 20z\"/>\n",
              "  </svg>\n",
              "      </button>\n",
              "      \n",
              "  <style>\n",
              "    .colab-df-container {\n",
              "      display:flex;\n",
              "      flex-wrap:wrap;\n",
              "      gap: 12px;\n",
              "    }\n",
              "\n",
              "    .colab-df-convert {\n",
              "      background-color: #E8F0FE;\n",
              "      border: none;\n",
              "      border-radius: 50%;\n",
              "      cursor: pointer;\n",
              "      display: none;\n",
              "      fill: #1967D2;\n",
              "      height: 32px;\n",
              "      padding: 0 0 0 0;\n",
              "      width: 32px;\n",
              "    }\n",
              "\n",
              "    .colab-df-convert:hover {\n",
              "      background-color: #E2EBFA;\n",
              "      box-shadow: 0px 1px 2px rgba(60, 64, 67, 0.3), 0px 1px 3px 1px rgba(60, 64, 67, 0.15);\n",
              "      fill: #174EA6;\n",
              "    }\n",
              "\n",
              "    [theme=dark] .colab-df-convert {\n",
              "      background-color: #3B4455;\n",
              "      fill: #D2E3FC;\n",
              "    }\n",
              "\n",
              "    [theme=dark] .colab-df-convert:hover {\n",
              "      background-color: #434B5C;\n",
              "      box-shadow: 0px 1px 3px 1px rgba(0, 0, 0, 0.15);\n",
              "      filter: drop-shadow(0px 1px 2px rgba(0, 0, 0, 0.3));\n",
              "      fill: #FFFFFF;\n",
              "    }\n",
              "  </style>\n",
              "\n",
              "      <script>\n",
              "        const buttonEl =\n",
              "          document.querySelector('#df-437121f4-657d-46eb-abc4-be669873136b button.colab-df-convert');\n",
              "        buttonEl.style.display =\n",
              "          google.colab.kernel.accessAllowed ? 'block' : 'none';\n",
              "\n",
              "        async function convertToInteractive(key) {\n",
              "          const element = document.querySelector('#df-437121f4-657d-46eb-abc4-be669873136b');\n",
              "          const dataTable =\n",
              "            await google.colab.kernel.invokeFunction('convertToInteractive',\n",
              "                                                     [key], {});\n",
              "          if (!dataTable) return;\n",
              "\n",
              "          const docLinkHtml = 'Like what you see? Visit the ' +\n",
              "            '<a target=\"_blank\" href=https://colab.research.google.com/notebooks/data_table.ipynb>data table notebook</a>'\n",
              "            + ' to learn more about interactive tables.';\n",
              "          element.innerHTML = '';\n",
              "          dataTable['output_type'] = 'display_data';\n",
              "          await google.colab.output.renderOutput(dataTable, element);\n",
              "          const docLink = document.createElement('div');\n",
              "          docLink.innerHTML = docLinkHtml;\n",
              "          element.appendChild(docLink);\n",
              "        }\n",
              "      </script>\n",
              "    </div>\n",
              "  </div>\n",
              "  "
            ]
          },
          "metadata": {},
          "execution_count": 80
        }
      ]
    },
    {
      "cell_type": "markdown",
      "source": [
        "Visualize how mentions of \"cancel Trump\" have changed over time\n"
      ],
      "metadata": {
        "id": "Kbw3lJY5ttdp"
      }
    },
    {
      "cell_type": "code",
      "source": [
        "tweets[\"contains_cancel_trump\"] = tweets[\"clean_tweets\"].str.contains(\"cancel trump\")\n",
        "cancel_trump_counts = sum(tweets[\"contains_cancel_trump\"])\n",
        "print(cancel_trump_counts)"
      ],
      "metadata": {
        "colab": {
          "base_uri": "https://localhost:8080/"
        },
        "id": "-fno9XFGsgg_",
        "outputId": "1fca0d86-8bad-4b2f-aa06-c2020f23e2a9"
      },
      "execution_count": 81,
      "outputs": [
        {
          "output_type": "stream",
          "name": "stdout",
          "text": [
            "0\n"
          ]
        }
      ]
    },
    {
      "cell_type": "code",
      "source": [
        "tweets[\"Year Created\"] = tweets[\"Date Created\"].str[0:4]\n"
      ],
      "metadata": {
        "id": "zwxUGZj2s9Yp"
      },
      "execution_count": 82,
      "outputs": []
    },
    {
      "cell_type": "code",
      "source": [
        "yearly_mentions = tweets.groupby(\"Year Created\").sum().reset_index()\n",
        "yearly_mentions"
      ],
      "metadata": {
        "colab": {
          "base_uri": "https://localhost:8080/",
          "height": 394
        },
        "id": "vfertz61tqYS",
        "outputId": "df9d2558-bbb8-41da-faa5-c8c1de98cb35"
      },
      "execution_count": 85,
      "outputs": [
        {
          "output_type": "execute_result",
          "data": {
            "text/plain": [
              "   Year Created  Number of Likes  Retweet Count  contains_cancel_trump\n",
              "0          2012            194.0          390.0                      0\n",
              "1          2013            926.0          782.0                      0\n",
              "2          2014            294.0          184.0                      0\n",
              "3          2015           1258.0          711.0                      0\n",
              "4          2016           6653.0         1823.0                      0\n",
              "5          2017           4140.0         1181.0                      0\n",
              "6          2018          18731.0         4622.0                      0\n",
              "7          2019          72282.0        10399.0                      0\n",
              "8          2020           6343.0          986.0                      0\n",
              "9          2021          13031.0         2089.0                      0\n",
              "10         2022          18120.0         3225.0                      0"
            ],
            "text/html": [
              "\n",
              "  <div id=\"df-0fa086d7-1f87-457b-96a5-54458d46ccf2\">\n",
              "    <div class=\"colab-df-container\">\n",
              "      <div>\n",
              "<style scoped>\n",
              "    .dataframe tbody tr th:only-of-type {\n",
              "        vertical-align: middle;\n",
              "    }\n",
              "\n",
              "    .dataframe tbody tr th {\n",
              "        vertical-align: top;\n",
              "    }\n",
              "\n",
              "    .dataframe thead th {\n",
              "        text-align: right;\n",
              "    }\n",
              "</style>\n",
              "<table border=\"1\" class=\"dataframe\">\n",
              "  <thead>\n",
              "    <tr style=\"text-align: right;\">\n",
              "      <th></th>\n",
              "      <th>Year Created</th>\n",
              "      <th>Number of Likes</th>\n",
              "      <th>Retweet Count</th>\n",
              "      <th>contains_cancel_trump</th>\n",
              "    </tr>\n",
              "  </thead>\n",
              "  <tbody>\n",
              "    <tr>\n",
              "      <th>0</th>\n",
              "      <td>2012</td>\n",
              "      <td>194.0</td>\n",
              "      <td>390.0</td>\n",
              "      <td>0</td>\n",
              "    </tr>\n",
              "    <tr>\n",
              "      <th>1</th>\n",
              "      <td>2013</td>\n",
              "      <td>926.0</td>\n",
              "      <td>782.0</td>\n",
              "      <td>0</td>\n",
              "    </tr>\n",
              "    <tr>\n",
              "      <th>2</th>\n",
              "      <td>2014</td>\n",
              "      <td>294.0</td>\n",
              "      <td>184.0</td>\n",
              "      <td>0</td>\n",
              "    </tr>\n",
              "    <tr>\n",
              "      <th>3</th>\n",
              "      <td>2015</td>\n",
              "      <td>1258.0</td>\n",
              "      <td>711.0</td>\n",
              "      <td>0</td>\n",
              "    </tr>\n",
              "    <tr>\n",
              "      <th>4</th>\n",
              "      <td>2016</td>\n",
              "      <td>6653.0</td>\n",
              "      <td>1823.0</td>\n",
              "      <td>0</td>\n",
              "    </tr>\n",
              "    <tr>\n",
              "      <th>5</th>\n",
              "      <td>2017</td>\n",
              "      <td>4140.0</td>\n",
              "      <td>1181.0</td>\n",
              "      <td>0</td>\n",
              "    </tr>\n",
              "    <tr>\n",
              "      <th>6</th>\n",
              "      <td>2018</td>\n",
              "      <td>18731.0</td>\n",
              "      <td>4622.0</td>\n",
              "      <td>0</td>\n",
              "    </tr>\n",
              "    <tr>\n",
              "      <th>7</th>\n",
              "      <td>2019</td>\n",
              "      <td>72282.0</td>\n",
              "      <td>10399.0</td>\n",
              "      <td>0</td>\n",
              "    </tr>\n",
              "    <tr>\n",
              "      <th>8</th>\n",
              "      <td>2020</td>\n",
              "      <td>6343.0</td>\n",
              "      <td>986.0</td>\n",
              "      <td>0</td>\n",
              "    </tr>\n",
              "    <tr>\n",
              "      <th>9</th>\n",
              "      <td>2021</td>\n",
              "      <td>13031.0</td>\n",
              "      <td>2089.0</td>\n",
              "      <td>0</td>\n",
              "    </tr>\n",
              "    <tr>\n",
              "      <th>10</th>\n",
              "      <td>2022</td>\n",
              "      <td>18120.0</td>\n",
              "      <td>3225.0</td>\n",
              "      <td>0</td>\n",
              "    </tr>\n",
              "  </tbody>\n",
              "</table>\n",
              "</div>\n",
              "      <button class=\"colab-df-convert\" onclick=\"convertToInteractive('df-0fa086d7-1f87-457b-96a5-54458d46ccf2')\"\n",
              "              title=\"Convert this dataframe to an interactive table.\"\n",
              "              style=\"display:none;\">\n",
              "        \n",
              "  <svg xmlns=\"http://www.w3.org/2000/svg\" height=\"24px\"viewBox=\"0 0 24 24\"\n",
              "       width=\"24px\">\n",
              "    <path d=\"M0 0h24v24H0V0z\" fill=\"none\"/>\n",
              "    <path d=\"M18.56 5.44l.94 2.06.94-2.06 2.06-.94-2.06-.94-.94-2.06-.94 2.06-2.06.94zm-11 1L8.5 8.5l.94-2.06 2.06-.94-2.06-.94L8.5 2.5l-.94 2.06-2.06.94zm10 10l.94 2.06.94-2.06 2.06-.94-2.06-.94-.94-2.06-.94 2.06-2.06.94z\"/><path d=\"M17.41 7.96l-1.37-1.37c-.4-.4-.92-.59-1.43-.59-.52 0-1.04.2-1.43.59L10.3 9.45l-7.72 7.72c-.78.78-.78 2.05 0 2.83L4 21.41c.39.39.9.59 1.41.59.51 0 1.02-.2 1.41-.59l7.78-7.78 2.81-2.81c.8-.78.8-2.07 0-2.86zM5.41 20L4 18.59l7.72-7.72 1.47 1.35L5.41 20z\"/>\n",
              "  </svg>\n",
              "      </button>\n",
              "      \n",
              "  <style>\n",
              "    .colab-df-container {\n",
              "      display:flex;\n",
              "      flex-wrap:wrap;\n",
              "      gap: 12px;\n",
              "    }\n",
              "\n",
              "    .colab-df-convert {\n",
              "      background-color: #E8F0FE;\n",
              "      border: none;\n",
              "      border-radius: 50%;\n",
              "      cursor: pointer;\n",
              "      display: none;\n",
              "      fill: #1967D2;\n",
              "      height: 32px;\n",
              "      padding: 0 0 0 0;\n",
              "      width: 32px;\n",
              "    }\n",
              "\n",
              "    .colab-df-convert:hover {\n",
              "      background-color: #E2EBFA;\n",
              "      box-shadow: 0px 1px 2px rgba(60, 64, 67, 0.3), 0px 1px 3px 1px rgba(60, 64, 67, 0.15);\n",
              "      fill: #174EA6;\n",
              "    }\n",
              "\n",
              "    [theme=dark] .colab-df-convert {\n",
              "      background-color: #3B4455;\n",
              "      fill: #D2E3FC;\n",
              "    }\n",
              "\n",
              "    [theme=dark] .colab-df-convert:hover {\n",
              "      background-color: #434B5C;\n",
              "      box-shadow: 0px 1px 3px 1px rgba(0, 0, 0, 0.15);\n",
              "      filter: drop-shadow(0px 1px 2px rgba(0, 0, 0, 0.3));\n",
              "      fill: #FFFFFF;\n",
              "    }\n",
              "  </style>\n",
              "\n",
              "      <script>\n",
              "        const buttonEl =\n",
              "          document.querySelector('#df-0fa086d7-1f87-457b-96a5-54458d46ccf2 button.colab-df-convert');\n",
              "        buttonEl.style.display =\n",
              "          google.colab.kernel.accessAllowed ? 'block' : 'none';\n",
              "\n",
              "        async function convertToInteractive(key) {\n",
              "          const element = document.querySelector('#df-0fa086d7-1f87-457b-96a5-54458d46ccf2');\n",
              "          const dataTable =\n",
              "            await google.colab.kernel.invokeFunction('convertToInteractive',\n",
              "                                                     [key], {});\n",
              "          if (!dataTable) return;\n",
              "\n",
              "          const docLinkHtml = 'Like what you see? Visit the ' +\n",
              "            '<a target=\"_blank\" href=https://colab.research.google.com/notebooks/data_table.ipynb>data table notebook</a>'\n",
              "            + ' to learn more about interactive tables.';\n",
              "          element.innerHTML = '';\n",
              "          dataTable['output_type'] = 'display_data';\n",
              "          await google.colab.output.renderOutput(dataTable, element);\n",
              "          const docLink = document.createElement('div');\n",
              "          docLink.innerHTML = docLinkHtml;\n",
              "          element.appendChild(docLink);\n",
              "        }\n",
              "      </script>\n",
              "    </div>\n",
              "  </div>\n",
              "  "
            ]
          },
          "metadata": {},
          "execution_count": 85
        }
      ]
    },
    {
      "cell_type": "code",
      "source": [
        "plt.plot(yearly_mentions[\"Year Created\"], yearly_mentions[\"contains_cancel_trump\"])\n",
        "plt.xlabel(\"Year\")\n",
        "plt.ylabel(\"Number of Tweets Containing `cancel Trump`\")\n",
        "plt.show()"
      ],
      "metadata": {
        "colab": {
          "base_uri": "https://localhost:8080/",
          "height": 279
        },
        "id": "_nWuw-fcuJHc",
        "outputId": "f4531c28-188d-4ba8-898c-fc7b42a66f66"
      },
      "execution_count": 86,
      "outputs": [
        {
          "output_type": "display_data",
          "data": {
            "text/plain": [
              "<Figure size 432x288 with 1 Axes>"
            ],
            "image/png": "[encoded data removed]"
          },
          "metadata": {
            "needs_background": "light"
          }
        }
      ]
    },
    {
      "cell_type": "markdown",
      "source": [
        "Sentiment Analysis"
      ],
      "metadata": {
        "id": "ibLL-qaNxDGr"
      }
    },
    {
      "cell_type": "code",
      "source": [
        "nltk.download('vader_lexicon')"
      ],
      "metadata": {
        "colab": {
          "base_uri": "https://localhost:8080/"
        },
        "id": "3PDoxE4-vO9P",
        "outputId": "7f2925a1-1e38-48ad-9b65-c15378849b60"
      },
      "execution_count": 89,
      "outputs": [
        {
          "output_type": "stream",
          "name": "stderr",
          "text": [
            "[nltk_data] Downloading package vader_lexicon to /root/nltk_data...\n",
            "[nltk_data]   Package vader_lexicon is already up-to-date!\n"
          ]
        },
        {
          "output_type": "execute_result",
          "data": {
            "text/plain": [
              "True"
            ]
          },
          "metadata": {},
          "execution_count": 89
        }
      ]
    },
    {
      "cell_type": "code",
      "source": [
        "sia = SentimentIntensityAnalyzer()"
      ],
      "metadata": {
        "id": "HQt0FySCvUiO"
      },
      "execution_count": 88,
      "outputs": []
    },
    {
      "cell_type": "code",
      "source": [
        "tweets[\"polarity\"] = tweets[\"clean_tweets\"].apply(lambda x: sia.polarity_scores(x))"
      ],
      "metadata": {
        "id": "a7wNR36ZvXmC"
      },
      "execution_count": 87,
      "outputs": []
    },
    {
      "cell_type": "code",
      "source": [
        "tweets[['neg', 'neu', 'pos', 'compound']] = tweets['polarity'].apply(pd.Series)\n",
        "tweets.drop('polarity', axis=1)"
      ],
      "metadata": {
        "colab": {
          "base_uri": "https://localhost:8080/",
          "height": 991
        },
        "id": "ohpNb1kAvf9e",
        "outputId": "4cbf1ae9-20a0-4266-ee84-3c5dcf22efd3"
      },
      "execution_count": 90,
      "outputs": [
        {
          "output_type": "execute_result",
          "data": {
            "text/plain": [
              "                  User               Date Created  Number of Likes  \\\n",
              "0                _4D4D  2012-12-31 23:52:45+00:00              0.0   \n",
              "1           HotDuckOrg  2012-12-31 23:51:56+00:00              0.0   \n",
              "2          emilyybroon  2012-12-31 23:51:10+00:00              1.0   \n",
              "3       getawayplacess  2012-12-31 23:51:10+00:00              0.0   \n",
              "4                GugsM  2012-12-31 23:50:52+00:00              0.0   \n",
              "...                ...                        ...              ...   \n",
              "11007  EnlightenBright  2022-12-31 21:55:59+00:00              0.0   \n",
              "11008  PaulFox50854324  2022-12-31 21:55:56+00:00              6.0   \n",
              "11009     eaglesfly321  2022-12-31 21:55:55+00:00              0.0   \n",
              "11010     Alesio424291  2022-12-31 21:55:54+00:00              1.0   \n",
              "11011      KaledHamodi  2022-12-31 21:55:53+00:00             10.0   \n",
              "\n",
              "               Source of Tweet  \\\n",
              "0      Twitter for BlackBerry®   \n",
              "1                  twitterfeed   \n",
              "2          Twitter for Android   \n",
              "3           Twitter for iPhone   \n",
              "4             Twitter for iPad   \n",
              "...                        ...   \n",
              "11007       Twitter for iPhone   \n",
              "11008      Twitter for Android   \n",
              "11009       Twitter for iPhone   \n",
              "11010      Twitter for Android   \n",
              "11011      Twitter for Android   \n",
              "\n",
              "                                                   Tweet  Retweet Count  \\\n",
              "0      @realDonaldTrump fuck you donald trump you sha...            0.0   \n",
              "1      Miss Pennsylvania idømt million-bøde: Donald T...            0.0   \n",
              "2      \"visit Scotland, before Donald Trump turns it ...            0.0   \n",
              "3      LOOOOOOL I TWEETED HAPPY NEW YEAR TO DONALD TR...            0.0   \n",
              "4      Lol! Do better Emily! “@stephlombard: Had to G...            0.0   \n",
              "...                                                  ...            ...   \n",
              "11007  @NickAdamsinUSA God hates Donald Trump because...            0.0   \n",
              "11008  Just how vile is Donald Trump?\\nhttps://t.co/t...            3.0   \n",
              "11009  @MarkHamill Seriously why does everything with...            0.0   \n",
              "11010  Es posible que el presidente de Brasil Jair Bo...            1.0   \n",
              "11011  @MattWallace888 @MarioNawfal I would love to s...            0.0   \n",
              "\n",
              "                                            clean_tweets  \\\n",
              "0      realdonaldtrump fuck donald trump shameless hy...   \n",
              "1      miss pennsylvania idømt millionbøde donald tru...   \n",
              "2      visit scotland donald trump turns golf course ...   \n",
              "3      looooool tweeted happy new year donald trump r...   \n",
              "4      lol better emily stephlombard google obeezy sh...   \n",
              "...                                                  ...   \n",
              "11007  nickadamsinusa god hates donald trump supporte...   \n",
              "11008          just vile donald trump httpstcotf3jv9kfqo   \n",
              "11009    markhamill seriously does liberals donald trump   \n",
              "11010  es posible que el presidente brasil jair bolso...   \n",
              "11011  mattwallace888 marionawfal love debate greta d...   \n",
              "\n",
              "       contains_cancel_trump Year Created    neg    neu    pos  compound  \n",
              "0                      False         2012  0.758  0.242  0.000   -0.9100  \n",
              "1                      False         2012  0.167  0.833  0.000   -0.2960  \n",
              "2                      False         2012  0.000  1.000  0.000    0.0000  \n",
              "3                      False         2012  0.000  0.748  0.252    0.5719  \n",
              "4                      False         2012  0.139  0.385  0.476    0.7906  \n",
              "...                      ...          ...    ...    ...    ...       ...  \n",
              "11007                  False         2022  0.076  0.550  0.374    0.8555  \n",
              "11008                  False         2022  0.506  0.494  0.000   -0.6249  \n",
              "11009                  False         2022  0.254  0.746  0.000   -0.1779  \n",
              "11010                  False         2022  0.000  1.000  0.000    0.0000  \n",
              "11011                  False         2022  0.000  0.588  0.412    0.6369  \n",
              "\n",
              "[11011 rows x 13 columns]"
            ],
            "text/html": [
              "\n",
              "  <div id=\"df-0cbea832-7736-4f0a-9247-78b33f3cee51\">\n",
              "    <div class=\"colab-df-container\">\n",
              "      <div>\n",
              "<style scoped>\n",
              "    .dataframe tbody tr th:only-of-type {\n",
              "        vertical-align: middle;\n",
              "    }\n",
              "\n",
              "    .dataframe tbody tr th {\n",
              "        vertical-align: top;\n",
              "    }\n",
              "\n",
              "    .dataframe thead th {\n",
              "        text-align: right;\n",
              "    }\n",
              "</style>\n",
              "<table border=\"1\" class=\"dataframe\">\n",
              "  <thead>\n",
              "    <tr style=\"text-align: right;\">\n",
              "      <th></th>\n",
              "      <th>User</th>\n",
              "      <th>Date Created</th>\n",
              "      <th>Number of Likes</th>\n",
              "      <th>Source of Tweet</th>\n",
              "      <th>Tweet</th>\n",
              "      <th>Retweet Count</th>\n",
              "      <th>clean_tweets</th>\n",
              "      <th>contains_cancel_trump</th>\n",
              "      <th>Year Created</th>\n",
              "      <th>neg</th>\n",
              "      <th>neu</th>\n",
              "      <th>pos</th>\n",
              "      <th>compound</th>\n",
              "    </tr>\n",
              "  </thead>\n",
              "  <tbody>\n",
              "    <tr>\n",
              "      <th>0</th>\n",
              "      <td>_4D4D</td>\n",
              "      <td>2012-12-31 23:52:45+00:00</td>\n",
              "      <td>0.0</td>\n",
              "      <td>Twitter for BlackBerry®</td>\n",
              "      <td>@realDonaldTrump fuck you donald trump you sha...</td>\n",
              "      <td>0.0</td>\n",
              "      <td>realdonaldtrump fuck donald trump shameless hy...</td>\n",
              "      <td>False</td>\n",
              "      <td>2012</td>\n",
              "      <td>0.758</td>\n",
              "      <td>0.242</td>\n",
              "      <td>0.000</td>\n",
              "      <td>-0.9100</td>\n",
              "    </tr>\n",
              "    <tr>\n",
              "      <th>1</th>\n",
              "      <td>HotDuckOrg</td>\n",
              "      <td>2012-12-31 23:51:56+00:00</td>\n",
              "      <td>0.0</td>\n",
              "      <td>twitterfeed</td>\n",
              "      <td>Miss Pennsylvania idømt million-bøde: Donald T...</td>\n",
              "      <td>0.0</td>\n",
              "      <td>miss pennsylvania idømt millionbøde donald tru...</td>\n",
              "      <td>False</td>\n",
              "      <td>2012</td>\n",
              "      <td>0.167</td>\n",
              "      <td>0.833</td>\n",
              "      <td>0.000</td>\n",
              "      <td>-0.2960</td>\n",
              "    </tr>\n",
              "    <tr>\n",
              "      <th>2</th>\n",
              "      <td>emilyybroon</td>\n",
              "      <td>2012-12-31 23:51:10+00:00</td>\n",
              "      <td>1.0</td>\n",
              "      <td>Twitter for Android</td>\n",
              "      <td>\"visit Scotland, before Donald Trump turns it ...</td>\n",
              "      <td>0.0</td>\n",
              "      <td>visit scotland donald trump turns golf course ...</td>\n",
              "      <td>False</td>\n",
              "      <td>2012</td>\n",
              "      <td>0.000</td>\n",
              "      <td>1.000</td>\n",
              "      <td>0.000</td>\n",
              "      <td>0.0000</td>\n",
              "    </tr>\n",
              "    <tr>\n",
              "      <th>3</th>\n",
              "      <td>getawayplacess</td>\n",
              "      <td>2012-12-31 23:51:10+00:00</td>\n",
              "      <td>0.0</td>\n",
              "      <td>Twitter for iPhone</td>\n",
              "      <td>LOOOOOOL I TWEETED HAPPY NEW YEAR TO DONALD TR...</td>\n",
              "      <td>0.0</td>\n",
              "      <td>looooool tweeted happy new year donald trump r...</td>\n",
              "      <td>False</td>\n",
              "      <td>2012</td>\n",
              "      <td>0.000</td>\n",
              "      <td>0.748</td>\n",
              "      <td>0.252</td>\n",
              "      <td>0.5719</td>\n",
              "    </tr>\n",
              "    <tr>\n",
              "      <th>4</th>\n",
              "      <td>GugsM</td>\n",
              "      <td>2012-12-31 23:50:52+00:00</td>\n",
              "      <td>0.0</td>\n",
              "      <td>Twitter for iPad</td>\n",
              "      <td>Lol! Do better Emily! “@stephlombard: Had to G...</td>\n",
              "      <td>0.0</td>\n",
              "      <td>lol better emily stephlombard google obeezy sh...</td>\n",
              "      <td>False</td>\n",
              "      <td>2012</td>\n",
              "      <td>0.139</td>\n",
              "      <td>0.385</td>\n",
              "      <td>0.476</td>\n",
              "      <td>0.7906</td>\n",
              "    </tr>\n",
              "    <tr>\n",
              "      <th>...</th>\n",
              "      <td>...</td>\n",
              "      <td>...</td>\n",
              "      <td>...</td>\n",
              "      <td>...</td>\n",
              "      <td>...</td>\n",
              "      <td>...</td>\n",
              "      <td>...</td>\n",
              "      <td>...</td>\n",
              "      <td>...</td>\n",
              "      <td>...</td>\n",
              "      <td>...</td>\n",
              "      <td>...</td>\n",
              "      <td>...</td>\n",
              "    </tr>\n",
              "    <tr>\n",
              "      <th>11007</th>\n",
              "      <td>EnlightenBright</td>\n",
              "      <td>2022-12-31 21:55:59+00:00</td>\n",
              "      <td>0.0</td>\n",
              "      <td>Twitter for iPhone</td>\n",
              "      <td>@NickAdamsinUSA God hates Donald Trump because...</td>\n",
              "      <td>0.0</td>\n",
              "      <td>nickadamsinusa god hates donald trump supporte...</td>\n",
              "      <td>False</td>\n",
              "      <td>2022</td>\n",
              "      <td>0.076</td>\n",
              "      <td>0.550</td>\n",
              "      <td>0.374</td>\n",
              "      <td>0.8555</td>\n",
              "    </tr>\n",
              "    <tr>\n",
              "      <th>11008</th>\n",
              "      <td>PaulFox50854324</td>\n",
              "      <td>2022-12-31 21:55:56+00:00</td>\n",
              "      <td>6.0</td>\n",
              "      <td>Twitter for Android</td>\n",
              "      <td>Just how vile is Donald Trump?\\nhttps://t.co/t...</td>\n",
              "      <td>3.0</td>\n",
              "      <td>just vile donald trump httpstcotf3jv9kfqo</td>\n",
              "      <td>False</td>\n",
              "      <td>2022</td>\n",
              "      <td>0.506</td>\n",
              "      <td>0.494</td>\n",
              "      <td>0.000</td>\n",
              "      <td>-0.6249</td>\n",
              "    </tr>\n",
              "    <tr>\n",
              "      <th>11009</th>\n",
              "      <td>eaglesfly321</td>\n",
              "      <td>2022-12-31 21:55:55+00:00</td>\n",
              "      <td>0.0</td>\n",
              "      <td>Twitter for iPhone</td>\n",
              "      <td>@MarkHamill Seriously why does everything with...</td>\n",
              "      <td>0.0</td>\n",
              "      <td>markhamill seriously does liberals donald trump</td>\n",
              "      <td>False</td>\n",
              "      <td>2022</td>\n",
              "      <td>0.254</td>\n",
              "      <td>0.746</td>\n",
              "      <td>0.000</td>\n",
              "      <td>-0.1779</td>\n",
              "    </tr>\n",
              "    <tr>\n",
              "      <th>11010</th>\n",
              "      <td>Alesio424291</td>\n",
              "      <td>2022-12-31 21:55:54+00:00</td>\n",
              "      <td>1.0</td>\n",
              "      <td>Twitter for Android</td>\n",
              "      <td>Es posible que el presidente de Brasil Jair Bo...</td>\n",
              "      <td>1.0</td>\n",
              "      <td>es posible que el presidente brasil jair bolso...</td>\n",
              "      <td>False</td>\n",
              "      <td>2022</td>\n",
              "      <td>0.000</td>\n",
              "      <td>1.000</td>\n",
              "      <td>0.000</td>\n",
              "      <td>0.0000</td>\n",
              "    </tr>\n",
              "    <tr>\n",
              "      <th>11011</th>\n",
              "      <td>KaledHamodi</td>\n",
              "      <td>2022-12-31 21:55:53+00:00</td>\n",
              "      <td>10.0</td>\n",
              "      <td>Twitter for Android</td>\n",
              "      <td>@MattWallace888 @MarioNawfal I would love to s...</td>\n",
              "      <td>0.0</td>\n",
              "      <td>mattwallace888 marionawfal love debate greta d...</td>\n",
              "      <td>False</td>\n",
              "      <td>2022</td>\n",
              "      <td>0.000</td>\n",
              "      <td>0.588</td>\n",
              "      <td>0.412</td>\n",
              "      <td>0.6369</td>\n",
              "    </tr>\n",
              "  </tbody>\n",
              "</table>\n",
              "<p>11011 rows × 13 columns</p>\n",
              "</div>\n",
              "      <button class=\"colab-df-convert\" onclick=\"convertToInteractive('df-0cbea832-7736-4f0a-9247-78b33f3cee51')\"\n",
              "              title=\"Convert this dataframe to an interactive table.\"\n",
              "              style=\"display:none;\">\n",
              "        \n",
              "  <svg xmlns=\"http://www.w3.org/2000/svg\" height=\"24px\"viewBox=\"0 0 24 24\"\n",
              "       width=\"24px\">\n",
              "    <path d=\"M0 0h24v24H0V0z\" fill=\"none\"/>\n",
              "    <path d=\"M18.56 5.44l.94 2.06.94-2.06 2.06-.94-2.06-.94-.94-2.06-.94 2.06-2.06.94zm-11 1L8.5 8.5l.94-2.06 2.06-.94-2.06-.94L8.5 2.5l-.94 2.06-2.06.94zm10 10l.94 2.06.94-2.06 2.06-.94-2.06-.94-.94-2.06-.94 2.06-2.06.94z\"/><path d=\"M17.41 7.96l-1.37-1.37c-.4-.4-.92-.59-1.43-.59-.52 0-1.04.2-1.43.59L10.3 9.45l-7.72 7.72c-.78.78-.78 2.05 0 2.83L4 21.41c.39.39.9.59 1.41.59.51 0 1.02-.2 1.41-.59l7.78-7.78 2.81-2.81c.8-.78.8-2.07 0-2.86zM5.41 20L4 18.59l7.72-7.72 1.47 1.35L5.41 20z\"/>\n",
              "  </svg>\n",
              "      </button>\n",
              "      \n",
              "  <style>\n",
              "    .colab-df-container {\n",
              "      display:flex;\n",
              "      flex-wrap:wrap;\n",
              "      gap: 12px;\n",
              "    }\n",
              "\n",
              "    .colab-df-convert {\n",
              "      background-color: #E8F0FE;\n",
              "      border: none;\n",
              "      border-radius: 50%;\n",
              "      cursor: pointer;\n",
              "      display: none;\n",
              "      fill: #1967D2;\n",
              "      height: 32px;\n",
              "      padding: 0 0 0 0;\n",
              "      width: 32px;\n",
              "    }\n",
              "\n",
              "    .colab-df-convert:hover {\n",
              "      background-color: #E2EBFA;\n",
              "      box-shadow: 0px 1px 2px rgba(60, 64, 67, 0.3), 0px 1px 3px 1px rgba(60, 64, 67, 0.15);\n",
              "      fill: #174EA6;\n",
              "    }\n",
              "\n",
              "    [theme=dark] .colab-df-convert {\n",
              "      background-color: #3B4455;\n",
              "      fill: #D2E3FC;\n",
              "    }\n",
              "\n",
              "    [theme=dark] .colab-df-convert:hover {\n",
              "      background-color: #434B5C;\n",
              "      box-shadow: 0px 1px 3px 1px rgba(0, 0, 0, 0.15);\n",
              "      filter: drop-shadow(0px 1px 2px rgba(0, 0, 0, 0.3));\n",
              "      fill: #FFFFFF;\n",
              "    }\n",
              "  </style>\n",
              "\n",
              "      <script>\n",
              "        const buttonEl =\n",
              "          document.querySelector('#df-0cbea832-7736-4f0a-9247-78b33f3cee51 button.colab-df-convert');\n",
              "        buttonEl.style.display =\n",
              "          google.colab.kernel.accessAllowed ? 'block' : 'none';\n",
              "\n",
              "        async function convertToInteractive(key) {\n",
              "          const element = document.querySelector('#df-0cbea832-7736-4f0a-9247-78b33f3cee51');\n",
              "          const dataTable =\n",
              "            await google.colab.kernel.invokeFunction('convertToInteractive',\n",
              "                                                     [key], {});\n",
              "          if (!dataTable) return;\n",
              "\n",
              "          const docLinkHtml = 'Like what you see? Visit the ' +\n",
              "            '<a target=\"_blank\" href=https://colab.research.google.com/notebooks/data_table.ipynb>data table notebook</a>'\n",
              "            + ' to learn more about interactive tables.';\n",
              "          element.innerHTML = '';\n",
              "          dataTable['output_type'] = 'display_data';\n",
              "          await google.colab.output.renderOutput(dataTable, element);\n",
              "          const docLink = document.createElement('div');\n",
              "          docLink.innerHTML = docLinkHtml;\n",
              "          element.appendChild(docLink);\n",
              "        }\n",
              "      </script>\n",
              "    </div>\n",
              "  </div>\n",
              "  "
            ]
          },
          "metadata": {},
          "execution_count": 90
        }
      ]
    },
    {
      "cell_type": "code",
      "source": [
        "positive = sum(tweets[\"pos\"])\n",
        "negative = sum(tweets[\"neg\"])\n",
        "compound = sum(tweets[\"compound\"])\n",
        "neutral = sum(tweets[\"neu\"])\n",
        "\n",
        "print(\"Positive: \", positive)\n",
        "print(\"Negative \", negative)\n",
        "print(\"Compound\", compound)\n",
        "print(\"Neutral\", neutral)"
      ],
      "metadata": {
        "colab": {
          "base_uri": "https://localhost:8080/"
        },
        "id": "8ZC0v1zAvz9p",
        "outputId": "83776c59-9e61-40b7-9ef1-5718bd02446b"
      },
      "execution_count": 91,
      "outputs": [
        {
          "output_type": "stream",
          "name": "stdout",
          "text": [
            "Positive:  1448.2799999999922\n",
            "Negative  1211.8940000000046\n",
            "Compound 178.50160000000034\n",
            "Neutral 8350.82099999989\n"
          ]
        }
      ]
    },
    {
      "cell_type": "code",
      "source": [
        "df = tweets.groupby(\"Year Created\").sum().reset_index()\n",
        "\n",
        "plt.plot(df[\"Year Created\"], df[\"pos\"], label=\"positive\")\n",
        "plt.plot(df[\"Year Created\"], df[\"neg\"], label = \"negative\")\n",
        "plt.plot(df[\"Year Created\"], df[\"compound\"], label = \"compound\")\n",
        "plt.plot(df[\"Year Created\"], df[\"neu\"], label = \"neutral\")\n",
        "plt.xlabel(\"Year\")\n",
        "plt.ylabel(\"Sentiment Value\")\n",
        "plt.legend()\n",
        "plt.show()\n"
      ],
      "metadata": {
        "colab": {
          "base_uri": "https://localhost:8080/",
          "height": 279
        },
        "id": "WSXskbuew29a",
        "outputId": "1311ad3d-54a3-4d83-a4fc-1592d45155f6"
      },
      "execution_count": 92,
      "outputs": [
        {
          "output_type": "display_data",
          "data": {
            "text/plain": [
              "<Figure size 432x288 with 1 Axes>"
            ],
            "image/png": "[encoded data removed]"
          },
          "metadata": {
            "needs_background": "light"
          }
        }
      ]
    },
    {
      "cell_type": "markdown",
      "source": [
        "Topic Modelling\n",
        "\n",
        "Referred to https://www.kaggle.com/code/vedraiyani/topic-modelling"
      ],
      "metadata": {
        "id": "UE5o9zgw0B-O"
      }
    },
    {
      "cell_type": "code",
      "source": [
        "data = tweets[\"clean_tweets\"].values.tolist()\n",
        "\n",
        "# Remove Emails\n",
        "data = [re.sub('\\S*@\\S*\\s?', '', sent) for sent in data]\n",
        "\n",
        "# Remove new line characters\n",
        "data = [re.sub('\\s+', ' ', sent) for sent in data]\n",
        "\n",
        "# Remove distracting single quotes\n",
        "data = [re.sub(\"\\'\", \"\", sent) for sent in data]\n",
        "data[:1]"
      ],
      "metadata": {
        "colab": {
          "base_uri": "https://localhost:8080/"
        },
        "id": "j6aafGou0tAK",
        "outputId": "094bf448-2d48-431a-b34f-185378b91ee2"
      },
      "execution_count": 94,
      "outputs": [
        {
          "output_type": "stream",
          "name": "stderr",
          "text": [
            "<>:4: DeprecationWarning: invalid escape sequence \\S\n",
            "<>:7: DeprecationWarning: invalid escape sequence \\s\n",
            "<>:4: DeprecationWarning: invalid escape sequence \\S\n",
            "<>:7: DeprecationWarning: invalid escape sequence \\s\n",
            "<ipython-input-94-148db030e8e8>:4: DeprecationWarning: invalid escape sequence \\S\n",
            "  data = [re.sub('\\S*@\\S*\\s?', '', sent) for sent in data]\n",
            "<ipython-input-94-148db030e8e8>:7: DeprecationWarning: invalid escape sequence \\s\n",
            "  data = [re.sub('\\s+', ' ', sent) for sent in data]\n"
          ]
        },
        {
          "output_type": "execute_result",
          "data": {
            "text/plain": [
              "['realdonaldtrump fuck donald trump shameless hypocrite selfish fuck']"
            ]
          },
          "metadata": {},
          "execution_count": 94
        }
      ]
    },
    {
      "cell_type": "code",
      "source": [
        "def sent_to_words(sentences):\n",
        "    for sentence in sentences:\n",
        "        yield(gensim.utils.simple_preprocess(str(sentence), deacc=True))  # deacc=True removes punctuations\n",
        "\n",
        "data_words = list(sent_to_words(data))\n",
        "\n",
        "print(data_words[:1])"
      ],
      "metadata": {
        "colab": {
          "base_uri": "https://localhost:8080/"
        },
        "id": "tYZEKrsg0D3m",
        "outputId": "302a5619-8c23-4454-da92-ff9ec7520575"
      },
      "execution_count": 95,
      "outputs": [
        {
          "output_type": "stream",
          "name": "stdout",
          "text": [
            "[['realdonaldtrump', 'fuck', 'donald', 'trump', 'shameless', 'hypocrite', 'selfish', 'fuck']]\n"
          ]
        }
      ]
    },
    {
      "cell_type": "code",
      "source": [
        "# Build the bigram and trigram models\n",
        "bigram = gensim.models.Phrases(data_words, min_count=5, threshold=100) # higher threshold fewer phrases.\n",
        "trigram = gensim.models.Phrases(bigram[data_words], threshold=100)  \n",
        "\n",
        "# Faster way to get a sentence clubbed as a trigram/bigram\n",
        "bigram_mod = gensim.models.phrases.Phraser(bigram)\n",
        "trigram_mod = gensim.models.phrases.Phraser(trigram)\n",
        "\n",
        "# See trigram example\n",
        "print(trigram_mod[bigram_mod[data_words[0]]])"
      ],
      "metadata": {
        "colab": {
          "base_uri": "https://localhost:8080/"
        },
        "id": "mMakNK6X1RNG",
        "outputId": "2c48bf91-a291-4a4e-df68-9d5e9d9c13b2"
      },
      "execution_count": 96,
      "outputs": [
        {
          "output_type": "stream",
          "name": "stdout",
          "text": [
            "['realdonaldtrump', 'fuck', 'donald', 'trump', 'shameless', 'hypocrite', 'selfish', 'fuck']\n"
          ]
        }
      ]
    },
    {
      "cell_type": "code",
      "source": [
        "nltk.download('stopwords')\n",
        "stop_words = stopwords.words('english')\n",
        "stop_words.extend(['from', 'subject', 're', 'edu', 'use'])\n"
      ],
      "metadata": {
        "colab": {
          "base_uri": "https://localhost:8080/"
        },
        "id": "6VtARXgR1YTB",
        "outputId": "3d303c7c-a259-4771-d71a-764d1ded6c92"
      },
      "execution_count": 97,
      "outputs": [
        {
          "output_type": "stream",
          "name": "stderr",
          "text": [
            "[nltk_data] Downloading package stopwords to /root/nltk_data...\n",
            "[nltk_data]   Package stopwords is already up-to-date!\n"
          ]
        }
      ]
    },
    {
      "cell_type": "code",
      "source": [
        "# Define functions for stopwords, bigrams, trigrams and lemmatization\n",
        "def remove_stopwords(texts):\n",
        "    return [[word for word in simple_preprocess(str(doc)) if word not in stop_words] for doc in texts]\n",
        "\n",
        "def make_bigrams(texts):\n",
        "    return [bigram_mod[doc] for doc in texts]\n",
        "\n",
        "def make_trigrams(texts):\n",
        "    return [trigram_mod[bigram_mod[doc]] for doc in texts]\n",
        "\n",
        "def lemmatization(texts, allowed_postags=['NOUN', 'ADJ', 'VERB', 'ADV']):\n",
        "    \"\"\"https://spacy.io/api/annotation\"\"\"\n",
        "    texts_out = []\n",
        "    for sent in texts:\n",
        "        doc = nlp(\" \".join(sent)) \n",
        "        texts_out.append([token.lemma_ for token in doc if token.pos_ in allowed_postags])\n",
        "    return texts_out"
      ],
      "metadata": {
        "id": "3zuxDUPq1tke"
      },
      "execution_count": 98,
      "outputs": []
    },
    {
      "cell_type": "code",
      "source": [
        "# Remove Stop Words\n",
        "data_words_nostops = remove_stopwords(data_words)\n",
        "\n",
        "# Form Bigrams\n",
        "data_words_bigrams = make_bigrams(data_words_nostops)"
      ],
      "metadata": {
        "id": "FnfCFFTu2qIj"
      },
      "execution_count": 99,
      "outputs": []
    },
    {
      "cell_type": "code",
      "source": [
        "nlp = spacy.load('en_core_web_sm', disable=['parser', 'ner'])\n",
        "\n",
        "# Do lemmatization keeping only noun, adj, vb, adv\n",
        "data_lemmatized = lemmatization(data_words_bigrams, allowed_postags=['NOUN', 'ADJ', 'VERB', 'ADV'])\n",
        "\n",
        "print(data_lemmatized[:1])"
      ],
      "metadata": {
        "colab": {
          "base_uri": "https://localhost:8080/"
        },
        "id": "qM49Or4L2uFr",
        "outputId": "65d451a0-1121-4ec2-fb7e-ecb16ff29a7a"
      },
      "execution_count": 100,
      "outputs": [
        {
          "output_type": "stream",
          "name": "stdout",
          "text": [
            "[['realdonaldtrump', 'fuck', 'donald', 'trump', 'shameless', 'hypocrite', 'selfish', 'fuck']]\n"
          ]
        }
      ]
    },
    {
      "cell_type": "code",
      "source": [
        "tweets_lemmatized=data_lemmatized\n"
      ],
      "metadata": {
        "id": "ndXDMc_23Z7r"
      },
      "execution_count": 101,
      "outputs": []
    },
    {
      "cell_type": "code",
      "source": [
        "id2word = Dictionary(tweets_lemmatized)\n",
        "corpus = [id2word.doc2bow(tweet) for tweet in tweets_lemmatized]\n"
      ],
      "metadata": {
        "id": "pO4Wah3P3cbD"
      },
      "execution_count": 107,
      "outputs": []
    },
    {
      "cell_type": "code",
      "source": [
        "# Build LDA model\n",
        "lda_model = LdaModel(corpus=corpus,\n",
        "                   id2word=id2word,\n",
        "                   num_topics=10, \n",
        "                   random_state=0,\n",
        "                   chunksize=100,\n",
        "                   alpha='auto',\n",
        "                   per_word_topics=True)"
      ],
      "metadata": {
        "id": "UKAMxoCP3noP"
      },
      "execution_count": 108,
      "outputs": []
    },
    {
      "cell_type": "code",
      "source": [
        "lda_model.print_topics()"
      ],
      "metadata": {
        "colab": {
          "base_uri": "https://localhost:8080/"
        },
        "id": "mGIlIgpB3rYC",
        "outputId": "32c506eb-00b6-4aa6-fc82-90b8bf5ee62d"
      },
      "execution_count": 109,
      "outputs": [
        {
          "output_type": "execute_result",
          "data": {
            "text/plain": [
              "[(0,\n",
              "  '0.042*\"make\" + 0.040*\"pay\" + 0.031*\"great\" + 0.029*\"look\" + 0.027*\"use\" + 0.026*\"try\" + 0.024*\"m\" + 0.022*\"leave\" + 0.020*\"world\" + 0.019*\"talk\"'),\n",
              " (1,\n",
              "  '0.061*\"taxis\" + 0.035*\"day\" + 0.035*\"give\" + 0.033*\"lose\" + 0.033*\"head\" + 0.027*\"kind\" + 0.024*\"history\" + 0.020*\"jail\" + 0.019*\"mean\" + 0.019*\"public\"'),\n",
              " (2,\n",
              "  '0.063*\"get\" + 0.057*\"vote\" + 0.051*\"criminal\" + 0.049*\"thing\" + 0.029*\"remember\" + 0.025*\"point\" + 0.025*\"send\" + 0.016*\"place\" + 0.015*\"face\" + 0.013*\"attack\"'),\n",
              " (3,\n",
              "  '0.345*\"trump\" + 0.132*\"donald\" + 0.054*\"think\" + 0.021*\"big\" + 0.014*\"long\" + 0.014*\"justice\" + 0.013*\"associate\" + 0.012*\"medium\" + 0.011*\"betty_white\" + 0.010*\"es\"'),\n",
              " (4,\n",
              "  '0.037*\"time\" + 0.035*\"need\" + 0.031*\"tax\" + 0.030*\"money\" + 0.028*\"release\" + 0.027*\"live\" + 0.022*\"tax_return\" + 0.021*\"love\" + 0.017*\"life\" + 0.016*\"ve\"'),\n",
              " (5,\n",
              "  '0.073*\"s\" + 0.063*\"say\" + 0.042*\"lie\" + 0.029*\"good\" + 0.023*\"supporter\" + 0.023*\"bad\" + 0.018*\"include\" + 0.016*\"man\" + 0.015*\"speak\" + 0.014*\"run\"'),\n",
              " (6,\n",
              "  '0.040*\"well\" + 0.034*\"fight\" + 0.030*\"favorite\" + 0.028*\"politician\" + 0.024*\"care\" + 0.021*\"old\" + 0.018*\"smart\" + 0.017*\"white\" + 0.017*\"member\" + 0.016*\"party\"'),\n",
              " (7,\n",
              "  '0.067*\"people\" + 0.060*\"president\" + 0.024*\"tell\" + 0.023*\"take\" + 0.018*\"family\" + 0.017*\"believe\" + 0.016*\"guy\" + 0.016*\"interview\" + 0.015*\"seriously\" + 0.014*\"die\"'),\n",
              " (8,\n",
              "  '0.123*\"year\" + 0.068*\"know\" + 0.056*\"new\" + 0.048*\"want\" + 0.031*\"hate\" + 0.023*\"help\" + 0.022*\"happy\" + 0.020*\"charge\" + 0.019*\"work\" + 0.017*\"pass\"'),\n",
              " (9,\n",
              "  '0.044*\"go\" + 0.033*\"country\" + 0.025*\"re\" + 0.023*\"right\" + 0.022*\"way\" + 0.022*\"come\" + 0.022*\"election\" + 0.022*\"liberal\" + 0.020*\"office\" + 0.019*\"biden\"')]"
            ]
          },
          "metadata": {},
          "execution_count": 109
        }
      ]
    },
    {
      "cell_type": "code",
      "source": [
        "# Compute Perplexity\n",
        "print('\\nPerplexity: ', lda_model.log_perplexity(corpus))  # a measure of how good the model is. lower the better.\n",
        "\n",
        "# Compute Coherence Score\n",
        "#a measure of how well sentences fit together in document\n",
        "coherence_model_lda = CoherenceModel(model=lda_model, texts=tweets_lemmatized, dictionary=id2word, coherence='c_v')\n",
        "coherence_lda = coherence_model_lda.get_coherence()\n",
        "print('\\nCoherence Score: ', coherence_lda)"
      ],
      "metadata": {
        "colab": {
          "base_uri": "https://localhost:8080/"
        },
        "id": "NjkrlFH_3w9X",
        "outputId": "0f7cfd44-6067-4a75-b087-bbc1b19be176"
      },
      "execution_count": 112,
      "outputs": [
        {
          "output_type": "stream",
          "name": "stdout",
          "text": [
            "\n",
            "Perplexity:  -10.674869775786238\n",
            "\n",
            "Coherence Score:  0.442809984683633\n"
          ]
        }
      ]
    },
    {
      "cell_type": "code",
      "source": [
        "!pip install pyLDAvis\n"
      ],
      "metadata": {
        "colab": {
          "base_uri": "https://localhost:8080/"
        },
        "id": "dXuxVCRl4ll8",
        "outputId": "c2dcc637-b30b-4c12-bace-aeedb29802a6"
      },
      "execution_count": 113,
      "outputs": [
        {
          "output_type": "stream",
          "name": "stdout",
          "text": [
            "Looking in indexes: https://pypi.org/simple, https://us-python.pkg.dev/colab-wheels/public/simple/\n",
            "Requirement already satisfied: pyLDAvis in /usr/local/lib/python3.9/dist-packages (3.4.0)\n",
            "Requirement already satisfied: scikit-learn>=1.0.0 in /usr/local/lib/python3.9/dist-packages (from pyLDAvis) (1.2.2)\n",
            "Requirement already satisfied: setuptools in /usr/local/lib/python3.9/dist-packages (from pyLDAvis) (67.6.0)\n",
            "Requirement already satisfied: funcy in /usr/local/lib/python3.9/dist-packages (from pyLDAvis) (1.18)\n",
            "Requirement already satisfied: jinja2 in /usr/local/lib/python3.9/dist-packages (from pyLDAvis) (3.1.2)\n",
            "Requirement already satisfied: numpy>=1.22.0 in /usr/local/lib/python3.9/dist-packages (from pyLDAvis) (1.22.4)\n",
            "Requirement already satisfied: scipy in /usr/local/lib/python3.9/dist-packages (from pyLDAvis) (1.10.1)\n",
            "Requirement already satisfied: numexpr in /usr/local/lib/python3.9/dist-packages (from pyLDAvis) (2.8.4)\n",
            "Requirement already satisfied: gensim in /usr/local/lib/python3.9/dist-packages (from pyLDAvis) (4.3.1)\n",
            "Requirement already satisfied: joblib>=1.2.0 in /usr/local/lib/python3.9/dist-packages (from pyLDAvis) (1.2.0)\n",
            "Requirement already satisfied: pandas>=1.3.4 in /usr/local/lib/python3.9/dist-packages (from pyLDAvis) (1.4.4)\n",
            "Requirement already satisfied: pytz>=2020.1 in /usr/local/lib/python3.9/dist-packages (from pandas>=1.3.4->pyLDAvis) (2022.7.1)\n",
            "Requirement already satisfied: python-dateutil>=2.8.1 in /usr/local/lib/python3.9/dist-packages (from pandas>=1.3.4->pyLDAvis) (2.8.2)\n",
            "Requirement already satisfied: threadpoolctl>=2.0.0 in /usr/local/lib/python3.9/dist-packages (from scikit-learn>=1.0.0->pyLDAvis) (3.1.0)\n",
            "Requirement already satisfied: smart-open>=1.8.1 in /usr/local/lib/python3.9/dist-packages (from gensim->pyLDAvis) (6.3.0)\n",
            "Requirement already satisfied: MarkupSafe>=2.0 in /usr/local/lib/python3.9/dist-packages (from jinja2->pyLDAvis) (2.1.2)\n",
            "Requirement already satisfied: six>=1.5 in /usr/local/lib/python3.9/dist-packages (from python-dateutil>=2.8.1->pandas>=1.3.4->pyLDAvis) (1.16.0)\n"
          ]
        }
      ]
    },
    {
      "cell_type": "code",
      "source": [
        "import pyLDAvis\n",
        "import pyLDAvis.gensim"
      ],
      "metadata": {
        "id": "unh_sY5p3re2"
      },
      "execution_count": 114,
      "outputs": []
    },
    {
      "cell_type": "code",
      "source": [
        "pyLDAvis.enable_notebook()\n",
        "vis = pyLDAvis.gensim.prepare(lda_model, corpus, id2word)\n",
        "vis"
      ],
      "metadata": {
        "colab": {
          "base_uri": "https://localhost:8080/",
          "height": 917
        },
        "id": "t6YunBsz4qHd",
        "outputId": "7fe90bdd-c381-4278-f07f-bc499ef41bbb"
      },
      "execution_count": 115,
      "outputs": [
        {
          "output_type": "stream",
          "name": "stderr",
          "text": [
            "/usr/local/lib/python3.9/dist-packages/pyLDAvis/_prepare.py:243: FutureWarning: In a future version of pandas all arguments of DataFrame.drop except for the argument 'labels' will be keyword-only.\n",
            "  default_term_info = default_term_info.sort_values(\n"
          ]
        },
        {
          "output_type": "execute_result",
          "data": {
            "text/plain": [
              "PreparedData(topic_coordinates=              x         y  topics  cluster       Freq\n",
              "topic                                                \n",
              "5     -0.370068 -0.124207       1        1  14.108287\n",
              "3      0.115049 -0.184735       2        1  13.754451\n",
              "9     -0.010671  0.282563       3        1  13.708511\n",
              "0      0.106771 -0.097699       4        1  12.459505\n",
              "7     -0.033072  0.150732       5        1  11.350291\n",
              "8      0.034666  0.040743       6        1  10.097279\n",
              "4      0.094872 -0.084948       7        1   9.582956\n",
              "1      0.021535  0.006043       8        1   5.866652\n",
              "2      0.009636  0.005705       9        1   5.519233\n",
              "6      0.031282  0.005803      10        1   3.552836, topic_info=                   Term         Freq        Total Category  logprob  loglift\n",
              "6                 trump  3358.000000  3358.000000  Default  30.0000  30.0000\n",
              "0                donald  1249.000000  1249.000000  Default  29.0000  29.0000\n",
              "19                 year   854.000000   854.000000  Default  28.0000  28.0000\n",
              "183                   s   704.000000   704.000000  Default  27.0000  27.0000\n",
              "41                  say   615.000000   615.000000  Default  26.0000  26.0000\n",
              "...                 ...          ...          ...      ...      ...      ...\n",
              "10021            golfer    15.232206    16.104669  Topic10  -5.0773   3.2817\n",
              "2751                sus    12.817435    13.572606  Topic10  -5.2499   3.2802\n",
              "3346            purpose    13.170807    14.001612  Topic10  -5.2227   3.2763\n",
              "6726   held_accountable    21.666057    91.046814  Topic10  -4.7250   1.9018\n",
              "13332        donwinslow    15.801787    30.261759  Topic10  -5.0406   2.6877\n",
              "\n",
              "[348 rows x 6 columns], token_table=       Topic      Freq            Term\n",
              "term                                  \n",
              "7389       2  0.972230  accomplishment\n",
              "731        3  0.995624        actually\n",
              "3773       9  0.986001           agree\n",
              "1938       8  0.979136           allow\n",
              "6553       7  0.987028          amazon\n",
              "...      ...       ...             ...\n",
              "142        4  0.995008           world\n",
              "932        7  0.988879           wrong\n",
              "13190      2  0.970030      yacht_club\n",
              "19         6  0.999002            year\n",
              "876        4  0.991282         youtube\n",
              "\n",
              "[346 rows x 3 columns], R=30, lambda_step=0.01, plot_opts={'xlab': 'PC1', 'ylab': 'PC2'}, topic_order=[6, 4, 10, 1, 8, 9, 5, 2, 3, 7])"
            ],
            "text/html": [
              "\n",
              "<link rel=\"stylesheet\" type=\"text/css\" href=\"https://cdn.jsdelivr.net/gh/bmabey/pyLDAvis@3.4.0/pyLDAvis/js/ldavis.v1.0.0.css\">\n",
              "\n",
              "\n",
              "<div id=\"ldavis_el2221404706684607686600177411\" style=\"background-color:white;\"></div>\n",
              "<script type=\"text/javascript\">\n",
              "\n",
              "var ldavis_el2221404706684607686600177411_data = {\"mdsDat\": {\"x\": [-0.37006813716594467, 0.11504860487172405, -0.01067077559108104, 0.10677143444246932, -0.03307190334865583, 0.034665857253505176, 0.09487169108432074, 0.021534998519612603, 0.009636251813668084, 0.03128197812038116], \"y\": [-0.12420737502501523, -0.1847345761771053, 0.2825627257409681, -0.09769873369497198, 0.1507323915314821, 0.040743262081582535, -0.08494797756436656, 0.0060425760738978245, 0.00570480761487062, 0.005802899418657841], \"topics\": [1, 2, 3, 4, 5, 6, 7, 8, 9, 10], \"cluster\": [1, 1, 1, 1, 1, 1, 1, 1, 1, 1], \"Freq\": [14.108286625052715, 13.754450657402598, 13.708511099492448, 12.459504592572731, 11.350290586929146, 10.097279102403029, 9.58295639707463, 5.866651674308007, 5.519233262017704, 3.5528360027469903]}, \"tinfo\": {\"Term\": [\"trump\", \"donald\", \"year\", \"s\", \"say\", \"people\", \"know\", \"think\", \"president\", \"new\", \"go\", \"lie\", \"want\", \"make\", \"pay\", \"get\", \"taxis\", \"vote\", \"country\", \"time\", \"criminal\", \"great\", \"thing\", \"good\", \"need\", \"look\", \"hate\", \"tax\", \"use\", \"money\", \"s\", \"say\", \"lie\", \"good\", \"supporter\", \"bad\", \"include\", \"man\", \"speak\", \"run\", \"presidential\", \"ask\", \"let\", \"person\", \"presidency\", \"see\", \"start\", \"body\", \"law\", \"weapon\", \"maga\", \"billion\", \"reveal\", \"insurrection\", \"power\", \"lead\", \"record\", \"term\", \"que\", \"fraud\", \"vile\", \"corrupt\", \"crime\", \"donald\", \"think\", \"big\", \"long\", \"justice\", \"medium\", \"es\", \"httpstco\", \"hold\", \"smartnew\", \"damn\", \"paid_taxe\", \"sonia_art\", \"vacation\", \"traitor\", \"dude\", \"httpstcoz\", \"final\", \"establishment\", \"betty_white\", \"trump\", \"sold_current\", \"yacht_club\", \"pardon\", \"elon_musk\", \"accomplishment\", \"fp_dtyc\", \"email\", \"incredible\", \"handcuff\", \"larryeld\", \"associate\", \"choose\", \"communist\", \"go\", \"country\", \"re\", \"right\", \"way\", \"come\", \"election\", \"liberal\", \"office\", \"really\", \"support\", \"rating\", \"actually\", \"call\", \"miss\", \"political\", \"debate\", \"incite\", \"death\", \"end\", \"job\", \"tweet\", \"upset\", \"wish\", \"video\", \"business\", \"report\", \"hope\", \"finally\", \"child\", \"biden\", \"make\", \"pay\", \"great\", \"look\", \"use\", \"try\", \"m\", \"leave\", \"world\", \"talk\", \"maybe\", \"realdonaldtrump\", \"case\", \"fuck\", \"enter\", \"prison\", \"shit\", \"happen\", \"youtube\", \"win\", \"black\", \"show\", \"destroy\", \"leader\", \"instead\", \"billionaire\", \"feel\", \"story\", \"order\", \"compare\", \"trump\", \"people\", \"president\", \"tell\", \"take\", \"family\", \"believe\", \"guy\", \"interview\", \"seriously\", \"die\", \"fact\", \"read\", \"response\", \"httpstcoo\", \"problem\", \"list\", \"edit\", \"lot\", \"government\", \"turn\", \"evidence\", \"news\", \"twitter\", \"today\", \"second\", \"late\", \"claim\", \"away\", \"attempt\", \"donate\", \"year\", \"know\", \"new\", \"want\", \"hate\", \"help\", \"happy\", \"charge\", \"work\", \"pass\", \"past\", \"american\", \"real\", \"follow\", \"sure\", \"blame\", \"human\", \"thank\", \"guess\", \"foreign\", \"federal\", \"joncoopertweet\", \"loser\", \"pretty\", \"follower\", \"control\", \"guilty\", \"sound\", \"post\", \"hunter\", \"million\", \"time\", \"need\", \"tax\", \"money\", \"release\", \"live\", \"tax_return\", \"love\", \"life\", \"ve\", \"stop\", \"book\", \"racist\", \"united_state\", \"arrest\", \"campaign\", \"wrong\", \"little\", \"elect\", \"state\", \"check\", \"return\", \"amazon\", \"true\", \"kid\", \"income\", \"far\", \"woman\", \"kill\", \"poor\", \"america_arent\", \"family_fleece\", \"held_accountable\", \"day\", \"give\", \"taxis\", \"lose\", \"head\", \"kind\", \"history\", \"jail\", \"mean\", \"public\", \"golf\", \"watch\", \"spend\", \"close\", \"stand\", \"jr\", \"week\", \"reason\", \"document\", \"truth\", \"son\", \"play\", \"promise\", \"fail\", \"learn\", \"beat\", \"potus\", \"allow\", \"expose\", \"conservative\", \"get\", \"vote\", \"criminal\", \"thing\", \"remember\", \"point\", \"send\", \"place\", \"face\", \"attack\", \"agree\", \"hear\", \"stay\", \"position\", \"word\", \"hair\", \"blow\", \"candidate\", \"drop\", \"like\", \"push\", \"piece\", \"decade\", \"half\", \"rally\", \"loss\", \"god_bless\", \"rip\", \"appear\", \"illegal\", \"corruption\", \"ukraine\", \"well\", \"fight\", \"favorite\", \"politician\", \"care\", \"old\", \"smart\", \"white\", \"member\", \"party\", \"organization\", \"throw\", \"hitler\", \"ass\", \"one\", \"literally\", \"nice\", \"deserve\", \"ruin\", \"single\", \"constitution\", \"especially\", \"create\", \"announce\", \"protect\", \"dollar\", \"credit\", \"save\", \"golfer\", \"sus\", \"purpose\", \"held_accountable\", \"donwinslow\"], \"Freq\": [3358.0, 1249.0, 854.0, 704.0, 615.0, 527.0, 471.0, 514.0, 466.0, 389.0, 417.0, 404.0, 335.0, 363.0, 344.0, 241.0, 247.0, 217.0, 311.0, 246.0, 194.0, 263.0, 187.0, 278.0, 230.0, 248.0, 213.0, 204.0, 227.0, 200.0, 703.4714054796294, 614.6670731241061, 403.9115448225809, 277.9432818639795, 226.07289728949254, 221.79800961581543, 170.57221282359936, 152.0749894447842, 146.75563183121199, 135.8190101773698, 130.5520585151559, 130.15277249555123, 127.71554349401382, 117.32905787591476, 106.20701020079798, 97.28423310106643, 82.45476695255493, 82.6244404782816, 83.1264609499286, 81.03660879832049, 77.65041839354133, 77.0817117552486, 73.64139924420624, 132.48543346901639, 66.99392289834296, 65.68927484247462, 65.74956607400114, 63.246314786794336, 62.95481232761004, 61.5262940171867, 80.82725596471427, 65.07293135698028, 72.33106981236334, 1248.4363190724926, 513.4354176247268, 198.66710851708515, 131.3869877098853, 128.07399358605852, 116.1326639344095, 95.73906315376188, 84.98138220833813, 83.79854364138924, 60.66991706664299, 45.808413975728584, 56.455295166316006, 36.83017753326927, 33.83924899524688, 32.41108792720639, 31.804040440680428, 29.7845657595059, 27.331701788919528, 25.012535015054095, 108.53783717083287, 3263.023747003695, 38.054504917616235, 38.054504917616235, 24.185563334043856, 39.17677236486381, 20.879737181640614, 23.294328675814715, 20.69384323969478, 20.06552959716407, 20.298114419307076, 91.55647257536751, 119.50699969083632, 39.8867141438852, 45.92527216341429, 417.12565628645973, 311.1142107751928, 236.56920077798227, 217.01895557785213, 211.14670288145265, 210.28066031693942, 208.5516469455243, 202.68327344016558, 193.13270509794557, 168.92823808239663, 154.88833987333882, 129.01793583481268, 119.79974044259858, 119.61678655926244, 111.74013303335899, 109.91988846088474, 104.8515937194466, 98.5713326241978, 97.39276944029874, 88.97223928816769, 88.79704378691297, 86.13411078422256, 84.23890654957935, 77.28402604771064, 73.68136340363418, 72.73740790141986, 70.58217060851969, 70.19918386952791, 68.51574660461597, 67.93647016602934, 181.29034228409716, 363.0841812539652, 344.10460023168974, 262.47001251850793, 248.136414276482, 227.25189065493143, 222.47692281614047, 207.08044621230803, 186.51540988603892, 172.14224665388525, 161.80342017113142, 154.73874020407314, 133.06449618884795, 110.38574812587976, 104.61335167205611, 101.72971001355879, 101.60344504808864, 97.09337119965289, 96.46370554930752, 90.07079284910554, 87.91056034175624, 87.89757409096431, 82.1110347485325, 77.7517545640836, 75.52048056437994, 74.5585009042117, 73.15285890817358, 67.25444477006809, 59.70049902993022, 55.8564411665197, 54.8660720305723, 63.243372394399614, 526.360496695513, 465.7590635534517, 187.038614470721, 177.23812585678004, 141.8864469232274, 134.20172269163896, 128.30590791068784, 123.65346440466048, 116.86568010040595, 107.6405593530342, 104.10743048799907, 101.9485456706799, 102.92213446016882, 89.47580362312613, 84.87711169401959, 82.30226800606357, 77.55752322518858, 75.10124983338193, 73.05049310374447, 70.08109089583863, 68.76871529829214, 66.98181871595378, 66.15432637826868, 65.33641151501666, 65.34976039250802, 62.768587432752895, 61.43423741738722, 58.60000621909235, 57.26987087381105, 51.74642582815006, 854.124449320975, 471.2347804304459, 388.78984301747175, 334.734068283371, 212.6500049733429, 157.8239368391424, 149.25173839157316, 140.35875997874984, 135.01400024571925, 116.64915006856509, 109.09810527121955, 73.4697567906838, 72.80430417645508, 68.67649398231886, 67.35476830226051, 62.40180074516309, 58.60438964868793, 57.73561650188953, 57.148972250008406, 56.283819206804026, 53.46900442504093, 59.299514183446185, 50.34327769255277, 46.01584464308933, 44.50156177418282, 42.12776288052546, 38.54226359818506, 36.120617924615, 35.868419529055394, 40.47077035636624, 37.94356957291242, 245.9495935791033, 229.93225281411563, 203.64127621087113, 199.8683420372825, 186.79401582182345, 175.61932894930086, 143.42666623830104, 138.96893426030107, 113.38891591800726, 105.51222577497745, 101.62715870641466, 88.35899725082794, 87.76860777315855, 85.53350229440704, 69.6344971029961, 69.19367745881004, 63.97710818542386, 60.13577889703674, 59.65651000774465, 58.50206329430711, 58.454981834766066, 56.59469974527709, 65.989604375931, 54.669261922099565, 53.24110591044667, 52.323078801311226, 50.11301410665103, 48.34937662120432, 46.949706303667796, 44.25347062928241, 58.080771964653145, 66.54626870594635, 68.39780814755338, 142.69891553484175, 140.3170171069564, 246.1934253451475, 133.97579959649596, 132.9738343762229, 107.10452625731212, 96.22628066446912, 82.57760694660345, 78.01219896406651, 76.02757406703465, 66.9511892180324, 65.97058028577918, 49.97902486882697, 48.538260419433264, 47.592510387832874, 46.466122066393325, 44.91856490907354, 43.318559773226, 41.752170321124055, 39.35238985186298, 38.17771513598395, 37.88368870350841, 37.2453287471508, 36.84705613564075, 34.86239743512802, 34.536002291756446, 43.210411170123145, 29.88748657355038, 28.152250612516458, 28.08970666103807, 240.6071915292706, 216.866767447076, 193.74948640578185, 186.47339247618245, 110.51315613091272, 96.23175592252795, 96.00015499102291, 62.4972555399039, 58.60878105744237, 50.93179886221921, 47.93555191559241, 45.11577241251946, 44.337490245265286, 41.82634944235162, 41.506742701007916, 35.25233735521835, 33.33863678019756, 32.71793540052729, 32.690843914779556, 31.831541703608632, 31.550217100857715, 31.10484183829072, 30.676982226545626, 30.50824965481932, 28.88603961505189, 28.172586910301117, 28.777587100859613, 27.838515711293617, 24.346085040698153, 24.252441502215895, 31.01784661472099, 33.3223048580473, 98.40171214114909, 82.7840810074221, 74.26373168699907, 67.25508167954132, 59.30101057910139, 50.09363852343731, 43.95009371653169, 42.68810381457623, 41.25039247524348, 38.96656879012472, 37.128351596719455, 32.56304705766864, 28.74832194222705, 28.620694507385622, 26.581580677016102, 26.234627849603836, 25.682056329359714, 27.4394845149108, 24.367345901922974, 22.639735361057976, 22.16409286369341, 22.017386139537244, 21.946548477743153, 19.20806996842471, 15.420734369230544, 15.384031530367574, 14.6062502444652, 14.564569457978802, 15.232205833798103, 12.817434944792266, 13.17080667473746, 21.666056994451928, 15.801786763376464], \"Total\": [3358.0, 1249.0, 854.0, 704.0, 615.0, 527.0, 471.0, 514.0, 466.0, 389.0, 417.0, 404.0, 335.0, 363.0, 344.0, 241.0, 247.0, 217.0, 311.0, 246.0, 194.0, 263.0, 187.0, 278.0, 230.0, 248.0, 213.0, 204.0, 227.0, 200.0, 704.209254570514, 615.4049008438419, 404.6493627928227, 278.6811267591258, 226.81115782871396, 222.53583981624772, 171.310196735966, 152.81279937965067, 147.49356449153328, 136.55686982529295, 131.28999096321974, 130.89062074682988, 128.4533710891952, 118.06691483703652, 106.94488301848085, 98.02211101576792, 83.19257474118724, 83.36852873862571, 83.88742811147681, 81.78045362212895, 78.39031865057412, 77.83778783750488, 74.37940874414367, 133.880336842763, 67.73174953598055, 66.42709567795116, 66.49344766643836, 63.98435763384065, 63.69256970402171, 62.264157345088506, 81.837657679649, 65.88010632227028, 76.34495715291712, 1249.154601863488, 514.151984070749, 199.38360089498553, 132.10350774252686, 128.79135596755756, 116.84925103862307, 96.46253943123465, 85.69784510382013, 84.5158832745369, 61.38640024349294, 46.54618801611039, 57.382732288957776, 37.628106097869285, 34.58045833652354, 33.12789231024165, 32.521138839568835, 30.50111232967245, 28.056859485292623, 25.733954113912624, 111.71339220702498, 3358.9405132100287, 39.174057389533054, 39.174057389533054, 24.924578478957287, 40.51408766186785, 21.59981683581263, 24.107822701726374, 21.422824462704188, 20.784804228247477, 21.02820445629332, 95.25274894466686, 124.99150684187414, 44.42693171488103, 89.67533549106061, 417.85336181378324, 311.8418877132435, 237.29691137607614, 217.7466543787854, 211.87440439818468, 211.00833773555107, 209.27932191882275, 203.4127285375768, 193.8605222566386, 169.65595036914266, 155.61720819350893, 129.7459972926466, 120.52740484702, 120.34450381679639, 112.46784963415685, 110.64765745743544, 105.57955738732836, 99.30695130468625, 98.1205193632338, 89.69991683322966, 89.52468925910566, 86.86178462434086, 85.01759076979772, 78.01171989212455, 74.40899179497424, 73.4652482950358, 71.30984830841999, 70.92683910383155, 69.24343692643272, 68.66446593906359, 209.12589052581853, 363.8049200655122, 344.825440317632, 263.1908005019015, 248.85710689485188, 227.9727689313799, 223.19768092232903, 207.80118055398475, 187.23615393198475, 172.86297465328047, 162.5241822443746, 155.45970015744453, 133.785144337761, 111.10653189600883, 105.33404992957757, 102.45404683660425, 102.3276612094831, 97.81413047151892, 97.18442709832638, 90.7914806342773, 88.63129366747971, 88.61836711087713, 82.83185070564426, 78.47248085256652, 76.24122640084511, 75.279202010185, 73.87374951591511, 67.97518827863573, 60.42121813821544, 56.57723624604438, 55.58828572791532, 3358.9405132100287, 527.098714952507, 466.49726920624767, 187.77681089463653, 177.97631885372093, 142.6246477278279, 134.93988274532865, 129.0441520670538, 124.39164069694267, 117.60407644788835, 108.37871920008456, 104.84561727047395, 102.6867694527962, 103.67435520422586, 90.21460547274502, 85.61549001199886, 83.04053384749504, 78.29981135752665, 75.83944508418007, 73.81375015900088, 70.81945417903385, 69.50703346285124, 67.71997754371735, 66.892464479206, 66.07461781539445, 66.08892932417702, 63.506800524373226, 62.172409193886295, 59.34137924412156, 58.00908922651491, 52.48475225534668, 854.853005155819, 471.96336831732054, 389.518386147573, 335.4626596106505, 213.37871817114245, 158.55281382397317, 149.98024034428835, 141.08781702033826, 135.74260725363663, 117.37842281315882, 109.85362586431742, 74.19850060336044, 73.53291036243004, 69.4051386115585, 68.0833346774239, 63.13038829163934, 59.33315455422303, 58.4641246705839, 57.8775846907939, 57.01295599305303, 54.20224122296529, 60.153618691222256, 51.07185840797792, 46.744488106098395, 45.230182768043896, 42.856445417902606, 39.279814596610166, 36.84918456121283, 36.597048186318155, 41.32378981200591, 38.796807148692565, 246.69226883340664, 230.67499723122933, 204.38500154992678, 200.611112333668, 187.53696634538036, 176.36210763508316, 144.17006521144702, 139.71162033207784, 114.13160000471444, 106.25490165695034, 102.36990179026967, 89.10186223904348, 88.51129335219474, 86.27621966702812, 70.37742423601797, 69.93634910036056, 64.7197394711224, 60.87851732123037, 60.399237472811066, 59.244710719484345, 59.19763508489321, 57.33737264341283, 66.86738325245136, 55.41196074578703, 53.9838556496902, 53.0812350185784, 50.855743790321505, 49.09203075355242, 47.69236032521872, 44.99629866690862, 61.735209888436884, 72.62186172440467, 91.04681350302772, 143.45061975033005, 141.06882268560022, 247.5172682320183, 134.72752573821154, 133.72584627226246, 107.85663293859963, 96.97802312305654, 83.32943338242545, 78.76393710581395, 76.77938460990367, 67.70292212590981, 66.7223123829597, 50.73077946462646, 49.290043479323614, 48.3442380679754, 47.217791009759424, 45.670293540576004, 44.070290268941896, 42.504700066855904, 40.10413733847052, 38.929483825315124, 38.63538630087236, 38.00775403584887, 37.60354796912902, 35.614164395736374, 35.28770296159457, 44.24974002591132, 30.63926394511162, 28.90406899958246, 28.84151483232287, 241.35307376683335, 217.61264087556083, 194.4971634217298, 187.21927863660247, 111.25908142006381, 96.97766915649308, 96.74640470250462, 63.24374209336847, 59.35470447086981, 51.677750528827836, 48.68151385309551, 45.861645237792345, 45.083442269199516, 42.572412100278015, 42.25263557044852, 35.99822292094154, 34.08461413787649, 33.46384575865751, 33.43722438005448, 32.57745756825433, 32.298198572687056, 31.85075715446577, 31.424220956523634, 31.254350802639145, 29.63194258997928, 28.918537248019376, 29.577688970290502, 28.613552398529464, 25.093245646138225, 24.99901743422294, 32.77955029004618, 84.9089261878939, 99.1568239737059, 83.53955801641354, 75.01956305285904, 68.01018017980657, 60.05608123552403, 50.84874472683566, 44.70522740424872, 43.443155078762565, 42.005653119231205, 39.72163676947245, 37.88360026072246, 33.318747622795996, 29.503692805032323, 29.375771064922063, 27.336711172568435, 26.989746571945943, 26.437380974027448, 28.27886032768746, 25.12251481548937, 23.39489039075301, 22.919968862094066, 22.772597330410548, 22.701722666699016, 19.96784959476715, 16.176262832033814, 16.13912558484063, 15.362271725325614, 15.31967681570539, 16.10466921434773, 13.572606428088246, 14.001612180054355, 91.04681350302772, 30.261758664015026], \"Category\": [\"Default\", \"Default\", \"Default\", \"Default\", \"Default\", \"Default\", \"Default\", \"Default\", \"Default\", \"Default\", \"Default\", \"Default\", \"Default\", \"Default\", \"Default\", \"Default\", \"Default\", \"Default\", \"Default\", \"Default\", \"Default\", \"Default\", \"Default\", \"Default\", \"Default\", \"Default\", \"Default\", \"Default\", \"Default\", \"Default\", \"Topic1\", \"Topic1\", \"Topic1\", \"Topic1\", \"Topic1\", \"Topic1\", \"Topic1\", \"Topic1\", \"Topic1\", \"Topic1\", \"Topic1\", \"Topic1\", \"Topic1\", \"Topic1\", \"Topic1\", \"Topic1\", \"Topic1\", \"Topic1\", \"Topic1\", \"Topic1\", \"Topic1\", \"Topic1\", \"Topic1\", \"Topic1\", \"Topic1\", \"Topic1\", \"Topic1\", \"Topic1\", \"Topic1\", \"Topic1\", \"Topic1\", \"Topic1\", \"Topic1\", \"Topic2\", \"Topic2\", \"Topic2\", \"Topic2\", \"Topic2\", \"Topic2\", \"Topic2\", \"Topic2\", \"Topic2\", \"Topic2\", \"Topic2\", \"Topic2\", \"Topic2\", \"Topic2\", \"Topic2\", \"Topic2\", \"Topic2\", \"Topic2\", \"Topic2\", \"Topic2\", \"Topic2\", \"Topic2\", \"Topic2\", \"Topic2\", \"Topic2\", \"Topic2\", \"Topic2\", \"Topic2\", \"Topic2\", \"Topic2\", \"Topic2\", \"Topic2\", \"Topic2\", \"Topic2\", \"Topic3\", \"Topic3\", \"Topic3\", \"Topic3\", \"Topic3\", \"Topic3\", \"Topic3\", \"Topic3\", \"Topic3\", \"Topic3\", \"Topic3\", \"Topic3\", \"Topic3\", \"Topic3\", \"Topic3\", \"Topic3\", \"Topic3\", \"Topic3\", \"Topic3\", \"Topic3\", \"Topic3\", \"Topic3\", \"Topic3\", \"Topic3\", \"Topic3\", \"Topic3\", \"Topic3\", \"Topic3\", \"Topic3\", \"Topic3\", \"Topic3\", \"Topic4\", \"Topic4\", \"Topic4\", \"Topic4\", \"Topic4\", \"Topic4\", \"Topic4\", \"Topic4\", \"Topic4\", \"Topic4\", \"Topic4\", \"Topic4\", \"Topic4\", \"Topic4\", \"Topic4\", \"Topic4\", \"Topic4\", \"Topic4\", \"Topic4\", \"Topic4\", \"Topic4\", \"Topic4\", \"Topic4\", \"Topic4\", \"Topic4\", \"Topic4\", \"Topic4\", \"Topic4\", \"Topic4\", \"Topic4\", \"Topic4\", \"Topic5\", \"Topic5\", \"Topic5\", \"Topic5\", \"Topic5\", \"Topic5\", \"Topic5\", \"Topic5\", \"Topic5\", \"Topic5\", \"Topic5\", \"Topic5\", \"Topic5\", \"Topic5\", \"Topic5\", \"Topic5\", \"Topic5\", \"Topic5\", \"Topic5\", \"Topic5\", \"Topic5\", \"Topic5\", \"Topic5\", \"Topic5\", \"Topic5\", \"Topic5\", \"Topic5\", \"Topic5\", \"Topic5\", \"Topic5\", \"Topic6\", \"Topic6\", \"Topic6\", \"Topic6\", \"Topic6\", \"Topic6\", \"Topic6\", \"Topic6\", \"Topic6\", \"Topic6\", \"Topic6\", \"Topic6\", \"Topic6\", \"Topic6\", \"Topic6\", \"Topic6\", \"Topic6\", \"Topic6\", \"Topic6\", \"Topic6\", \"Topic6\", \"Topic6\", \"Topic6\", \"Topic6\", \"Topic6\", \"Topic6\", \"Topic6\", \"Topic6\", \"Topic6\", \"Topic6\", \"Topic6\", \"Topic7\", \"Topic7\", \"Topic7\", \"Topic7\", \"Topic7\", \"Topic7\", \"Topic7\", \"Topic7\", \"Topic7\", \"Topic7\", \"Topic7\", \"Topic7\", \"Topic7\", \"Topic7\", \"Topic7\", \"Topic7\", \"Topic7\", \"Topic7\", \"Topic7\", \"Topic7\", \"Topic7\", \"Topic7\", \"Topic7\", \"Topic7\", \"Topic7\", \"Topic7\", \"Topic7\", \"Topic7\", \"Topic7\", \"Topic7\", \"Topic7\", \"Topic7\", \"Topic7\", \"Topic8\", \"Topic8\", \"Topic8\", \"Topic8\", \"Topic8\", \"Topic8\", \"Topic8\", \"Topic8\", \"Topic8\", \"Topic8\", \"Topic8\", \"Topic8\", \"Topic8\", \"Topic8\", \"Topic8\", \"Topic8\", \"Topic8\", \"Topic8\", \"Topic8\", \"Topic8\", \"Topic8\", \"Topic8\", \"Topic8\", \"Topic8\", \"Topic8\", \"Topic8\", \"Topic8\", \"Topic8\", \"Topic8\", \"Topic8\", \"Topic9\", \"Topic9\", \"Topic9\", \"Topic9\", \"Topic9\", \"Topic9\", \"Topic9\", \"Topic9\", \"Topic9\", \"Topic9\", \"Topic9\", \"Topic9\", \"Topic9\", \"Topic9\", \"Topic9\", \"Topic9\", \"Topic9\", \"Topic9\", \"Topic9\", \"Topic9\", \"Topic9\", \"Topic9\", \"Topic9\", \"Topic9\", \"Topic9\", \"Topic9\", \"Topic9\", \"Topic9\", \"Topic9\", \"Topic9\", \"Topic9\", \"Topic9\", \"Topic10\", \"Topic10\", \"Topic10\", \"Topic10\", \"Topic10\", \"Topic10\", \"Topic10\", \"Topic10\", \"Topic10\", \"Topic10\", \"Topic10\", \"Topic10\", \"Topic10\", \"Topic10\", \"Topic10\", \"Topic10\", \"Topic10\", \"Topic10\", \"Topic10\", \"Topic10\", \"Topic10\", \"Topic10\", \"Topic10\", \"Topic10\", \"Topic10\", \"Topic10\", \"Topic10\", \"Topic10\", \"Topic10\", \"Topic10\", \"Topic10\", \"Topic10\", \"Topic10\"], \"logprob\": [30.0, 29.0, 28.0, 27.0, 26.0, 25.0, 24.0, 23.0, 22.0, 21.0, 20.0, 19.0, 18.0, 17.0, 16.0, 15.0, 14.0, 13.0, 12.0, 11.0, 10.0, 9.0, 8.0, 7.0, 6.0, 5.0, 4.0, 3.0, 2.0, 1.0, -2.6237, -2.7586, -3.1785, -3.5523, -3.7589, -3.778, -4.0406, -4.1553, -4.191, -4.2684, -4.308, -4.311, -4.3299, -4.4147, -4.5143, -4.6021, -4.7675, -4.7654, -4.7594, -4.7848, -4.8275, -4.8349, -4.8805, -4.2932, -4.9751, -4.9948, -4.9939, -5.0327, -5.0373, -5.0603, -4.7874, -5.0042, -4.8985, -2.0247, -2.9132, -3.8627, -4.2762, -4.3017, -4.3996, -4.5927, -4.7119, -4.7259, -5.0489, -5.3299, -5.1209, -5.548, -5.6327, -5.6758, -5.6947, -5.7603, -5.8463, -5.9349, -4.4672, -1.0639, -5.5153, -5.5153, -5.9686, -5.4862, -6.1155, -6.0061, -6.1245, -6.1553, -6.1438, -4.6374, -4.3709, -5.4683, -5.3273, -3.1176, -3.4108, -3.6847, -3.771, -3.7984, -3.8025, -3.8108, -3.8393, -3.8876, -4.0215, -4.1083, -4.291, -4.3652, -4.3667, -4.4348, -4.4512, -4.4984, -4.5602, -4.5722, -4.6627, -4.6646, -4.6951, -4.7173, -4.8035, -4.8512, -4.8641, -4.8942, -4.8996, -4.9239, -4.9324, -3.9509, -3.1608, -3.2145, -3.4853, -3.5415, -3.6294, -3.6506, -3.7223, -3.8269, -3.9071, -3.9691, -4.0137, -4.1646, -4.3515, -4.4052, -4.4331, -4.4344, -4.4798, -4.4863, -4.5548, -4.5791, -4.5793, -4.6474, -4.7019, -4.731, -4.7439, -4.7629, -4.847, -4.9661, -5.0327, -5.0505, -4.9085, -2.6962, -2.8185, -3.7309, -3.7847, -4.0072, -4.0629, -4.1078, -4.1447, -4.2012, -4.2834, -4.3168, -4.3377, -4.3282, -4.4682, -4.521, -4.5518, -4.6112, -4.6434, -4.6711, -4.7126, -4.7315, -4.7578, -4.7702, -4.7827, -4.7824, -4.8227, -4.8442, -4.8915, -4.9144, -5.0158, -2.0951, -2.6899, -2.8822, -3.0319, -3.4856, -3.7837, -3.8396, -3.901, -3.9398, -4.0861, -4.153, -4.5484, -4.5575, -4.6158, -4.6353, -4.7116, -4.7744, -4.7894, -4.7996, -4.8148, -4.8661, -4.7626, -4.9264, -5.0162, -5.0497, -5.1045, -5.1935, -5.2584, -5.2654, -5.1446, -5.2091, -3.2878, -3.3552, -3.4766, -3.4953, -3.5629, -3.6246, -3.8271, -3.8587, -4.0621, -4.1341, -4.1716, -4.3115, -4.3182, -4.344, -4.5497, -4.556, -4.6344, -4.6963, -4.7043, -4.7239, -4.7247, -4.757, -4.6034, -4.7916, -4.8181, -4.8355, -4.8787, -4.9145, -4.9439, -5.003, -4.7311, -4.595, -4.5676, -3.3415, -3.3583, -2.7961, -3.4046, -3.4121, -3.6284, -3.7355, -3.8885, -3.9454, -3.9711, -4.0983, -4.113, -4.3906, -4.4199, -4.4396, -4.4635, -4.4974, -4.5337, -4.5705, -4.6297, -4.66, -4.6677, -4.6847, -4.6955, -4.7508, -4.7602, -4.5362, -4.9048, -4.9646, -4.9668, -2.758, -2.8619, -2.9746, -3.0129, -3.5361, -3.6744, -3.6768, -4.1061, -4.1703, -4.3107, -4.3713, -4.432, -4.4494, -4.5077, -4.5153, -4.6787, -4.7345, -4.7533, -4.7541, -4.7807, -4.7896, -4.8038, -4.8177, -4.8232, -4.8778, -4.9028, -4.8816, -4.9148, -5.0488, -5.0527, -4.8066, -4.735, -3.2116, -3.3845, -3.4931, -3.5922, -3.7181, -3.8868, -4.0177, -4.0468, -4.081, -4.138, -4.1863, -4.3175, -4.4421, -4.4466, -4.5205, -4.5336, -4.5549, -4.4887, -4.6075, -4.681, -4.7022, -4.7089, -4.7121, -4.8454, -5.065, -5.0674, -5.1193, -5.1221, -5.0773, -5.2499, -5.2227, -4.725, -5.0406], \"loglift\": [30.0, 29.0, 28.0, 27.0, 26.0, 25.0, 24.0, 23.0, 22.0, 21.0, 20.0, 19.0, 18.0, 17.0, 16.0, 15.0, 14.0, 13.0, 12.0, 11.0, 10.0, 9.0, 8.0, 7.0, 6.0, 5.0, 4.0, 3.0, 2.0, 1.0, 1.9574, 1.9572, 1.9566, 1.9558, 1.9551, 1.9551, 1.9541, 1.9536, 1.9534, 1.953, 1.9528, 1.9528, 1.9526, 1.9521, 1.9515, 1.9509, 1.9495, 1.9494, 1.9493, 1.9493, 1.9489, 1.9486, 1.9484, 1.9479, 1.9475, 1.9472, 1.9472, 1.9468, 1.9468, 1.9465, 1.946, 1.9461, 1.9044, 1.9832, 1.9824, 1.9802, 1.9784, 1.9782, 1.9777, 1.9763, 1.9754, 1.9753, 1.9721, 1.9678, 1.9675, 1.9624, 1.9621, 1.9619, 1.9615, 1.96, 1.9576, 1.9554, 1.955, 1.9548, 1.9548, 1.9548, 1.9537, 1.9502, 1.9499, 1.9495, 1.9492, 1.9486, 1.9485, 1.9442, 1.9389, 1.876, 1.3146, 1.9854, 1.9848, 1.9841, 1.9838, 1.9837, 1.9837, 1.9837, 1.9836, 1.9834, 1.9829, 1.9825, 1.9815, 1.9811, 1.9811, 1.9807, 1.9806, 1.9802, 1.9797, 1.9797, 1.979, 1.979, 1.9787, 1.978, 1.9778, 1.9773, 1.9772, 1.9769, 1.9768, 1.9766, 1.9765, 1.8443, 2.0807, 2.0806, 2.0799, 2.0798, 2.0795, 2.0795, 2.0792, 2.0788, 2.0785, 2.0782, 2.078, 2.0773, 2.0762, 2.0758, 2.0756, 2.0756, 2.0753, 2.0752, 2.0747, 2.0745, 2.0745, 2.0739, 2.0735, 2.0732, 2.0731, 2.0729, 2.072, 2.0707, 2.0699, 2.0696, -1.8897, 2.1745, 2.1743, 2.172, 2.1718, 2.1707, 2.1704, 2.1702, 2.17, 2.1696, 2.1691, 2.1689, 2.1687, 2.1686, 2.1677, 2.1673, 2.167, 2.1664, 2.1661, 2.1655, 2.1654, 2.1652, 2.165, 2.1648, 2.1647, 2.1647, 2.1642, 2.164, 2.1634, 2.1631, 2.1618, 2.2921, 2.2914, 2.291, 2.2907, 2.2895, 2.2883, 2.288, 2.2877, 2.2875, 2.2867, 2.286, 2.283, 2.2829, 2.2824, 2.2821, 2.2813, 2.2805, 2.2804, 2.2802, 2.28, 2.2793, 2.2786, 2.2785, 2.2772, 2.2767, 2.2758, 2.2739, 2.2729, 2.2728, 2.272, 2.2707, 2.3422, 2.342, 2.3415, 2.3415, 2.3412, 2.341, 2.34, 2.3399, 2.3387, 2.3382, 2.3379, 2.3368, 2.3368, 2.3365, 2.3346, 2.3345, 2.3336, 2.3329, 2.3328, 2.3326, 2.3326, 2.3321, 2.332, 2.3317, 2.3313, 2.3308, 2.3305, 2.3299, 2.3295, 2.3285, 2.2842, 2.2578, 2.0592, 2.8306, 2.8305, 2.8305, 2.8303, 2.8302, 2.8289, 2.8281, 2.8268, 2.8263, 2.826, 2.8247, 2.8246, 2.821, 2.8205, 2.8202, 2.8198, 2.8193, 2.8187, 2.818, 2.817, 2.8164, 2.8162, 2.8156, 2.8156, 2.8146, 2.8144, 2.8121, 2.811, 2.8095, 2.8095, 2.8938, 2.8935, 2.8931, 2.8929, 2.8902, 2.8892, 2.8892, 2.8851, 2.8843, 2.8824, 2.8815, 2.8805, 2.8802, 2.8793, 2.8791, 2.876, 2.8748, 2.8744, 2.8744, 2.8738, 2.8735, 2.8732, 2.8729, 2.8728, 2.8714, 2.8708, 2.8695, 2.8695, 2.8667, 2.8666, 2.8417, 1.9616, 3.3298, 3.3283, 3.3273, 3.3263, 3.3248, 3.3225, 3.3204, 3.3199, 3.3193, 3.3182, 3.3173, 3.3145, 3.3115, 3.3114, 3.3094, 3.309, 3.3084, 3.3073, 3.3069, 3.3046, 3.3039, 3.3037, 3.3036, 3.2986, 3.2896, 3.2895, 3.287, 3.2869, 3.2817, 3.2802, 3.2763, 1.9018, 2.6877]}, \"token.table\": {\"Topic\": [2, 3, 9, 8, 7, 7, 10, 6, 10, 9, 7, 1, 10, 1, 2, 9, 5, 5, 1, 8, 5, 2, 4, 3, 5, 2, 1, 4, 4, 6, 9, 1, 7, 3, 3, 7, 9, 10, 4, 6, 7, 3, 2, 4, 5, 8, 3, 2, 5, 4, 8, 10, 6, 1, 1, 9, 3, 10, 10, 1, 5, 6, 9, 2, 8, 3, 3, 9, 10, 4, 5, 8, 10, 2, 5, 3, 4, 5, 6, 7, 10, 9, 2, 5, 7, 3, 2, 8, 2, 3, 4, 2, 10, 2, 5, 8, 9, 5, 8, 5, 2, 5, 7, 10, 7, 10, 6, 4, 10, 2, 3, 6, 6, 6, 2, 1, 4, 9, 8, 3, 9, 8, 10, 1, 5, 4, 6, 6, 5, 9, 9, 2, 4, 6, 6, 8, 9, 7, 10, 6, 8, 10, 2, 3, 2, 5, 2, 6, 6, 9, 3, 1, 7, 2, 4, 1, 6, 5, 8, 3, 6, 8, 2, 7, 7, 8, 6, 1, 2, 8, 5, 1, 1, 4, 8, 4, 1, 3, 1, 7, 9, 5, 10, 7, 7, 2, 4, 8, 6, 9, 5, 7, 4, 1, 4, 1, 4, 8, 2, 10, 6, 3, 7, 7, 6, 5, 10, 3, 10, 10, 4, 10, 2, 2, 10, 6, 6, 4, 5, 1, 9, 9, 8, 9, 3, 10, 7, 9, 6, 8, 1, 1, 5, 1, 6, 4, 5, 8, 10, 8, 10, 9, 1, 7, 9, 3, 3, 5, 6, 4, 3, 8, 1, 7, 9, 3, 5, 7, 1, 3, 9, 10, 1, 1, 10, 1, 5, 1, 9, 5, 4, 4, 10, 10, 2, 2, 8, 2, 6, 1, 8, 8, 1, 7, 9, 7, 4, 3, 1, 6, 10, 5, 4, 7, 7, 6, 8, 5, 1, 6, 9, 2, 10, 7, 5, 2, 7, 1, 2, 3, 4, 7, 8, 4, 5, 3, 5, 1, 3, 4, 9, 7, 3, 4, 2, 7, 3, 1, 9, 6, 8, 3, 1, 8, 10, 10, 4, 3, 7, 9, 6, 4, 7, 2, 6, 4], \"Freq\": [0.9722304665649697, 0.9956241914634318, 0.9860005616269023, 0.9791357930054448, 0.9870283057260273, 0.9394962794297311, 0.03239642342861142, 0.9838473743591233, 0.9515296031165625, 0.9564326726978631, 0.9946371405302894, 0.993195687041988, 0.9872081293086201, 0.04000271799527518, 0.9600652318866044, 0.9868850613292511, 0.9826046359291283, 0.9942471973440796, 0.9975921190191649, 0.9918469342731747, 0.9930348038978033, 0.9757111286890602, 0.017902956489707526, 0.8655073723530845, 0.12910883454990763, 0.9980760659689982, 0.9892367465625583, 0.9881723951790633, 0.9930221337738773, 0.9820943871528659, 0.9681787761044003, 0.9955795221026257, 0.9876336789001402, 0.9936670969494669, 0.9971373531331282, 0.9866114100549219, 0.9861388986190414, 0.9824150824729578, 0.9900408024881516, 0.9922897877129855, 0.9797688694290622, 0.9903230014247358, 0.9003547725669696, 0.09003547725669697, 0.9811426127909872, 0.9941155767199661, 0.9952213370032099, 0.5129615601447687, 0.4795075453527186, 0.9894170917449269, 0.9708227935593807, 0.9598616879617342, 0.9800159483701641, 0.9866407877673269, 0.030506824869518098, 0.945711570955061, 0.9973002738040834, 0.9690894529458609, 0.976418088951754, 0.9430878303564403, 0.03929532626485168, 0.013098442088283892, 0.9974438525838457, 0.9882656767527054, 0.9968587117217456, 0.9885801729291125, 0.994510704518279, 0.9865001917753011, 0.9547768080867337, 0.9939790249086911, 0.9965055944296095, 0.9881260174507276, 0.9294183827461753, 0.9990756933835366, 0.9907639412492931, 0.033045006111595346, 0.033045006111595346, 0.2974050550043581, 0.033045006111595346, 0.033045006111595346, 0.5287200977855255, 0.986924022906779, 0.9839753816082616, 0.9961709823774968, 0.9933900246175991, 0.9986653152530229, 0.9626281190260415, 0.02468277228271901, 0.9802628984128448, 0.992197129518738, 0.9955682879239668, 0.9952049838832578, 0.9660733767342902, 0.971479155101321, 0.9927052927223224, 0.9687217395033371, 0.9940239872469773, 0.991934643598001, 0.9839497068302038, 0.9956203381548755, 0.027539916390327095, 0.013769958195163547, 0.9225871990759577, 0.027539916390327095, 0.9831731142533331, 0.986409370951139, 0.9778193448123339, 0.9856537612718577, 0.993541287155152, 0.9623315116274282, 0.996484332129681, 0.9941627000584791, 0.9949108592104446, 0.98223288066003, 0.9540471690275438, 0.9957574733787136, 0.9968286614840983, 0.99853710681483, 0.9924233954374008, 0.997957748119869, 0.9804687590409527, 0.9896175511508565, 0.9314068982327451, 0.9975558920439039, 0.9889756291036834, 0.9954755238419023, 0.9848372267868066, 0.9928763768494387, 0.9919085673366179, 0.9722702166955904, 0.9918619073470671, 0.9511035543509946, 0.9878125834180405, 0.9934642034041408, 0.9982251361598362, 0.9945721317718592, 0.981212073109791, 0.746868532611948, 0.24163393702151256, 0.9965133773999942, 0.9899150024762258, 0.9829278047205532, 0.9938960198420794, 0.9869324628653656, 0.9918569118864691, 0.986536487452556, 0.9835706867259083, 0.994385018684308, 0.9679654306144664, 0.9600377320088064, 0.9969090652703204, 0.9981892686957561, 0.9796305602497763, 0.9622414423715911, 0.996291113578127, 0.9859550932787734, 0.007469356767263435, 0.9968515513201017, 0.9960466143947773, 0.99413916693319, 0.9808221231519926, 0.974209064343825, 0.9938555195602032, 0.9817750022140954, 0.9854827833955491, 0.9920576703049195, 0.9979588070134442, 0.020996769354780693, 0.9658513903199117, 0.010498384677390346, 0.9920197440244416, 0.9894212025394614, 0.9935704598614128, 0.9968360110109347, 0.9827550524866477, 0.9987387375406647, 0.9964705395790634, 0.9979709797880196, 0.9983952457299304, 0.9900851297566344, 0.9822743206082157, 0.9874695669779051, 0.9633287934250291, 0.9855693377584279, 0.9979467945811102, 0.9916466431407891, 0.9965558271349106, 0.9946000215306767, 0.9790127392777529, 0.9682370778251488, 0.9889312865719375, 0.9949065057696246, 0.9961444850705427, 0.9950208309228341, 0.9977874953825054, 0.9946810778746921, 0.9970429625364068, 0.9903009278880047, 0.9927320797431354, 0.9760591005125738, 0.979462043213022, 0.9958401477784211, 0.9969537463475525, 0.9970738171048824, 0.998669161287353, 0.9893683139033447, 0.9834559643235032, 0.9955611269039117, 0.983308442884968, 0.9876828207152324, 0.989797376394738, 0.9766759163690529, 0.9759033382726556, 0.9629049502386623, 0.981832652726258, 0.9967760444885072, 0.9922294247677199, 0.9976062081821119, 0.9979155423427546, 0.9909634732261011, 0.9732892643543801, 0.9803341476610872, 0.9835542915004317, 0.9899186156462947, 0.9941466681507958, 0.9851466327962103, 0.9778582084210112, 0.9865543888157027, 0.9836858922807507, 0.9717571216197087, 0.989196358561625, 0.9911647664496713, 0.9989340361904073, 0.9977912180426536, 0.9840732429370369, 0.9967979214455776, 0.9928109970297128, 0.973485567316123, 0.9272846364919057, 0.9898490380736505, 0.9284645105739198, 0.9907673311248006, 0.989126365803106, 0.9942234111283376, 0.9786736023782328, 0.9942503251875743, 0.9987487769041984, 0.9933119967016598, 0.9927527639011781, 0.9941313040274576, 0.9961336436021524, 0.9757140181648367, 0.9925790031385692, 0.9971367439932272, 0.9976713683345485, 0.9956549015911537, 0.9934954482919381, 0.9941160079742233, 0.9948990083337608, 0.99657099494403, 0.9785572797818353, 0.9553183738278749, 0.9959220665646086, 0.9982828192576773, 0.9791329269180362, 0.9993420578170783, 0.9835232718200708, 0.9895726484037515, 0.9922849360159707, 0.9948634735620239, 0.9916767601205024, 0.9899573570002635, 0.9831206565127105, 0.9842249453767079, 0.9937054422158611, 0.970029722020912, 0.9761239108772694, 0.9833075282546614, 0.9769551328930444, 0.9966536540544343, 0.9855949490163853, 0.99287943958303, 0.9856648896262995, 0.9958694925418234, 0.9759680668851741, 0.9963866157552099, 0.9930286387597832, 0.9960338049970577, 0.996423642308962, 0.9840881078672673, 0.9578116089107802, 0.9945143328055719, 0.9967747430743172, 0.998116292550788, 0.9918841320510541, 0.004040122158517917, 0.9938700509954076, 0.9958631159463434, 0.9846156518523829, 0.9920613765587185, 0.9934874301114625, 0.9977594483607196, 0.9904333852399088, 0.9971937959925524, 0.9837362991883386, 0.965953393603222, 0.9925654905503709, 0.00029771292348501074, 0.97143726933159, 0.00029771292348501074, 0.018755914179555678, 0.009229100628035333, 0.9724682436340213, 0.9946339902933587, 0.9884289678798958, 0.9900786677585788, 0.9866582209796826, 0.4828703157695295, 0.05888662387433287, 0.05888662387433287, 0.3886517175705969, 0.99679842640192, 0.9880308209091333, 0.9957329599673691, 0.9832142671194596, 0.9976010362536186, 0.9945034627521742, 0.9897643981585106, 0.9971847183458834, 0.9986208312687096, 0.989174350271107, 0.9958730059882959, 0.9904567217768799, 0.9853232048972823, 0.9883333902060774, 0.9897991967213449, 0.9928773050538092, 0.9870311807825342, 0.9777554373532735, 0.9940208328536738, 0.9945292987319077, 0.9950077530771908, 0.9888791352220517, 0.970029722020912, 0.9990021615989249, 0.991282434995575], \"Term\": [\"accomplishment\", \"actually\", \"agree\", \"allow\", \"amazon\", \"america_arent\", \"america_arent\", \"american\", \"announce\", \"appear\", \"arrest\", \"ask\", \"ass\", \"associate\", \"associate\", \"attack\", \"attempt\", \"away\", \"bad\", \"beat\", \"believe\", \"betty_white\", \"betty_white\", \"biden\", \"biden\", \"big\", \"billion\", \"billionaire\", \"black\", \"blame\", \"blow\", \"body\", \"book\", \"business\", \"call\", \"campaign\", \"candidate\", \"care\", \"case\", \"charge\", \"check\", \"child\", \"choose\", \"choose\", \"claim\", \"close\", \"come\", \"communist\", \"communist\", \"compare\", \"conservative\", \"constitution\", \"control\", \"corrupt\", \"corruption\", \"corruption\", \"country\", \"create\", \"credit\", \"crime\", \"crime\", \"crime\", \"criminal\", \"damn\", \"day\", \"death\", \"debate\", \"decade\", \"deserve\", \"destroy\", \"die\", \"document\", \"dollar\", \"donald\", \"donate\", \"donwinslow\", \"donwinslow\", \"donwinslow\", \"donwinslow\", \"donwinslow\", \"donwinslow\", \"drop\", \"dude\", \"edit\", \"elect\", \"election\", \"elon_musk\", \"elon_musk\", \"email\", \"end\", \"enter\", \"es\", \"especially\", \"establishment\", \"evidence\", \"expose\", \"face\", \"fact\", \"fail\", \"family\", \"family_fleece\", \"family_fleece\", \"family_fleece\", \"family_fleece\", \"far\", \"favorite\", \"federal\", \"feel\", \"fight\", \"final\", \"finally\", \"follow\", \"follower\", \"foreign\", \"fp_dtyc\", \"fraud\", \"fuck\", \"get\", \"give\", \"go\", \"god_bless\", \"golf\", \"golfer\", \"good\", \"government\", \"great\", \"guess\", \"guilty\", \"guy\", \"hair\", \"half\", \"handcuff\", \"happen\", \"happy\", \"hate\", \"head\", \"hear\", \"held_accountable\", \"held_accountable\", \"help\", \"history\", \"hitler\", \"hold\", \"hope\", \"httpstco\", \"httpstcoo\", \"httpstcoz\", \"human\", \"hunter\", \"illegal\", \"incite\", \"include\", \"income\", \"incredible\", \"instead\", \"insurrection\", \"insurrection\", \"interview\", \"jail\", \"job\", \"joncoopertweet\", \"jr\", \"justice\", \"kid\", \"kill\", \"kind\", \"know\", \"larryeld\", \"larryeld\", \"larryeld\", \"late\", \"law\", \"lead\", \"leader\", \"learn\", \"leave\", \"let\", \"liberal\", \"lie\", \"life\", \"like\", \"list\", \"literally\", \"little\", \"live\", \"long\", \"look\", \"lose\", \"loser\", \"loss\", \"lot\", \"love\", \"m\", \"maga\", \"make\", \"man\", \"maybe\", \"mean\", \"medium\", \"member\", \"million\", \"miss\", \"money\", \"need\", \"new\", \"news\", \"nice\", \"office\", \"old\", \"one\", \"order\", \"organization\", \"paid_taxe\", \"pardon\", \"party\", \"pass\", \"past\", \"pay\", \"people\", \"person\", \"piece\", \"place\", \"play\", \"point\", \"political\", \"politician\", \"poor\", \"position\", \"post\", \"potus\", \"power\", \"presidency\", \"president\", \"presidential\", \"pretty\", \"prison\", \"problem\", \"promise\", \"protect\", \"public\", \"purpose\", \"push\", \"que\", \"racist\", \"rally\", \"rating\", \"re\", \"read\", \"real\", \"realdonaldtrump\", \"really\", \"reason\", \"record\", \"release\", \"remember\", \"report\", \"response\", \"return\", \"reveal\", \"right\", \"rip\", \"ruin\", \"run\", \"s\", \"save\", \"say\", \"second\", \"see\", \"send\", \"seriously\", \"shit\", \"show\", \"single\", \"smart\", \"smartnew\", \"sold_current\", \"son\", \"sonia_art\", \"sound\", \"speak\", \"spend\", \"stand\", \"start\", \"state\", \"stay\", \"stop\", \"story\", \"support\", \"supporter\", \"sure\", \"sus\", \"take\", \"talk\", \"tax\", \"tax_return\", \"taxis\", \"taxis\", \"tell\", \"term\", \"thank\", \"thing\", \"think\", \"throw\", \"time\", \"today\", \"traitor\", \"true\", \"trump\", \"trump\", \"trump\", \"trump\", \"trump\", \"truth\", \"try\", \"turn\", \"tweet\", \"twitter\", \"ukraine\", \"ukraine\", \"ukraine\", \"ukraine\", \"united_state\", \"upset\", \"use\", \"vacation\", \"ve\", \"video\", \"vile\", \"vote\", \"want\", \"watch\", \"way\", \"weapon\", \"week\", \"well\", \"white\", \"win\", \"wish\", \"woman\", \"word\", \"work\", \"world\", \"wrong\", \"yacht_club\", \"year\", \"youtube\"]}, \"R\": 30, \"lambda.step\": 0.01, \"plot.opts\": {\"xlab\": \"PC1\", \"ylab\": \"PC2\"}, \"topic.order\": [6, 4, 10, 1, 8, 9, 5, 2, 3, 7]};\n",
              "\n",
              "function LDAvis_load_lib(url, callback){\n",
              "  var s = document.createElement('script');\n",
              "  s.src = url;\n",
              "  s.async = true;\n",
              "  s.onreadystatechange = s.onload = callback;\n",
              "  s.onerror = function(){console.warn(\"failed to load library \" + url);};\n",
              "  document.getElementsByTagName(\"head\")[0].appendChild(s);\n",
              "}\n",
              "\n",
              "if(typeof(LDAvis) !== \"undefined\"){\n",
              "   // already loaded: just create the visualization\n",
              "   !function(LDAvis){\n",
              "       new LDAvis(\"#\" + \"ldavis_el2221404706684607686600177411\", ldavis_el2221404706684607686600177411_data);\n",
              "   }(LDAvis);\n",
              "}else if(typeof define === \"function\" && define.amd){\n",
              "   // require.js is available: use it to load d3/LDAvis\n",
              "   require.config({paths: {d3: \"https://d3js.org/d3.v5\"}});\n",
              "   require([\"d3\"], function(d3){\n",
              "      window.d3 = d3;\n",
              "      LDAvis_load_lib(\"https://cdn.jsdelivr.net/gh/bmabey/pyLDAvis@3.4.0/pyLDAvis/js/ldavis.v3.0.0.js\", function(){\n",
              "        new LDAvis(\"#\" + \"ldavis_el2221404706684607686600177411\", ldavis_el2221404706684607686600177411_data);\n",
              "      });\n",
              "    });\n",
              "}else{\n",
              "    // require.js not available: dynamically load d3 & LDAvis\n",
              "    LDAvis_load_lib(\"https://d3js.org/d3.v5.js\", function(){\n",
              "         LDAvis_load_lib(\"https://cdn.jsdelivr.net/gh/bmabey/pyLDAvis@3.4.0/pyLDAvis/js/ldavis.v3.0.0.js\", function(){\n",
              "                 new LDAvis(\"#\" + \"ldavis_el2221404706684607686600177411\", ldavis_el2221404706684607686600177411_data);\n",
              "            })\n",
              "         });\n",
              "}\n",
              "</script>"
            ]
          },
          "metadata": {},
          "execution_count": 115
        }
      ]
    },
    {
      "cell_type": "code",
      "source": [
        "list(lda_model.get_document_topics(corpus[1]))\n"
      ],
      "metadata": {
        "colab": {
          "base_uri": "https://localhost:8080/"
        },
        "id": "L5EfFRjo5Ac7",
        "outputId": "6263edc3-5105-437f-b7fc-7ceda9a2d242"
      },
      "execution_count": 116,
      "outputs": [
        {
          "output_type": "execute_result",
          "data": {
            "text/plain": [
              "[(0, 0.12749235),\n",
              " (1, 0.05323256),\n",
              " (2, 0.052233614),\n",
              " (3, 0.12841366),\n",
              " (4, 0.09690813),\n",
              " (5, 0.15249519),\n",
              " (6, 0.03094448),\n",
              " (7, 0.11413946),\n",
              " (8, 0.10050583),\n",
              " (9, 0.1436347)]"
            ]
          },
          "metadata": {},
          "execution_count": 116
        }
      ]
    },
    {
      "cell_type": "code",
      "source": [
        "lda_model.show_topic(0)\n"
      ],
      "metadata": {
        "colab": {
          "base_uri": "https://localhost:8080/"
        },
        "id": "F32-oOf75FYy",
        "outputId": "c4f9a9e5-e4b1-4122-cf8f-3731f4bd688f"
      },
      "execution_count": 72,
      "outputs": [
        {
          "output_type": "execute_result",
          "data": {
            "text/plain": [
              "[('pay', 0.04612193),\n",
              " ('call', 0.045543503),\n",
              " ('maga', 0.033346042),\n",
              " ('agree', 0.030589769),\n",
              " ('office', 0.030249728),\n",
              " ('use', 0.026552152),\n",
              " ('state', 0.021971693),\n",
              " ('life', 0.020410588),\n",
              " ('point', 0.01913917),\n",
              " ('leader', 0.015837794)]"
            ]
          },
          "metadata": {},
          "execution_count": 72
        }
      ]
    },
    {
      "cell_type": "markdown",
      "source": [
        "Find dominant topic in each tweet"
      ],
      "metadata": {
        "id": "nErWcYQQ5ObJ"
      }
    },
    {
      "cell_type": "code",
      "source": [
        "def find_dom_topics(ldamodel=lda_model, corpus=corpus, texts=data):\n",
        "    # Init output\n",
        "    sent_topics_df = pd.DataFrame()\n",
        "\n",
        "    # Get main topic in each document\n",
        "    for i, row in enumerate(ldamodel[corpus]):\n",
        "        row = sorted(row[0], key=lambda x: (x[1]), reverse=True)\n",
        "        dominant_topic = row[0]\n",
        "        # Get the Dominant topic, Perc Contribution and Keywords for each document\n",
        "        sent_topics_df = sent_topics_df.append(pd.Series([int(dominant_topic[0]), round(dominant_topic[1],4)]), ignore_index=True)\n",
        "\n",
        "    sent_topics_df.columns = ['Dominant_Topic', 'Perc_Contribution']\n",
        "\n",
        "    # Add original text to the end of the output\n",
        "    contents = pd.Series(texts)\n",
        "    sent_topics_df = pd.concat([sent_topics_df, contents], axis=1)\n",
        "    return(sent_topics_df)\n",
        "\n",
        "\n",
        "df_dominant_topic = find_dom_topics(ldamodel=lda_model, corpus=corpus, texts=tweets_lemmatized)\n",
        "\n",
        "# Format\n",
        "df_dominant_topic = df_dominant_topic.reset_index()\n",
        "df_dominant_topic.columns = ['Document_No', 'Dominant_Topic', 'Topic_Perc_Contrib', 'Text']\n",
        "\n",
        "# Show\n",
        "df_dominant_topic.head(10)\n"
      ],
      "metadata": {
        "colab": {
          "base_uri": "https://localhost:8080/",
          "height": 585
        },
        "id": "KTE-WosA5QZ8",
        "outputId": "cb8d74c3-5ed6-48d9-ee93-ff3652106494"
      },
      "execution_count": 119,
      "outputs": [
        {
          "output_type": "stream",
          "name": "stderr",
          "text": [
            "<ipython-input-119-6af0236a12c9>:10: FutureWarning: The frame.append method is deprecated and will be removed from pandas in a future version. Use pandas.concat instead.\n",
            "  sent_topics_df = sent_topics_df.append(pd.Series([int(dominant_topic[0]), round(dominant_topic[1],4)]), ignore_index=True)\n",
            "<ipython-input-119-6af0236a12c9>:10: FutureWarning: The frame.append method is deprecated and will be removed from pandas in a future version. Use pandas.concat instead.\n",
            "  sent_topics_df = sent_topics_df.append(pd.Series([int(dominant_topic[0]), round(dominant_topic[1],4)]), ignore_index=True)\n"
          ]
        },
        {
          "output_type": "execute_result",
          "data": {
            "text/plain": [
              "   Document_No  Dominant_Topic  Topic_Perc_Contrib  \\\n",
              "0            0             0.0              0.3713   \n",
              "1            1             5.0              0.1525   \n",
              "2            2             7.0              0.2568   \n",
              "3            3             9.0              0.3057   \n",
              "4            4             8.0              0.2099   \n",
              "5            5             7.0              0.2842   \n",
              "6            6             5.0              0.1522   \n",
              "7            7             4.0              0.5154   \n",
              "8            8             7.0              0.2841   \n",
              "9            9             7.0              0.5226   \n",
              "\n",
              "                                                Text  \n",
              "0  [realdonaldtrump, fuck, donald, trump, shamele...  \n",
              "1              [har, faet, retten, httptcol, dtjinw]  \n",
              "2                                      [visit, turn]  \n",
              "3  [tweet, happy, new, year, donald, right, tweet...  \n",
              "4     [lol, well, emily, stephlombard, hate, obeezy]  \n",
              "5  [remind, movie, dumb, dumb, complain, httptcou...  \n",
              "6                                       [imma_blunt]  \n",
              "7          [realize, dad, rich, kid, little, rascal]  \n",
              "8                      [deal, deal, pull, say, fire]  \n",
              "9  [tell, runner, apprentice, anchor, evening, ne...  "
            ],
            "text/html": [
              "\n",
              "  <div id=\"df-a7bd3383-280b-4230-8ed0-211a0fc499f2\">\n",
              "    <div class=\"colab-df-container\">\n",
              "      <div>\n",
              "<style scoped>\n",
              "    .dataframe tbody tr th:only-of-type {\n",
              "        vertical-align: middle;\n",
              "    }\n",
              "\n",
              "    .dataframe tbody tr th {\n",
              "        vertical-align: top;\n",
              "    }\n",
              "\n",
              "    .dataframe thead th {\n",
              "        text-align: right;\n",
              "    }\n",
              "</style>\n",
              "<table border=\"1\" class=\"dataframe\">\n",
              "  <thead>\n",
              "    <tr style=\"text-align: right;\">\n",
              "      <th></th>\n",
              "      <th>Document_No</th>\n",
              "      <th>Dominant_Topic</th>\n",
              "      <th>Topic_Perc_Contrib</th>\n",
              "      <th>Text</th>\n",
              "    </tr>\n",
              "  </thead>\n",
              "  <tbody>\n",
              "    <tr>\n",
              "      <th>0</th>\n",
              "      <td>0</td>\n",
              "      <td>0.0</td>\n",
              "      <td>0.3713</td>\n",
              "      <td>[realdonaldtrump, fuck, donald, trump, shamele...</td>\n",
              "    </tr>\n",
              "    <tr>\n",
              "      <th>1</th>\n",
              "      <td>1</td>\n",
              "      <td>5.0</td>\n",
              "      <td>0.1525</td>\n",
              "      <td>[har, faet, retten, httptcol, dtjinw]</td>\n",
              "    </tr>\n",
              "    <tr>\n",
              "      <th>2</th>\n",
              "      <td>2</td>\n",
              "      <td>7.0</td>\n",
              "      <td>0.2568</td>\n",
              "      <td>[visit, turn]</td>\n",
              "    </tr>\n",
              "    <tr>\n",
              "      <th>3</th>\n",
              "      <td>3</td>\n",
              "      <td>9.0</td>\n",
              "      <td>0.3057</td>\n",
              "      <td>[tweet, happy, new, year, donald, right, tweet...</td>\n",
              "    </tr>\n",
              "    <tr>\n",
              "      <th>4</th>\n",
              "      <td>4</td>\n",
              "      <td>8.0</td>\n",
              "      <td>0.2099</td>\n",
              "      <td>[lol, well, emily, stephlombard, hate, obeezy]</td>\n",
              "    </tr>\n",
              "    <tr>\n",
              "      <th>5</th>\n",
              "      <td>5</td>\n",
              "      <td>7.0</td>\n",
              "      <td>0.2842</td>\n",
              "      <td>[remind, movie, dumb, dumb, complain, httptcou...</td>\n",
              "    </tr>\n",
              "    <tr>\n",
              "      <th>6</th>\n",
              "      <td>6</td>\n",
              "      <td>5.0</td>\n",
              "      <td>0.1522</td>\n",
              "      <td>[imma_blunt]</td>\n",
              "    </tr>\n",
              "    <tr>\n",
              "      <th>7</th>\n",
              "      <td>7</td>\n",
              "      <td>4.0</td>\n",
              "      <td>0.5154</td>\n",
              "      <td>[realize, dad, rich, kid, little, rascal]</td>\n",
              "    </tr>\n",
              "    <tr>\n",
              "      <th>8</th>\n",
              "      <td>8</td>\n",
              "      <td>7.0</td>\n",
              "      <td>0.2841</td>\n",
              "      <td>[deal, deal, pull, say, fire]</td>\n",
              "    </tr>\n",
              "    <tr>\n",
              "      <th>9</th>\n",
              "      <td>9</td>\n",
              "      <td>7.0</td>\n",
              "      <td>0.5226</td>\n",
              "      <td>[tell, runner, apprentice, anchor, evening, ne...</td>\n",
              "    </tr>\n",
              "  </tbody>\n",
              "</table>\n",
              "</div>\n",
              "      <button class=\"colab-df-convert\" onclick=\"convertToInteractive('df-a7bd3383-280b-4230-8ed0-211a0fc499f2')\"\n",
              "              title=\"Convert this dataframe to an interactive table.\"\n",
              "              style=\"display:none;\">\n",
              "        \n",
              "  <svg xmlns=\"http://www.w3.org/2000/svg\" height=\"24px\"viewBox=\"0 0 24 24\"\n",
              "       width=\"24px\">\n",
              "    <path d=\"M0 0h24v24H0V0z\" fill=\"none\"/>\n",
              "    <path d=\"M18.56 5.44l.94 2.06.94-2.06 2.06-.94-2.06-.94-.94-2.06-.94 2.06-2.06.94zm-11 1L8.5 8.5l.94-2.06 2.06-.94-2.06-.94L8.5 2.5l-.94 2.06-2.06.94zm10 10l.94 2.06.94-2.06 2.06-.94-2.06-.94-.94-2.06-.94 2.06-2.06.94z\"/><path d=\"M17.41 7.96l-1.37-1.37c-.4-.4-.92-.59-1.43-.59-.52 0-1.04.2-1.43.59L10.3 9.45l-7.72 7.72c-.78.78-.78 2.05 0 2.83L4 21.41c.39.39.9.59 1.41.59.51 0 1.02-.2 1.41-.59l7.78-7.78 2.81-2.81c.8-.78.8-2.07 0-2.86zM5.41 20L4 18.59l7.72-7.72 1.47 1.35L5.41 20z\"/>\n",
              "  </svg>\n",
              "      </button>\n",
              "      \n",
              "  <style>\n",
              "    .colab-df-container {\n",
              "      display:flex;\n",
              "      flex-wrap:wrap;\n",
              "      gap: 12px;\n",
              "    }\n",
              "\n",
              "    .colab-df-convert {\n",
              "      background-color: #E8F0FE;\n",
              "      border: none;\n",
              "      border-radius: 50%;\n",
              "      cursor: pointer;\n",
              "      display: none;\n",
              "      fill: #1967D2;\n",
              "      height: 32px;\n",
              "      padding: 0 0 0 0;\n",
              "      width: 32px;\n",
              "    }\n",
              "\n",
              "    .colab-df-convert:hover {\n",
              "      background-color: #E2EBFA;\n",
              "      box-shadow: 0px 1px 2px rgba(60, 64, 67, 0.3), 0px 1px 3px 1px rgba(60, 64, 67, 0.15);\n",
              "      fill: #174EA6;\n",
              "    }\n",
              "\n",
              "    [theme=dark] .colab-df-convert {\n",
              "      background-color: #3B4455;\n",
              "      fill: #D2E3FC;\n",
              "    }\n",
              "\n",
              "    [theme=dark] .colab-df-convert:hover {\n",
              "      background-color: #434B5C;\n",
              "      box-shadow: 0px 1px 3px 1px rgba(0, 0, 0, 0.15);\n",
              "      filter: drop-shadow(0px 1px 2px rgba(0, 0, 0, 0.3));\n",
              "      fill: #FFFFFF;\n",
              "    }\n",
              "  </style>\n",
              "\n",
              "      <script>\n",
              "        const buttonEl =\n",
              "          document.querySelector('#df-a7bd3383-280b-4230-8ed0-211a0fc499f2 button.colab-df-convert');\n",
              "        buttonEl.style.display =\n",
              "          google.colab.kernel.accessAllowed ? 'block' : 'none';\n",
              "\n",
              "        async function convertToInteractive(key) {\n",
              "          const element = document.querySelector('#df-a7bd3383-280b-4230-8ed0-211a0fc499f2');\n",
              "          const dataTable =\n",
              "            await google.colab.kernel.invokeFunction('convertToInteractive',\n",
              "                                                     [key], {});\n",
              "          if (!dataTable) return;\n",
              "\n",
              "          const docLinkHtml = 'Like what you see? Visit the ' +\n",
              "            '<a target=\"_blank\" href=https://colab.research.google.com/notebooks/data_table.ipynb>data table notebook</a>'\n",
              "            + ' to learn more about interactive tables.';\n",
              "          element.innerHTML = '';\n",
              "          dataTable['output_type'] = 'display_data';\n",
              "          await google.colab.output.renderOutput(dataTable, element);\n",
              "          const docLink = document.createElement('div');\n",
              "          docLink.innerHTML = docLinkHtml;\n",
              "          element.appendChild(docLink);\n",
              "        }\n",
              "      </script>\n",
              "    </div>\n",
              "  </div>\n",
              "  "
            ]
          },
          "metadata": {},
          "execution_count": 119
        }
      ]
    },
    {
      "cell_type": "markdown",
      "source": [
        "Find the most representative document for each topic"
      ],
      "metadata": {
        "id": "abGXguFh5j9R"
      }
    },
    {
      "cell_type": "code",
      "source": [
        "# Group top 5 sentences under each topic\n",
        "df_topics_doc = pd.DataFrame()\n",
        "\n",
        "df_dominant_topic_grpd = df_dominant_topic.groupby('Dominant_Topic')\n",
        "\n",
        "for i, grp in df_dominant_topic_grpd:\n",
        "    df_topics_doc = pd.concat([df_topics_doc, \n",
        "                                             grp.sort_values(['Topic_Perc_Contrib'], ascending=[0]).head(1)], \n",
        "                                            axis=0)\n",
        "\n",
        "# Reset Index    \n",
        "df_topics_doc.reset_index(drop=True, inplace=True)\n",
        "\n",
        "# Format\n",
        "df_topics_doc.columns = ['Document_No', 'Topic_Num', \"Topic_Perc_Contrib\", \"Text\"]\n",
        "\n",
        "# Show\n",
        "df_topics_doc"
      ],
      "metadata": {
        "colab": {
          "base_uri": "https://localhost:8080/",
          "height": 546
        },
        "id": "GXjKmwp_5jO8",
        "outputId": "480d23d5-4f8c-49fd-8cd4-adb6959c04bd"
      },
      "execution_count": 120,
      "outputs": [
        {
          "output_type": "execute_result",
          "data": {
            "text/plain": [
              "   Document_No  Topic_Num  Topic_Perc_Contrib  \\\n",
              "0         7949        0.0              0.7614   \n",
              "1        10513        1.0              0.7303   \n",
              "2          124        2.0              0.6157   \n",
              "3        10540        3.0              0.6599   \n",
              "4         9983        4.0              0.6842   \n",
              "5         5829        5.0              0.6990   \n",
              "6        10984        6.0              0.6470   \n",
              "7        10414        7.0              0.7129   \n",
              "8         4094        8.0              0.6733   \n",
              "9         4424        9.0              0.7053   \n",
              "\n",
              "                                                Text  \n",
              "0  [revelers_globe, decade_remembere, rise_social...  \n",
              "1  [klhu, lordbutter, trumpcrazytrain, againmothr...  \n",
              "2                      [thing, stay, hair, get, mad]  \n",
              "3  [yacht_club, sold_current, fp_dtyc, httpstcojq...  \n",
              "4  [family_fleece, america_arent, held_accountabl...  \n",
              "5  [see, uber, driver, crack, pipe, passenger, se...  \n",
              "6  [eso, sus, declaracione, impuesto, cuentan, su...  \n",
              "7  [take, twitter, late, reunite, series, controv...  \n",
              "8  [happy, new, year, happy, new, year, gilligan,...  \n",
              "9  [internet, respond, childish, nye, message, co...  "
            ],
            "text/html": [
              "\n",
              "  <div id=\"df-6260b771-ae96-40db-8129-606b289baab2\">\n",
              "    <div class=\"colab-df-container\">\n",
              "      <div>\n",
              "<style scoped>\n",
              "    .dataframe tbody tr th:only-of-type {\n",
              "        vertical-align: middle;\n",
              "    }\n",
              "\n",
              "    .dataframe tbody tr th {\n",
              "        vertical-align: top;\n",
              "    }\n",
              "\n",
              "    .dataframe thead th {\n",
              "        text-align: right;\n",
              "    }\n",
              "</style>\n",
              "<table border=\"1\" class=\"dataframe\">\n",
              "  <thead>\n",
              "    <tr style=\"text-align: right;\">\n",
              "      <th></th>\n",
              "      <th>Document_No</th>\n",
              "      <th>Topic_Num</th>\n",
              "      <th>Topic_Perc_Contrib</th>\n",
              "      <th>Text</th>\n",
              "    </tr>\n",
              "  </thead>\n",
              "  <tbody>\n",
              "    <tr>\n",
              "      <th>0</th>\n",
              "      <td>7949</td>\n",
              "      <td>0.0</td>\n",
              "      <td>0.7614</td>\n",
              "      <td>[revelers_globe, decade_remembere, rise_social...</td>\n",
              "    </tr>\n",
              "    <tr>\n",
              "      <th>1</th>\n",
              "      <td>10513</td>\n",
              "      <td>1.0</td>\n",
              "      <td>0.7303</td>\n",
              "      <td>[klhu, lordbutter, trumpcrazytrain, againmothr...</td>\n",
              "    </tr>\n",
              "    <tr>\n",
              "      <th>2</th>\n",
              "      <td>124</td>\n",
              "      <td>2.0</td>\n",
              "      <td>0.6157</td>\n",
              "      <td>[thing, stay, hair, get, mad]</td>\n",
              "    </tr>\n",
              "    <tr>\n",
              "      <th>3</th>\n",
              "      <td>10540</td>\n",
              "      <td>3.0</td>\n",
              "      <td>0.6599</td>\n",
              "      <td>[yacht_club, sold_current, fp_dtyc, httpstcojq...</td>\n",
              "    </tr>\n",
              "    <tr>\n",
              "      <th>4</th>\n",
              "      <td>9983</td>\n",
              "      <td>4.0</td>\n",
              "      <td>0.6842</td>\n",
              "      <td>[family_fleece, america_arent, held_accountabl...</td>\n",
              "    </tr>\n",
              "    <tr>\n",
              "      <th>5</th>\n",
              "      <td>5829</td>\n",
              "      <td>5.0</td>\n",
              "      <td>0.6990</td>\n",
              "      <td>[see, uber, driver, crack, pipe, passenger, se...</td>\n",
              "    </tr>\n",
              "    <tr>\n",
              "      <th>6</th>\n",
              "      <td>10984</td>\n",
              "      <td>6.0</td>\n",
              "      <td>0.6470</td>\n",
              "      <td>[eso, sus, declaracione, impuesto, cuentan, su...</td>\n",
              "    </tr>\n",
              "    <tr>\n",
              "      <th>7</th>\n",
              "      <td>10414</td>\n",
              "      <td>7.0</td>\n",
              "      <td>0.7129</td>\n",
              "      <td>[take, twitter, late, reunite, series, controv...</td>\n",
              "    </tr>\n",
              "    <tr>\n",
              "      <th>8</th>\n",
              "      <td>4094</td>\n",
              "      <td>8.0</td>\n",
              "      <td>0.6733</td>\n",
              "      <td>[happy, new, year, happy, new, year, gilligan,...</td>\n",
              "    </tr>\n",
              "    <tr>\n",
              "      <th>9</th>\n",
              "      <td>4424</td>\n",
              "      <td>9.0</td>\n",
              "      <td>0.7053</td>\n",
              "      <td>[internet, respond, childish, nye, message, co...</td>\n",
              "    </tr>\n",
              "  </tbody>\n",
              "</table>\n",
              "</div>\n",
              "      <button class=\"colab-df-convert\" onclick=\"convertToInteractive('df-6260b771-ae96-40db-8129-606b289baab2')\"\n",
              "              title=\"Convert this dataframe to an interactive table.\"\n",
              "              style=\"display:none;\">\n",
              "        \n",
              "  <svg xmlns=\"http://www.w3.org/2000/svg\" height=\"24px\"viewBox=\"0 0 24 24\"\n",
              "       width=\"24px\">\n",
              "    <path d=\"M0 0h24v24H0V0z\" fill=\"none\"/>\n",
              "    <path d=\"M18.56 5.44l.94 2.06.94-2.06 2.06-.94-2.06-.94-.94-2.06-.94 2.06-2.06.94zm-11 1L8.5 8.5l.94-2.06 2.06-.94-2.06-.94L8.5 2.5l-.94 2.06-2.06.94zm10 10l.94 2.06.94-2.06 2.06-.94-2.06-.94-.94-2.06-.94 2.06-2.06.94z\"/><path d=\"M17.41 7.96l-1.37-1.37c-.4-.4-.92-.59-1.43-.59-.52 0-1.04.2-1.43.59L10.3 9.45l-7.72 7.72c-.78.78-.78 2.05 0 2.83L4 21.41c.39.39.9.59 1.41.59.51 0 1.02-.2 1.41-.59l7.78-7.78 2.81-2.81c.8-.78.8-2.07 0-2.86zM5.41 20L4 18.59l7.72-7.72 1.47 1.35L5.41 20z\"/>\n",
              "  </svg>\n",
              "      </button>\n",
              "      \n",
              "  <style>\n",
              "    .colab-df-container {\n",
              "      display:flex;\n",
              "      flex-wrap:wrap;\n",
              "      gap: 12px;\n",
              "    }\n",
              "\n",
              "    .colab-df-convert {\n",
              "      background-color: #E8F0FE;\n",
              "      border: none;\n",
              "      border-radius: 50%;\n",
              "      cursor: pointer;\n",
              "      display: none;\n",
              "      fill: #1967D2;\n",
              "      height: 32px;\n",
              "      padding: 0 0 0 0;\n",
              "      width: 32px;\n",
              "    }\n",
              "\n",
              "    .colab-df-convert:hover {\n",
              "      background-color: #E2EBFA;\n",
              "      box-shadow: 0px 1px 2px rgba(60, 64, 67, 0.3), 0px 1px 3px 1px rgba(60, 64, 67, 0.15);\n",
              "      fill: #174EA6;\n",
              "    }\n",
              "\n",
              "    [theme=dark] .colab-df-convert {\n",
              "      background-color: #3B4455;\n",
              "      fill: #D2E3FC;\n",
              "    }\n",
              "\n",
              "    [theme=dark] .colab-df-convert:hover {\n",
              "      background-color: #434B5C;\n",
              "      box-shadow: 0px 1px 3px 1px rgba(0, 0, 0, 0.15);\n",
              "      filter: drop-shadow(0px 1px 2px rgba(0, 0, 0, 0.3));\n",
              "      fill: #FFFFFF;\n",
              "    }\n",
              "  </style>\n",
              "\n",
              "      <script>\n",
              "        const buttonEl =\n",
              "          document.querySelector('#df-6260b771-ae96-40db-8129-606b289baab2 button.colab-df-convert');\n",
              "        buttonEl.style.display =\n",
              "          google.colab.kernel.accessAllowed ? 'block' : 'none';\n",
              "\n",
              "        async function convertToInteractive(key) {\n",
              "          const element = document.querySelector('#df-6260b771-ae96-40db-8129-606b289baab2');\n",
              "          const dataTable =\n",
              "            await google.colab.kernel.invokeFunction('convertToInteractive',\n",
              "                                                     [key], {});\n",
              "          if (!dataTable) return;\n",
              "\n",
              "          const docLinkHtml = 'Like what you see? Visit the ' +\n",
              "            '<a target=\"_blank\" href=https://colab.research.google.com/notebooks/data_table.ipynb>data table notebook</a>'\n",
              "            + ' to learn more about interactive tables.';\n",
              "          element.innerHTML = '';\n",
              "          dataTable['output_type'] = 'display_data';\n",
              "          await google.colab.output.renderOutput(dataTable, element);\n",
              "          const docLink = document.createElement('div');\n",
              "          docLink.innerHTML = docLinkHtml;\n",
              "          element.appendChild(docLink);\n",
              "        }\n",
              "      </script>\n",
              "    </div>\n",
              "  </div>\n",
              "  "
            ]
          },
          "metadata": {},
          "execution_count": 120
        }
      ]
    },
    {
      "cell_type": "markdown",
      "source": [
        "Topic distribution across documents¶"
      ],
      "metadata": {
        "id": "KkX-N0jm5rit"
      }
    },
    {
      "cell_type": "code",
      "source": [
        "df_dominant_topic['Dominant_Topic'].hist(bins=10)\n"
      ],
      "metadata": {
        "colab": {
          "base_uri": "https://localhost:8080/",
          "height": 283
        },
        "id": "EAMXdd0V5sM2",
        "outputId": "72a52b04-9975-48da-bbfd-9fbee1276ea3"
      },
      "execution_count": 121,
      "outputs": [
        {
          "output_type": "execute_result",
          "data": {
            "text/plain": [
              "<Axes: >"
            ]
          },
          "metadata": {},
          "execution_count": 121
        },
        {
          "output_type": "display_data",
          "data": {
            "text/plain": [
              "<Figure size 432x288 with 1 Axes>"
            ],
            "image/png": "[encoded data removed]"
          },
          "metadata": {
            "needs_background": "light"
          }
        }
      ]
    },
    {
      "cell_type": "code",
      "source": [
        "# Number of Documents for Each Topic\n",
        "topic_counts = df_dominant_topic['Dominant_Topic'].value_counts()\n",
        "\n",
        "# Percentage of Documents for Each Topic\n",
        "topic_contribution = round(topic_counts/topic_counts.sum(), 4)\n",
        "\n",
        "# Concatenate Column wise\n",
        "df_topics = pd.concat([topic_counts, topic_contribution], axis=1)\n",
        "\n",
        "# Change Column names\n",
        "df_topics.columns = ['Num_Documents', 'Perc_Documents']\n",
        "\n",
        "# Show\n",
        "df_topics"
      ],
      "metadata": {
        "colab": {
          "base_uri": "https://localhost:8080/",
          "height": 363
        },
        "id": "fmDs5kWI51Id",
        "outputId": "4a872322-12b9-4944-ab41-8ac39f77a955"
      },
      "execution_count": 122,
      "outputs": [
        {
          "output_type": "execute_result",
          "data": {
            "text/plain": [
              "     Num_Documents  Perc_Documents\n",
              "5.0           3213          0.2918\n",
              "3.0           1631          0.1481\n",
              "9.0           1529          0.1389\n",
              "0.0           1337          0.1214\n",
              "7.0            888          0.0806\n",
              "8.0            821          0.0746\n",
              "4.0            692          0.0628\n",
              "1.0            374          0.0340\n",
              "2.0            330          0.0300\n",
              "6.0            196          0.0178"
            ],
            "text/html": [
              "\n",
              "  <div id=\"df-48169b03-f5da-4ad7-8267-2218decf4857\">\n",
              "    <div class=\"colab-df-container\">\n",
              "      <div>\n",
              "<style scoped>\n",
              "    .dataframe tbody tr th:only-of-type {\n",
              "        vertical-align: middle;\n",
              "    }\n",
              "\n",
              "    .dataframe tbody tr th {\n",
              "        vertical-align: top;\n",
              "    }\n",
              "\n",
              "    .dataframe thead th {\n",
              "        text-align: right;\n",
              "    }\n",
              "</style>\n",
              "<table border=\"1\" class=\"dataframe\">\n",
              "  <thead>\n",
              "    <tr style=\"text-align: right;\">\n",
              "      <th></th>\n",
              "      <th>Num_Documents</th>\n",
              "      <th>Perc_Documents</th>\n",
              "    </tr>\n",
              "  </thead>\n",
              "  <tbody>\n",
              "    <tr>\n",
              "      <th>5.0</th>\n",
              "      <td>3213</td>\n",
              "      <td>0.2918</td>\n",
              "    </tr>\n",
              "    <tr>\n",
              "      <th>3.0</th>\n",
              "      <td>1631</td>\n",
              "      <td>0.1481</td>\n",
              "    </tr>\n",
              "    <tr>\n",
              "      <th>9.0</th>\n",
              "      <td>1529</td>\n",
              "      <td>0.1389</td>\n",
              "    </tr>\n",
              "    <tr>\n",
              "      <th>0.0</th>\n",
              "      <td>1337</td>\n",
              "      <td>0.1214</td>\n",
              "    </tr>\n",
              "    <tr>\n",
              "      <th>7.0</th>\n",
              "      <td>888</td>\n",
              "      <td>0.0806</td>\n",
              "    </tr>\n",
              "    <tr>\n",
              "      <th>8.0</th>\n",
              "      <td>821</td>\n",
              "      <td>0.0746</td>\n",
              "    </tr>\n",
              "    <tr>\n",
              "      <th>4.0</th>\n",
              "      <td>692</td>\n",
              "      <td>0.0628</td>\n",
              "    </tr>\n",
              "    <tr>\n",
              "      <th>1.0</th>\n",
              "      <td>374</td>\n",
              "      <td>0.0340</td>\n",
              "    </tr>\n",
              "    <tr>\n",
              "      <th>2.0</th>\n",
              "      <td>330</td>\n",
              "      <td>0.0300</td>\n",
              "    </tr>\n",
              "    <tr>\n",
              "      <th>6.0</th>\n",
              "      <td>196</td>\n",
              "      <td>0.0178</td>\n",
              "    </tr>\n",
              "  </tbody>\n",
              "</table>\n",
              "</div>\n",
              "      <button class=\"colab-df-convert\" onclick=\"convertToInteractive('df-48169b03-f5da-4ad7-8267-2218decf4857')\"\n",
              "              title=\"Convert this dataframe to an interactive table.\"\n",
              "              style=\"display:none;\">\n",
              "        \n",
              "  <svg xmlns=\"http://www.w3.org/2000/svg\" height=\"24px\"viewBox=\"0 0 24 24\"\n",
              "       width=\"24px\">\n",
              "    <path d=\"M0 0h24v24H0V0z\" fill=\"none\"/>\n",
              "    <path d=\"M18.56 5.44l.94 2.06.94-2.06 2.06-.94-2.06-.94-.94-2.06-.94 2.06-2.06.94zm-11 1L8.5 8.5l.94-2.06 2.06-.94-2.06-.94L8.5 2.5l-.94 2.06-2.06.94zm10 10l.94 2.06.94-2.06 2.06-.94-2.06-.94-.94-2.06-.94 2.06-2.06.94z\"/><path d=\"M17.41 7.96l-1.37-1.37c-.4-.4-.92-.59-1.43-.59-.52 0-1.04.2-1.43.59L10.3 9.45l-7.72 7.72c-.78.78-.78 2.05 0 2.83L4 21.41c.39.39.9.59 1.41.59.51 0 1.02-.2 1.41-.59l7.78-7.78 2.81-2.81c.8-.78.8-2.07 0-2.86zM5.41 20L4 18.59l7.72-7.72 1.47 1.35L5.41 20z\"/>\n",
              "  </svg>\n",
              "      </button>\n",
              "      \n",
              "  <style>\n",
              "    .colab-df-container {\n",
              "      display:flex;\n",
              "      flex-wrap:wrap;\n",
              "      gap: 12px;\n",
              "    }\n",
              "\n",
              "    .colab-df-convert {\n",
              "      background-color: #E8F0FE;\n",
              "      border: none;\n",
              "      border-radius: 50%;\n",
              "      cursor: pointer;\n",
              "      display: none;\n",
              "      fill: #1967D2;\n",
              "      height: 32px;\n",
              "      padding: 0 0 0 0;\n",
              "      width: 32px;\n",
              "    }\n",
              "\n",
              "    .colab-df-convert:hover {\n",
              "      background-color: #E2EBFA;\n",
              "      box-shadow: 0px 1px 2px rgba(60, 64, 67, 0.3), 0px 1px 3px 1px rgba(60, 64, 67, 0.15);\n",
              "      fill: #174EA6;\n",
              "    }\n",
              "\n",
              "    [theme=dark] .colab-df-convert {\n",
              "      background-color: #3B4455;\n",
              "      fill: #D2E3FC;\n",
              "    }\n",
              "\n",
              "    [theme=dark] .colab-df-convert:hover {\n",
              "      background-color: #434B5C;\n",
              "      box-shadow: 0px 1px 3px 1px rgba(0, 0, 0, 0.15);\n",
              "      filter: drop-shadow(0px 1px 2px rgba(0, 0, 0, 0.3));\n",
              "      fill: #FFFFFF;\n",
              "    }\n",
              "  </style>\n",
              "\n",
              "      <script>\n",
              "        const buttonEl =\n",
              "          document.querySelector('#df-48169b03-f5da-4ad7-8267-2218decf4857 button.colab-df-convert');\n",
              "        buttonEl.style.display =\n",
              "          google.colab.kernel.accessAllowed ? 'block' : 'none';\n",
              "\n",
              "        async function convertToInteractive(key) {\n",
              "          const element = document.querySelector('#df-48169b03-f5da-4ad7-8267-2218decf4857');\n",
              "          const dataTable =\n",
              "            await google.colab.kernel.invokeFunction('convertToInteractive',\n",
              "                                                     [key], {});\n",
              "          if (!dataTable) return;\n",
              "\n",
              "          const docLinkHtml = 'Like what you see? Visit the ' +\n",
              "            '<a target=\"_blank\" href=https://colab.research.google.com/notebooks/data_table.ipynb>data table notebook</a>'\n",
              "            + ' to learn more about interactive tables.';\n",
              "          element.innerHTML = '';\n",
              "          dataTable['output_type'] = 'display_data';\n",
              "          await google.colab.output.renderOutput(dataTable, element);\n",
              "          const docLink = document.createElement('div');\n",
              "          docLink.innerHTML = docLinkHtml;\n",
              "          element.appendChild(docLink);\n",
              "        }\n",
              "      </script>\n",
              "    </div>\n",
              "  </div>\n",
              "  "
            ]
          },
          "metadata": {},
          "execution_count": 122
        }
      ]
    },
    {
      "cell_type": "code",
      "source": [
        "df_topics.sort_index().Num_Documents.plot.bar()\n"
      ],
      "metadata": {
        "colab": {
          "base_uri": "https://localhost:8080/",
          "height": 289
        },
        "id": "V05kjknu53Ez",
        "outputId": "625bf975-4f1c-42f4-e787-f519f7036292"
      },
      "execution_count": 123,
      "outputs": [
        {
          "output_type": "execute_result",
          "data": {
            "text/plain": [
              "<Axes: >"
            ]
          },
          "metadata": {},
          "execution_count": 123
        },
        {
          "output_type": "display_data",
          "data": {
            "text/plain": [
              "<Figure size 432x288 with 1 Axes>"
            ],
            "image/png": "[encoded data removed]"
          },
          "metadata": {
            "needs_background": "light"
          }
        }
      ]
    },
    {
      "cell_type": "code",
      "source": [
        "df_topics.sort_index().Perc_Documents.plot.bar()\n"
      ],
      "metadata": {
        "colab": {
          "base_uri": "https://localhost:8080/",
          "height": 289
        },
        "id": "2qPkn_Je55do",
        "outputId": "afa92a78-2787-4da4-9d2b-037632d45af8"
      },
      "execution_count": 124,
      "outputs": [
        {
          "output_type": "execute_result",
          "data": {
            "text/plain": [
              "<Axes: >"
            ]
          },
          "metadata": {},
          "execution_count": 124
        },
        {
          "output_type": "display_data",
          "data": {
            "text/plain": [
              "<Figure size 432x288 with 1 Axes>"
            ],
            "image/png": "[encoded data removed]"
          },
          "metadata": {
            "needs_background": "light"
          }
        }
      ]
    },
    {
      "cell_type": "code",
      "source": [
        "tfidf = models.TfidfModel(corpus, smartirs='ntc')\n",
        "tfidf_corpus=[]\n",
        "for doc in tfidf[corpus]:\n",
        "   tfidf_corpus.append([(id, np.around(freq,decimals=2)) for id, freq in doc])\n",
        "\n",
        "lda_model2 = LdaModel(corpus=tfidf_corpus,\n",
        "                   id2word=id2word,\n",
        "                   num_topics=10, \n",
        "                   random_state=0,\n",
        "                   chunksize=100,\n",
        "                   alpha='auto',\n",
        "                   per_word_topics=True)"
      ],
      "metadata": {
        "id": "OeikgClm571r"
      },
      "execution_count": 125,
      "outputs": []
    },
    {
      "cell_type": "code",
      "source": [
        "# Compute Perplexity\n",
        "print('\\nPerplexity: ', lda_model2.log_perplexity(tfidf_corpus))  # a measure of how good the model is. lower the better.\n",
        "\n",
        "# Compute Coherence Score\n",
        "coherence_model_lda2 = CoherenceModel(model=lda_model2, texts=tweets, dictionary=id2word, coherence='c_v')\n",
        "coherence_lda2 = coherence_model_lda2.get_coherence()\n",
        "print('\\nCoherence Score: ', coherence_lda2)"
      ],
      "metadata": {
        "colab": {
          "base_uri": "https://localhost:8080/"
        },
        "id": "gkdY9aat6zLp",
        "outputId": "452336d0-84d6-4231-c468-b79fa8bc7d5f"
      },
      "execution_count": 126,
      "outputs": [
        {
          "output_type": "stream",
          "name": "stdout",
          "text": [
            "\n",
            "Perplexity:  -12.839453888106842\n"
          ]
        },
        {
          "output_type": "stream",
          "name": "stderr",
          "text": [
            "/usr/local/lib/python3.9/dist-packages/gensim/topic_coherence/direct_confirmation_measure.py:204: RuntimeWarning: divide by zero encountered in double_scalars\n",
            "  m_lr_i = np.log(numerator / denominator)\n",
            "/usr/local/lib/python3.9/dist-packages/gensim/topic_coherence/indirect_confirmation_measure.py:323: RuntimeWarning: invalid value encountered in double_scalars\n",
            "  return cv1.T.dot(cv2)[0, 0] / (_magnitude(cv1) * _magnitude(cv2))\n"
          ]
        },
        {
          "output_type": "stream",
          "name": "stdout",
          "text": [
            "\n",
            "Coherence Score:  nan\n"
          ]
        }
      ]
    },
    {
      "cell_type": "code",
      "source": [
        "lda_model2.print_topics()\n"
      ],
      "metadata": {
        "colab": {
          "base_uri": "https://localhost:8080/"
        },
        "id": "rWWyajtR639T",
        "outputId": "c31a0563-cbf9-436f-c178-5978b80a6ea9"
      },
      "execution_count": 127,
      "outputs": [
        {
          "output_type": "execute_result",
          "data": {
            "text/plain": [
              "[(0,\n",
              "  '0.029*\"country\" + 0.020*\"pay\" + 0.019*\"supporter\" + 0.018*\"get\" + 0.018*\"tell\" + 0.017*\"debate\" + 0.017*\"look\" + 0.016*\"rating\" + 0.016*\"use\" + 0.015*\"leave\"'),\n",
              " (1,\n",
              "  '0.023*\"trump\" + 0.012*\"donald\" + 0.008*\"lie\" + 0.008*\"think\" + 0.008*\"taxis\" + 0.006*\"liberal\" + 0.006*\"release\" + 0.006*\"criminal\" + 0.006*\"new\" + 0.006*\"biden\"'),\n",
              " (2,\n",
              "  '0.058*\"say\" + 0.029*\"good\" + 0.026*\"thing\" + 0.023*\"lose\" + 0.018*\"really\" + 0.017*\"send\" + 0.011*\"beat\" + 0.010*\"hand\" + 0.010*\"black\" + 0.010*\"friend\"'),\n",
              " (3,\n",
              "  '0.043*\"make\" + 0.032*\"live\" + 0.025*\"maybe\" + 0.024*\"life\" + 0.016*\"start\" + 0.016*\"happen\" + 0.013*\"spend\" + 0.006*\"rich\" + 0.006*\"speech\" + 0.004*\"boy\"'),\n",
              " (4,\n",
              "  '0.036*\"tax\" + 0.032*\"need\" + 0.031*\"money\" + 0.022*\"ve\" + 0.018*\"turn\" + 0.016*\"job\" + 0.011*\"little\" + 0.009*\"kid\" + 0.008*\"far\" + 0.008*\"play\"'),\n",
              " (5,\n",
              "  '0.037*\"bad\" + 0.034*\"include\" + 0.027*\"speak\" + 0.020*\"person\" + 0.012*\"que\" + 0.012*\"power\" + 0.010*\"hot\" + 0.007*\"poll\" + 0.006*\"learned_read\" + 0.006*\"hottake\"'),\n",
              " (6,\n",
              "  '0.068*\"president\" + 0.018*\"see\" + 0.017*\"favorite\" + 0.014*\"hope\" + 0.012*\"donate\" + 0.010*\"break\" + 0.008*\"party\" + 0.006*\"ruin\" + 0.006*\"birthday\" + 0.005*\"here\"'),\n",
              " (7,\n",
              "  '0.054*\"s\" + 0.039*\"people\" + 0.026*\"seriously\" + 0.019*\"take\" + 0.018*\"believe\" + 0.016*\"big\" + 0.016*\"talk\" + 0.015*\"httpstcoo\" + 0.014*\"guy\" + 0.014*\"point\"'),\n",
              " (8,\n",
              "  '0.057*\"year\" + 0.036*\"know\" + 0.029*\"want\" + 0.027*\"time\" + 0.023*\"way\" + 0.021*\"hate\" + 0.018*\"love\" + 0.018*\"help\" + 0.016*\"family\" + 0.016*\"happy\"'),\n",
              " (9,\n",
              "  '0.048*\"go\" + 0.045*\"miss\" + 0.028*\"right\" + 0.027*\"come\" + 0.024*\"ask\" + 0.021*\"run\" + 0.016*\"actually\" + 0.013*\"care\" + 0.012*\"tweet\" + 0.010*\"imagine\"')]"
            ]
          },
          "metadata": {},
          "execution_count": 127
        }
      ]
    },
    {
      "cell_type": "code",
      "source": [
        "vis2 = pyLDAvis.gensim.prepare(lda_model2, tfidf_corpus, id2word)\n",
        "vis2"
      ],
      "metadata": {
        "colab": {
          "base_uri": "https://localhost:8080/",
          "height": 1000
        },
        "id": "9jirxG676-uK",
        "outputId": "4ed03eed-048d-402d-c1d9-0862f7614dc5"
      },
      "execution_count": 128,
      "outputs": [
        {
          "output_type": "stream",
          "name": "stderr",
          "text": [
            "/usr/local/lib/python3.9/dist-packages/pyLDAvis/_prepare.py:243: FutureWarning: In a future version of pandas all arguments of DataFrame.drop except for the argument 'labels' will be keyword-only.\n",
            "  default_term_info = default_term_info.sort_values(\n",
            "/usr/local/lib/python3.9/dist-packages/pyLDAvis/_prepare.py:299: SettingWithCopyWarning: \n",
            "A value is trying to be set on a copy of a slice from a DataFrame.\n",
            "Try using .loc[row_indexer,col_indexer] = value instead\n",
            "\n",
            "See the caveats in the documentation: https://pandas.pydata.org/pandas-docs/stable/user_guide/indexing.html#returning-a-view-versus-a-copy\n",
            "  token_table['Freq'] = token_table['Freq'].round()\n",
            "/usr/local/lib/python3.9/dist-packages/pyLDAvis/_prepare.py:300: SettingWithCopyWarning: \n",
            "A value is trying to be set on a copy of a slice from a DataFrame.\n",
            "Try using .loc[row_indexer,col_indexer] = value instead\n",
            "\n",
            "See the caveats in the documentation: https://pandas.pydata.org/pandas-docs/stable/user_guide/indexing.html#returning-a-view-versus-a-copy\n",
            "  token_table['Term'] = vocab[token_table.index.values].values\n",
            "/usr/local/lib/python3.9/dist-packages/pyLDAvis/_prepare.py:302: SettingWithCopyWarning: \n",
            "A value is trying to be set on a copy of a slice from a DataFrame.\n",
            "Try using .loc[row_indexer,col_indexer] = value instead\n",
            "\n",
            "See the caveats in the documentation: https://pandas.pydata.org/pandas-docs/stable/user_guide/indexing.html#returning-a-view-versus-a-copy\n",
            "  token_table['Freq'] = token_table.Freq / term_frequency[token_table.index]\n"
          ]
        },
        {
          "output_type": "execute_result",
          "data": {
            "text/plain": [
              "PreparedData(topic_coordinates=              x         y  topics  cluster       Freq\n",
              "topic                                                \n",
              "1      0.354400 -0.005926       1        1  52.654114\n",
              "0     -0.034321  0.252586       2        1  13.303997\n",
              "8     -0.047338 -0.057425       3        1   7.672963\n",
              "7     -0.052591 -0.060341       4        1   7.620169\n",
              "2     -0.045550 -0.031233       5        1   5.948187\n",
              "9     -0.040249 -0.024994       6        1   3.598228\n",
              "4     -0.036014 -0.020426       7        1   2.595645\n",
              "3     -0.032792 -0.017482       8        1   2.274703\n",
              "6     -0.032024 -0.016766       9        1   2.173064\n",
              "5     -0.033523 -0.017993      10        1   2.158930, topic_info=              Term        Freq       Total Category  logprob  loglift\n",
              "19            year  103.000000  103.000000  Default  30.0000  30.0000\n",
              "183              s   96.000000   96.000000  Default  29.0000  29.0000\n",
              "41             say   80.000000   80.000000  Default  28.0000  28.0000\n",
              "425         people   70.000000   70.000000  Default  27.0000  27.0000\n",
              "179        country   90.000000   90.000000  Default  26.0000  26.0000\n",
              "...            ...         ...         ...      ...      ...      ...\n",
              "4914          less    0.043943    1.335866  Topic10  -9.3484   0.4211\n",
              "5382         demon    0.041068    7.216545  Topic10  -9.4161  -1.3333\n",
              "9049     recommend    0.041204   12.730179  Topic10  -9.4128  -1.8976\n",
              "13098  rittenhouse    0.037740    6.476917  Topic10  -9.5006  -1.3097\n",
              "7050          kyle    0.037404    6.379337  Topic10  -9.5096  -1.3035\n",
              "\n",
              "[392 rows x 6 columns], token_table=      Topic      Freq        Term\n",
              "term                             \n",
              "4919      7  0.524421     abandon\n",
              "76        6  0.966646     account\n",
              "330       1  0.596857  accountant\n",
              "330       5  0.298429  accountant\n",
              "731       6  0.997137    actually\n",
              "...     ...       ...         ...\n",
              "712       5  0.927940        word\n",
              "446       3  0.967138        work\n",
              "142       2  0.998677       world\n",
              "19        3  0.997994        year\n",
              "876       2  0.989602     youtube\n",
              "\n",
              "[270 rows x 3 columns], R=30, lambda_step=0.01, plot_opts={'xlab': 'PC1', 'ylab': 'PC2'}, topic_order=[2, 1, 9, 8, 3, 10, 5, 4, 7, 6])"
            ],
            "text/html": [
              "\n",
              "<link rel=\"stylesheet\" type=\"text/css\" href=\"https://cdn.jsdelivr.net/gh/bmabey/pyLDAvis@3.4.0/pyLDAvis/js/ldavis.v1.0.0.css\">\n",
              "\n",
              "\n",
              "<div id=\"ldavis_el2221404707743389449332390642\" style=\"background-color:white;\"></div>\n",
              "<script type=\"text/javascript\">\n",
              "\n",
              "var ldavis_el2221404707743389449332390642_data = {\"mdsDat\": {\"x\": [0.35440024695828537, -0.03432129916713839, -0.04733773536165778, -0.05259053085302729, -0.0455495996812561, -0.04024895574216644, -0.03601364635993402, -0.03279169360294034, -0.032023835542213275, -0.03352295064795133], \"y\": [-0.005926198584607895, 0.25258574338998024, -0.05742465787037826, -0.06034098268649577, -0.031232949648325483, -0.02499426376985787, -0.02042567739626395, -0.017481500344379952, -0.016766157471097883, -0.0179933556185731], \"topics\": [1, 2, 3, 4, 5, 6, 7, 8, 9, 10], \"cluster\": [1, 1, 1, 1, 1, 1, 1, 1, 1, 1], \"Freq\": [52.6541136470286, 13.303997204987503, 7.672963157447868, 7.620168594246064, 5.9481868394216475, 3.5982279695907247, 2.595644862938426, 2.274703330638056, 2.1730641852404737, 2.1589302084606574]}, \"tinfo\": {\"Term\": [\"year\", \"s\", \"say\", \"people\", \"country\", \"know\", \"trump\", \"go\", \"president\", \"want\", \"miss\", \"pay\", \"time\", \"seriously\", \"supporter\", \"good\", \"tell\", \"get\", \"debate\", \"way\", \"thing\", \"look\", \"rating\", \"use\", \"hate\", \"lose\", \"leave\", \"make\", \"take\", \"love\", \"trump\", \"donald\", \"lie\", \"think\", \"taxis\", \"liberal\", \"release\", \"criminal\", \"biden\", \"vote\", \"tax_return\", \"great\", \"re\", \"give\", \"election\", \"interview\", \"head\", \"vile\", \"insurrection\", \"charge\", \"kind\", \"day\", \"jail\", \"associate\", \"justice\", \"past\", \"presidential\", \"incite\", \"man\", \"long\", \"larryeld\", \"joncoopertweet\", \"betty_white\", \"new\", \"country\", \"pay\", \"supporter\", \"tell\", \"debate\", \"look\", \"rating\", \"use\", \"leave\", \"try\", \"support\", \"remember\", \"book\", \"m\", \"world\", \"call\", \"youtube\", \"fight\", \"stop\", \"get\", \"realdonaldtrump\", \"instead\", \"death\", \"fuck\", \"win\", \"case\", \"check\", \"shit\", \"child\", \"leader\", \"office\", \"fact\", \"prison\", \"year\", \"know\", \"want\", \"time\", \"way\", \"hate\", \"love\", \"help\", \"family\", \"happy\", \"die\", \"well\", \"work\", \"thank\", \"sad\", \"face\", \"sure\", \"throw\", \"true\", \"american\", \"blame\", \"foreign\", \"sound\", \"pretty\", \"god_bless\", \"follower\", \"blow\", \"palmerreport\", \"million\", \"brain\", \"new\", \"s\", \"people\", \"seriously\", \"take\", \"believe\", \"big\", \"talk\", \"httpstcoo\", \"guy\", \"point\", \"let\", \"problem\", \"political\", \"read\", \"late\", \"wish\", \"list\", \"billionaire\", \"today\", \"bring\", \"old\", \"twitter\", \"news\", \"deal\", \"guess\", \"open\", \"twice\", \"stupid\", \"scandal\", \"moment\", \"say\", \"good\", \"thing\", \"lose\", \"really\", \"send\", \"beat\", \"hand\", \"black\", \"friend\", \"hear\", \"stand\", \"lead\", \"follow\", \"stay\", \"set\", \"hair\", \"company\", \"kill\", \"word\", \"understand\", \"proud\", \"foxnew\", \"loss\", \"fall\", \"mention\", \"artist\", \"catch\", \"team\", \"couple\", \"go\", \"miss\", \"right\", \"come\", \"ask\", \"run\", \"actually\", \"care\", \"tweet\", \"imagine\", \"report\", \"joe_biden\", \"account\", \"economy\", \"wonder\", \"night\", \"change\", \"hell\", \"star\", \"truly\", \"toilet\", \"notice\", \"funniest\", \"fear\", \"lose_overwhelmingly\", \"beware\", \"sign_petition\", \"gq\", \"sjbxbm\", \"th_amendment\", \"known\", \"servant\", \"rbreich\", \"powerful\", \"rest\", \"tax\", \"need\", \"money\", \"ve\", \"turn\", \"job\", \"little\", \"kid\", \"far\", \"play\", \"probably\", \"picture\", \"lol\", \"plan\", \"por\", \"politic\", \"d\", \"abandon\", \"outgoing\", \"evasion\", \"concrete\", \"code\", \"thenoahre\", \"dic\", \"putin_aboga\", \"range\", \"writeoff\", \"suscito\", \"accion\", \"molesting\", \"ok\", \"plenty\", \"knoll\", \"charity\", \"upset\", \"amazon\", \"make\", \"live\", \"maybe\", \"life\", \"start\", \"happen\", \"spend\", \"rich\", \"speech\", \"boy\", \"goin\", \"going_thinke\", \"fashion\", \"pfp\", \"theblaze\", \"farrakhans_warne\", \"depressed\", \"ignoraent\", \"lov\", \"shareholder\", \"pregnant\", \"endanger\", \"depress\", \"aaronrodger\", \"rhonda\", \"santas\", \"think_big\", \"long_youre\", \"saving\", \"speechless\", \"ehtfac\", \"known\", \"insulin\", \"ripbettywhite\", \"funkybunkyy\", \"cuddle\", \"larryelder\", \"less\", \"mate\", \"meathead\", \"antivax\", \"selective\", \"tombstone\", \"demon\", \"unimportant\", \"midterm\", \"employ\", \"atrupar\", \"accountant\", \"regret\", \"president\", \"see\", \"favorite\", \"hope\", \"donate\", \"break\", \"party\", \"ruin\", \"birthday\", \"here\", \"successful\", \"style\", \"charity\", \"song\", \"jrs_bleak\", \"pounce\", \"twitter_user\", \"singing\", \"ant\", \"missive\", \"monopoly\", \"silva\", \"std\", \"mac_miller\", \"hvmxa\", \"dupe\", \"evaporate\", \"snapback\", \"preemptively\", \"httpstcovnvec\", \"quelle\", \"demoturd\", \"selective\", \"tombstone\", \"unimportant\", \"marktheshsrk\", \"abcaustralia\", \"nicolejame\", \"donwinslow\", \"dbongino\", \"tragic\", \"salary\", \"bad\", \"include\", \"speak\", \"person\", \"que\", \"power\", \"hot\", \"poll\", \"sit\", \"hottake\", \"learned_read\", \"meet\", \"cheat\", \"boss\", \"aprende_puede\", \"terrible\", \"national\", \"si\", \"youre_fired\", \"fox\", \"buffalo\", \"street\", \"bull\", \"canary\", \"salamander\", \"existen\", \"yoshikage\", \"este_ano\", \"averiguar\", \"naturalizo\", \"otto_english\", \"dealer\", \"missive\", \"acho\", \"christianity\", \"dbongino\", \"less\", \"demon\", \"recommend\", \"rittenhouse\", \"kyle\"], \"Freq\": [103.0, 96.0, 80.0, 70.0, 90.0, 65.0, 283.0, 41.0, 35.0, 52.0, 38.0, 64.0, 49.0, 47.0, 59.0, 41.0, 55.0, 56.0, 54.0, 41.0, 36.0, 52.0, 50.0, 49.0, 37.0, 32.0, 46.0, 23.0, 33.0, 33.0, 283.27244436235156, 146.1525476200362, 104.00526093825093, 97.98450973867037, 95.5564982274864, 77.43020468995671, 71.0391712067478, 70.92781035407857, 69.67591177078913, 61.91960775575372, 61.43147869204197, 61.333731411401054, 60.166768683224205, 57.512334133566156, 53.297896529974764, 53.10932907668208, 52.22162792285683, 51.96529627916906, 52.534677053711334, 49.51248698189986, 48.42051922185367, 45.769682872209835, 44.82178062356078, 43.90868007377532, 41.94019250915188, 48.23915389820727, 40.389356843789784, 39.585829505902154, 37.41686261246126, 37.40448090827222, 47.55408354470479, 39.93030272589353, 49.109454202600716, 70.52395823942588, 89.71492548170083, 63.60112160022148, 59.328242177425246, 55.49341050611245, 53.86648519777131, 52.202221075724694, 49.5489706049934, 49.1655007566077, 46.03765705466355, 42.06021057194586, 39.24730019084223, 34.27989740731585, 32.971686785409176, 32.93290317734582, 30.572004962932013, 29.88610693765694, 29.846176759321615, 29.400021945309074, 28.971303106493064, 55.660068548675085, 26.43291233952236, 24.42746538631776, 23.854361211548095, 23.37262073610199, 21.766440821696946, 21.42127539607154, 20.41486754908771, 19.04848441046548, 18.7880595036153, 18.67765144579703, 41.28758724526567, 24.515418328620143, 25.514946753972133, 102.72026592523646, 65.09732506309409, 51.85793224108066, 48.85563336169014, 40.79035125113106, 37.152273868642425, 32.95676562866561, 31.434258364950765, 29.513964551169185, 29.01689668216106, 26.30751893979724, 22.98305256451535, 20.19283570872009, 19.60043412796231, 17.68034570998639, 16.138295786810932, 15.441845366581973, 15.19944491820957, 13.18229779769336, 12.341383155989, 12.251291211995204, 12.256179799158405, 11.347608947988407, 10.38887977312206, 9.83485130550408, 9.665222758065962, 9.646487487808907, 8.986025585512559, 8.164854824362973, 7.00659781831569, 7.807794254835856, 95.86690762154853, 69.73893076586573, 46.53858126397566, 32.95307742438467, 32.69710087070905, 28.506920974164764, 28.341094761643173, 26.985778247537834, 25.197313888430372, 24.41520495189087, 23.686383556962134, 20.775248939423577, 18.853398228414722, 18.27944768997992, 16.79688254311614, 16.391565879593912, 14.871691824986533, 14.376471921134998, 13.368203540168931, 13.194726323252304, 13.098532791458737, 12.528698388909591, 11.720359451066505, 11.443355280564862, 11.044664733453248, 9.800172110038842, 9.744094319182459, 8.339372565685661, 8.259952868064323, 8.174849851474352, 80.11481836124854, 40.59787803174046, 36.20186466321418, 31.739729926426584, 24.853292595059653, 24.223608182295905, 14.643348404488254, 14.579541633635818, 13.697459952862683, 13.675923064108941, 13.366300352555166, 13.124184143058866, 11.834000621378575, 11.36936460930754, 10.049881624286032, 8.999364437607454, 8.854432839898042, 8.817620643859684, 8.618758797071392, 8.129064808465754, 7.442068219480667, 7.129092060170893, 6.711942188732736, 6.5177593756885335, 5.902534724142512, 5.589743680844746, 5.168916408629574, 5.166032870750211, 4.918890049543218, 4.817217992612081, 40.64131620392002, 37.62645177619353, 23.385635630768153, 22.721889588160884, 20.123297339397773, 17.878131115049065, 13.52789044575447, 11.198970330416195, 9.755958283246413, 8.148417330812727, 7.605319710625489, 5.208710416804126, 4.6601969418948705, 4.165959086253345, 4.102480586029407, 4.019243926393786, 3.6734197541647475, 2.8963565835138936, 1.8421787861938375, 1.7180982733627415, 1.1505186953764737, 1.059385643596362, 0.7753009720419558, 0.7076100316049746, 0.1404724103868875, 0.11711260920930396, 0.06173460024036698, 0.05868739275071799, 0.05669979251931059, 0.052704366294098144, 0.0581857926196774, 0.06422187346574441, 0.06864549119434794, 0.09325668953501386, 0.07189915318426034, 22.05601333554961, 19.689276955651266, 18.53648207537243, 13.540473827802016, 10.881731327753068, 9.445796937363644, 6.889630540621642, 5.488306772718304, 5.089224021598371, 4.651192245526291, 4.51731468140594, 4.234223469916556, 4.128835878448986, 3.177443141662826, 3.0576326215802183, 3.0067981815387563, 1.476747431427168, 1.3836950536118817, 0.3409385548400805, 0.5187855525670917, 0.09342899584674871, 0.43273266177737224, 0.05394796670140881, 0.043455982721539506, 0.043455982721539506, 0.046884081514236266, 0.046884081514236266, 0.0416202952954369, 0.04088544925028974, 0.04354438455645739, 0.0427240185294302, 0.044377734368534184, 0.043597356810689304, 0.04661325352744548, 0.04597418827323352, 0.0466050095741917, 22.8209627404701, 16.785750173706273, 13.170872329125928, 12.831671745672018, 8.394262213903074, 8.263601974503372, 7.1126875126742855, 3.4408317661039414, 3.1658865511630823, 2.0321251628297197, 0.2571787449032687, 0.043703474834523186, 0.03459145760237616, 0.043075393130805543, 0.03399048369413108, 0.033401271065103016, 0.03508887733402291, 0.03426498058040149, 0.03426498058040149, 0.03373216871915432, 0.03526379977283484, 0.034655052049651844, 0.03483673886773065, 0.03488408178745951, 0.03408204840490477, 0.03408204840490477, 0.03235096485209206, 0.03230104032964128, 0.03279045032460324, 0.03355607827431689, 0.040021904371876395, 0.03854666635083753, 0.035668227660517804, 0.034195847773428746, 0.03920481454078768, 0.035400591842754785, 0.03696588622241521, 0.05098380722666468, 0.037298311566466756, 0.03575028975273306, 0.03487571623436961, 0.03770550476642862, 0.03770550476642862, 0.047123489298850935, 0.03770550476642862, 0.039294522818143364, 0.036105541492686875, 0.03730179237912552, 0.03666268810198845, 0.035567462001616104, 34.487503812580485, 9.062723295604231, 8.65648867719357, 7.1930937474815275, 5.977211859298748, 5.069007614974458, 4.201365067970265, 3.2789322832333165, 2.8824908410705823, 2.3652957405160864, 2.3591592509154604, 0.6145459880499842, 1.1000604058185257, 0.37416314852107896, 0.08736157874426284, 0.08736157874426284, 0.08736157874426284, 0.0350306085030509, 0.0366320974153892, 0.03452219140719345, 0.0344205523251111, 0.03314238794052534, 0.03314238794052534, 0.031877484040348084, 0.034535913736280434, 0.03356808311233095, 0.03199431965973113, 0.0317174530118762, 0.0326347947755743, 0.03286881332153861, 0.034370277760790525, 0.034030485699182114, 0.05449510050941863, 0.05449510050941863, 0.05449510050941863, 0.0347141266660547, 0.03431282428278767, 0.041229417577212456, 0.046784211957914976, 0.03716429027529477, 0.0357097123078021, 0.03533548510696625, 18.542426813677466, 17.346466896665845, 13.645964335396698, 10.155264268133726, 6.068096229128846, 5.857788643211174, 4.935765676789298, 3.3335135849935464, 2.7987708988806066, 2.843251641871679, 2.843251641871679, 2.0979267407970963, 1.9419350945564482, 1.5187157627960186, 1.603557578192117, 1.2603661835215199, 1.2026085710522076, 0.5006188527670999, 0.04737311731743086, 0.04415000322792094, 0.04126702596038103, 0.0381331839296472, 0.039316347049422974, 0.03701731623148089, 0.033532016859481595, 0.03395358139854989, 0.03404763274270948, 0.032970366400221184, 0.03344138296132203, 0.03344138296132203, 0.03676935868335896, 0.03549647200549667, 0.03375090959833588, 0.03518458509159988, 0.03766039440783958, 0.04659913737758474, 0.04394317983648671, 0.04106817905676425, 0.04120405832484463, 0.037739957396078556, 0.03740363445852747], \"Total\": [103.0, 96.0, 80.0, 70.0, 90.0, 65.0, 283.0, 41.0, 35.0, 52.0, 38.0, 64.0, 49.0, 47.0, 59.0, 41.0, 55.0, 56.0, 54.0, 41.0, 36.0, 52.0, 50.0, 49.0, 37.0, 32.0, 46.0, 23.0, 33.0, 33.0, 283.7302333826794, 146.60504343968594, 104.45729350330684, 98.43816042849056, 96.00913860437434, 77.88261990210691, 71.49136489088514, 71.3802688723139, 70.1537708136798, 62.371642007426765, 61.88444930987231, 61.78652845970598, 60.61882777443581, 57.96437995406118, 53.74993536498397, 53.56140412379102, 52.673686082926686, 52.42136091635126, 52.9974289756821, 49.96458884626205, 48.873478076597934, 46.221716331384584, 45.274888368432286, 44.361153193657984, 42.39259763842861, 48.7649666531942, 40.84139818356812, 40.03911798895855, 37.86889549783181, 37.856511878258395, 48.15175389145384, 40.42407720078222, 49.999238900438904, 78.71522188278904, 90.18402921308545, 64.07023065253786, 59.79747297275951, 55.96248838184406, 54.33590090680465, 52.671272304450405, 50.018734006359615, 49.634626166646306, 46.50671919212171, 42.529280941485794, 39.716353352667824, 34.74897449137686, 33.44081686092436, 33.401962986065875, 31.041066893457344, 30.355171762932606, 30.315222857159796, 29.869193434173738, 29.440377475401636, 56.59530785911675, 26.901927465667203, 24.8965221301551, 24.32400151644385, 23.84165776732236, 22.235497110275098, 21.89034475403844, 20.883906339065028, 19.517548975138958, 19.257351412944193, 19.14671724760281, 44.61557877832767, 26.709688762725467, 35.9159398364172, 103.20700748191287, 65.58407753075578, 52.344680052061584, 49.342373777056395, 41.27709243497273, 37.639092767445376, 33.44355892016361, 31.9211447460363, 30.000705851114137, 29.503570229232995, 26.794246680634092, 23.469820792567166, 20.679573745874645, 20.08709993008412, 18.167123588220413, 16.62503475117379, 15.928567278621337, 15.686778449176371, 13.668988486737282, 12.828117073502822, 12.737989395281165, 12.743124895337933, 11.834308061403448, 10.87567448976853, 10.324408036380408, 10.151972057006263, 10.133242941749442, 9.472725675417605, 8.651631922757867, 7.493954604880386, 78.71522188278904, 96.35701321927372, 70.2287643539071, 47.02852413675847, 33.44288983845791, 33.18687981615598, 28.996719527316014, 28.83090521473404, 27.476113571682188, 25.687144448688866, 24.905303019506206, 24.1761649209635, 21.26523694190081, 19.34326407838822, 18.76926366359059, 17.286703749565213, 16.881359443502177, 15.363793828346324, 14.866661852307324, 13.858001902673951, 13.684495636390015, 13.588328594663835, 13.018460063346842, 12.210160945426257, 11.93310459529245, 11.534453951539671, 10.290015682595541, 10.234946893019607, 8.829218233729913, 8.749849670435415, 8.664617460123582, 80.60708697748137, 41.09008546888565, 36.69401429379601, 32.231885634579214, 25.34548387150244, 24.716153701533838, 15.135472391410481, 15.071758411697544, 14.189613326503595, 14.168066991277119, 13.85842383668902, 13.61633799303263, 12.326191109725348, 11.861566964717436, 10.542109600867384, 9.491617229095633, 9.346616910952086, 9.309949876345668, 9.110871942028801, 8.621249551444588, 7.934272295037761, 7.621291893574923, 7.204164840617804, 7.009934685372621, 6.394777412162904, 6.0819531585671704, 5.661372523767545, 5.658250383430172, 5.4110518336327535, 5.3095305297107425, 41.15371795418069, 38.13910175120899, 23.897977430751332, 23.234220140830026, 20.635558959970027, 18.390437877045112, 14.040195596330465, 11.711260119165821, 10.268301175112516, 8.6607730873384, 8.117614336706001, 5.721027697934563, 5.17252432168337, 4.6782578184067205, 4.614702753322242, 4.531564395550521, 4.185763328384068, 3.4087397822717693, 2.35452680608898, 2.230488074181952, 1.6635620236180593, 1.5715390118136539, 1.2874761715905922, 1.2197094828599322, 0.6527118180611763, 0.641132803499323, 0.5756263983578247, 0.5716553574773612, 0.6230809683259251, 0.5793291541896459, 0.6687351750992973, 0.7829128619406226, 1.2880393669963193, 5.693872142891433, 11.294312976854595, 22.57851400427239, 20.211330952341296, 19.058651796819134, 14.062091710045836, 11.403393158975556, 9.967360029055298, 7.411371058115629, 6.010116916338775, 5.611065460553655, 5.172761807730605, 5.0388767284391704, 4.756075347391975, 4.6503771273767125, 3.6990486641341236, 3.5791830564141667, 3.5286951384693985, 2.0013329931344206, 1.9068642761515469, 0.865896180906746, 1.8115197988737612, 0.6177455100110062, 3.2511660398083513, 0.5853723015458846, 0.5669731360110086, 0.5669731360110086, 0.6291163746815613, 0.6291163746815613, 0.5928824919572686, 0.591715759648017, 0.6306931662349571, 0.628482361065383, 0.6625944754933706, 0.6535396437268561, 2.2690856453626087, 1.8044718685028205, 2.972778862782378, 23.345158142772515, 17.310039385661174, 13.695504919266149, 13.355632218461071, 8.918220086555603, 8.787499665343441, 7.636640335483034, 3.9650681482451295, 3.690130130237883, 2.5562088275854182, 0.9064833075886768, 0.5673107719792257, 0.5582616246692781, 0.7008944021936777, 0.5576000266950372, 0.5570086603528842, 0.5878519916634627, 0.5786515995727749, 0.5786515995727749, 0.56972497354408, 0.596827052442735, 0.5889935935129291, 0.5958555796258047, 0.5974398856713452, 0.5852750759894237, 0.5852750759894237, 0.5559577011630694, 0.5559077766406186, 0.5668372244895684, 0.5802134130790491, 0.695036141404753, 0.6687351750992973, 0.6184345159536117, 0.5919090210773916, 0.7052470724413233, 0.6218739881281297, 0.6847193502207566, 1.3358664511645963, 0.7844711166334195, 0.744021742873709, 0.6539613562503424, 1.1474981683072298, 1.1474981683072298, 7.216545440736086, 1.1474981683072298, 5.174806145569716, 1.5035498720057163, 4.823286321459847, 3.3508857589962684, 3.959010822780043, 35.012750692353364, 9.587741702035311, 9.182993638264357, 7.717880454564589, 6.5021564087256545, 5.5940404549968505, 4.726276997336484, 3.804030755925122, 3.4071183654289423, 2.890140546565043, 2.883996086269479, 1.1404344571226168, 2.2690856453626087, 0.8987339212893192, 0.623240258286984, 0.623240258286984, 0.623240258286984, 0.5864570446645054, 0.615854112307349, 0.5947898257509301, 0.5992953483784339, 0.5782019858051938, 0.5782019858051938, 0.5564398717230237, 0.6071721943293314, 0.5947752621621651, 0.568528185256413, 0.5640365953406176, 0.5817287694055967, 0.5880020349855029, 0.614877484729377, 0.610014490093272, 1.1474981683072298, 1.1474981683072298, 1.1474981683072298, 0.6372267448184679, 0.6250279297754314, 1.337399251454839, 10.942431098818902, 1.4318016461136074, 2.2565226231265454, 16.377327820242886, 19.06849050434929, 17.872885546378406, 14.17251244317342, 10.681410265876256, 6.593898031505264, 6.383763316956303, 5.461692911652797, 3.8595682436208163, 3.324829775891881, 3.3802214695957837, 3.3802214695957837, 2.623721352406079, 2.467715817015181, 2.0445990131300666, 2.236414217552359, 1.786217008789765, 1.7287741358588862, 1.0265521009138092, 0.5730990142217028, 0.5980905930118099, 0.5872310101870925, 0.5637203294879147, 0.5812205074618606, 0.5740889124408775, 0.5641495212786165, 0.5766779781431504, 0.5785761315273353, 0.5622883633112594, 0.5822932083555271, 0.5822932083555271, 0.6527901518954606, 0.6409977692044712, 0.5947898257509301, 0.658644821358859, 0.7906541584550082, 1.4318016461136074, 1.3358664511645963, 7.216545440736086, 12.730179316582246, 6.476916509485436, 6.379336601388561], \"Category\": [\"Default\", \"Default\", \"Default\", \"Default\", \"Default\", \"Default\", \"Default\", \"Default\", \"Default\", \"Default\", \"Default\", \"Default\", \"Default\", \"Default\", \"Default\", \"Default\", \"Default\", \"Default\", \"Default\", \"Default\", \"Default\", \"Default\", \"Default\", \"Default\", \"Default\", \"Default\", \"Default\", \"Default\", \"Default\", \"Default\", \"Topic1\", \"Topic1\", \"Topic1\", \"Topic1\", \"Topic1\", \"Topic1\", \"Topic1\", \"Topic1\", \"Topic1\", \"Topic1\", \"Topic1\", \"Topic1\", \"Topic1\", \"Topic1\", \"Topic1\", \"Topic1\", \"Topic1\", \"Topic1\", \"Topic1\", \"Topic1\", \"Topic1\", \"Topic1\", \"Topic1\", \"Topic1\", \"Topic1\", \"Topic1\", \"Topic1\", \"Topic1\", \"Topic1\", \"Topic1\", \"Topic1\", \"Topic1\", \"Topic1\", \"Topic1\", \"Topic2\", \"Topic2\", \"Topic2\", \"Topic2\", \"Topic2\", \"Topic2\", \"Topic2\", \"Topic2\", \"Topic2\", \"Topic2\", \"Topic2\", \"Topic2\", \"Topic2\", \"Topic2\", \"Topic2\", \"Topic2\", \"Topic2\", \"Topic2\", \"Topic2\", \"Topic2\", \"Topic2\", \"Topic2\", \"Topic2\", \"Topic2\", \"Topic2\", \"Topic2\", \"Topic2\", \"Topic2\", \"Topic2\", \"Topic2\", \"Topic2\", \"Topic2\", \"Topic2\", \"Topic3\", \"Topic3\", \"Topic3\", \"Topic3\", \"Topic3\", \"Topic3\", \"Topic3\", \"Topic3\", \"Topic3\", \"Topic3\", \"Topic3\", \"Topic3\", \"Topic3\", \"Topic3\", \"Topic3\", \"Topic3\", \"Topic3\", \"Topic3\", \"Topic3\", \"Topic3\", \"Topic3\", \"Topic3\", \"Topic3\", \"Topic3\", \"Topic3\", \"Topic3\", \"Topic3\", \"Topic3\", \"Topic3\", \"Topic3\", \"Topic3\", \"Topic4\", \"Topic4\", \"Topic4\", \"Topic4\", \"Topic4\", \"Topic4\", \"Topic4\", \"Topic4\", \"Topic4\", \"Topic4\", \"Topic4\", \"Topic4\", \"Topic4\", \"Topic4\", \"Topic4\", \"Topic4\", \"Topic4\", \"Topic4\", \"Topic4\", \"Topic4\", \"Topic4\", \"Topic4\", \"Topic4\", \"Topic4\", \"Topic4\", \"Topic4\", \"Topic4\", \"Topic4\", \"Topic4\", \"Topic4\", \"Topic5\", \"Topic5\", \"Topic5\", \"Topic5\", \"Topic5\", \"Topic5\", \"Topic5\", \"Topic5\", \"Topic5\", \"Topic5\", \"Topic5\", \"Topic5\", \"Topic5\", \"Topic5\", \"Topic5\", \"Topic5\", \"Topic5\", \"Topic5\", \"Topic5\", \"Topic5\", \"Topic5\", \"Topic5\", \"Topic5\", \"Topic5\", \"Topic5\", \"Topic5\", \"Topic5\", \"Topic5\", \"Topic5\", \"Topic5\", \"Topic6\", \"Topic6\", \"Topic6\", \"Topic6\", \"Topic6\", \"Topic6\", \"Topic6\", \"Topic6\", \"Topic6\", \"Topic6\", \"Topic6\", \"Topic6\", \"Topic6\", \"Topic6\", \"Topic6\", \"Topic6\", \"Topic6\", \"Topic6\", \"Topic6\", \"Topic6\", \"Topic6\", \"Topic6\", \"Topic6\", \"Topic6\", \"Topic6\", \"Topic6\", \"Topic6\", \"Topic6\", \"Topic6\", \"Topic6\", \"Topic6\", \"Topic6\", \"Topic6\", \"Topic6\", \"Topic6\", \"Topic7\", \"Topic7\", \"Topic7\", \"Topic7\", \"Topic7\", \"Topic7\", \"Topic7\", \"Topic7\", \"Topic7\", \"Topic7\", \"Topic7\", \"Topic7\", \"Topic7\", \"Topic7\", \"Topic7\", \"Topic7\", \"Topic7\", \"Topic7\", \"Topic7\", \"Topic7\", \"Topic7\", \"Topic7\", \"Topic7\", \"Topic7\", \"Topic7\", \"Topic7\", \"Topic7\", \"Topic7\", \"Topic7\", \"Topic7\", \"Topic7\", \"Topic7\", \"Topic7\", \"Topic7\", \"Topic7\", \"Topic7\", \"Topic8\", \"Topic8\", \"Topic8\", \"Topic8\", \"Topic8\", \"Topic8\", \"Topic8\", \"Topic8\", \"Topic8\", \"Topic8\", \"Topic8\", \"Topic8\", \"Topic8\", \"Topic8\", \"Topic8\", \"Topic8\", \"Topic8\", \"Topic8\", \"Topic8\", \"Topic8\", \"Topic8\", \"Topic8\", \"Topic8\", \"Topic8\", \"Topic8\", \"Topic8\", \"Topic8\", \"Topic8\", \"Topic8\", \"Topic8\", \"Topic8\", \"Topic8\", \"Topic8\", \"Topic8\", \"Topic8\", \"Topic8\", \"Topic8\", \"Topic8\", \"Topic8\", \"Topic8\", \"Topic8\", \"Topic8\", \"Topic8\", \"Topic8\", \"Topic8\", \"Topic8\", \"Topic8\", \"Topic8\", \"Topic8\", \"Topic8\", \"Topic9\", \"Topic9\", \"Topic9\", \"Topic9\", \"Topic9\", \"Topic9\", \"Topic9\", \"Topic9\", \"Topic9\", \"Topic9\", \"Topic9\", \"Topic9\", \"Topic9\", \"Topic9\", \"Topic9\", \"Topic9\", \"Topic9\", \"Topic9\", \"Topic9\", \"Topic9\", \"Topic9\", \"Topic9\", \"Topic9\", \"Topic9\", \"Topic9\", \"Topic9\", \"Topic9\", \"Topic9\", \"Topic9\", \"Topic9\", \"Topic9\", \"Topic9\", \"Topic9\", \"Topic9\", \"Topic9\", \"Topic9\", \"Topic9\", \"Topic9\", \"Topic9\", \"Topic9\", \"Topic9\", \"Topic9\", \"Topic10\", \"Topic10\", \"Topic10\", \"Topic10\", \"Topic10\", \"Topic10\", \"Topic10\", \"Topic10\", \"Topic10\", \"Topic10\", \"Topic10\", \"Topic10\", \"Topic10\", \"Topic10\", \"Topic10\", \"Topic10\", \"Topic10\", \"Topic10\", \"Topic10\", \"Topic10\", \"Topic10\", \"Topic10\", \"Topic10\", \"Topic10\", \"Topic10\", \"Topic10\", \"Topic10\", \"Topic10\", \"Topic10\", \"Topic10\", \"Topic10\", \"Topic10\", \"Topic10\", \"Topic10\", \"Topic10\", \"Topic10\", \"Topic10\", \"Topic10\", \"Topic10\", \"Topic10\", \"Topic10\"], \"logprob\": [30.0, 29.0, 28.0, 27.0, 26.0, 25.0, 24.0, 23.0, 22.0, 21.0, 20.0, 19.0, 18.0, 17.0, 16.0, 15.0, 14.0, 13.0, 12.0, 11.0, 10.0, 9.0, 8.0, 7.0, 6.0, 5.0, 4.0, 3.0, 2.0, 1.0, -3.7713, -4.433, -4.7733, -4.8329, -4.858, -5.0683, -5.1545, -5.156, -5.1738, -5.2919, -5.2998, -5.3014, -5.3206, -5.3657, -5.4418, -5.4453, -5.4622, -5.4671, -5.4562, -5.5155, -5.5378, -5.5941, -5.615, -5.6356, -5.6815, -5.5415, -5.7191, -5.7392, -5.7956, -5.7959, -5.5558, -5.7306, -5.5236, -5.1617, -3.5454, -3.8894, -3.9589, -4.0258, -4.0555, -4.0869, -4.1391, -4.1468, -4.2126, -4.3029, -4.3721, -4.5075, -4.5464, -4.5475, -4.6219, -4.6446, -4.646, -4.661, -4.6757, -4.0228, -4.7674, -4.8463, -4.8701, -4.8905, -4.9617, -4.9776, -5.0258, -5.095, -5.1088, -5.1147, -4.3215, -4.8427, -4.8028, -2.8596, -3.3158, -3.5432, -3.6028, -3.7832, -3.8766, -3.9965, -4.0438, -4.1068, -4.1238, -4.2218, -4.3569, -4.4863, -4.5161, -4.6192, -4.7105, -4.7546, -4.7704, -4.9128, -4.9787, -4.986, -4.9856, -5.0627, -5.1509, -5.2057, -5.2231, -5.2251, -5.296, -5.3918, -5.5448, -5.4365, -2.9218, -3.24, -3.6445, -3.9897, -3.9975, -4.1346, -4.1404, -4.1894, -4.258, -4.2895, -4.3199, -4.451, -4.5481, -4.579, -4.6636, -4.688, -4.7853, -4.8192, -4.8919, -4.9049, -4.9123, -4.9567, -5.0234, -5.0473, -5.0828, -5.2024, -5.2081, -5.3638, -5.3733, -5.3837, -2.8536, -3.5333, -3.6479, -3.7795, -4.0241, -4.0497, -4.5531, -4.5574, -4.6198, -4.6214, -4.6443, -4.6626, -4.7661, -4.8061, -4.9295, -5.0399, -5.0561, -5.0603, -5.0831, -5.1416, -5.2299, -5.2729, -5.3332, -5.3625, -5.4617, -5.5161, -5.5944, -5.5949, -5.644, -5.6648, -3.0296, -3.1067, -3.5823, -3.6111, -3.7325, -3.8508, -4.1296, -4.3186, -4.4565, -4.6366, -4.7056, -5.0841, -5.1953, -5.3075, -5.3228, -5.3433, -5.4333, -5.6709, -6.1234, -6.1932, -6.5942, -6.6767, -6.9889, -7.0803, -8.6971, -8.879, -9.5193, -9.5699, -9.6044, -9.6775, -9.5785, -9.4798, -9.4132, -9.1068, -9.3669, -3.3142, -3.4277, -3.4881, -3.8021, -4.0207, -4.1622, -4.4778, -4.7052, -4.7807, -4.8707, -4.8999, -4.9646, -4.9898, -5.2517, -5.2902, -5.3069, -6.0179, -6.083, -7.4838, -7.0641, -8.7783, -7.2454, -9.3275, -9.5438, -9.5438, -9.4679, -9.4679, -9.587, -9.6048, -9.5418, -9.5608, -9.5228, -9.5406, -9.4737, -9.4875, -9.4738, -3.1481, -3.4553, -3.6978, -3.7239, -4.1483, -4.1639, -4.3139, -5.0401, -5.1234, -5.5667, -7.6338, -9.4061, -9.64, -9.4206, -9.6575, -9.675, -9.6257, -9.6494, -9.6494, -9.6651, -9.6207, -9.6381, -9.6329, -9.6315, -9.6548, -9.6548, -9.7069, -9.7085, -9.6934, -9.6703, -9.4941, -9.5317, -9.6093, -9.6515, -9.5148, -9.6168, -9.5736, -9.2521, -9.5646, -9.607, -9.6318, -9.5538, -9.5538, -9.3308, -9.5538, -9.5125, -9.5971, -9.5645, -9.5818, -9.6121, -2.6895, -4.0259, -4.0718, -4.257, -4.4421, -4.6069, -4.7947, -5.0426, -5.1714, -5.3692, -5.3718, -6.717, -6.1347, -7.2132, -8.6678, -8.6678, -8.6678, -9.5816, -9.5369, -9.5962, -9.5992, -9.637, -9.637, -9.676, -9.5959, -9.6243, -9.6723, -9.681, -9.6525, -9.6453, -9.6007, -9.6106, -9.1397, -9.1397, -9.1397, -9.5907, -9.6023, -9.4187, -9.2923, -9.5225, -9.5624, -9.573, -3.3035, -3.3702, -3.6101, -3.9056, -4.4205, -4.4558, -4.6271, -5.0195, -5.1944, -5.1786, -5.1786, -5.4826, -5.5599, -5.8057, -5.7513, -5.9922, -6.0391, -6.9155, -9.2733, -9.3437, -9.4113, -9.4902, -9.4597, -9.5199, -9.6188, -9.6063, -9.6036, -9.6357, -9.6215, -9.6215, -9.5267, -9.5619, -9.6123, -9.5707, -9.5027, -9.2897, -9.3484, -9.4161, -9.4128, -9.5006, -9.5096], \"loglift\": [30.0, 29.0, 28.0, 27.0, 26.0, 25.0, 24.0, 23.0, 22.0, 21.0, 20.0, 19.0, 18.0, 17.0, 16.0, 15.0, 14.0, 13.0, 12.0, 11.0, 10.0, 9.0, 8.0, 7.0, 6.0, 5.0, 4.0, 3.0, 2.0, 1.0, 0.6398, 0.6383, 0.6371, 0.6368, 0.6367, 0.6356, 0.6351, 0.6351, 0.6346, 0.6342, 0.6341, 0.6341, 0.6339, 0.6336, 0.633, 0.6329, 0.6328, 0.6327, 0.6327, 0.6323, 0.6321, 0.6316, 0.6314, 0.6312, 0.6307, 0.6306, 0.6303, 0.63, 0.6294, 0.6294, 0.6289, 0.6291, 0.6235, 0.5315, 2.0119, 2.0098, 2.0092, 2.0087, 2.0084, 2.0082, 2.0077, 2.0076, 2.007, 2.006, 2.0052, 2.0035, 2.003, 2.003, 2.0019, 2.0015, 2.0015, 2.0013, 2.001, 2.0004, 1.9995, 1.9981, 1.9976, 1.9972, 1.9958, 1.9954, 1.9944, 1.9928, 1.9924, 1.9923, 1.9396, 1.9314, 1.6752, 2.5627, 2.56, 2.5581, 2.5576, 2.5556, 2.5544, 2.5528, 2.5521, 2.5511, 2.5508, 2.5491, 2.5465, 2.5436, 2.5429, 2.5403, 2.5378, 2.5364, 2.5359, 2.5312, 2.5288, 2.5285, 2.5285, 2.5255, 2.5217, 2.5189, 2.5183, 2.5182, 2.5147, 2.5096, 2.5002, 0.2568, 2.5693, 2.5674, 2.5639, 2.5596, 2.5595, 2.5573, 2.5572, 2.5564, 2.5551, 2.5545, 2.5539, 2.5511, 2.5487, 2.5479, 2.5456, 2.5449, 2.5418, 2.5408, 2.5384, 2.5379, 2.5377, 2.536, 2.5334, 2.5325, 2.531, 2.5256, 2.5252, 2.5173, 2.5168, 2.5162, 2.816, 2.81, 2.8086, 2.8067, 2.8025, 2.802, 2.789, 2.7889, 2.7868, 2.7867, 2.7859, 2.7853, 2.7813, 2.7797, 2.7743, 2.7688, 2.768, 2.7678, 2.7666, 2.7633, 2.758, 2.7553, 2.7513, 2.7493, 2.742, 2.7377, 2.7311, 2.7311, 2.7267, 2.7248, 3.3122, 3.3112, 3.3031, 3.3024, 3.2996, 3.2965, 3.2876, 3.28, 3.2735, 3.2637, 3.2595, 3.2309, 3.2204, 3.2087, 3.2071, 3.2048, 3.1942, 3.1618, 3.0793, 3.0637, 2.956, 2.9304, 2.8175, 2.7803, 1.7886, 1.6246, 1.0921, 1.0484, 0.9278, 0.9276, 0.883, 0.8241, 0.3928, -0.7871, -1.7321, 3.6279, 3.6252, 3.6236, 3.6135, 3.6045, 3.5976, 3.5783, 3.5605, 3.5537, 3.5451, 3.5421, 3.5351, 3.5324, 3.4993, 3.4938, 3.4913, 3.3474, 3.3306, 2.7193, 2.4009, 1.7625, 1.6347, 1.2671, 1.0828, 1.0828, 1.0547, 1.0547, 0.9949, 0.9791, 0.9783, 0.9628, 0.9479, 0.9439, -0.2339, -0.0186, -0.5042, 3.7606, 3.7526, 3.7443, 3.7433, 3.7228, 3.7219, 3.7122, 3.6415, 3.6301, 3.5539, 2.5235, 1.2198, 1.0021, 0.9939, 0.9858, 0.9693, 0.9647, 0.9567, 0.9567, 0.9566, 0.9546, 0.9503, 0.944, 0.9427, 0.94, 0.94, 0.9393, 0.9378, 0.9334, 0.9331, 0.9288, 0.9298, 0.9304, 0.9321, 0.8936, 0.9173, 0.8643, 0.5175, 0.7373, 0.7478, 0.8521, 0.3678, 0.3678, -1.248, 0.3678, -1.0972, 0.0542, -1.0788, -0.7319, -0.929, 3.8139, 3.7727, 3.77, 3.7586, 3.7449, 3.7305, 3.7113, 3.6805, 3.6618, 3.6286, 3.6282, 3.2108, 3.105, 2.9527, 1.8642, 1.8642, 1.8642, 1.0112, 1.0069, 0.9824, 0.9719, 0.9699, 0.9699, 0.9694, 0.9622, 0.9544, 0.9515, 0.9508, 0.9484, 0.9448, 0.9448, 0.9428, 0.7818, 0.7818, 0.7818, 0.9191, 0.9268, 0.3497, -1.6258, 0.1777, -0.3171, -2.3097, 3.8076, 3.8057, 3.7977, 3.785, 3.7525, 3.7496, 3.7343, 3.689, 3.6633, 3.6626, 3.6626, 3.6119, 3.5959, 3.5382, 3.5029, 3.4869, 3.4726, 3.1174, 1.3426, 1.2294, 1.1802, 1.1421, 1.1421, 1.0942, 1.0127, 1.0033, 1.0027, 0.9992, 0.9784, 0.9784, 0.959, 0.942, 0.9664, 0.906, 0.7913, 0.4105, 0.4211, -1.3333, -1.8976, -1.3097, -1.3035]}, \"token.table\": {\"Topic\": [7, 6, 1, 5, 6, 1, 3, 10, 5, 6, 1, 1, 10, 5, 4, 1, 1, 4, 4, 9, 5, 3, 3, 2, 10, 8, 3, 9, 4, 2, 6, 2, 5, 6, 1, 1, 9, 10, 2, 2, 1, 6, 5, 2, 5, 1, 7, 1, 1, 4, 2, 2, 1, 2, 3, 1, 9, 1, 6, 1, 1, 1, 7, 3, 1, 2, 5, 3, 7, 9, 6, 2, 5, 3, 3, 5, 5, 2, 6, 2, 5, 1, 6, 3, 5, 1, 4, 4, 5, 5, 8, 3, 3, 1, 5, 6, 3, 9, 9, 10, 10, 4, 6, 1, 10, 2, 1, 1, 1, 7, 6, 1, 1, 7, 5, 1, 3, 1, 1, 4, 5, 2, 10, 2, 4, 1, 1, 8, 4, 7, 8, 7, 1, 2, 5, 5, 3, 2, 8, 1, 8, 10, 5, 1, 3, 6, 4, 7, 10, 7, 1, 3, 4, 1, 6, 6, 1, 2, 4, 4, 3, 9, 1, 2, 4, 10, 7, 7, 7, 4, 7, 4, 10, 7, 10, 1, 9, 1, 3, 1, 2, 7, 4, 5, 10, 2, 1, 1, 4, 2, 5, 1, 1, 1, 2, 6, 1, 8, 6, 1, 9, 6, 4, 3, 1, 5, 4, 9, 5, 4, 5, 2, 10, 10, 3, 10, 8, 8, 5, 6, 8, 5, 2, 4, 9, 9, 2, 2, 3, 4, 4, 7, 1, 1, 5, 2, 10, 3, 5, 1, 3, 3, 4, 6, 1, 3, 6, 1, 2, 7, 6, 4, 4, 5, 1, 2, 7, 1, 1, 3, 3, 3, 2, 4, 6, 5, 3, 2, 3, 2], \"Freq\": [0.5244211727633863, 0.9666460105445724, 0.5968571129679707, 0.29842855648398536, 0.9971371056724473, 0.6727711990417263, 0.9354451577922264, 0.8942887164207433, 0.8831780595622397, 0.9692007877662574, 0.9918587960939299, 0.8293100872330826, 0.9964081842590704, 0.9910493450150017, 0.9943688645274509, 0.9800149177784758, 0.9978080891177155, 1.0001131325452486, 0.9417043408320465, 0.8805094740588245, 0.9866371745205043, 0.9420639025218096, 0.9868509081924332, 0.9868179996093501, 0.9781869144787514, 0.7824086899383685, 0.9340862560658292, 0.8938083376808212, 0.949980207193768, 0.9882994645622031, 0.9392669864789509, 0.9593270565611267, 0.8836653843813953, 0.9556202026224491, 1.0007087250101647, 0.44070615053412676, 0.44070615053412676, 0.8104660942762423, 0.9576752392625124, 0.9866361989545869, 0.6151639059683016, 0.9899191735547678, 0.9667076750721102, 0.9979594035142227, 0.9417028439748693, 0.9946726332315428, 0.49966697367729573, 0.9952031999462114, 0.6984207642967427, 0.9218053786555633, 0.9866797608845397, 0.9938180668545318, 0.8314227422626749, 0.13857045704377915, 0.9703575663051521, 0.9958729698140647, 0.9227707890797922, 0.9138737004320159, 0.8550191450034886, 0.9860476973620228, 0.6650926707645638, 0.5520226721351372, 0.5520226721351372, 0.962404003328194, 0.0748791952525889, 0.9359899406573613, 0.9382656523099561, 0.9999764721830999, 0.8910963586417757, 0.9800725509052031, 0.8198673651821046, 0.9709000031725235, 0.9273648273217028, 0.985030292030662, 0.9416842492370293, 0.9716601653162207, 0.9881376202286033, 0.9646980182529109, 0.776713404151446, 0.9894813213031961, 0.017669309308985644, 1.0006145161212292, 0.996264785739363, 0.968578533971412, 0.9978076105742378, 0.9872702273567787, 0.953664564115033, 0.9732494808809339, 0.9629152543370071, 0.9952388825684831, 0.9103841029491905, 0.9829318884012876, 0.9830205055314687, 0.9872101967220204, 0.9380576141410529, 0.8800906468726214, 0.971143116784661, 0.6920078687443132, 0.9069847662462804, 0.9154670687054279, 0.8875158113112477, 0.9826717279195961, 0.9237050687421408, 0.9990230057273155, 0.9511614649960494, 0.9639900655413547, 1.0000485122461145, 0.989518495025009, 0.9939284583940807, 0.9029472170930517, 0.8739688503527308, 0.9895092917353221, 0.9907390049136143, 0.8319305713350225, 0.9878308088694184, 0.9821277692733683, 0.9910942174877451, 0.9405366693919252, 0.9968484244250805, 0.9834147820360244, 0.9735367473356806, 0.9923372113503595, 0.8875158113112477, 0.9891043874750995, 0.9927132809715926, 0.9886673059635602, 0.9956221965171598, 0.9733721165240315, 0.9763213544511954, 0.9444946076927065, 0.982089042159084, 0.8601452936907095, 0.9773747808299712, 0.9872554378301265, 0.9928057068330362, 0.9985827706221926, 0.9867370897570299, 0.987965887327234, 0.9852150008724883, 0.9770551666107727, 0.949216555113076, 0.7622760695094025, 0.9865251907684081, 0.9662197692720583, 0.9246810395338517, 0.9963527785180578, 0.9232952333807819, 0.996922563177899, 0.5784445632645828, 0.9895439368718657, 0.9019856426971978, 0.101632185092642, 0.9827880282360258, 0.7477198741603811, 0.8826973757511961, 0.6363189157143084, 0.06724108668197466, 0.9189615179869871, 0.9567033877223964, 0.9718158172405829, 0.9500961294968816, 0.8463321134699086, 0.9843131923244308, 0.9989038489198091, 0.9967425832418997, 0.9362059644826913, 0.8410295690949107, 0.8110193383201252, 0.9666016309754656, 0.9636501905318253, 0.8501726225352739, 0.982254076819861, 0.7772890154121435, 0.8381800966071777, 0.9398844697238437, 0.8781370347843683, 0.9710748035407984, 0.9793983991491594, 0.9194832016540827, 0.278427908208612, 0.7239125613423912, 0.9922846438731568, 0.9875272049577689, 0.9184794517450908, 0.9099321784068158, 0.9996254602054255, 0.7763737860993946, 0.9897914922284792, 0.9590147127037892, 0.9664735002048362, 0.9863690165374632, 0.9426418671392067, 0.7577650413931883, 0.9931269336984251, 0.9784461411497849, 0.985511218958238, 0.9739414891850677, 0.7566074245981744, 0.9624245426897158, 0.9263667350371133, 0.7886371568703089, 0.9787695170905932, 0.9962948911828422, 0.9908007678040581, 0.9769603549257592, 0.9924685657273414, 0.9143014224611129, 0.9386986299484327, 0.9710248726326137, 0.9993934715732197, 0.9482051143414604, 0.9734828909204634, 0.9741346777331874, 0.9023018326390121, 0.9295009005110768, 0.9878276738958507, 0.8129794598345522, 0.9166334529956929, 0.9547354073211164, 0.8494275770519378, 0.8970399835792527, 0.948576743992229, 0.9850417177643328, 0.9060824852463061, 0.8768588091621318, 0.6934822170951869, 0.9819632646958585, 0.9866637679969722, 0.9417042812213486, 0.9867568311052891, 0.9711800511102437, 0.9743776758664047, 0.9857080523502175, 0.9999048152654301, 0.9240347632455055, 0.9828011868364966, 0.559842390414556, 0.995663887251655, 0.9810864440112962, 0.9955488763038308, 0.9562192803703153, 0.9930612625447787, 0.9380861751427241, 0.6011197573656515, 0.8863194986402937, 0.951057937653076, 0.896664735915934, 0.9974263109927574, 0.9875549050026496, 0.9646251643390856, 0.9738709285463107, 0.9770446397548145, 0.9985820086817476, 0.8822485213140375, 0.554178769674977, 0.9872140435889338, 0.9955844613073119, 0.9919620378222606, 0.9940414907245425, 0.9934151846621516, 0.9932870166325485, 0.9799819181953039, 0.9894089568086933, 0.9477909675194185, 0.8667947241282872, 0.9279397322003641, 0.967137922946298, 0.9986770141117154, 0.9979942497417228, 0.989601829462212], \"Term\": [\"abandon\", \"account\", \"accountant\", \"accountant\", \"actually\", \"amazon\", \"american\", \"aprende_puede\", \"artist\", \"ask\", \"associate\", \"atrupar\", \"bad\", \"beat\", \"believe\", \"betty_white\", \"biden\", \"big\", \"billionaire\", \"birthday\", \"black\", \"blame\", \"blow\", \"book\", \"boss\", \"boy\", \"brain\", \"break\", \"bring\", \"call\", \"care\", \"case\", \"catch\", \"change\", \"charge\", \"charity\", \"charity\", \"cheat\", \"check\", \"child\", \"code\", \"come\", \"company\", \"country\", \"couple\", \"criminal\", \"d\", \"day\", \"dbongino\", \"deal\", \"death\", \"debate\", \"demon\", \"demon\", \"die\", \"donald\", \"donate\", \"donwinslow\", \"economy\", \"election\", \"employ\", \"evasion\", \"evasion\", \"face\", \"fact\", \"fact\", \"fall\", \"family\", \"far\", \"favorite\", \"fear\", \"fight\", \"follow\", \"follower\", \"foreign\", \"foxnew\", \"friend\", \"fuck\", \"funniest\", \"get\", \"get\", \"give\", \"go\", \"god_bless\", \"good\", \"great\", \"guess\", \"guy\", \"hair\", \"hand\", \"happen\", \"happy\", \"hate\", \"head\", \"hear\", \"hell\", \"help\", \"here\", \"hope\", \"hot\", \"hottake\", \"httpstcoo\", \"imagine\", \"incite\", \"include\", \"instead\", \"insurrection\", \"interview\", \"jail\", \"job\", \"joe_biden\", \"joncoopertweet\", \"justice\", \"kid\", \"kill\", \"kind\", \"know\", \"kyle\", \"larryeld\", \"late\", \"lead\", \"leader\", \"learned_read\", \"leave\", \"let\", \"liberal\", \"lie\", \"life\", \"list\", \"little\", \"live\", \"lol\", \"long\", \"look\", \"lose\", \"loss\", \"love\", \"m\", \"make\", \"man\", \"maybe\", \"meet\", \"mention\", \"midterm\", \"million\", \"miss\", \"moment\", \"money\", \"national\", \"need\", \"new\", \"new\", \"news\", \"nicolejame\", \"night\", \"notice\", \"office\", \"office\", \"old\", \"open\", \"palmerreport\", \"party\", \"past\", \"pay\", \"people\", \"person\", \"picture\", \"plan\", \"play\", \"point\", \"politic\", \"political\", \"poll\", \"por\", \"power\", \"powerful\", \"president\", \"presidential\", \"pretty\", \"prison\", \"prison\", \"probably\", \"problem\", \"proud\", \"que\", \"rating\", \"rbreich\", \"re\", \"read\", \"realdonaldtrump\", \"really\", \"recommend\", \"regret\", \"release\", \"remember\", \"report\", \"rest\", \"rich\", \"right\", \"rittenhouse\", \"ruin\", \"run\", \"s\", \"sad\", \"salary\", \"say\", \"scandal\", \"see\", \"send\", \"seriously\", \"set\", \"shit\", \"si\", \"sit\", \"sound\", \"speak\", \"speech\", \"spend\", \"stand\", \"star\", \"start\", \"stay\", \"stop\", \"stupid\", \"style\", \"successful\", \"support\", \"supporter\", \"sure\", \"take\", \"talk\", \"tax\", \"tax_return\", \"taxis\", \"team\", \"tell\", \"terrible\", \"thank\", \"thing\", \"think\", \"throw\", \"time\", \"today\", \"toilet\", \"tragic\", \"true\", \"truly\", \"trump\", \"try\", \"turn\", \"tweet\", \"twice\", \"twitter\", \"understand\", \"upset\", \"use\", \"ve\", \"vile\", \"vote\", \"want\", \"way\", \"well\", \"win\", \"wish\", \"wonder\", \"word\", \"work\", \"world\", \"year\", \"youtube\"]}, \"R\": 30, \"lambda.step\": 0.01, \"plot.opts\": {\"xlab\": \"PC1\", \"ylab\": \"PC2\"}, \"topic.order\": [2, 1, 9, 8, 3, 10, 5, 4, 7, 6]};\n",
              "\n",
              "function LDAvis_load_lib(url, callback){\n",
              "  var s = document.createElement('script');\n",
              "  s.src = url;\n",
              "  s.async = true;\n",
              "  s.onreadystatechange = s.onload = callback;\n",
              "  s.onerror = function(){console.warn(\"failed to load library \" + url);};\n",
              "  document.getElementsByTagName(\"head\")[0].appendChild(s);\n",
              "}\n",
              "\n",
              "if(typeof(LDAvis) !== \"undefined\"){\n",
              "   // already loaded: just create the visualization\n",
              "   !function(LDAvis){\n",
              "       new LDAvis(\"#\" + \"ldavis_el2221404707743389449332390642\", ldavis_el2221404707743389449332390642_data);\n",
              "   }(LDAvis);\n",
              "}else if(typeof define === \"function\" && define.amd){\n",
              "   // require.js is available: use it to load d3/LDAvis\n",
              "   require.config({paths: {d3: \"https://d3js.org/d3.v5\"}});\n",
              "   require([\"d3\"], function(d3){\n",
              "      window.d3 = d3;\n",
              "      LDAvis_load_lib(\"https://cdn.jsdelivr.net/gh/bmabey/pyLDAvis@3.4.0/pyLDAvis/js/ldavis.v3.0.0.js\", function(){\n",
              "        new LDAvis(\"#\" + \"ldavis_el2221404707743389449332390642\", ldavis_el2221404707743389449332390642_data);\n",
              "      });\n",
              "    });\n",
              "}else{\n",
              "    // require.js not available: dynamically load d3 & LDAvis\n",
              "    LDAvis_load_lib(\"https://d3js.org/d3.v5.js\", function(){\n",
              "         LDAvis_load_lib(\"https://cdn.jsdelivr.net/gh/bmabey/pyLDAvis@3.4.0/pyLDAvis/js/ldavis.v3.0.0.js\", function(){\n",
              "                 new LDAvis(\"#\" + \"ldavis_el2221404707743389449332390642\", ldavis_el2221404707743389449332390642_data);\n",
              "            })\n",
              "         });\n",
              "}\n",
              "</script>"
            ]
          },
          "metadata": {},
          "execution_count": 128
        }
      ]
    }
  ]
}